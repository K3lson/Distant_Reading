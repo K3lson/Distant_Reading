{
  "cells": [
    {
      "cell_type": "markdown",
      "metadata": {
        "id": "f4qFJJ0XX6nw"
      },
      "source": [
        "Welcome to the workshop on Optical Character Recognition (OCR)"
      ]
    },
    {
      "cell_type": "markdown",
      "metadata": {
        "id": "nRnUpKFaW7y0"
      },
      "source": [
        "Before getting started, \n",
        "\n",
        "*   Go to File --> Save a copy in drive. It should open the copied notebook in a new tab.\n",
        "*   Alternatively, go to your Google drive, find the folder \"Colab Notebooks\", open the notebook.\n",
        "\n",
        "Next, download:\n",
        "\n",
        "*   Sample images: https://uppsala.box.com/s/qzvg9741dx915a0atc6mydo8qxgf9erc\n",
        "*   Language models for Swedish (swe), French (fra), Italian (ita) and German (deu): https://uppsala.box.com/s/ovcpsdzj2dlomyghtw7vk50ilvxs3uix"
      ]
    },
    {
      "cell_type": "markdown",
      "metadata": {
        "id": "ucRcGn1AO-V-"
      },
      "source": [
        "Copy \"sample_images\" from Downloads folder to your Google Drive."
      ]
    },
    {
      "cell_type": "markdown",
      "metadata": {
        "id": "wKoUERTGilmN"
      },
      "source": [
        "Navigate to the left panel, click on the upward arrow icon, go to /usr/share/tesseract-ocr/4.00/tessdata. Following the three dots, click \"upload\", select the 4 language models to upload. \n",
        "\n",
        "Close (X)"
      ]
    },
    {
      "cell_type": "markdown",
      "metadata": {
        "id": "8gaqa90PaQ9_"
      },
      "source": [
        "Now we are ready to get started! "
      ]
    },
    {
      "cell_type": "markdown",
      "metadata": {
        "id": "aszXshJGTq5u"
      },
      "source": [
        "Go to Runtime, press \"Run all\".\n",
        "Alternatively, run individual cells."
      ]
    },
    {
      "cell_type": "code",
      "execution_count": null,
      "metadata": {
        "colab": {
          "base_uri": "https://localhost:8080/"
        },
        "id": "8JsNSmfKNbwU",
        "outputId": "25186729-debb-4111-cac4-89dd62ee3ff9"
      },
      "outputs": [],
      "source": [
        "from google.colab import drive\n",
        "drive.mount('/content/drive')"
      ]
    },
    {
      "cell_type": "code",
      "execution_count": null,
      "metadata": {
        "colab": {
          "base_uri": "https://localhost:8080/"
        },
        "id": "rkWgTYpsaRQM",
        "outputId": "5f2fb17f-df6f-4c67-8a73-75ba60128a61"
      },
      "outputs": [],
      "source": [
        "# Set up for tesseract\n",
        "!sudo apt-get install tesseract-ocr\n",
        "!pip install pytesseract==0.3.9"
      ]
    },
    {
      "cell_type": "markdown",
      "metadata": {
        "id": "LWFfAGsqzlbM"
      },
      "source": [
        "If you see a warning to \"Restart runtime\", click on RESTART RUNTIME."
      ]
    },
    {
      "cell_type": "code",
      "execution_count": null,
      "metadata": {
        "id": "DNTbdL4vW8s6"
      },
      "outputs": [],
      "source": [
        "# Import modules\n",
        "\n",
        "import pytesseract\n",
        "from pytesseract import Output\n",
        "from PIL import Image\n",
        "import cv2"
      ]
    },
    {
      "cell_type": "code",
      "execution_count": null,
      "metadata": {
        "id": "-lhT7cK6dOv0"
      },
      "outputs": [],
      "source": [
        "# To check the location of pytesseract\n",
        "#!pip show pytesseract"
      ]
    },
    {
      "cell_type": "code",
      "execution_count": null,
      "metadata": {
        "colab": {
          "base_uri": "https://localhost:8080/"
        },
        "id": "mgeeK3EYgesv",
        "outputId": "c6c7b4de-1ca0-452e-ed3c-cef5802f3e1d"
      },
      "outputs": [],
      "source": [
        "# List of available languages\n",
        "print(pytesseract.get_languages(config=''))"
      ]
    },
    {
      "cell_type": "markdown",
      "metadata": {
        "id": "46WYT3retbrH"
      },
      "source": [
        "For example:\n",
        "\n",
        "*   osd: Orientation and script detection module\n",
        "*   ita: Italian\n",
        "*   deu: German\n",
        "*   fra: France\n",
        "*   swe: Swedish\n",
        "*   eng: English\n"
      ]
    },
    {
      "cell_type": "markdown",
      "metadata": {
        "id": "5xB_kJJIpEd3"
      },
      "source": [
        "Here you can find the list of all languages supported by tesseract and the language codes to use:\n",
        "https://tesseract-ocr.github.io/tessdoc/Data-Files-in-different-versions.html"
      ]
    },
    {
      "cell_type": "markdown",
      "metadata": {
        "id": "auHRVmrdv8eu"
      },
      "source": [
        "Note: to run tesseract for other languages, pass the language code in \"lang\". For example, lang = 'ita' for Italian. "
      ]
    },
    {
      "cell_type": "markdown",
      "metadata": {
        "id": "stKNeARyvZvA"
      },
      "source": [
        "To download other language models, go to https://github.com/tesseract-ocr/tessdata (download as zip file)."
      ]
    },
    {
      "cell_type": "code",
      "execution_count": null,
      "metadata": {
        "id": "sjmKxbFUNjR_"
      },
      "outputs": [],
      "source": [
        "# Read an input image (check left panel for the image name)\n",
        "file = cv2.imread(\"/content/drive/My Drive/sample_images/test_eng.png\")"
      ]
    },
    {
      "cell_type": "code",
      "execution_count": null,
      "metadata": {
        "id": "b5sfRBukal4T"
      },
      "outputs": [],
      "source": [
        "#configure parameters for pytesseract\n",
        "custom_config = r'--oem 3 --psm 6'      #oem 3: Default; psm 6: Assume a single uniform block of text."
      ]
    },
    {
      "cell_type": "code",
      "execution_count": null,
      "metadata": {
        "id": "sJshvY4bansp"
      },
      "outputs": [],
      "source": [
        "# Pytesseract OCR - text file output\n",
        "result_txt = pytesseract.image_to_string(file, lang='eng', config=custom_config) "
      ]
    },
    {
      "cell_type": "markdown",
      "metadata": {
        "id": "YrB5KGWqz5I5"
      },
      "source": [
        "If you see \"KeyError: 'PNG'\", go to first cell and RESTART RUNTIME, or go to Runtime, \"Run all\""
      ]
    },
    {
      "cell_type": "code",
      "execution_count": null,
      "metadata": {
        "colab": {
          "base_uri": "https://localhost:8080/"
        },
        "id": "dnz3TCgbWkJR",
        "outputId": "0f7c3d81-04ba-4b08-9550-188e1019a259"
      },
      "outputs": [],
      "source": [
        "print(result_txt)"
      ]
    },
    {
      "cell_type": "code",
      "execution_count": null,
      "metadata": {
        "id": "_E0hYG-IPcyN"
      },
      "outputs": [],
      "source": [
        "# Swedish: Read an input image (check left panel for the image name)\n",
        "file_sv = cv2.imread(\"/content/drive/My Drive/sample_images/test_swe1.jpg\")"
      ]
    },
    {
      "cell_type": "code",
      "execution_count": null,
      "metadata": {
        "id": "Z8pcAylhPl5z"
      },
      "outputs": [],
      "source": [
        "# Pytesseract OCR - text file output\n",
        "result_txt_sv = pytesseract.image_to_string(file_sv, lang='swe', config=custom_config) "
      ]
    },
    {
      "cell_type": "code",
      "execution_count": null,
      "metadata": {
        "colab": {
          "base_uri": "https://localhost:8080/"
        },
        "id": "f1fHTxM7Pv_1",
        "outputId": "82a31040-3186-4e66-d6cc-9f0d19b5e02c"
      },
      "outputs": [],
      "source": [
        "print(result_txt_sv)"
      ]
    },
    {
      "cell_type": "code",
      "execution_count": null,
      "metadata": {
        "id": "BiG4vcd_apYd"
      },
      "outputs": [],
      "source": [
        "# To create a searchable pdf, uncomment this block\n",
        "#result_pdf = pytesseract.image_to_pdf_or_hocr(file, lang='eng', config=custom_config) "
      ]
    },
    {
      "cell_type": "markdown",
      "metadata": {
        "id": "kMFrlOcHx1RB"
      },
      "source": [
        "Insights on the data:\n",
        "\n",
        "*   There are 3 Swedish documents from the 19th century written using an old typewriter.\n",
        "*    test_swe1.jpg is a good quality image.\n",
        "*    test_swe2.jpg is a poor quality image and OCR will be challenging.\n",
        "*    test_swe3.jpg consists of a photograph along with the text. Unfortunately, Tesseract does not perform well for the texts with photographs. Does cropping the text before using Tesseract improves the results?\n",
        "*    test_deu.png is obtained from OCR4ALL project, and written between 16-18th century in German.\n",
        "*    test_eng.png represents a sample text from Marian’s play written in Old English.\n",
        "*    test_fra.jpg is challenging as it also includes the book edges while scanning. Try the cropped version (test_fra_cropped.jpg) and observe if OCR results are better?\n",
        "*    test_ita.png was obtained from an old Italian book online. Also try the cropped version (test_ita_cropped.png) and observe if OCR results are\n",
        "better?\n"
      ]
    },
    {
      "cell_type": "markdown",
      "metadata": {
        "id": "kgGGZJR50Hrz"
      },
      "source": [
        "---"
      ]
    },
    {
      "cell_type": "markdown",
      "metadata": {
        "id": "02sLua1qanuQ"
      },
      "source": [
        "Did you notice that the OCR has errors and need post-processing? "
      ]
    },
    {
      "cell_type": "markdown",
      "metadata": {
        "id": "5xTAzcH6bR1j"
      },
      "source": [
        "This is a common challenge with heritage data and thanks to AI, we now have a solution - layout based OCR!"
      ]
    },
    {
      "cell_type": "markdown",
      "metadata": {
        "id": "6oA_XhTqa6TE"
      },
      "source": [
        "You can also explore Deep Learning based Layout Detection which is performed before OCR and the results are much accurate. \n",
        "Here's the link to the Layout Parser: https://github.com/Layout-Parser/layout-parser\n",
        "\n"
      ]
    },
    {
      "cell_type": "markdown",
      "metadata": {
        "id": "noSEGXt8bKLM"
      },
      "source": [
        "Thank you!"
      ]
    }
  ],
  "metadata": {
    "colab": {
      "provenance": []
    },
    "kernelspec": {
      "display_name": "Python 3",
      "language": "python",
      "name": "python3"
    },
    "language_info": {
      "codemirror_mode": {
        "name": "ipython",
        "version": 3
      },
      "file_extension": ".py",
      "mimetype": "text/x-python",
      "name": "python",
      "nbconvert_exporter": "python",
      "pygments_lexer": "ipython3",
      "version": "3.9.12 (main, Apr  4 2022, 05:22:27) [MSC v.1916 64 bit (AMD64)]"
    },
    "vscode": {
      "interpreter": {
        "hash": "5ae58900cfbb8c43ab3495913814b7cf26024f51651a94ce8bf64d6111688e8d"
      }
    }
  },
  "nbformat": 4,
  "nbformat_minor": 0
}
