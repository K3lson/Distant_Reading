{
 "cells": [
  {
   "cell_type": "markdown",
   "id": "168e66f0-f543-4a49-ac53-473b4c58825a",
   "metadata": {},
   "source": [
    "## Distant reading course week 2 (VT-23)\n",
    "\n",
    "### Learning material 2b: Regular expressions\n",
    "\n",
    "Matti La Mela\n",
    "\n",
    "This learning material will guide you to the use of regular expressions. Regular expressions are strings of text (patterns) that help us to match combinations that we find in other strings. The regular expressions are useful in different text mining operations. With regular expressions, we are able to do advanced search operations. Regular expressions are used in cleaning data but also locating and parsing interesting elements for analysis. An example would to locate all year numbers, thus occurrences of four digits in a row, in a large amount of text. In regular expressions these could be matched for example with \\d\\d\\d\\d (\\d for any decimal digit) or the more concise \\d{4}.\n",
    "\n",
    "We can use regular expressions in python, but also with many other tools where we do searching and matching, eg. Notepad++ or Antconc that we will learn to use this week.\n",
    "\n",
    "The reference readings for this learning material is:\n",
    "\n",
    "o Tutorial at https://regexone.com/\n",
    "\n",
    "o Doug Knox (2013), \"Understanding Regular Expressions,\" Programming Historian, https://doi.org/10.46430/phen0033.\n",
    "\n",
    "o Laura Turner O'Hara (2013), \"Cleaning OCR'd text with Regular Expressions,\" Programming Historian, https://doi.org/10.46430/phen0024.\n",
    "\n",
    "o Chapters 3.5 and 3.7 (some examples) in Bird, Steven, Ewan Klein, and Edward Loper (2019), Natural Language Processing with Python (NLTK 3.0),https://www.nltk.org/book/ book.\n"
   ]
  },
  {
   "cell_type": "markdown",
   "id": "616fb8ba-be3d-44c5-9de3-ad579e0da996",
   "metadata": {},
   "source": [
    "### 1. Tutorial\n",
    "\n",
    "We will start with an online tutorial at https://regexone.com/. \n",
    "\n",
    "Do now the exercises at least until exercise 9."
   ]
  },
  {
   "cell_type": "markdown",
   "id": "960e5808-231d-46f0-a9c1-ac2100a07811",
   "metadata": {},
   "source": [
    "### 2. Regex editors online\n",
    "\n",
    "There are regex editors that help us to test and build regular expressions for our matching purposes. Visit now https://regexr.com/ and/or https://regex101.com/, where you can enter text and then match patterns with your regular expressions."
   ]
  },
  {
   "cell_type": "markdown",
   "id": "47dae990-98ad-447f-8bda-1e4bd4e27857",
   "metadata": {},
   "source": [
    "### 3. Regular expressions in Python\n",
    "\n",
    "Here are three regex functions with use cases: re.findall, re.search and re.sub."
   ]
  },
  {
   "cell_type": "code",
   "execution_count": 2,
   "id": "f2520217-b103-4dba-8c9a-60baece4f4c0",
   "metadata": {},
   "outputs": [
    {
     "name": "stdout",
     "output_type": "stream",
     "text": [
      "['1477']\n"
     ]
    }
   ],
   "source": [
    "# In python, we use the \"re\" library for the regular expression matching operations. We import re, thus:\n",
    "\n",
    "import re\n",
    "\n",
    "# With re.findall(), we are able to find all occurrences of a regex in a string. Findall returns a list.\n",
    "\n",
    "# From wikipedia: https://en.wikipedia.org/wiki/Uppsala_University\n",
    "\n",
    "text = \"Uppsala University is a public research university in Uppsala, Sweden. Founded in 1477, it is the oldest university in Sweden and the Nordic countries still in operation.\"\n",
    "\n",
    "list = re.findall(\"\\d{4}\", text)\n",
    "\n",
    "print(list)\n"
   ]
  },
  {
   "cell_type": "code",
   "execution_count": 3,
   "id": "06f70d4c-98a6-442d-8986-c92f0779e26d",
   "metadata": {},
   "outputs": [
    {
     "name": "stdout",
     "output_type": "stream",
     "text": [
      "<re.Match object; span=(0, 7), match='Uppsala'>\n",
      "The match is at index [0:7]\n",
      "The first match was: Uppsala\n"
     ]
    }
   ],
   "source": [
    "# re.search() enables us to match strings and get the location where the matched string can be found. It stops at the first match.\n",
    "\n",
    "# Here we see if there are words with a capital letter:\n",
    "\n",
    "match = re.search(\"[A-Z][a-z]{1,}\", text)\n",
    "print(match)\n",
    "\n",
    "# re.search returns a Match object: we see the index numbers (.start() and .end()) where the word is found, and what word it is (.group())\n",
    "\n",
    "start = match.start()\n",
    "end = match.end()\n",
    "\n",
    "print(\"The match is at index [\" + str(start) + \":\" + str(end) + \"]\")\n",
    "\n",
    "word = match.group()\n",
    "\n",
    "print(\"The first match was: \" + word)\n"
   ]
  },
  {
   "cell_type": "code",
   "execution_count": 4,
   "id": "886ce378-7575-4784-ac61-3e806ce6e9ba",
   "metadata": {},
   "outputs": [
    {
     "name": "stdout",
     "output_type": "stream",
     "text": [
      "Uppsala -> starts with a capital letter\n",
      "University -> starts with a capital letter\n",
      "is -> does not start with a capital letter\n",
      "a -> does not start with a capital letter\n",
      "public -> does not start with a capital letter\n",
      "research -> does not start with a capital letter\n",
      "university -> does not start with a capital letter\n",
      "in -> does not start with a capital letter\n",
      "Uppsala, -> starts with a capital letter\n",
      "Sweden. -> starts with a capital letter\n",
      "Founded -> starts with a capital letter\n",
      "in -> does not start with a capital letter\n",
      "1477, -> does not start with a capital letter\n",
      "it -> does not start with a capital letter\n",
      "is -> does not start with a capital letter\n",
      "the -> does not start with a capital letter\n",
      "oldest -> does not start with a capital letter\n",
      "university -> does not start with a capital letter\n",
      "in -> does not start with a capital letter\n",
      "Sweden -> starts with a capital letter\n",
      "and -> does not start with a capital letter\n",
      "the -> does not start with a capital letter\n",
      "Nordic -> starts with a capital letter\n",
      "countries -> does not start with a capital letter\n",
      "still -> does not start with a capital letter\n",
      "in -> does not start with a capital letter\n",
      "operation. -> does not start with a capital letter\n",
      "['Uppsala', 'University', 'Uppsala,', 'Sweden.', 'Founded', 'Sweden', 'Nordic']\n"
     ]
    }
   ],
   "source": [
    "# Hre we want to pick the words that start with a capital letter.\n",
    "\n",
    "words = []\n",
    "list = text.split()\n",
    "\n",
    "for word in list:\n",
    "    if re.search(\"[A-Z][a-z]+\", word):\n",
    "        print(word + \" -> starts with a capital letter\")\n",
    "        words.append(word)\n",
    "    else:\n",
    "        print(word + \" -> does not start with a capital letter\")\n",
    "\n",
    "print(words)\n"
   ]
  },
  {
   "cell_type": "code",
   "execution_count": 5,
   "id": "e3a9ef3d-cbe4-4f5f-877f-2ef5e95a9bcc",
   "metadata": {},
   "outputs": [
    {
     "name": "stdout",
     "output_type": "stream",
     "text": [
      "Uppsala University is a public research university in Uppsala, Sweden. Founded in YEAR, it is the oldest university in Sweden and the Nordic countries still in operation.\n"
     ]
    }
   ],
   "source": [
    "# Finally, we use re.sub to replace something in our text. It is similar to .replace(), but is more versatile as we use regular expressions\n",
    "\n",
    "# we want to replace all years with YEAR in our text\n",
    "\n",
    "output = re.sub(\"\\d{4}\", \"YEAR\", text)\n",
    "\n",
    "print(output)\n",
    "\n"
   ]
  },
  {
   "cell_type": "code",
   "execution_count": 7,
   "id": "70af593f-92bb-4922-9871-4402194a7cab",
   "metadata": {},
   "outputs": [
    {
     "name": "stdout",
     "output_type": "stream",
     "text": [
      "['Obama', 'Inaugural', 'Address', 'January', 'My', 'President', 'Bush', 'Americans', 'America', 'We', 'People', 'Americans', 'America', 'America', 'Scripture', 'God', 'West', 'Concord', 'Gettysburg', 'Normandy', 'Khe', 'Sahn', 'America', 'Earth', 'America', 'Gross', 'Domestic', 'Product', 'Founding', 'Fathers', 'America', 'Iraq', 'Afghanistan', 'Christians', 'Muslims', 'Jews', 'Hindus', 'Earth', 'America', 'Muslim', 'West', 'Americans', 'Arlington', 'American', 'American', 'God', 'America', 'Let', 'America', 'God', 'God', 'United', 'States', 'America']\n"
     ]
    }
   ],
   "source": [
    "# In this final example, we take Barack Obama's inaugural address (2009), and find all the words that start with a capital letter, \n",
    "# but are not in the beginning of the sentence.\n",
    "\n",
    "with open(\"./obama_inaugural.txt\", mode=\"r\", encoding=\"utf-8\") as file:\n",
    "    text = file.read()\n",
    "\n",
    "text = text.replace(\"\\n\\n\", \" \")  # we remove paragraphs, and empty lines; replace them with \" \" to keep space between words. We could convert this also to a list\n",
    "text = text.replace(\"\\n\", \" \")    # with split()\n",
    "\n",
    "# for our regex, we have words that start with a capital letter, but that do not have \". \" before them, thus no period.\n",
    "\n",
    "# Let's replace first all capital letters after period with a small letter; we will replace them with small x as this is not something we want\n",
    "\n",
    "result = re.sub(\"\\. [A-Z]\", \". x\", text)\n",
    "\n",
    "# then let's find all words with capital letters\n",
    "\n",
    "list = re.findall(\"[A-Z][A-Za-z]+\", result)\n",
    "\n",
    "print(list)\n",
    "\n",
    "    "
   ]
  },
  {
   "cell_type": "code",
   "execution_count": null,
   "id": "9c229e9d-8239-49fd-b45c-08606fdc2a57",
   "metadata": {},
   "outputs": [],
   "source": []
  }
 ],
 "metadata": {
  "kernelspec": {
   "display_name": "base",
   "language": "python",
   "name": "python3"
  },
  "language_info": {
   "codemirror_mode": {
    "name": "ipython",
    "version": 3
   },
   "file_extension": ".py",
   "mimetype": "text/x-python",
   "name": "python",
   "nbconvert_exporter": "python",
   "pygments_lexer": "ipython3",
   "version": "3.9.12"
  },
  "vscode": {
   "interpreter": {
    "hash": "5ae58900cfbb8c43ab3495913814b7cf26024f51651a94ce8bf64d6111688e8d"
   }
  }
 },
 "nbformat": 4,
 "nbformat_minor": 5
}
