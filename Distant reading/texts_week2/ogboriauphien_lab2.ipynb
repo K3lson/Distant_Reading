{
 "cells": [
  {
   "attachments": {},
   "cell_type": "markdown",
   "metadata": {},
   "source": [
    "# Optional T2) Find a regular expression that matches dates that are in the format “YYYY-MM-DD”"
   ]
  },
  {
   "cell_type": "code",
   "execution_count": 3,
   "metadata": {},
   "outputs": [
    {
     "name": "stdout",
     "output_type": "stream",
     "text": [
      "The first input date string is 28-01-2023\n",
      "Matching both the date input if it's in the same format or not: None\n"
     ]
    }
   ],
   "source": [
    "#importing re functions\n",
    "import re\n",
    "#storing the value of datestring in a variable\n",
    "datestring = '28-01-2023'\n",
    "#use re.match() functions to match the datestring\n",
    "str =re.match('(\\d{2})[/.-](\\d{2})[/.-](\\d{4})$', datestring)\n",
    "#printing the str.group()\n",
    "print (\"The first input date string is\", str.group())\n",
    "#again declaring the datestring variable with different date format\n",
    "datestring = '2022-08-31'\n",
    "#matching the datestring with re.match() functions.\n",
    "str=re.match('(\\d{2})[/.-](\\d{2})[/.-](\\d{4})$', datestring)\n",
    "#printing the str\n",
    "print (\"Matching both the date input if it's in the same format or not:\", str)"
   ]
  },
  {
   "attachments": {},
   "cell_type": "markdown",
   "metadata": {},
   "source": [
    "# Optional T3) Use re.findall() in Python for finding all references in the article ”dhq-2018-000396-Foka-Introduction.txt”. Write a code that opens the txt file in python, find the references with re.findall() and print the results list. "
   ]
  },
  {
   "cell_type": "code",
   "execution_count": 4,
   "metadata": {},
   "outputs": [
    {
     "name": "stdout",
     "output_type": "stream",
     "text": [
      "['incorporeal, unembodied, and disembodied.', 'environmental, social or ecological terms.', 'geospatial, time-interactive maps.', 'or, for example, sensory data.', 'studying, or producing digital textual objects.', 'performance, and the cultural aspects at play.', 'theory, practice and research data infrastructure.', 'with, to paraphrase Levi Strauss.', 'transduction, the conversion of energy from one form to another.', 'Foka, A., Westin, J. 2016.', '4, Taylor and Francis.', 'Terras, M. 2009.', 'Cyberinfrastructure, Digital Humanities Quarterly 3:1.', 'Woolford, K. Norman, S.', 'Humanities, Oxford University Press.', 'Worlds, New York: HN Abrams.', 'Music, Machines, and Experience.', 'Buckland, P. 2014.', 'Kult, Humbolt University.', 'together, in H.', 'Schreibman, S., Siemens, R., Unsworth, J. 2004.', 'Uncertainty, Visual Anthropology Review(pp. 139–150).', 'Routledge, 24, volume 3: 283–286.']\n"
     ]
    }
   ],
   "source": [
    "with open(\"./text/dhq-2018-000396-Foka-Introduction.txt\", mode=\"r\", encoding=\"utf-8\") as file:\n",
    "    article = file.read()\n",
    "\n",
    "references = re.findall(r'(\\w+, \\w.+\\.)', article)\n",
    "\n",
    "print(references)"
   ]
  },
  {
   "attachments": {},
   "cell_type": "markdown",
   "metadata": {},
   "source": [
    "# T5) Compare the txt and the actual article and discuss briefly what differences you find, and how this might affect your analysis."
   ]
  },
  {
   "cell_type": "markdown",
   "metadata": {},
   "source": []
  },
  {
   "attachments": {},
   "cell_type": "markdown",
   "metadata": {},
   "source": [
    "# T6) What is the word/term you selected? "
   ]
  },
  {
   "attachments": {},
   "cell_type": "markdown",
   "metadata": {},
   "source": [
    "### Answer: Corpus"
   ]
  },
  {
   "attachments": {},
   "cell_type": "markdown",
   "metadata": {},
   "source": [
    "# T7) How many hits of the term are there in the corpus? How does the search change if you truncate it (eg. shorten it for searches with wildcards, regular expressions)?"
   ]
  },
  {
   "attachments": {},
   "cell_type": "markdown",
   "metadata": {},
   "source": [
    "### Note: the following were for ALL HITS\n",
    "### Answer: - There are over 1710 hits on the word \"corpus\"\n",
    "### - with the Regular expressions turned on i got 1806 hits\n",
    "### - For the wildcard i used \"corpus a*\" and i got 213 hits\n"
   ]
  },
  {
   "attachments": {},
   "cell_type": "markdown",
   "metadata": {},
   "source": [
    "# T8) In how many different documents can you find the term? Do they appear at some particular timespan in the corpus? "
   ]
  },
  {
   "attachments": {},
   "cell_type": "markdown",
   "metadata": {},
   "source": [
    "### I found the term in 196 files. i used the plot to target the hits\n",
    "### It appears that the word appeared frequently in the begining and at the ending of a document"
   ]
  },
  {
   "attachments": {},
   "cell_type": "markdown",
   "metadata": {},
   "source": [
    "# T9) Copy-paste the first five concordance lines in this Lab assignment cell. "
   ]
  },
  {
   "attachments": {},
   "cell_type": "markdown",
   "metadata": {},
   "source": [
    "dhq-2016-000229-Duhaime-Textual.txt\tthe 1 Million English Google Ngrams \tcorpus and \tthe All English \n",
    "\n",
    "dhq-2020-000490-Jimenez-Badillo-Developing.txt\tthe orthographic variance across the \tcorpus and \tthe high frequency \n",
    "\n",
    "dhq-2012-000136-Gibbs-Building.txt\tMark Davies's Time Magazine \tcorpus (and \tthe interface to \n",
    "\n",
    "dhq-2019-000436-Ravenscroft-Finding.txt\tincluding the size of the \tcorpus and \tthe pragmatic goals \n",
    "\n",
    "dhq-2014-000168-Strange-Mining.txt\tthe modest size of the \tcorpus and \tthe research funding \n"
   ]
  },
  {
   "attachments": {},
   "cell_type": "markdown",
   "metadata": {},
   "source": [
    "# T10) Which are the five words that are statistically most likely to co-occur with your chosen term, when minimum collocate frequency is set to 5 and the size of the word window is plus minus 5 words (Window span: 5L to 5 R)? "
   ]
  },
  {
   "attachments": {},
   "cell_type": "markdown",
   "metadata": {
    "slideshow": {
     "slide_type": "slide"
    }
   },
   "source": [
    "### the five words that are statistically most likely to occur with the word \"corpus\" (sort by likelihood) are \n",
    "\n",
    "- sub is appearing on the left(freqL) 68 times and on the right (freqR) 6 times\n",
    "- linguistics is appearing on the left(freqL) 9 times and on the right (freqR) 65 times\n",
    "- corpus is appearing on the left(freqL) 36 times and on the right (freqR) 36 times\n",
    "- a is appearing on the left(freqL) 417 times and on the right (freqR) 182 times\n",
    "- texts is appearing on the left(freqL) 29 times and on the right (freqR) 55 times\n",
    "\n",
    "\n",
    "### However the five words that are statistically most likely to occur with the word \"corpus\" (sort by effects) are \n",
    "\n",
    "- enb is appearing on the left(freqL) 6 times and on the right (freqR) 2 times\n",
    "- kantrowitz is appearing on the left(freqL) 9 times and on the right (freqR) 0 times\n",
    "- eletrônico is appearing on the left(freqL) 0 times and on the right (freqR) 6 times\n",
    "- herbal is appearing on the left(freqL) 3 times and on the right (freqR) 2 times\n",
    "- texts is appearing on the left(freqL) 10 times and on the right (freqR) 2 times"
   ]
  },
  {
   "attachments": {},
   "cell_type": "markdown",
   "metadata": {},
   "source": [
    "# T11) How does the output change when you raise the minimum collocate frequency to 10? Discuss briefly your results. "
   ]
  },
  {
   "attachments": {},
   "cell_type": "markdown",
   "metadata": {},
   "source": [
    "### When the minimum frequency was raised to 10, sort by likelihood remained the same, i would assume that this is because no matter the frequency the likelihood span remains the same.\n",
    "\n",
    "### However the sort by effect changes when the minimum frequency were changed to 5. \n",
    "\n",
    "- Ridges became ranked 1 with over 200 freq and 10 freqL and 2 freqR and 8006 effect."
   ]
  },
  {
   "attachments": {},
   "cell_type": "markdown",
   "metadata": {},
   "source": [
    "Collocate\tRank\tFreq(Scaled)\tFreqLR\tFreqL\tFreqR\tRange\tLikelihood\tEffect\n",
    "\n",
    "ridges\t1\t200\t12\t10\t2\t3\t94.636\t7.077\n",
    "\n",
    "vaderland\t2\t360\t14\t13\t1\t1\t98.076\t6.451\n",
    "\n",
    "sub\t3\t2880\t74\t68\t6\t10\t457.186\t5.853\n",
    "\n",
    "symphony\t4\t540\t12\t10\t2\t1\t70.634\t5.644\n",
    "\n",
    "linguistics\t5\t3570\t74\t9\t65\t33\t425.637\t5.543\n"
   ]
  },
  {
   "attachments": {},
   "cell_type": "markdown",
   "metadata": {},
   "source": [
    "# T12) How does the output change when you raise the size of the word window to plus minus 8 words? Discuss briefly your results. "
   ]
  },
  {
   "attachments": {},
   "cell_type": "markdown",
   "metadata": {},
   "source": [
    "## the output changes again(min. freq 10, window span:8L to 8L ) making the word kantrowitz the most effect word in the corpus with over 6758 effect and 74,347 likelihood \n",
    "\n",
    "Collocate\tRank\tFreq(Scaled)\tFreqLR\tFreqL\tFreqR\tRange\tLikelihood\tEffect\n",
    "\n",
    "kantrowitz\t1\t208\t10\t9\t1\t1\t74.347\t6.758\n",
    "\n",
    "ridges\t2\t320\t14\t12\t2\t3\t101.410\t6.621\n",
    "\n",
    "vaderland\t3\t576\t23\t17\t6\t1\t162.363\t6.490\n",
    "\n",
    "bier\t4\t544\t10\t6\t4\t1\t55.114\t5.370\n",
    "\n",
    "sub\t5\t4608\t82\t74\t8\t11\t446.897\t5.324\n"
   ]
  },
  {
   "attachments": {},
   "cell_type": "markdown",
   "metadata": {},
   "source": [
    "# T13) Think about filtering of the corpus (eg. removing stop words) that would be relevant for improving the results or focusing your analysis. Motivate your choice of filtering. "
   ]
  },
  {
   "cell_type": "markdown",
   "metadata": {},
   "source": []
  },
  {
   "attachments": {},
   "cell_type": "markdown",
   "metadata": {},
   "source": [
    "# T14) Which 10 terms are most represented for the first five years of DHQ (Choose the articles published in 2007–2011 as your target corpus)? "
   ]
  },
  {
   "attachments": {},
   "cell_type": "markdown",
   "metadata": {},
   "source": [
    "\n",
    "\n",
    "- game\n",
    "\t\n",
    "- cave\n",
    "\t\n",
    "- crowther\n",
    "\t\n",
    "- player\n",
    "\t\n",
    "- bush\n",
    "\t\n",
    "- stein\n",
    "\t\n",
    "- if\n",
    "\t\n",
    "- avatar\n",
    "\t\n",
    "- computing\n",
    "\t\n",
    "- the\n",
    "\n"
   ]
  },
  {
   "attachments": {},
   "cell_type": "markdown",
   "metadata": {},
   "source": [
    "# T15) Which 10 terms are most represented for the last five years in DHQ corpus (Choose the articles published in 2016–2020 as your target corpus? "
   ]
  },
  {
   "attachments": {},
   "cell_type": "markdown",
   "metadata": {},
   "source": [
    "\n",
    "- comics\n",
    "\n",
    "- electronic\n",
    "\n",
    "- stein\n",
    "\n",
    "- kindle\n",
    "\n",
    "- amazon\n",
    "\n",
    "- coetzee\n",
    "\n",
    "- hawthorne\n",
    "\n",
    "- you\n",
    "\n",
    "- the\n",
    "\n",
    "- s\n"
   ]
  }
 ],
 "metadata": {
  "kernelspec": {
   "display_name": "base",
   "language": "python",
   "name": "python3"
  },
  "language_info": {
   "codemirror_mode": {
    "name": "ipython",
    "version": 3
   },
   "file_extension": ".py",
   "mimetype": "text/x-python",
   "name": "python",
   "nbconvert_exporter": "python",
   "pygments_lexer": "ipython3",
   "version": "3.9.12"
  },
  "orig_nbformat": 4,
  "vscode": {
   "interpreter": {
    "hash": "5ae58900cfbb8c43ab3495913814b7cf26024f51651a94ce8bf64d6111688e8d"
   }
  }
 },
 "nbformat": 4,
 "nbformat_minor": 2
}
