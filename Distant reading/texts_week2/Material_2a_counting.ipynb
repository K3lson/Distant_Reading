{
 "cells": [
  {
   "cell_type": "markdown",
   "id": "0237f285-d12d-4962-936b-f1157dbac556",
   "metadata": {},
   "source": [
    "## Distant reading course week 2 (VT-23)\n",
    "\n",
    "### Learning material 2a: Counting frequencies and bigrams (and visualising the results)\n",
    "\n",
    "Matti La Mela\n",
    "\n",
    "In this learning material, we will use pandas library to count and save a csv for visualization. We can visualise the csv files either with other software (excel, RAWtools, etc.) or with python. There is optional material about basics of visualization in Python.\n"
   ]
  },
  {
   "cell_type": "code",
   "execution_count": 4,
   "id": "d1fbdca4-2569-4ef7-b2a2-ed0dd0ddc5f5",
   "metadata": {},
   "outputs": [],
   "source": [
    "# We will take Pride and Prejudice from Project Gutenberg with a simple http request:\n",
    "\n",
    "# NB, you can also open the URL in your browser to see that this is the right text. Remember utf-8!\n",
    "\n",
    "import requests\n",
    "\n",
    "request = requests.get(\"https://www.gutenberg.org/cache/epub/42671/pg42671.txt\")\n",
    "\n",
    "request.encoding = \"utf-8\"\n",
    "book = request.text"
   ]
  },
  {
   "cell_type": "code",
   "execution_count": 5,
   "id": "d8855bd9-cfc6-4694-8e75-8fd7d0a771b9",
   "metadata": {},
   "outputs": [
    {
     "name": "stdout",
     "output_type": "stream",
     "text": [
      "725046\n",
      "﻿The Project Gutenberg eBook, Pride and Prejudice, by Jane Austen, Edited\n",
      "by R. W. (Robert William) Chapman\n",
      "\n",
      "\n",
      "This eBook is for the use of anyone anywhere at no cost and with\n",
      "almost no restrictions whatsoever.  You may copy it, give it away or\n",
      "re-use it under the terms of the Project Gutenberg License included\n",
      "with this eBook or online at www.gutenberg.org\n",
      "\n",
      "\n",
      "\n",
      "\n",
      "\n",
      "Title: Pride and Prejudice\n",
      "\n",
      "\n",
      "Author: Jane Austen\n",
      "\n",
      "Editor: R. W. (Robert William) Chapman\n",
      "\n",
      "Release Date: May 9, 2013  [eBook #42671]\n",
      "\n",
      "Language: English\n",
      "\n",
      "\n",
      "***START OF THE PROJECT GUTENBERG EBOOK PRIDE AND PREJUDICE***\n",
      "\n",
      "\n",
      "E-text prepared by Greg Weeks, Jon Hurst, Mary Meehan, and the Online\n",
      "Distributed Proofreading Team (http://www.pgdp.net) from page images\n",
      "generously made available by Internet Archive (https://archive.org)\n",
      "\n",
      "\n",
      "\n",
      "Note: Project Gutenberg also has an HTML version of this\n",
      "      file which includes the original illustrations.\n",
      "      See 42671-h.htm or 42671-h.zip:\n",
      "      (http://www.gute\n"
     ]
    }
   ],
   "source": [
    "# Let's see how the book looks like\n",
    "\n",
    "print (len(book))\n",
    "\n",
    "print (book[:1000])\n"
   ]
  },
  {
   "cell_type": "code",
   "execution_count": 6,
   "id": "0138f5f8-e3dc-40d7-a40f-663bc8c64fce",
   "metadata": {},
   "outputs": [],
   "source": [
    "# It is quite long, so let's take the first ten chapters of the book.\n",
    "# Let's use the first and last sentence to find the offsets for the index and then store this to a new string.\n",
    "\n",
    "start = book.find(\"It is a truth universally acknowledged\")\n",
    "end = book.find(\"leaving her room for a couple of hours that evening.\")\n",
    "\n",
    "\n",
    "# We could also use CHAPTER I etc. when using find(), but be careful if there are tables of content in your file..\n",
    "\n",
    "end += len(\"leaving her room for a couple of hours that evening.\")  # we need to add this bit make the index include it too. Find returns us the location in the string where this sentence starts\n"
   ]
  },
  {
   "cell_type": "code",
   "execution_count": 7,
   "id": "d96ba531-42b9-4569-8cf5-030bf9f5ad91",
   "metadata": {},
   "outputs": [
    {
     "name": "stdout",
     "output_type": "stream",
     "text": [
      "It is a truth universally acknowledged, that a single man in possession\n",
      "of a good fortune, must be \n",
      "\n",
      "ane was already so much recovered\n",
      "as to intend leaving her room for a couple of hours that evening.\n",
      "\n",
      "89090\n"
     ]
    }
   ],
   "source": [
    "# We assign this slice of ten first chapters to the variable chapters\n",
    "\n",
    "chapters = book[start:end]\n",
    "\n",
    "# Let's print that it looks ok:\n",
    "\n",
    "print(chapters[0:100])\n",
    "\n",
    "print(\"\")\n",
    "\n",
    "print(chapters[-100:]) # -100 starts from the 100 chars before the end of the string\n",
    "\n",
    "print(\"\")\n",
    "\n",
    "print(len(chapters))"
   ]
  },
  {
   "cell_type": "code",
   "execution_count": 8,
   "id": "36c99697-a765-4820-9834-87de91b0ce19",
   "metadata": {},
   "outputs": [
    {
     "name": "stdout",
     "output_type": "stream",
     "text": [
      "['it', 'is', 'a', 'truth', 'universally', 'acknowledged', 'that', 'a', 'single', 'man', 'in', 'possession', 'of', 'a', 'good', 'fortune', 'must', 'be', 'in', 'want', 'of', 'a', 'wife', 'however', 'little', 'known', 'the', 'feelings', 'or', 'views', 'of', 'such', 'a', 'man', 'may', 'be', 'on', 'his', 'first', 'entering', 'a', 'neighbourhood', 'this', 'truth', 'is', 'so', 'well', 'fixed', 'in', 'the', 'minds', 'of', 'the', 'surrounding', 'families', 'that', 'he', 'is', 'considered', 'as', 'the', 'rightful', 'property', 'of', 'some', 'one', 'or', 'other', 'of', 'their', 'daughters', 'my', 'dear', 'mr', 'bennet', 'said', 'his', 'lady', 'to', 'him', 'one', 'day', 'have', 'you', 'heard', 'that', 'netherfield', 'park', 'is', 'let', 'at', 'last', 'mr', 'bennet', 'replied', 'that', 'he', 'had', 'not', 'but']\n"
     ]
    }
   ],
   "source": [
    "import re\n",
    "\n",
    "# We do a bit of cleaning, if we would continue our analysis in Python only .. as we know, Spacy is very helpful with cleaning. But:\n",
    "\n",
    "chapters_clean = chapters.lower() # lowercase\n",
    "chapters_clean = chapters_clean.replace(\"\\n\", \" \") # replace endlines with \" \", if there is an extra space in some txt-type, then we could remove the endlines\n",
    "chapters_clean = re.sub(r\"[^a-z0-9\\s]\", \"\", chapters_clean) # we replace everything else than a-z 0-9 and whitespace \\s (regex character for whitespace) with \"\".\n",
    "tokens = chapters_clean.split() # we split this into a list\n",
    "\n",
    "\n",
    "print(tokens[0:100])"
   ]
  },
  {
   "cell_type": "code",
   "execution_count": 9,
   "id": "82e0a233-f000-4966-adc7-2fce5ac21d1e",
   "metadata": {},
   "outputs": [
    {
     "name": "stdout",
     "output_type": "stream",
     "text": [
      "171\n",
      "170\n"
     ]
    }
   ],
   "source": [
    "# we can count elements on the list with the count() method\n",
    "\n",
    "print(tokens.count(\"she\"))\n",
    "print(tokens.count(\"he\"))\n"
   ]
  },
  {
   "cell_type": "code",
   "execution_count": 10,
   "id": "5c668be8-d32c-4ac2-b55b-5a6fcf60aa89",
   "metadata": {},
   "outputs": [
    {
     "name": "stdout",
     "output_type": "stream",
     "text": [
      "['a', 'a', 'a', 'a', 'a', 'a', 'a', 'a', 'a', 'a', 'a', 'a', 'a', 'a', 'a', 'a', 'a', 'a', 'a', 'a', 'a', 'a', 'a', 'a', 'a', 'a', 'a', 'a', 'a', 'a', 'a', 'a', 'a', 'a', 'a', 'a', 'a', 'a', 'a', 'a', 'a', 'a', 'a', 'a', 'a', 'a', 'a', 'a', 'a', 'a', 'a', 'a', 'a', 'a', 'a', 'a', 'a', 'a', 'a', 'a', 'a', 'a', 'a', 'a', 'a', 'a', 'a', 'a', 'a', 'a', 'a', 'a', 'a', 'a', 'a', 'a', 'a', 'a', 'a', 'a', 'a', 'a', 'a', 'a', 'a', 'a', 'a', 'a', 'a', 'a', 'a', 'a', 'a', 'a', 'a', 'a', 'a', 'a', 'a', 'a', 'a', 'a', 'a', 'a', 'a', 'a', 'a', 'a', 'a', 'a', 'a', 'a', 'a', 'a', 'a', 'a', 'a', 'a', 'a', 'a', 'a', 'a', 'a', 'a', 'a', 'a', 'a', 'a', 'a', 'a', 'a', 'a', 'a', 'a', 'a', 'a', 'a', 'a', 'a', 'a', 'a', 'a', 'a', 'a', 'a', 'a', 'a', 'a', 'a', 'a', 'a', 'a', 'a', 'a', 'a', 'a', 'a', 'a', 'a', 'a', 'a', 'a', 'a', 'a', 'a', 'a', 'a', 'a', 'a', 'a', 'a', 'a', 'a', 'a', 'a', 'a', 'a', 'a', 'a', 'a', 'a', 'a', 'a', 'a', 'a', 'a', 'a', 'a', 'a', 'a', 'a', 'a', 'a', 'a', 'a', 'a', 'a', 'a', 'a', 'a', 'a', 'a', 'a', 'a', 'a', 'a', 'a', 'a', 'a', 'a', 'a', 'a', 'a', 'a', 'a', 'a', 'a', 'a', 'a', 'a', 'a', 'a', 'a', 'a', 'a', 'a', 'a', 'a', 'a', 'a', 'a', 'a', 'a', 'a', 'a', 'a', 'a', 'a', 'a', 'a', 'a', 'a', 'a', 'a', 'a', 'a', 'a', 'a', 'a', 'a', 'a', 'a', 'a', 'a', 'a', 'a', 'a', 'a', 'a', 'a', 'a', 'a', 'a', 'a', 'a', 'a', 'a', 'a', 'a', 'a', 'a', 'a', 'a', 'a', 'a', 'a', 'a', 'a', 'a', 'a', 'a', 'a', 'a', 'a', 'a', 'a', 'a', 'a', 'a', 'a', 'a', 'a', 'a', 'a', 'a', 'a', 'a', 'a', 'a', 'a', 'a', 'a', 'a', 'a', 'a', 'a', 'a', 'a', 'a', 'a', 'a', 'a', 'a', 'a', 'a', 'a', 'a', 'a', 'a', 'a', 'able', 'able', 'abominable', 'abominably', 'about', 'about', 'about', 'about', 'about', 'about', 'about', 'about', 'about', 'about', 'about', 'about', 'about', 'about', 'about', 'about', 'about', 'about', 'about', 'about', 'about', 'about', 'about', 'above', 'above', 'above', 'abruptly', 'absent', 'absolutely', 'absolutely', 'absolutely', 'abuse', 'abusing', 'accept', 'accept', 'accept', 'accepted', 'accidental', 'accompanied', 'accomplished', 'accomplished', 'accomplished', 'accomplished', 'accomplished', 'accomplished', 'accomplished', 'accomplished', 'accomplished', 'accomplishments', 'accomplishments', 'according', 'according', 'accosted', 'account', 'account', 'ached', 'acknowledge', 'acknowledge', 'acknowledged', 'acknowledged', 'acknowledged', 'acknowledgment', 'acknowledgments', 'acquaint', 'acquaintance', 'acquaintance', 'acquaintance', 'acquaintance', 'acquaintance', 'acquaintance', 'acquainted', 'acquainted', 'acquainted', 'acquainted', 'acquainted', 'acquired', 'act', 'act', 'acting', 'activity', 'activity', 'actually', 'actually', 'acutely', 'add', 'add', 'added', 'added', 'added', 'added', 'added', 'added', 'added', 'added', 'added', 'adding', 'address', 'address', 'address', 'addressed', 'addressed', 'adept', 'adhering', 'adjusting', 'admiration', 'admiration', 'admiration', 'admiration', 'admiration', 'admiration', 'admiration', 'admiration', 'admire', 'admire', 'admire', 'admired', 'admired', 'admired', 'admired', 'admired', 'admitted', 'admitted', 'admitting', 'adopt', 'advance', 'advantage', 'advantage', 'advantage', 'advantage', 'advantage', 'advantage', 'advantage', 'advantage', 'advantage', 'advantages', 'adventure', 'advice', 'advice', 'advice', 'advice', 'advisable', 'advisable', 'advise', 'advised', 'affect', 'affectation', 'affected', 'affection', 'affection', 'affection', 'affection', 'affection', 'affection', 'affection', 'affinity', 'afforded', 'affront', 'affront', 'afraid', 'afraid', 'afraid', 'afraid', 'afraid', 'afraid', 'afraid', 'afraid', 'after', 'after', 'after', 'after', 'after', 'after', 'after', 'after', 'after', 'after', 'after', 'after', 'after', 'after', 'after', 'after', 'after', 'after', 'after', 'afterwards', 'afterwards', 'afterwards', 'afterwards', 'afterwards', 'afterwards', 'afterwards', 'again', 'again', 'again', 'again', 'again', 'again', 'again', 'again', 'again', 'again', 'again', 'againat', 'against', 'against', 'against', 'age', 'age', 'age', 'age', 'agree', 'agree', 'agree', 'agreeable', 'agreeable', 'agreeable', 'agreeable', 'agreeable', 'agreeable', 'agreeable', 'agreeable', 'agreeable', 'agreeable', 'agreeably', 'agreed', 'agreeing', 'ah', 'air', 'air', 'air', 'air', 'air', 'airs', 'alacrity', 'alarm', 'alarmed', 'alarming', 'all', 'all', 'all', 'all', 'all', 'all', 'all', 'all', 'all', 'all', 'all', 'all', 'all', 'all', 'all', 'all', 'all', 'all', 'all', 'all', 'all', 'all', 'all', 'all', 'all', 'all', 'all', 'all', 'all', 'all', 'all', 'all', 'all', 'all', 'all', 'all', 'all', 'all', 'all', 'all', 'all', 'all', 'all', 'all', 'all', 'all', 'all', 'all', 'all', 'all', 'all', 'all', 'all', 'all', 'all', 'all', 'all', 'all', 'all', 'all', 'all', 'all', 'all', 'all', 'all', 'all', 'all', 'all', 'all', 'all', 'all', 'all', 'alland', 'alli', 'alliance', 'allow', 'allow', 'allow', 'allowed', 'allowed', 'allowed', 'allowing', 'almost', 'almost', 'almost', 'almost', 'alone', 'alone', 'alone', 'alone', 'alone', 'alone', 'along', 'aloud', 'aloud', 'already', 'already', 'already', 'already', 'also', 'also', 'also', 'also', 'also', 'also', 'also', 'alter', 'alternative', 'altogether', 'altogether', 'always', 'always', 'always', 'always', 'always', 'always', 'always', 'always', 'always', 'always', 'always', 'always', 'always', 'always', 'always', 'always', 'always', 'always', 'always', 'always', 'always', 'always', 'always', 'am', 'am', 'am', 'am', 'am', 'am', 'am', 'am', 'am', 'am', 'am', 'am', 'am', 'am', 'am', 'am', 'am', 'am', 'am', 'am', 'am', 'am', 'am', 'am', 'am', 'am', 'am', 'am', 'am', 'am', 'am', 'am', 'am', 'am', 'am', 'am', 'am', 'am', 'am', 'am', 'am', 'am', 'am', 'am', 'am', 'am', 'am', 'am', 'am', 'am', 'am', 'am', 'am', 'am', 'am', 'am', 'am', 'amazed', 'amazing', 'amendment', 'amends', 'amiable', 'among', 'among', 'among', 'amongst', 'amongst', 'amongst', 'amount', 'ample', 'amuse', 'amuse', 'amused', 'amusement', 'amusement', 'amusement', 'amusing', 'amusing', 'an', 'an', 'an', 'an', 'an', 'an', 'an', 'an', 'an', 'an', 'an', 'an', 'an', 'an', 'an', 'an', 'an', 'an', 'an', 'an', 'an', 'an', 'an', 'an', 'an', 'an', 'an', 'an', 'an', 'an', 'an', 'an', 'an', 'an', 'an', 'an', 'an', 'an', 'an', 'an', 'an', 'an', 'an', 'an', 'an', 'an', 'an', 'an', 'an', 'an', 'an', 'ancle', 'ancles', 'ancles', 'and', 'and', 'and', 'and', 'and', 'and', 'and', 'and', 'and', 'and', 'and', 'and', 'and', 'and', 'and', 'and', 'and', 'and', 'and', 'and', 'and', 'and', 'and', 'and', 'and', 'and', 'and', 'and', 'and', 'and', 'and', 'and', 'and', 'and', 'and', 'and', 'and', 'and', 'and', 'and', 'and', 'and', 'and', 'and', 'and', 'and', 'and', 'and', 'and', 'and', 'and', 'and', 'and', 'and', 'and', 'and', 'and', 'and', 'and', 'and', 'and', 'and', 'and', 'and', 'and', 'and', 'and', 'and', 'and', 'and', 'and', 'and', 'and', 'and', 'and', 'and', 'and', 'and', 'and', 'and', 'and', 'and', 'and', 'and', 'and', 'and', 'and', 'and', 'and', 'and', 'and', 'and', 'and', 'and', 'and', 'and', 'and', 'and', 'and', 'and', 'and', 'and', 'and', 'and', 'and', 'and', 'and', 'and', 'and', 'and', 'and', 'and', 'and', 'and', 'and', 'and', 'and', 'and', 'and', 'and', 'and', 'and', 'and', 'and', 'and', 'and', 'and', 'and', 'and', 'and', 'and', 'and', 'and', 'and', 'and', 'and', 'and', 'and', 'and', 'and', 'and', 'and', 'and', 'and', 'and', 'and', 'and', 'and', 'and', 'and', 'and', 'and', 'and', 'and', 'and', 'and', 'and', 'and', 'and', 'and', 'and', 'and', 'and', 'and', 'and', 'and', 'and', 'and', 'and', 'and', 'and', 'and', 'and', 'and', 'and', 'and', 'and', 'and', 'and', 'and', 'and', 'and', 'and', 'and', 'and', 'and', 'and', 'and', 'and', 'and', 'and', 'and', 'and', 'and', 'and', 'and', 'and', 'and', 'and', 'and', 'and', 'and', 'and', 'and', 'and', 'and', 'and', 'and', 'and', 'and', 'and', 'and', 'and', 'and', 'and', 'and', 'and', 'and', 'and', 'and', 'and', 'and', 'and', 'and', 'and', 'and', 'and', 'and', 'and', 'and', 'and', 'and', 'and', 'and', 'and', 'and', 'and', 'and', 'and', 'and', 'and', 'and', 'and', 'and', 'and', 'and', 'and', 'and', 'and', 'and', 'and', 'and', 'and', 'and', 'and', 'and', 'and', 'and', 'and', 'and', 'and', 'and', 'and', 'and', 'and', 'and', 'and', 'and', 'and', 'and', 'and', 'and', 'and', 'and', 'and', 'and', 'and', 'and', 'and', 'and', 'and', 'and', 'and', 'and', 'and', 'and', 'and', 'and', 'and', 'and', 'and', 'and', 'and', 'and', 'and', 'and', 'and', 'and', 'and', 'and', 'and', 'and', 'and', 'and', 'and', 'and', 'and', 'and', 'and', 'and', 'and', 'and', 'and', 'and', 'and', 'and', 'and', 'and', 'and', 'and', 'and', 'and', 'and', 'and', 'and', 'and', 'and', 'and', 'and', 'and', 'and', 'and', 'and', 'and', 'and', 'and', 'and', 'and', 'and', 'and', 'and', 'and', 'and', 'and', 'and', 'and', 'and', 'and', 'and', 'and', 'and', 'and', 'and', 'and', 'and', 'and', 'and', 'and', 'and', 'and', 'and', 'and', 'and', 'and', 'and', 'and', 'and', 'and', 'and', 'and', 'and', 'and', 'and', 'and', 'and', 'and', 'and', 'and', 'and', 'and', 'and', 'and', 'and', 'and', 'and', 'and', 'and', 'and', 'and', 'and', 'and', 'and', 'and', 'and', 'and', 'and', 'and', 'and', 'and', 'and', 'and', 'and', 'and', 'and', 'and', 'and', 'and', 'and', 'and', 'and', 'and', 'and', 'and', 'and', 'and', 'and', 'and', 'and', 'and', 'and', 'angel', 'angry', 'angry', 'animal', 'animation', 'annoyed', 'another', 'another', 'another', 'another', 'another', 'another', 'another', 'another', 'answer', 'answer', 'answer', 'answer', 'answer', 'answer', 'answer', 'answer', 'answer', 'answer', 'answer', 'answer', 'answer', 'answer', 'answered', 'answered', 'answered', 'answered', 'answered', 'answered', 'answering', 'answering', 'anxiety', 'anxiety', 'anxious', 'anxious', 'any', 'any', 'any', 'any', 'any', 'any', 'any', 'any', 'any', 'any', 'any', 'any', 'any', 'any', 'any', 'any', 'any', 'any', 'any', 'any', 'any', 'any', 'any', 'any', 'any', 'any', 'any', 'any', 'any', 'any', 'any', 'any', 'any', 'any', 'any', 'any', 'any', 'any', 'any', 'any', 'anybody', 'anybody', 'anything', 'apology', 'apothecary', 'apothecary', 'apparent', 'appear', 'appear', 'appear', 'appearance', 'appearance', 'appearance', 'appearance', 'appeared', 'appeared', 'appeared', 'appertain', 'appetite', 'application', 'application', 'applied', 'applied', 'approaching', 'approbation', 'approve', 'apt', 'archly', 'archness', 'are', 'are', 'are', 'are', 'are', 'are', 'are', 'are', 'are', 'are', 'are', 'are', 'are', 'are', 'are', 'are', 'are', 'are', 'are', 'are', 'are', 'are', 'are', 'are', 'are', 'are', 'are', 'are', 'are', 'are', 'are', 'are', 'are', 'are', 'are', 'are', 'are', 'are', 'are', 'are', 'are', 'are', 'are', 'are', 'are', 'are', 'are', 'are', 'are', 'are', 'are', 'are', 'are', 'are', 'are', 'are', 'are', 'are', 'are', 'are', 'are', 'are', 'are', 'are', 'areyou', 'argued', 'argument', 'argument', 'argument', 'argument', 'arguments', 'arguments', 'arising', 'arm', 'arrange', 'arrival', 'arrival', 'arrived', 'arrived', 'art', 'arts', 'as', 'as', 'as', 'as', 'as', 'as', 'as', 'as', 'as', 'as', 'as', 'as', 'as', 'as', 'as', 'as', 'as', 'as', 'as', 'as', 'as', 'as', 'as', 'as', 'as', 'as', 'as', 'as', 'as', 'as', 'as', 'as', 'as', 'as', 'as', 'as', 'as', 'as', 'as', 'as', 'as', 'as', 'as', 'as', 'as', 'as', 'as', 'as', 'as', 'as', 'as', 'as', 'as', 'as', 'as', 'as', 'as', 'as', 'as', 'as', 'as', 'as', 'as', 'as', 'as', 'as', 'as', 'as', 'as', 'as', 'as', 'as', 'as', 'as', 'as', 'as', 'as', 'as', 'as', 'as', 'as', 'as', 'as', 'as', 'as', 'as', 'as', 'as', 'as', 'as', 'as', 'as', 'as', 'as', 'as', 'as', 'as', 'as', 'as', 'as', 'as', 'as', 'as', 'as', 'as', 'as', 'as', 'as', 'as', 'as', 'as', 'as', 'as', 'as', 'as', 'as', 'as', 'as', 'as', 'as', 'as', 'ascertain', 'ascertaining', 'aside', 'ask', 'ask', 'ask', 'ask', 'ask', 'asked', 'asked', 'asked', 'asked', 'asked', 'asked', 'asking', 'asking', 'asking', 'asleep', 'assembled', 'assembled', 'assemblies', 'assemblies', 'assembly', 'assembly', 'assembly', 'assembly', 'assembly', 'assembly', 'assembly', 'assent', 'asserting', 'assistance', 'assistance', 'assistant', 'associating', 'assume', 'assurance', 'assure', 'assure', 'assure', 'assure', 'assure', 'assure', 'assure', 'assure', 'assured', 'assuring', 'astonished', 'astonished', 'astonishment', 'astonishment', 'astonishment', 'at', 'at', 'at', 'at', 'at', 'at', 'at', 'at', 'at', 'at', 'at', 'at', 'at', 'at', 'at', 'at', 'at', 'at', 'at', 'at', 'at', 'at', 'at', 'at', 'at', 'at', 'at', 'at', 'at', 'at', 'at', 'at', 'at', 'at', 'at', 'at', 'at', 'at', 'at', 'at', 'at', 'at', 'at', 'at', 'at', 'at', 'at', 'at', 'at', 'at', 'at', 'at', 'at', 'at', 'at', 'at', 'at', 'at', 'at', 'at', 'at', 'at', 'at', 'at', 'at', 'at', 'at', 'at', 'at', 'at', 'at', 'at', 'at', 'at', 'at', 'at', 'at', 'at', 'at', 'at', 'at', 'at', 'at', 'at', 'at', 'at', 'at', 'at', 'at', 'at', 'at', 'at', 'at', 'at', 'at', 'at', 'at', 'at', 'at', 'at', 'at', 'at', 'at', 'at', 'ate', 'atoned', 'attachment', 'attack', 'attacked', 'attempt', 'attempt', 'attempt', 'attended', 'attended', 'attended', 'attended', 'attending', 'attention', 'attention', 'attention', 'attention', 'attention', 'attention', 'attention', 'attention', 'attention', 'attention', 'attention', 'attentions', 'attentions', 'attentions', 'attentions', 'attentive', 'attorney', 'attorney', 'aunt', 'aunt', 'aunt', 'aunt', 'aunt', 'authorised', 'avenue', 'avoid', 'avoid', 'aware', 'aware', 'away', 'away', 'away', 'away', 'away', 'away', 'away', 'away', 'aweful', 'aye', 'ayebecause', 'ayethat', 'back', 'back', 'back', 'back', 'back', 'bad', 'bad', 'bad', 'badbelongs', 'ball', 'ball', 'ball', 'ball', 'ball', 'ball', 'ball', 'ball', 'ball', 'ball', 'ball', 'ball', 'ball', 'ball', 'ball', 'bare', 'barefaced', 'be', 'be', 'be', 'be', 'be', 'be', 'be', 'be', 'be', 'be', 'be', 'be', 'be', 'be', 'be', 'be', 'be', 'be', 'be', 'be', 'be', 'be', 'be', 'be', 'be', 'be', 'be', 'be', 'be', 'be', 'be', 'be', 'be', 'be', 'be', 'be', 'be', 'be', 'be', 'be', 'be', 'be', 'be', 'be', 'be', 'be', 'be', 'be', 'be', 'be', 'be', 'be', 'be', 'be', 'be', 'be', 'be', 'be', 'be', 'be', 'be', 'be', 'be', 'be', 'be', 'be', 'be', 'be', 'be', 'be', 'be', 'be', 'be', 'be', 'be', 'be', 'be', 'be', 'be', 'be', 'be', 'be', 'be', 'be', 'be', 'be', 'be', 'be', 'be', 'be', 'be', 'be', 'be', 'be', 'be', 'be', 'be', 'be', 'be', 'be', 'be', 'be', 'be', 'be', 'be', 'be', 'be', 'be', 'be', 'be', 'be', 'be', 'be', 'be', 'be', 'be', 'be', 'be', 'be', 'be', 'be', 'be', 'be', 'be', 'be', 'be', 'be', 'be', 'be', 'be', 'be', 'be', 'be', 'be', 'be', 'be', 'be', 'be', 'be', 'be', 'be', 'be', 'be', 'be', 'be', 'be', 'be', 'be', 'bears', 'beauties', 'beautiful', 'beautiful', 'beautiful', 'beautiful', 'beautiful', 'beautiful', 'beauty', 'beauty', 'beauty', 'beauty', 'beauty', 'beauty', 'beauty', 'beauty', 'because', 'because', 'because', 'because', 'because', 'because', 'because', 'become', 'becoming', 'becoming', 'bed', 'been', 'been', 'been', 'been', 'been', 'been', 'been', 'been', 'been', 'been', 'been', 'been', 'been', 'been', 'been', 'been', 'been', 'been', 'been', 'been', 'been', 'been', 'been', 'been', 'been', 'been', 'been', 'been', 'been', 'been', 'been', 'been', 'been', 'been', 'been', 'been', 'been', 'been', 'been', 'before', 'before', 'before', 'before', 'before', 'before', 'before', 'before', 'before', 'before', 'before', 'before', 'before', 'before', 'before', 'before', 'before', 'before', 'before', 'before', 'beforehand', 'beg', 'beg', 'began', 'began', 'began', 'began', 'began', 'began', 'began', 'began', 'began', 'began', 'began', 'began', 'begin', 'begin', 'begin', 'begun', 'behaviour', 'behaviour', 'behaviour', 'behaviour', 'beheld', 'behind', 'being', 'being', 'being', 'being', 'being', 'being', 'being', 'being', 'being', 'being', 'being', 'being', 'being', 'being', 'being', 'being', 'being', 'being', 'being', 'being', 'being', 'being', 'being', 'being', 'being', 'believe', 'believe', 'believe', 'believe', 'believe', 'believe', 'believe', 'believe', 'believe', 'believed', 'believed', 'believed', 'believed', 'below', 'benefit', 'benevolence', 'bennet', 'bennet', 'bennet', 'bennet', 'bennet', 'bennet', 'bennet', 'bennet', 'bennet', 'bennet', 'bennet', 'bennet', 'bennet', 'bennet', 'bennet', 'bennet', 'bennet', 'bennet', 'bennet', 'bennet', 'bennet', 'bennet', 'bennet', 'bennet', 'bennet', 'bennet', 'bennet', 'bennet', 'bennet', 'bennet', 'bennet', 'bennet', 'bennet', 'bennet', 'bennet', 'bennet', 'bennet', 'bennet', 'bennet', 'bennet', 'bennet', 'bennet', 'bennet', 'bennet', 'bennet', 'bennet', 'bennet', 'bennet', 'bennet', 'bennet', 'bennet', 'bennet', 'bennet', 'bennet', 'bennet', 'bennet', 'bennet', 'bennet', 'bennet', 'bennet', 'bennet', 'bennet', 'bennet', 'bennet', 'bennet', 'bennets', 'bennets', 'bennets', 'bennets', 'bennets', 'bennets', 'bennets', 'bennets', 'bennetthey', 'beside', 'besides', 'best', 'best', 'best', 'bestow', 'better', 'better', 'better', 'better', 'better', 'better', 'better', 'better', 'better', 'better', 'better', 'better', 'better', 'better', 'better', 'better', 'better', 'better', 'better', 'better', 'better', 'better', 'better', 'better', 'between', 'between', 'between', 'between', 'between', 'between', 'between', 'between', 'between', 'between', 'between', 'bewitched', 'beyond', 'bingley', 'bingley', 'bingley', 'bingley', 'bingley', 'bingley', 'bingley', 'bingley', 'bingley', 'bingley', 'bingley', 'bingley', 'bingley', 'bingley', 'bingley', 'bingley', 'bingley', 'bingley', 'bingley', 'bingley', 'bingley', 'bingley', 'bingley', 'bingley', 'bingley', 'bingley', 'bingley', 'bingley', 'bingley', 'bingley', 'bingley', 'bingley', 'bingley', 'bingley', 'bingley', 'bingley', 'bingley', 'bingley', 'bingley', 'bingley', 'bingley', 'bingley', 'bingley', 'bingley', 'bingley', 'bingley', 'bingley', 'bingley', 'bingley', 'bingley', 'bingley', 'bingley', 'bingley', 'bingley', 'bingley', 'bingley', 'bingley', 'bingley', 'bingley', 'bingley', 'bingley', 'bingley', 'bingley', 'bingley', 'bingley', 'bingley', 'bingley', 'bingley', 'bingley', 'bingley', 'bingley', 'bingley', 'bingley', 'bingley', 'bingley', 'bingley', 'bingley', 'bingley', 'bingley', 'bingley', 'bingley', 'bingley', 'bingley', 'bingley', 'bingley', 'bingley', 'bingley', 'bingley', 'bingley', 'bingley', 'bingley', 'bingley', 'bingley', 'bingley', 'bingley', 'bingley', 'bingley', 'bingley', 'bingley', 'bingley', 'bingley', 'bingley', 'bingley', 'bingleyis', 'bingleys', 'bingleys', 'bingleys', 'bingleys', 'bingleys', 'bingleys', 'bingleys', 'bingleys', 'bit', 'bitter', 'bitterness', 'black', 'blind', 'blots', 'blowsy', 'blue', 'blushing', 'boast', 'boast', 'boast', 'boastfor', 'body', 'body', 'body', 'body', 'body', 'body', 'body', 'body', 'body', 'body', 'body', 'body', 'body', 'bodyif', 'bodys', 'bodys', 'bodythat', 'book', 'book', 'book', 'books', 'books', 'books', 'books', 'bookswhat', 'bordering', 'both', 'both', 'both', 'both', 'both', 'both', 'bottle', 'bottle', 'boulanger', 'bowed', 'boy', 'branch', 'breakfast', 'breakfast', 'breakfast', 'breakfast', 'breakfast', 'breakfastparlour', 'breath', 'bred', 'breeding', 'breeding', 'brightened', 'brilliancy', 'bring', 'bring', 'brother', 'brother', 'brother', 'brother', 'brother', 'brother', 'brother', 'brotherbecause', 'brotherinlaw', 'brothers', 'brothers', 'brothers', 'brothers', 'brought', 'brought', 'brought', 'brought', 'brought', 'build', 'business', 'business', 'business', 'business', 'business', 'business', 'business', 'business', 'but', 'but', 'but', 'but', 'but', 'but', 'but', 'but', 'but', 'but', 'but', 'but', 'but', 'but', 'but', 'but', 'but', 'but', 'but', 'but', 'but', 'but', 'but', 'but', 'but', 'but', 'but', 'but', 'but', 'but', 'but', 'but', 'but', 'but', 'but', 'but', 'but', 'but', 'but', 'but', 'but', 'but', 'but', 'but', 'but', 'but', 'but', 'but', 'but', 'but', 'but', 'but', 'but', 'but', 'but', 'but', 'but', 'but', 'but', 'but', 'but', 'but', 'but', 'but', 'but', 'but', 'but', 'but', 'but', 'but', 'but', 'but', 'but', 'but', 'but', 'but', 'but', 'but', 'but', 'but', 'but', 'but', 'but', 'but', 'but', 'but', 'but', 'but', 'but', 'but', 'but', 'but', 'but', 'but', 'but', 'but', 'but', 'but', 'but', 'but', 'but', 'but', 'but', 'but', 'but', 'but', 'but', 'but', 'but', 'but', 'but', 'but', 'buy', 'buying', 'by', 'by', 'by', 'by', 'by', 'by', 'by', 'by', 'by', 'by', 'by', 'by', 'by', 'by', 'by', 'by', 'by', 'by', 'by', 'by', 'by', 'by', 'by', 'by', 'by', 'by', 'by', 'by', 'by', 'by', 'by', 'by', 'by', 'by', 'by', 'by', 'by', 'by', 'by', 'by', 'by', 'by', 'by', 'by', 'by', 'by', 'by', 'by', 'by', 'by', 'by', 'by', 'by', 'by', 'by', 'by', 'by', 'by', 'by', 'by', 'by', 'by', 'by', 'by', 'by', 'by', 'by', 'by', 'by', 'by', 'by', 'by', 'by', 'by', 'by', 'by', 'by', 'by', 'by', 'by', 'by', 'by', 'by', 'by', 'by', 'by', 'by', 'by', 'by', 'by', 'by', 'bye', 'c', 'c', 'calculated', 'call', 'call', 'called', 'called', 'called', 'called', 'calling', 'calling', 'came', 'came', 'came', 'came', 'came', 'came', 'came', 'came', 'can', 'can', 'can', 'can', 'can', 'can', 'can', 'can', 'can', 'can', 'can', 'can', 'can', 'can', 'can', 'can', 'can', 'can', 'can', 'can', 'can', 'can', 'can', 'can', 'can', 'can', 'can', 'can', 'can', 'can', 'can', 'can', 'can', 'can', 'can', 'can', 'can', 'candid', 'candour', 'cannot', 'cannot', 'cannot', 'cannot', 'cannot', 'cannot', 'cannot', 'cannot', 'cannot', 'cannot', 'cannot', 'cannot', 'cannot', 'cannot', 'cannot', 'capacity', 'capital', 'capital', 'caprice', 'captain', 'captain', 'captain', 'captain', 'captivation', 'cards', 'cards', 'cards', 'cardtable', 'care', 'care', 'care', 'care', 'careless', 'carelessness', 'carelessness', 'caroline', 'caroline', 'caroline', 'carriage', 'carriage', 'carriage', 'carriage', 'carriage', 'carriage', 'carried', 'carter', 'carter', 'carter', 'carter', 'case', 'case', 'case', 'cases', 'cases', 'cases', 'catch', 'catching', 'catherine', 'catherine', 'catherine', 'catherine', 'caught', 'caught', 'caught', 'cautious', 'celerity', 'censure', 'censure', 'censuring', 'certain', 'certain', 'certain', 'certain', 'certain', 'certainly', 'certainly', 'certainly', 'certainly', 'certainly', 'certainly', 'certainly', 'certainly', 'certainly', 'certainly', 'certainly', 'certainly', 'certainly', 'certainly', 'chaise', 'chaise', 'chaise', 'chaise', 'chance', 'chance', 'chance', 'chance', 'chance', 'chance', 'change', 'chapter', 'chapter', 'chapter', 'chapter', 'chapter', 'chapter', 'chapter', 'chapter', 'chapter', 'character', 'character', 'character', 'character', 'character', 'character', 'character', 'character', 'character', 'characterbingley', 'characteristic', 'characteristic', 'characters', 'charles', 'charles', 'charles', 'charles', 'charlotte', 'charlotte', 'charlotte', 'charlotte', 'charlotte', 'charlotte', 'charlotte', 'charlotte', 'charlotte', 'charm', 'charming', 'charming', 'charming', 'charming', 'charming', 'charming', 'charming', 'charmingly', 'cheapside', 'cheapside', 'cheating', 'check', 'checked', 'cheerful', 'cheerfulness', 'cherish', 'chief', 'chiefly', 'child', 'children', 'children', 'children', 'children', 'children', 'choice', 'choice', 'chose', 'chose', 'chose', 'chuse', 'chuse', 'chuses', 'chuses', 'circulation', 'circumspection', 'circumstance', 'circumstance', 'circumstance', 'civil', 'civil', 'civil', 'civil', 'civil', 'civility', 'clarkes', 'clear', 'clerk', 'clever', 'clever', 'clever', 'clock', 'close', 'closed', 'closed', 'clothes', 'coach', 'coat', 'coat', 'coffee', 'coincided', 'cold', 'cold', 'cold', 'cold', 'coldly', 'colds', 'collect', 'collection', 'collection', 'collection', 'colonel', 'colonel', 'colonel', 'colonel', 'colonel', 'colonel', 'colour', 'come', 'come', 'come', 'come', 'come', 'come', 'come', 'come', 'come', 'come', 'comers', 'comes', 'comes', 'comfort', 'comfort', 'comforted', 'coming', 'coming', 'coming', 'coming', 'command', 'commendation', 'commendations', 'commerce', 'common', 'common', 'common', 'common', 'communicate', 'companion', 'companion', 'company', 'company', 'company', 'comparative', 'compared', 'comparison', 'compass', 'compassion', 'compassion', 'compassion', 'compassionate', 'complacency', 'complacency', 'complaints', 'complaisance', 'complete', 'complete', 'complexion', 'complexion', 'complied', 'compliment', 'compliment', 'compliment', 'compliment', 'compliment', 'compliment', 'compliment', 'compliment', 'compliments', 'comply', 'complying', 'composure', 'composure', 'comprehend', 'comprehend', 'comprehend', 'comprehend', 'conceal', 'conceals', 'conceit', 'conceited', 'conceited', 'conceited', 'conceited', 'conceive', 'concern', 'concern', 'concerto', 'conclude', 'condescend', 'conduct', 'confined', 'confusion', 'conjecture', 'conjecturing', 'connections', 'connections', 'connections', 'consent', 'consented', 'consequence', 'consequence', 'consequence', 'consequently', 'consider', 'consider', 'consider', 'consider', 'consider', 'consider', 'consider', 'consider', 'consider', 'consideration', 'consideration', 'considered', 'considered', 'considered', 'considering', 'considering', 'consisted', 'consisted', 'consolation', 'contain', 'contempt', 'contempt', 'contents', 'continually', 'continue', 'continue', 'continued', 'continued', 'continued', 'continued', 'continued', 'continued', 'continued', 'continued', 'continued', 'continued', 'contrary', 'contrary', 'contrast', 'contrast', 'contrivance', 'contrive', 'contrived', 'convenient', 'conversation', 'conversation', 'conversation', 'conversation', 'conversation', 'conversation', 'conversation', 'conversation', 'converse', 'conversing', 'conversing', 'convert', 'converting', 'convey', 'conviction', 'convinced', 'convinced', 'convinced', 'convinced', 'convinced', 'convinced', 'convinced', 'convinced', 'cool', 'coolly', 'copied', 'cordial', 'correspondents', 'cough', 'cough', 'coughing', 'coughs', 'could', 'could', 'could', 'could', 'could', 'could', 'could', 'could', 'could', 'could', 'could', 'could', 'could', 'could', 'could', 'could', 'could', 'could', 'could', 'could', 'could', 'could', 'could', 'could', 'could', 'could', 'could', 'could', 'could', 'could', 'could', 'could', 'could', 'could', 'could', 'could', 'could', 'could', 'could', 'could', 'countenance', 'countenance', 'countenance', 'countenance', 'countenance', 'countenance', 'country', 'country', 'country', 'country', 'country', 'country', 'country', 'country', 'country', 'country', 'country', 'country', 'country', 'country', 'country', 'country', 'county', 'county', 'couple', 'course', 'course', 'course', 'course', 'courses', 'courteous', 'cousin', 'cover', 'covering', 'created', 'creature', 'creature', 'creature', 'credit', 'credit', 'credit', 'credit', 'cried', 'cried', 'cried', 'cried', 'cried', 'cried', 'cried', 'cried', 'cried', 'cried', 'cried', 'cried', 'cried', 'cried', 'cried', 'cried', 'cried', 'cried', 'cried', 'cried', 'cried', 'cried', 'cried', 'critical', 'criticise', 'crossing', 'crown', 'cruel', 'cunning', 'cure', 'curiosity', 'curious', 'dance', 'dance', 'dance', 'dance', 'dance', 'dance', 'dance', 'dance', 'dance', 'dance', 'dance', 'dance', 'dance', 'dance', 'dance', 'dance', 'dance', 'dance', 'danced', 'danced', 'danced', 'danced', 'danced', 'danced', 'danced', 'danced', 'danced', 'danced', 'dances', 'dances', 'dancing', 'dancing', 'dancing', 'dancing', 'dancing', 'dancing', 'dancing', 'dancingi', 'dancingmr', 'danger', 'danger', 'danger', 'dangerous', 'darcy', 'darcy', 'darcy', 'darcy', 'darcy', 'darcy', 'darcy', 'darcy', 'darcy', 'darcy', 'darcy', 'darcy', 'darcy', 'darcy', 'darcy', 'darcy', 'darcy', 'darcy', 'darcy', 'darcy', 'darcy', 'darcy', 'darcy', 'darcy', 'darcy', 'darcy', 'darcy', 'darcy', 'darcy', 'darcy', 'darcy', 'darcy', 'darcy', 'darcy', 'darcy', 'darcy', 'darcy', 'darcy', 'darcy', 'darcy', 'darcy', 'darcy', 'darcy', 'darcy', 'darcy', 'darcy', 'darcy', 'darcy', 'darcy', 'darcy', 'darcy', 'darcy', 'darcy', 'darcy', 'darcy', 'darcy', 'darcy', 'darcy', 'darcy', 'darcy', 'darcy', 'darcy', 'darcy', 'darcy', 'darcy', 'darcy', 'darcy', 'darcy', 'darcys', 'darcys', 'darcythere', 'dare', 'dare', 'dare', 'dare', 'dare', 'dare', 'dare', 'dare', 'dare', 'dare', 'dare', 'dark', 'dark', 'daughter', 'daughter', 'daughter', 'daughter', 'daughters', 'daughters', 'daughters', 'daughters', 'daughters', 'daughters', 'daughters', 'daughters', 'daughters', 'daughters', 'daughters', 'daughters', 'daughters', 'daughters', 'daughters', 'day', 'day', 'day', 'day', 'day', 'day', 'day', 'day', 'day', 'day', 'day', 'day', 'day', 'day', 'day', 'days', 'days', 'days', 'days', 'deal', 'deal', 'deal', 'deal', 'deal', 'deal', 'deal', 'deal', 'deal', 'deal', 'dear', 'dear', 'dear', 'dear', 'dear', 'dear', 'dear', 'dear', 'dear', 'dear', 'dear', 'dear', 'dear', 'dear', 'dear', 'dear', 'dear', 'dear', 'dear', 'dear', 'dear', 'dear', 'dear', 'dear', 'dear', 'dear', 'dear', 'dear', 'dear', 'dearest', 'deceitful', 'decided', 'decided', 'decided', 'decidedly', 'declare', 'declare', 'declare', 'declared', 'declared', 'declared', 'declared', 'decline', 'declined', 'declined', 'decorum', 'deep', 'deep', 'deep', 'deeply', 'default', 'defects', 'defects', 'defer', 'defer', 'deference', 'deferred', 'deficiency', 'deficient', 'deficient', 'defied', 'degree', 'degree', 'degree', 'degree', 'deigned', 'delay', 'delicate', 'delicate', 'delight', 'delight', 'delighted', 'delighted', 'delighted', 'delighted', 'delighted', 'delighted', 'delighted', 'delighted', 'delighted', 'delightful', 'delightful', 'delightful', 'delightful', 'delightful', 'delightfully', 'denial', 'denominated', 'deny', 'departed', 'depend', 'depend', 'depend', 'dependant', 'derbyshire', 'derbyshire', 'describe', 'description', 'description', 'description', 'deserve', 'deserve', 'deserved', 'deserves', 'design', 'design', 'design', 'design', 'design', 'designto', 'desirable', 'desirable', 'desire', 'desire', 'desire', 'desire', 'desire', 'desire', 'desired', 'desired', 'desired', 'desiring', 'despicable', 'despise', 'despises', 'despising', 'detected', 'determine', 'determine', 'determined', 'determined', 'determined', 'determined', 'determining', 'detest', 'detest', 'develope', 'device', 'dialogue', 'did', 'did', 'did', 'did', 'did', 'did', 'did', 'did', 'did', 'did', 'did', 'did', 'did', 'did', 'did', 'did', 'did', 'did', 'did', 'did', 'did', 'did', 'did', 'did', 'did', 'did', 'did', 'did', 'did', 'did', 'did', 'did', 'did', 'didi', 'die', 'die', 'differ', 'difference', 'different', 'different', 'different', 'different', 'differently', 'difficult', 'difficult', 'dine', 'dine', 'dine', 'dine', 'dined', 'dined', 'dining', 'diningparlour', 'dinner', 'dinner', 'dinner', 'dinner', 'dinner', 'dinners', 'directed', 'directions', 'directly', 'directly', 'dirt', 'dirt', 'dirty', 'dirty', 'dirty', 'disadvantage', 'disagreeable', 'disagreeable', 'disagreeable', 'disagreeable', 'disappointed', 'disarm', 'disclosed', 'discomposure', 'disconcerted', 'disconcerted', 'discontented', 'discover', 'discovered', 'discovered', 'discovered', 'discovered', 'discovery', 'discretion', 'discretion', 'discuss', 'disengaged', 'disgust', 'disgust', 'dish', 'dislike', 'dislike', 'dislike', 'disliked', 'disliked', 'dislikes', 'disliking', 'dispatched', 'dispatched', 'dispatched', 'display', 'disposed', 'disposed', 'disposed', 'disposition', 'disposition', 'disposition', 'disposition', 'disposition', 'dispositions', 'disputes', 'dissatisfied', 'distance', 'distance', 'distant', 'distant', 'distinction', 'distinguished', 'distinguishing', 'divided', 'do', 'do', 'do', 'do', 'do', 'do', 'do', 'do', 'do', 'do', 'do', 'do', 'do', 'do', 'do', 'do', 'do', 'do', 'do', 'do', 'do', 'do', 'do', 'do', 'do', 'do', 'do', 'do', 'do', 'do', 'do', 'do', 'do', 'do', 'do', 'do', 'do', 'do', 'do', 'do', 'do', 'do', 'do', 'do', 'do', 'do', 'do', 'do', 'do', 'do', 'do', 'do', 'do', 'do', 'do', 'do', 'do', 'do', 'do', 'do', 'do', 'do', 'do', 'do', 'do', 'do', 'does', 'does', 'does', 'does', 'does', 'does', 'does', 'does', 'does', 'does', 'does', 'does', 'does', 'does', 'does', 'does', 'does', 'does', 'does', 'doing', 'doing', 'doing', 'doing', 'domestic', 'done', 'done', 'dont', 'door', 'door', 'door', 'doubt', 'doubt', 'doubt', 'doubt', 'doubt', 'doubtful', 'down', 'down', 'down', 'down', 'down', 'down', 'down', 'downs', 'dozen', 'draughts', 'draw', 'drawing', 'drawing', 'drawingroom', 'drawingroom', 'dress', 'dresses', 'drew', 'drew', 'drew', 'drew', 'drew', 'drink', 'drink', 'drink', 'driving', 'ductility', 'due', 'duets', 'during', 'during', 'during', 'duty', 'dying', 'each', 'each', 'each', 'each', 'each', 'each', 'eagerly', 'eagerly', 'eagerly', 'ear', 'earliest', 'early', 'early', 'early', 'early', 'early', 'earnestly', 'ease', 'ease', 'ease', 'easily', 'easily', 'easiness', 'easiness', 'easy', 'easy', 'easy', 'easy', 'easy', 'easyhe', 'eat', 'educated', 'efficacy', 'effusions', 'either', 'either', 'either', 'either', 'either', 'elated', 'eldest', 'eldest', 'eldest', 'eldest', 'eldest', 'eldest', 'eldest', 'elegance', 'elegant', 'elegant', 'eliza', 'eliza', 'eliza', 'eliza', 'eliza', 'eliza', 'eliza', 'eliza', 'eliza', 'elizabeth', 'elizabeth', 'elizabeth', 'elizabeth', 'elizabeth', 'elizabeth', 'elizabeth', 'elizabeth', 'elizabeth', 'elizabeth', 'elizabeth', 'elizabeth', 'elizabeth', 'elizabeth', 'elizabeth', 'elizabeth', 'elizabeth', 'elizabeth', 'elizabeth', 'elizabeth', 'elizabeth', 'elizabeth', 'elizabeth', 'elizabeth', 'elizabeth', 'elizabeth', 'elizabeth', 'elizabeth', 'elizabeth', 'elizabeth', 'elizabeth', 'elizabeth', 'elizabeth', 'elizabeth', 'elizabeth', 'elizabeth', 'elizabeth', 'elizabeth', 'elizabeth', 'elizabeth', 'elizabeth', 'elizabeth', 'elizabeth', 'elizabeth', 'elizabeth', 'elizabeth', 'elizabeth', 'elizabeth', 'elizabeth', 'elizabeth', 'elizabeth', 'elizabeth', 'elizabeth', 'elizabeth', 'elizabeth', 'elizabeth', 'elizabeth', 'elizabeth', 'elizabeth', 'elizabeth', 'elizabeth', 'elizabeth', 'elizabeth', 'elizabeth', 'elizabeth', 'elizabeth', 'elizabeth', 'elizabeth', 'elizabeth', 'elizabeths', 'elizabeths', 'elizato', 'else', 'else', 'else', 'else', 'elsewhere', 'eluded', 'eminent', 'emphatic', 'employ', 'employed', 'employed', 'employed', 'enable', 'enabled', 'encouragement', 'end', 'end', 'end', 'end', 'end', 'end', 'endeared', 'endeavour', 'endeavour', 'endeavour', 'ended', 'ended', 'enduring', 'energetic', 'energybut', 'engage', 'engaged', 'engaged', 'engaged', 'engagement', 'england', 'england', 'england', 'engrossed', 'engrossed', 'enjoy', 'enjoyment', 'enough', 'enough', 'enough', 'enough', 'enough', 'enough', 'enough', 'enough', 'enough', 'enough', 'enough', 'enough', 'enough', 'enough', 'enoughone', 'enquired', 'enquiries', 'enquiries', 'enquiries', 'ensign', 'ensued', 'entailed', 'entered', 'entered', 'entering', 'entering', 'entertain', 'entertain', 'entertained', 'entertained', 'entirely', 'entirely', 'entirely', 'entirely', 'entitled', 'entrance', 'entrance', 'entrance', 'entreat', 'entreaties', 'envied', 'equal', 'equal', 'equal', 'equal', 'equally', 'equally', 'equally', 'equally', 'equally', 'escape', 'escaped', 'especially', 'established', 'established', 'establishment', 'estate', 'estate', 'estate', 'estate', 'esteemed', 'estimable', 'estimable', 'estimation', 'even', 'even', 'even', 'evening', 'evening', 'evening', 'evening', 'evening', 'evening', 'evening', 'evening', 'evening', 'evening', 'evening', 'evening', 'evening', 'evening', 'evening', 'evening', 'evenings', 'evenings', 'evenings', 'evenings', 'evenness', 'event', 'event', 'ever', 'ever', 'ever', 'ever', 'ever', 'ever', 'ever', 'ever', 'ever', 'ever', 'ever', 'every', 'every', 'every', 'every', 'every', 'every', 'every', 'every', 'every', 'every', 'every', 'every', 'every', 'every', 'every', 'every', 'every', 'every', 'every', 'every', 'every', 'every', 'every', 'every', 'every', 'every', 'every', 'every', 'every', 'evident', 'evident', 'evident', 'exact', 'exactly', 'exactly', 'exactly', 'exactly', 'exaggeration', 'examined', 'exceedingly', 'excel', 'excellence', 'excellent', 'excellent', 'excellent', 'except', 'excepting', 'excepting', 'exception', 'excessive', 'excessively', 'excessively', 'exclamation', 'exclusion', 'excuse', 'excuse', 'execution', 'exercise', 'exercise', 'exercisea', 'exertion', 'exhibition', 'expect', 'expect', 'expect', 'expectations', 'expected', 'expected', 'expected', 'expected', 'expense', 'experience', 'explain', 'exposing', 'expostulation', 'express', 'express', 'express', 'express', 'expressed', 'expressed', 'expressed', 'expressing', 'expression', 'expression', 'expressions', 'expressions', 'expressive', 'exquisite', 'extensive', 'extent', 'extort', 'extracts', 'extraordinary', 'extraordinary', 'extremely', 'extremely', 'extremely', 'eye', 'eye', 'eye', 'eye', 'eyelashes', 'eyes', 'eyes', 'eyes', 'eyes', 'eyes', 'eyes', 'eyes', 'eyes', 'eyes', 'eyes', 'eyes', 'face', 'face', 'face', 'face', 'fact', 'fact', 'failing', 'failure', 'faithful', 'fall', 'fall', 'falling', 'falling', 'familiar', 'families', 'families', 'family', 'family', 'family', 'family', 'family', 'family', 'family', 'family', 'family', 'family', 'fancied', 'fancied', 'fancy', 'fancy', 'fancy', 'fancy', 'fancying', 'far', 'far', 'far', 'far', 'far', 'farm', 'farm', 'fashion', 'fashion', 'fashion', 'fashion', 'fashionable', 'fast', 'fast', 'fastidious', 'fastidious', 'father', 'father', 'father', 'father', 'father', 'father', 'father', 'father', 'father', 'father', 'father', 'father', 'father', 'father', 'fatigued', 'fault', 'favour', 'favour', 'favourable', 'favourable', 'favourably', 'favourite', 'favouriteand', 'fear', 'fear', 'fears', 'feature', 'features', 'feel', 'feel', 'feeling', 'feeling', 'feeling', 'feeling', 'feeling', 'feelings', 'feelings', 'feelings', 'feelings', 'feels', 'felicity', 'felicity', 'felicity', 'felicity', 'fellow', 'fellow', 'felt', 'felt', 'felt', 'felt', 'felt', 'felt', 'felt', 'fetch', 'feverish', 'feverish', 'few', 'few', 'few', 'few', 'few', 'few', 'few', 'few', 'few', 'field', 'field', 'fifteen', 'fifteen', 'fifth', 'figure', 'figure', 'fill', 'find', 'find', 'find', 'find', 'find', 'find', 'finding', 'fine', 'fine', 'fine', 'fine', 'fine', 'fine', 'fine', 'fine', 'fine', 'fine', 'fine', 'fine', 'fine', 'finer', 'finery', 'finish', 'finish', 'firmest', 'first', 'first', 'first', 'first', 'first', 'first', 'first', 'first', 'first', 'first', 'first', 'first', 'first', 'first', 'fit', 'fit', 'fit', 'five', 'five', 'five', 'five', 'five', 'five', 'five', 'five', 'five', 'five', 'five', 'five', 'fixed', 'fixed', 'fixed', 'fixed', 'fixing', 'fixing', 'flat', 'flatter', 'flatter', 'flattered', 'flow', 'flowed', 'flying', 'follies', 'follow', 'followed', 'followed', 'followed', 'followed', 'following', 'following', 'following', 'follows', 'fond', 'fond', 'food', 'foolish', 'foolish', 'footman', 'for', 'for', 'for', 'for', 'for', 'for', 'for', 'for', 'for', 'for', 'for', 'for', 'for', 'for', 'for', 'for', 'for', 'for', 'for', 'for', 'for', 'for', 'for', 'for', 'for', 'for', 'for', 'for', 'for', 'for', 'for', 'for', 'for', 'for', 'for', 'for', 'for', 'for', 'for', 'for', 'for', 'for', 'for', 'for', 'for', 'for', 'for', 'for', 'for', 'for', 'for', 'for', 'for', 'for', 'for', 'for', 'for', 'for', 'for', 'for', 'for', 'for', 'for', 'for', 'for', 'for', 'for', 'for', 'for', 'for', 'for', 'for', 'for', 'for', 'for', 'for', 'for', 'for', 'for', 'for', 'for', 'for', 'for', 'for', 'for', 'for', 'for', 'for', 'for', 'for', 'for', 'for', 'for', 'for', 'for', 'for', 'for', 'for', 'for', 'for', 'for', 'for', 'for', 'for', 'for', 'for', 'for', 'for', 'for', 'for', 'for', 'for', 'for', 'for', 'for', 'for', 'for', 'for', 'for', 'for', 'for', 'for', 'for', 'for', 'for', 'for', 'for', 'for', 'for', 'for', 'for', 'forbidding', 'forced', 'forced', 'forget', 'forget', 'forgetting', 'forgive', 'form', 'form', 'form', 'formality', 'formed', 'former', 'former', 'former', 'formerly', 'forms', 'forster', 'forster', 'forster', 'forster', 'forster', 'fortnight', 'fortnight', 'fortnight', 'fortnights', 'fortunate', 'fortunate', 'fortunate', 'fortune', 'fortune', 'fortune', 'fortune', 'fortune', 'fortune', 'fortune', 'fortune', 'fortune', 'fortune', 'forward', 'forward', 'found', 'found', 'found', 'found', 'found', 'found', 'found', 'four', 'four', 'four', 'four', 'four', 'four', 'four', 'four', 'four', 'four', 'four', 'four', 'four', 'four', 'fourth', 'fourth', 'foxhounds', 'freelya', 'frequent', 'frequently', 'fretfully', 'friend', 'friend', 'friend', 'friend', 'friend', 'friend', 'friend', 'friend', 'friend', 'friend', 'friend', 'friend', 'friend', 'friend', 'friend', 'friend', 'friend', 'friend', 'friend', 'friend', 'friend', 'friendalways', 'friendly', 'friends', 'friends', 'friends', 'friends', 'friends', 'friends', 'friendship', 'friendship', 'friendyou', 'from', 'from', 'from', 'from', 'from', 'from', 'from', 'from', 'from', 'from', 'from', 'from', 'from', 'from', 'from', 'from', 'from', 'from', 'from', 'from', 'from', 'from', 'from', 'from', 'from', 'from', 'from', 'from', 'from', 'from', 'from', 'from', 'from', 'from', 'from', 'from', 'from', 'from', 'from', 'furnish', 'gaily', 'gained', 'gallant', 'gallantry', 'gallantry', 'gallery', 'game', 'game', 'gardiners', 'gave', 'gave', 'gave', 'general', 'general', 'general', 'general', 'general', 'general', 'general', 'general', 'general', 'general', 'general', 'general', 'generally', 'generally', 'generation', 'generations', 'genius', 'genteel', 'gentleman', 'gentleman', 'gentleman', 'gentleman', 'gentleman', 'gentleman', 'gentlemanlike', 'gentlemen', 'gentlemen', 'gentlemen', 'gentlemen', 'gentlemen', 'gentlemen', 'get', 'get', 'get', 'get', 'get', 'get', 'get', 'get', 'get', 'getting', 'getting', 'girl', 'girl', 'girl', 'girl', 'girl', 'girl', 'girls', 'girls', 'girls', 'girls', 'girls', 'girls', 'girls', 'girls', 'girls', 'girls', 'girls', 'girls', 'girls', 'girls', 'girls', 'girls', 'girls', 'girls', 'give', 'give', 'give', 'give', 'give', 'give', 'give', 'give', 'give', 'given', 'given', 'given', 'given', 'given', 'given', 'given', 'giving', 'giving', 'giving', 'giving', 'giving', 'giving', 'giving', 'glad', 'glad', 'glad', 'glad', 'glancing', 'glowing', 'go', 'go', 'go', 'go', 'go', 'go', 'go', 'go', 'go', 'go', 'go', 'go', 'go', 'go', 'go', 'go', 'go', 'goand', 'gods', 'goes', 'going', 'going', 'going', 'going', 'going', 'gone', 'gone', 'gone', 'gone', 'gone', 'good', 'good', 'good', 'good', 'good', 'good', 'good', 'good', 'good', 'good', 'good', 'good', 'good', 'good', 'good', 'good', 'good', 'good', 'good', 'good', 'good', 'good', 'good', 'good', 'good', 'good', 'good', 'good', 'good', 'good', 'good', 'goodhumoured', 'got', 'got', 'gown', 'gown', 'graciousness', 'grantleys', 'gratified', 'gratified', 'gratitude', 'gratitude', 'gratitude', 'grave', 'gravel', 'gravely', 'great', 'great', 'great', 'great', 'great', 'great', 'great', 'great', 'great', 'great', 'great', 'great', 'great', 'great', 'great', 'great', 'great', 'great', 'great', 'great', 'great', 'great', 'great', 'great', 'great', 'great', 'great', 'greater', 'greatest', 'greatest', 'greatly', 'greatly', 'grew', 'grieved', 'grieved', 'groupand', 'groupd', 'grow', 'grow', 'grown', 'grown', 'guard', 'guarded', 'guess', 'guess', 'guest', 'guided', 'habit', 'habit', 'hack', 'had', 'had', 'had', 'had', 'had', 'had', 'had', 'had', 'had', 'had', 'had', 'had', 'had', 'had', 'had', 'had', 'had', 'had', 'had', 'had', 'had', 'had', 'had', 'had', 'had', 'had', 'had', 'had', 'had', 'had', 'had', 'had', 'had', 'had', 'had', 'had', 'had', 'had', 'had', 'had', 'had', 'had', 'had', 'had', 'had', 'had', 'had', 'had', 'had', 'had', 'had', 'had', 'had', 'had', 'had', 'had', 'had', 'had', 'had', 'had', 'had', 'had', 'had', 'had', 'had', 'had', 'had', 'had', 'had', 'had', 'had', 'had', 'had', 'had', 'had', 'had', 'had', 'had', 'had', 'had', 'had', 'had', 'had', 'had', 'had', 'had', 'had', 'had', 'had', 'had', 'had', 'had', 'had', 'had', 'had', 'had', 'had', 'had', 'had', 'had', 'had', 'had', 'had', 'had', 'had', 'had', 'had', 'had', 'had', 'had', 'had', 'had', 'had', 'had', 'had', 'had', 'had', 'had', 'had', 'had', 'had', 'had', 'had', 'had', 'had', 'had', 'had', 'hair', 'half', 'half', 'half', 'half', 'half', 'half', 'half', 'half', 'half', 'half', 'half', 'half', 'half', 'half', 'half', 'half', 'hand', 'hand', 'handsome', 'handsome', 'handsome', 'handsome', 'handsome', 'handsome', 'handsome', 'handsome', 'handsome', 'handsome', 'handsome', 'handsome', 'handsomer', 'handwriting', 'happens', 'happens', 'happily', 'happiness', 'happiness', 'happiness', 'happiness', 'happiness', 'happy', 'happy', 'hard', 'hard', 'hardly', 'hardly', 'hardly', 'hardly', 'hardly', 'harp', 'has', 'has', 'has', 'has', 'has', 'has', 'has', 'has', 'has', 'has', 'has', 'has', 'has', 'has', 'has', 'has', 'has', 'has', 'has', 'has', 'has', 'has', 'has', 'has', 'has', 'has', 'has', 'has', 'haste', 'haste', 'haste', 'hasty', 'hat', 'hate', 'hating', 'haughty', 'have', 'have', 'have', 'have', 'have', 'have', 'have', 'have', 'have', 'have', 'have', 'have', 'have', 'have', 'have', 'have', 'have', 'have', 'have', 'have', 'have', 'have', 'have', 'have', 'have', 'have', 'have', 'have', 'have', 'have', 'have', 'have', 'have', 'have', 'have', 'have', 'have', 'have', 'have', 'have', 'have', 'have', 'have', 'have', 'have', 'have', 'have', 'have', 'have', 'have', 'have', 'have', 'have', 'have', 'have', 'have', 'have', 'have', 'have', 'have', 'have', 'have', 'have', 'have', 'have', 'have', 'have', 'have', 'have', 'have', 'have', 'have', 'have', 'have', 'have', 'have', 'have', 'have', 'have', 'have', 'have', 'have', 'have', 'have', 'have', 'have', 'having', 'having', 'having', 'having', 'having', 'having', 'having', 'having', 'having', 'he', 'he', 'he', 'he', 'he', 'he', 'he', 'he', 'he', 'he', 'he', 'he', 'he', 'he', 'he', 'he', 'he', 'he', 'he', 'he', 'he', 'he', 'he', 'he', 'he', 'he', 'he', 'he', 'he', 'he', 'he', 'he', 'he', 'he', 'he', 'he', 'he', 'he', 'he', 'he', 'he', 'he', 'he', 'he', 'he', 'he', 'he', 'he', 'he', 'he', 'he', 'he', 'he', 'he', 'he', 'he', 'he', 'he', 'he', 'he', 'he', 'he', 'he', 'he', 'he', 'he', 'he', 'he', 'he', 'he', 'he', 'he', 'he', 'he', 'he', 'he', 'he', 'he', 'he', 'he', 'he', 'he', 'he', 'he', 'he', 'he', 'he', 'he', 'he', 'he', 'he', 'he', 'he', 'he', 'he', 'he', 'he', 'he', 'he', 'he', 'he', 'he', 'he', 'he', 'he', 'he', 'he', 'he', 'he', 'he', 'he', 'he', 'he', 'he', 'he', 'he', 'he', 'he', 'he', 'he', 'he', 'he', 'he', 'he', 'he', 'he', 'he', 'he', 'he', 'he', 'he', 'he', 'he', 'he', 'he', 'he', 'he', 'he', 'he', 'he', 'he', 'he', 'he', 'he', 'he', 'he', 'he', 'he', 'he', 'he', 'he', 'he', 'he', 'he', 'he', 'he', 'he', 'he', 'he', 'he', 'he', 'he', 'he', 'he', 'he', 'he', 'he', 'he', 'he', 'he', 'head', 'head', 'head', 'headache', 'health', 'healthy', 'hear', 'hear', 'hear', 'hear', 'hear', 'hear', 'hear', 'hear', 'hear', 'hear', 'heard', 'heard', 'heard', 'heard', 'heard', 'heard', 'heard', 'heard', 'heard', 'heard', 'hearing', 'hearing', 'hearing', 'hearing', 'heart', 'heart', 'heart', 'heart', 'heart', 'heart', 'heart', 'heartily', 'hearty', 'hearty', 'heavens', 'height', 'height', 'heirs', 'held', 'help', 'help', 'help', 'help', 'help', 'hepoor', 'her', 'her', 'her', 'her', 'her', 'her', 'her', 'her', 'her', 'her', 'her', 'her', 'her', 'her', 'her', 'her', 'her', 'her', 'her', 'her', 'her', 'her', 'her', 'her', 'her', 'her', 'her', 'her', 'her', 'her', 'her', 'her', 'her', 'her', 'her', 'her', 'her', 'her', 'her', 'her', 'her', 'her', 'her', 'her', 'her', 'her', 'her', 'her', 'her', 'her', 'her', 'her', 'her', 'her', 'her', 'her', 'her', 'her', 'her', 'her', 'her', 'her', 'her', 'her', 'her', 'her', 'her', 'her', 'her', 'her', 'her', 'her', 'her', 'her', 'her', 'her', 'her', 'her', 'her', 'her', 'her', 'her', 'her', 'her', 'her', 'her', 'her', 'her', 'her', 'her', 'her', 'her', 'her', 'her', 'her', 'her', 'her', 'her', 'her', 'her', 'her', 'her', 'her', 'her', 'her', 'her', 'her', 'her', 'her', 'her', 'her', 'her', 'her', 'her', 'her', 'her', 'her', 'her', 'her', 'her', 'her', 'her', 'her', 'her', 'her', 'her', 'her', 'her', 'her', 'her', 'her', 'her', 'her', 'her', 'her', 'her', 'her', 'her', 'her', 'her', 'her', 'her', 'her', 'her', 'her', 'her', 'her', 'her', 'her', 'her', 'her', 'her', 'her', 'her', 'her', 'her', 'her', 'her', 'her', 'her', 'her', 'her', 'her', 'her', 'her', 'her', 'her', 'her', 'her', 'her', 'her', 'her', 'her', 'her', 'her', 'her', 'her', 'her', 'her', 'her', 'her', 'her', 'her', 'her', 'her', 'her', 'her', 'her', 'her', 'her', 'her', 'her', 'her', 'her', 'her', 'her', 'her', 'her', 'her', 'her', 'her', 'her', 'her', 'her', 'her', 'her', 'her', 'her', 'her', 'her', 'her', 'her', 'her', 'her', 'her', 'her', 'her', 'her', 'her', 'her', 'her', 'her', 'her', 'her', 'her', 'her', 'her', 'her', 'her', 'her', 'her', 'her', 'her', 'her', 'her', 'her', 'her', 'her', 'her', 'her', 'her', 'her', 'her', 'her', 'her', 'her', 'her', 'her', 'her', 'her', 'her', 'her', 'her', 'her', 'her', 'her', 'her', 'her', 'her', 'her', 'her', 'her', 'her', 'her', 'her', 'her', 'herbut', 'here', 'here', 'here', 'here', 'here', 'here', 'here', 'herindeed', 'herself', 'herself', 'herself', 'herself', 'herself', 'herself', 'herself', 'herself', 'herself', 'herself', 'herself', 'herself', 'herself', 'herself', 'herself', 'herself', 'herself', 'herself', 'herself', 'herself', 'herself', 'herself', 'herself', 'herself', 'hertfordshire', 'hide', 'high', 'high', 'high', 'high', 'higher', 'highest', 'highly', 'highly', 'highly', 'him', 'him', 'him', 'him', 'him', 'him', 'him', 'him', 'him', 'him', 'him', 'him', 'him', 'him', 'him', 'him', 'him', 'him', 'him', 'him', 'him', 'him', 'him', 'him', 'him', 'him', 'him', 'him', 'him', 'him', 'him', 'him', 'him', 'him', 'him', 'him', 'him', 'him', 'him', 'him', 'him', 'him', 'him', 'him', 'him', 'him', 'him', 'him', 'him', 'him', 'him', 'him', 'him', 'him', 'him', 'him', 'him', 'him', 'him', 'him', 'him', 'him', 'him', 'him', 'him', 'him', 'him', 'him', 'him', 'him', 'him', 'himself', 'himself', 'himself', 'himself', 'himself', 'himself', 'himself', 'himself', 'himself', 'himself', 'hint', 'hints', 'his', 'his', 'his', 'his', 'his', 'his', 'his', 'his', 'his', 'his', 'his', 'his', 'his', 'his', 'his', 'his', 'his', 'his', 'his', 'his', 'his', 'his', 'his', 'his', 'his', 'his', 'his', 'his', 'his', 'his', 'his', 'his', 'his', 'his', 'his', 'his', 'his', 'his', 'his', 'his', 'his', 'his', 'his', 'his', 'his', 'his', 'his', 'his', 'his', 'his', 'his', 'his', 'his', 'his', 'his', 'his', 'his', 'his', 'his', 'his', 'his', 'his', 'his', 'his', 'his', 'his', 'his', 'his', 'his', 'his', 'his', 'his', 'his', 'his', 'his', 'his', 'his', 'his', 'his', 'his', 'his', 'his', 'his', 'his', 'his', 'his', 'his', 'his', 'his', 'his', 'his', 'his', 'his', 'his', 'his', 'his', 'his', 'his', 'his', 'his', 'his', 'his', 'his', 'his', 'his', 'his', 'his', 'his', 'his', 'his', 'his', 'his', 'his', 'his', 'his', 'his', 'his', 'his', 'his', 'his', 'his', 'his', 'his', 'his', 'his', 'his', 'his', 'his', 'his', 'his', 'his', 'his', 'his', 'his', 'his', 'his', 'his', 'his', 'his', 'his', 'his', 'his', 'his', 'his', 'his', 'his', 'his', 'his', 'his', 'his', 'his', 'holding', 'home', 'home', 'home', 'home', 'home', 'home', 'home', 'honestly', 'honour', 'honour', 'honour', 'honour', 'honour', 'honour', 'hope', 'hope', 'hope', 'hope', 'hope', 'hope', 'hope', 'hope', 'hope', 'hoped', 'hoped', 'hoped', 'hopes', 'hopes', 'hopes', 'hopes', 'hopes', 'horrid', 'horse', 'horse', 'horseback', 'horseback', 'horses', 'horses', 'horses', 'horses', 'horsewoman', 'hour', 'hour', 'hour', 'hour', 'hours', 'hours', 'hours', 'hours', 'house', 'house', 'house', 'house', 'house', 'house', 'house', 'house', 'house', 'house', 'house', 'house', 'housekeeper', 'housekeeping', 'housemaid', 'how', 'how', 'how', 'how', 'how', 'how', 'how', 'how', 'how', 'how', 'how', 'how', 'how', 'how', 'how', 'how', 'how', 'how', 'how', 'how', 'how', 'how', 'how', 'how', 'how', 'how', 'how', 'how', 'how', 'how', 'how', 'how', 'how', 'how', 'however', 'however', 'however', 'however', 'however', 'however', 'however', 'however', 'however', 'however', 'however', 'however', 'however', 'however', 'however', 'however', 'however', 'however', 'however', 'however', 'however', 'human', 'human', 'humility', 'humility', 'humour', 'humour', 'humour', 'humour', 'humoured', 'humoured', 'hundred', 'hurry', 'hurry', 'hurst', 'hurst', 'hurst', 'hurst', 'hurst', 'hurst', 'hurst', 'hurst', 'hurst', 'hurst', 'hurst', 'hurst', 'hurst', 'hurst', 'hurst', 'hurst', 'hurst', 'hurst', 'hurst', 'hursts', 'hursts', 'husband', 'husband', 'husband', 'husband', 'husband', 'husband', 'hypocritical', 'i', 'i', 'i', 'i', 'i', 'i', 'i', 'i', 'i', 'i', 'i', 'i', 'i', 'i', 'i', 'i', 'i', 'i', 'i', 'i', 'i', 'i', 'i', 'i', 'i', 'i', 'i', 'i', 'i', 'i', 'i', 'i', 'i', 'i', 'i', 'i', 'i', 'i', 'i', 'i', 'i', 'i', 'i', 'i', 'i', 'i', 'i', 'i', 'i', 'i', 'i', 'i', 'i', 'i', 'i', 'i', 'i', 'i', 'i', 'i', 'i', 'i', 'i', 'i', 'i', 'i', 'i', 'i', 'i', 'i', 'i', 'i', 'i', 'i', 'i', 'i', 'i', 'i', 'i', 'i', 'i', 'i', 'i', 'i', 'i', 'i', 'i', 'i', 'i', 'i', 'i', 'i', 'i', 'i', 'i', 'i', 'i', 'i', 'i', 'i', 'i', 'i', 'i', 'i', 'i', 'i', 'i', 'i', 'i', 'i', 'i', 'i', 'i', 'i', 'i', 'i', 'i', 'i', 'i', 'i', 'i', 'i', 'i', 'i', 'i', 'i', 'i', 'i', 'i', 'i', 'i', 'i', 'i', 'i', 'i', 'i', 'i', 'i', 'i', 'i', 'i', 'i', 'i', 'i', 'i', 'i', 'i', 'i', 'i', 'i', 'i', 'i', 'i', 'i', 'i', 'i', 'i', 'i', 'i', 'i', 'i', 'i', 'i', 'i', 'i', 'i', 'i', 'i', 'i', 'i', 'i', 'i', 'i', 'i', 'i', 'i', 'i', 'i', 'i', 'i', 'i', 'i', 'i', 'i', 'i', 'i', 'i', 'i', 'i', 'i', 'i', 'i', 'i', 'i', 'i', 'i', 'i', 'i', 'i', 'i', 'i', 'i', 'i', 'i', 'i', 'i', 'i', 'i', 'i', 'i', 'i', 'i', 'i', 'i', 'i', 'i', 'i', 'i', 'i', 'i', 'i', 'i', 'i', 'i', 'i', 'i', 'i', 'i', 'i', 'i', 'i', 'i', 'i', 'i', 'i', 'i', 'i', 'i', 'i', 'i', 'i', 'i', 'i', 'i', 'i', 'i', 'i', 'i', 'i', 'i', 'i', 'i', 'i', 'i', 'i', 'i', 'i', 'i', 'i', 'i', 'i', 'i', 'i', 'i', 'i', 'i', 'i', 'i', 'i', 'i', 'i', 'i', 'i', 'i', 'i', 'i', 'i', 'i', 'i', 'i', 'i', 'i', 'i', 'i', 'i', 'i', 'i', 'i', 'i', 'i', 'i', 'i', 'i', 'i', 'i', 'i', 'i', 'i', 'i', 'i', 'i', 'i', 'i', 'i', 'i', 'i', 'idea', 'idea', 'idea', 'idea', 'ideas', 'ideas', 'ideas', 'ideas', 'idle', 'if', 'if', 'if', 'if', 'if', 'if', 'if', 'if', 'if', 'if', 'if', 'if', 'if', 'if', 'if', 'if', 'if', 'if', 'if', 'if', 'if', 'if', 'if', 'if', 'if', 'if', 'if', 'if', 'if', 'if', 'if', 'if', 'if', 'if', 'if', 'if', 'if', 'if', 'if', 'if', 'if', 'if', 'if', 'if', 'if', 'if', 'if', 'if', 'if', 'if', 'if', 'if', 'if', 'if', 'if', 'if', 'if', 'if', 'if', 'if', 'if', 'ifbut', 'ignorant', 'ii', 'iii', 'ill', 'ill', 'ill', 'ill', 'ill', 'ill', 'ill', 'ill', 'ill', 'ill', 'ill', 'illness', 'illness', 'illtreatment', 'im', 'imaginable', 'imaginary', 'imagination', 'imagine', 'imagine', 'imagine', 'imagine', 'imitation', 'immediately', 'immediately', 'immediately', 'immediately', 'immediately', 'immediately', 'immediately', 'immediately', 'immediately', 'immediately', 'immediately', 'immediately', 'immediately', 'immediately', 'immediately', 'impatient', 'impatient', 'impatiently', 'impatiently', 'impatiently', 'imperfection', 'impertinence', 'impertinence', 'impertinent', 'impertinent', 'implied', 'importance', 'importance', 'important', 'impose', 'impossible', 'impossible', 'impossible', 'impossible', 'impossible', 'impressed', 'improvement', 'improvement', 'impulse', 'imputed', 'in', 'in', 'in', 'in', 'in', 'in', 'in', 'in', 'in', 'in', 'in', 'in', 'in', 'in', 'in', 'in', 'in', 'in', 'in', 'in', 'in', 'in', 'in', 'in', 'in', 'in', 'in', 'in', 'in', 'in', 'in', 'in', 'in', 'in', 'in', 'in', 'in', 'in', 'in', 'in', 'in', 'in', 'in', 'in', 'in', 'in', 'in', 'in', 'in', 'in', 'in', 'in', 'in', 'in', 'in', 'in', 'in', 'in', 'in', 'in', 'in', 'in', 'in', 'in', 'in', 'in', 'in', 'in', 'in', 'in', 'in', 'in', 'in', 'in', 'in', 'in', 'in', 'in', 'in', 'in', 'in', 'in', 'in', 'in', 'in', 'in', 'in', 'in', 'in', 'in', 'in', 'in', 'in', 'in', 'in', 'in', 'in', 'in', 'in', 'in', 'in', 'in', 'in', 'in', 'in', 'in', 'in', 'in', 'in', 'in', 'in', 'in', 'in', 'in', 'in', 'in', 'in', 'in', 'in', 'in', 'in', 'in', 'in', 'in', 'in', 'in', 'in', 'in', 'in', 'in', 'in', 'in', 'in', 'in', 'in', 'in', 'in', 'in', 'in', 'in', 'in', 'in', 'in', 'in', 'in', 'in', 'in', 'in', 'in', 'in', 'in', 'in', 'in', 'in', 'in', 'in', 'in', 'in', 'in', 'in', 'in', 'in', 'in', 'in', 'in', 'in', 'in', 'in', 'in', 'in', 'in', 'in', 'in', 'in', 'in', 'in', 'in', 'in', 'in', 'in', 'in', 'in', 'in', 'in', 'in', 'in', 'in', 'in', 'in', 'in', 'in', 'in', 'in', 'in', 'in', 'in', 'in', 'in', 'in', 'in', 'in', 'in', 'in', 'in', 'in', 'in', 'in', 'in', 'in', 'in', 'in', 'in', 'in', 'in', 'in', 'in', 'in', 'in', 'in', 'in', 'in', 'in', 'in', 'in', 'in', 'in', 'in', 'in', 'in', 'in', 'in', 'in', 'in', 'in', 'in', 'in', 'in', 'in', 'inattention', 'inches', 'inclination', 'inclination', 'inclination', 'inclined', 'inconsiderable', 'inconvenience', 'increased', 'increased', 'increased', 'incredible', 'indeed', 'indeed', 'indeed', 'indeed', 'indeed', 'indeed', 'indeed', 'indeed', 'indeed', 'indeed', 'indeed', 'indeed', 'indeed', 'indeed', 'indeed', 'indeed', 'indeed', 'indeed', 'indeed', 'indeed', 'indeed', 'indeed', 'indeed', 'indeedbut', 'indeedthat', 'independence', 'indifference', 'indifference', 'indifference', 'indifference', 'indignation', 'indignity', 'indirect', 'indirect', 'indolent', 'inducement', 'indulged', 'indulgence', 'inferiority', 'infinitely', 'influence', 'influence', 'information', 'informed', 'ingenious', 'inhabitants', 'inherited', 'injured', 'injured', 'injustice', 'inoffensive', 'insipidity', 'insist', 'insist', 'inspiring', 'instant', 'instantly', 'instantly', 'instead', 'instead', 'instrument', 'instrument', 'instrument', 'insufficient', 'insupportable', 'insupportable', 'intelligence', 'intelligence', 'intelligent', 'intelligent', 'intend', 'intend', 'intended', 'intended', 'intended', 'intended', 'intention', 'intention', 'intention', 'interest', 'interest', 'interesting', 'interesting', 'intermission', 'interrupted', 'intimacy', 'intimate', 'intimate', 'intimate', 'into', 'into', 'into', 'into', 'into', 'into', 'into', 'into', 'into', 'into', 'into', 'into', 'into', 'into', 'into', 'into', 'into', 'into', 'intolerable', 'intrepidity', 'intricate', 'intricate', 'introduce', 'introduce', 'introduce', 'introduce', 'introduced', 'introduced', 'introduction', 'intruder', 'invalid', 'invaluable', 'invitation', 'invitation', 'invitation', 'invitation', 'invitation', 'invited', 'inviting', 'irish', 'is', 'is', 'is', 'is', 'is', 'is', 'is', 'is', 'is', 'is', 'is', 'is', 'is', 'is', 'is', 'is', 'is', 'is', 'is', 'is', 'is', 'is', 'is', 'is', 'is', 'is', 'is', 'is', 'is', 'is', 'is', 'is', 'is', 'is', 'is', 'is', 'is', 'is', 'is', 'is', 'is', 'is', 'is', 'is', 'is', 'is', 'is', 'is', 'is', 'is', 'is', 'is', 'is', 'is', 'is', 'is', 'is', 'is', 'is', 'is', 'is', 'is', 'is', 'is', 'is', 'is', 'is', 'is', 'is', 'is', 'is', 'is', 'is', 'is', 'is', 'is', 'is', 'is', 'is', 'is', 'is', 'is', 'is', 'is', 'is', 'is', 'is', 'is', 'is', 'is', 'is', 'is', 'is', 'is', 'is', 'is', 'is', 'is', 'is', 'is', 'is', 'is', 'is', 'is', 'is', 'is', 'is', 'is', 'is', 'is', 'is', 'is', 'is', 'is', 'is', 'is', 'is', 'is', 'is', 'is', 'is', 'is', 'is', 'is', 'is', 'is', 'is', 'is', 'is', 'is', 'is', 'is', 'is', 'is', 'is', 'is', 'is', 'is', 'is', 'is', 'is', 'is', 'is', 'is', 'is', 'is', 'is', 'is', 'is', 'is', 'is', 'is', 'is', 'is', 'it', 'it', 'it', 'it', 'it', 'it', 'it', 'it', 'it', 'it', 'it', 'it', 'it', 'it', 'it', 'it', 'it', 'it', 'it', 'it', 'it', 'it', 'it', 'it', 'it', 'it', 'it', 'it', 'it', 'it', 'it', 'it', 'it', 'it', 'it', 'it', 'it', 'it', 'it', 'it', 'it', 'it', 'it', 'it', 'it', 'it', 'it', 'it', 'it', 'it', 'it', 'it', 'it', 'it', 'it', 'it', 'it', 'it', 'it', 'it', 'it', 'it', 'it', 'it', 'it', 'it', 'it', 'it', 'it', 'it', 'it', 'it', 'it', 'it', 'it', 'it', 'it', 'it', 'it', 'it', 'it', 'it', 'it', 'it', 'it', 'it', 'it', 'it', 'it', 'it', 'it', 'it', 'it', 'it', 'it', 'it', 'it', 'it', 'it', 'it', 'it', 'it', 'it', 'it', 'it', 'it', 'it', 'it', 'it', 'it', 'it', 'it', 'it', 'it', 'it', 'it', 'it', 'it', 'it', 'it', 'it', 'it', 'it', 'it', 'it', 'it', 'it', 'it', 'it', 'it', 'it', 'it', 'it', 'it', 'it', 'it', 'it', 'it', 'it', 'it', 'it', 'it', 'it', 'it', 'it', 'it', 'it', 'it', 'it', 'it', 'it', 'it', 'it', 'it', 'it', 'it', 'it', 'it', 'it', 'it', 'it', 'it', 'it', 'it', 'it', 'it', 'it', 'it', 'it', 'it', 'it', 'it', 'it', 'it', 'it', 'it', 'it', 'it', 'it', 'it', 'it', 'it', 'it', 'it', 'it', 'it', 'it', 'it', 'it', 'it', 'italian', 'itbut', 'itmr', 'its', 'its', 'its', 'its', 'its', 'its', 'itself', 'itself', 'iv', 'ix', 'jamess', 'jamess', 'jane', 'jane', 'jane', 'jane', 'jane', 'jane', 'jane', 'jane', 'jane', 'jane', 'jane', 'jane', 'jane', 'jane', 'jane', 'jane', 'jane', 'jane', 'jane', 'jane', 'jane', 'jane', 'jane', 'jane', 'jane', 'jane', 'jane', 'jane', 'jane', 'jane', 'jane', 'jane', 'jane', 'jane', 'jane', 'jane', 'jane', 'jane', 'jane', 'janei', 'janeone', 'janes', 'janes', 'janes', 'janes', 'janewhich', 'january', 'jealous', 'join', 'join', 'join', 'join', 'joined', 'joined', 'joined', 'joined', 'joke', 'jones', 'jones', 'joness', 'jonestherefore', 'jot', 'joy', 'joy', 'joy', 'judge', 'judge', 'judgment', 'judgment', 'judgment', 'jumping', 'jumps', 'just', 'just', 'just', 'just', 'just', 'just', 'just', 'just', 'justice', 'justice', 'justice', 'justifying', 'keep', 'keep', 'keep', 'keep', 'keep', 'keep', 'keep', 'keep', 'keep', 'keep', 'kind', 'kind', 'kind', 'kind', 'kind', 'kindness', 'kindness', 'kindness', 'kindness', 'kindness', 'kindness', 'kindnessmr', 'king', 'king', 'kingdom', 'kitty', 'kitty', 'kitty', 'kitty', 'knew', 'knew', 'knew', 'knew', 'knew', 'knew', 'knighthood', 'know', 'know', 'know', 'know', 'know', 'know', 'know', 'know', 'know', 'know', 'know', 'know', 'know', 'know', 'know', 'know', 'know', 'know', 'know', 'know', 'know', 'know', 'know', 'know', 'know', 'know', 'know', 'know', 'know', 'know', 'know', 'know', 'know', 'know', 'know', 'know', 'knowing', 'knowing', 'knowing', 'knowledge', 'knowledge', 'knowledge', 'knowledge', 'known', 'known', 'known', 'known', 'lace', 'ladies', 'ladies', 'ladies', 'ladies', 'ladies', 'ladies', 'ladies', 'ladies', 'ladies', 'ladies', 'ladies', 'ladies', 'ladies', 'ladies', 'ladies', 'ladies', 'ladies', 'ladies', 'ladies', 'ladies', 'ladies', 'lady', 'lady', 'lady', 'lady', 'lady', 'lady', 'lady', 'lady', 'lady', 'lady', 'lady', 'lady', 'lady', 'lady', 'lady', 'lady', 'ladys', 'laid', 'languages', 'large', 'large', 'large', 'large', 'large', 'large', 'large', 'large', 'larger', 'larger', 'last', 'last', 'last', 'last', 'last', 'last', 'last', 'last', 'last', 'last', 'late', 'latter', 'latter', 'laudable', 'laugh', 'laugh', 'laughed', 'laughingly', 'lay', 'laying', 'lead', 'leading', 'learn', 'learnt', 'lease', 'least', 'least', 'least', 'least', 'least', 'least', 'least', 'leave', 'leave', 'leave', 'leave', 'leave', 'leave', 'leave', 'leave', 'leave', 'leaves', 'leaving', 'leaving', 'leaving', 'left', 'left', 'left', 'left', 'left', 'left', 'leisure', 'length', 'length', 'less', 'less', 'less', 'less', 'less', 'less', 'less', 'less', 'lessen', 'lest', 'lest', 'let', 'let', 'let', 'let', 'let', 'let', 'let', 'let', 'let', 'letter', 'letter', 'letter', 'letter', 'letter', 'letter', 'letters', 'letters', 'letters', 'letters', 'liberty', 'library', 'library', 'library', 'library', 'library', 'life', 'life', 'life', 'life', 'life', 'life', 'life', 'life', 'light', 'like', 'like', 'like', 'like', 'like', 'like', 'like', 'like', 'like', 'like', 'like', 'like', 'like', 'like', 'like', 'like', 'like', 'liked', 'liked', 'liked', 'liked', 'liked', 'liked', 'liked', 'liked', 'likely', 'likely', 'likely', 'likely', 'likes', 'likes', 'likewise', 'likewise', 'likewise', 'line', 'lines', 'lines', 'lines', 'lips', 'list', 'listen', 'listened', 'listened', 'listened', 'listening', 'listening', 'listening', 'little', 'little', 'little', 'little', 'little', 'little', 'little', 'little', 'little', 'little', 'little', 'little', 'little', 'little', 'little', 'little', 'little', 'little', 'little', 'little', 'little', 'little', 'live', 'live', 'live', 'lived', 'lived', 'lived', 'lively', 'lively', 'lively', 'lively', 'lively', 'lives', 'lives', 'lizzy', 'lizzy', 'lizzy', 'lizzy', 'lizzy', 'lizzy', 'lizzy', 'lizzy', 'lizzy', 'lizzy', 'lizzy', 'lizzy', 'lizzy', 'lizzys', 'lodge', 'lodgings', 'lodgings', 'london', 'london', 'london', 'london', 'london', 'london', 'long', 'long', 'long', 'long', 'long', 'long', 'long', 'long', 'long', 'long', 'long', 'long', 'long', 'long', 'long', 'long', 'long', 'long', 'long', 'long', 'long', 'longbourn', 'longbourn', 'longbourn', 'longbourn', 'longbourn', 'longbourn', 'longbourn', 'longbourn', 'longed', 'longed', 'longer', 'longer', 'loo', 'loo', 'look', 'look', 'look', 'look', 'looked', 'looked', 'looked', 'looked', 'looked', 'looked', 'looked', 'looked', 'looked', 'looked', 'looked', 'looking', 'looking', 'looking', 'looking', 'looking', 'lose', 'lose', 'lost', 'lot', 'louisa', 'louisa', 'louisa', 'love', 'love', 'love', 'love', 'love', 'love', 'love', 'love', 'love', 'love', 'love', 'love', 'love', 'loved', 'low', 'lucas', 'lucas', 'lucas', 'lucas', 'lucas', 'lucas', 'lucas', 'lucas', 'lucas', 'lucas', 'lucas', 'lucas', 'lucas', 'lucas', 'lucas', 'lucas', 'lucas', 'lucas', 'lucas', 'lucases', 'lucases', 'lucases', 'lucass', 'lucass', 'lucky', 'lydia', 'lydia', 'lydia', 'lydia', 'lydia', 'lydia', 'lydia', 'lydia', 'lydia', 'lydia', 'lydia', 'lydiaelizabeth', 'lying', 'maam', 'maamis', 'madam', 'made', 'made', 'made', 'made', 'made', 'made', 'made', 'made', 'made', 'made', 'made', 'made', 'made', 'made', 'make', 'make', 'make', 'make', 'make', 'make', 'make', 'make', 'make', 'make', 'make', 'make', 'make', 'make', 'make', 'make', 'make', 'make', 'makes', 'makes', 'making', 'making', 'making', 'male', 'mama', 'mama', 'mama', 'man', 'man', 'man', 'man', 'man', 'man', 'man', 'man', 'man', 'man', 'man', 'man', 'man', 'man', 'man', 'man', 'man', 'man', 'man', 'man', 'man', 'man', 'manner', 'manner', 'manner', 'manner', 'manner', 'manner', 'manner', 'manner', 'manner', 'manner', 'manner', 'mannerin', 'manners', 'manners', 'manners', 'manners', 'manners', 'manners', 'manners', 'manners', 'manners', 'manners', 'mannersso', 'manor', 'mans', 'many', 'many', 'many', 'many', 'many', 'many', 'many', 'many', 'many', 'many', 'many', 'many', 'many', 'many', 'many', 'many', 'many', 'maria', 'market', 'marriage', 'marriage', 'married', 'married', 'married', 'married', 'married', 'married', 'married', 'marrying', 'marrying', 'marrying', 'mary', 'mary', 'mary', 'mary', 'mary', 'mary', 'mary', 'mary', 'mary', 'materially', 'matrimony', 'matter', 'matter', 'matter', 'matter', 'matter', 'matter', 'matter', 'may', 'may', 'may', 'may', 'may', 'may', 'may', 'may', 'may', 'may', 'may', 'may', 'may', 'may', 'may', 'may', 'may', 'may', 'may', 'may', 'may', 'may', 'may', 'may', 'mayoralty', 'me', 'me', 'me', 'me', 'me', 'me', 'me', 'me', 'me', 'me', 'me', 'me', 'me', 'me', 'me', 'me', 'me', 'me', 'me', 'me', 'me', 'me', 'me', 'me', 'me', 'me', 'me', 'me', 'me', 'me', 'me', 'me', 'me', 'me', 'me', 'me', 'me', 'me', 'me', 'me', 'me', 'me', 'mean', 'mean', 'mean', 'mean', 'mean', 'mean', 'mean', 'mean', 'meand', 'meaning', 'meanly', 'meanness', 'means', 'means', 'means', 'means', 'means', 'means', 'means', 'means', 'meant', 'meant', 'meant', 'meditating', 'meet', 'meet', 'meet', 'meeting', 'meets', 'memories', 'men', 'men', 'men', 'men', 'mend', 'mend', 'mend', 'mend', 'mention', 'mention', 'mention', 'mention', 'mention', 'mentioned', 'mentioned', 'mentioning', 'merely', 'merely', 'merely', 'merely', 'merely', 'merit', 'meryton', 'meryton', 'meryton', 'meryton', 'meryton', 'meryton', 'meryton', 'meryton', 'meryton', 'meryton', 'meryton', 'meryton', 'meryton', 'meryton', 'meryton', 'meryton', 'messages', 'met', 'met', 'met', 'met', 'met', 'met', 'met', 'met', 'met', 'met', 'michaelmas', 'mien', 'might', 'might', 'might', 'might', 'might', 'might', 'might', 'might', 'might', 'might', 'might', 'might', 'mile', 'mile', 'miles', 'miles', 'miles', 'miles', 'miles', 'militia', 'milliners', 'mince', 'mind', 'mind', 'mind', 'mind', 'mind', 'minds', 'minds', 'mine', 'mine', 'mine', 'mine', 'minutes', 'minutes', 'minutes', 'minutes', 'minutes', 'mirth', 'miserable', 'miserable', 'misfortune', 'miss', 'miss', 'miss', 'miss', 'miss', 'miss', 'miss', 'miss', 'miss', 'miss', 'miss', 'miss', 'miss', 'miss', 'miss', 'miss', 'miss', 'miss', 'miss', 'miss', 'miss', 'miss', 'miss', 'miss', 'miss', 'miss', 'miss', 'miss', 'miss', 'miss', 'miss', 'miss', 'miss', 'miss', 'miss', 'miss', 'miss', 'miss', 'miss', 'miss', 'miss', 'miss', 'miss', 'miss', 'miss', 'miss', 'miss', 'miss', 'miss', 'miss', 'miss', 'miss', 'miss', 'miss', 'miss', 'miss', 'miss', 'miss', 'miss', 'miss', 'miss', 'miss', 'miss', 'miss', 'miss', 'miss', 'miss', 'miss', 'miss', 'miss', 'miss', 'miss', 'miss', 'miss', 'miss', 'mistake', 'mistake', 'mistake', 'mistaken', 'mistaken', 'mistaken', 'mistook', 'mixed', 'mixture', 'mixture', 'mixture', 'mode', 'model', 'modern', 'modesty', 'moment', 'moment', 'moment', 'moment', 'moment', 'moment', 'moment', 'moment', 'monday', 'month', 'more', 'more', 'more', 'more', 'more', 'more', 'more', 'more', 'more', 'more', 'more', 'more', 'more', 'more', 'more', 'more', 'more', 'more', 'more', 'more', 'more', 'more', 'more', 'more', 'more', 'more', 'more', 'more', 'more', 'more', 'more', 'more', 'more', 'more', 'more', 'more', 'more', 'more', 'more', 'more', 'more', 'more', 'morning', 'morning', 'morning', 'morning', 'morning', 'morning', 'morning', 'morning', 'morning', 'morning', 'morning', 'morning', 'morning', 'morning', 'morning', 'morning', 'morris', 'mortified', 'mortifying', 'most', 'most', 'most', 'most', 'most', 'most', 'most', 'most', 'most', 'most', 'most', 'most', 'most', 'most', 'most', 'most', 'most', 'most', 'most', 'most', 'mother', 'mother', 'mother', 'mother', 'mother', 'mother', 'mother', 'mother', 'mother', 'mother', 'mother', 'mother', 'mother', 'mother', 'mother', 'mother', 'motherinlaw', 'motherinlaw', 'mothers', 'mothers', 'mothers', 'mothers', 'motherwhen', 'motive', 'mounting', 'mouths', 'move', 'moved', 'moved', 'moved', 'moving', 'moving', 'mr', 'mr', 'mr', 'mr', 'mr', 'mr', 'mr', 'mr', 'mr', 'mr', 'mr', 'mr', 'mr', 'mr', 'mr', 'mr', 'mr', 'mr', 'mr', 'mr', 'mr', 'mr', 'mr', 'mr', 'mr', 'mr', 'mr', 'mr', 'mr', 'mr', 'mr', 'mr', 'mr', 'mr', 'mr', 'mr', 'mr', 'mr', 'mr', 'mr', 'mr', 'mr', 'mr', 'mr', 'mr', 'mr', 'mr', 'mr', 'mr', 'mr', 'mr', 'mr', 'mr', 'mr', 'mr', 'mr', 'mr', 'mr', 'mr', 'mr', 'mr', 'mr', 'mr', 'mr', 'mr', 'mr', 'mr', 'mr', 'mr', 'mr', 'mr', 'mr', 'mr', 'mr', 'mr', 'mr', 'mr', 'mr', 'mr', 'mr', 'mr', 'mr', 'mr', 'mr', 'mr', 'mr', 'mr', 'mr', 'mr', 'mr', 'mr', 'mr', 'mr', 'mr', 'mr', 'mr', 'mr', 'mr', 'mr', 'mr', 'mr', 'mr', 'mr', 'mr', 'mr', 'mr', 'mr', 'mr', 'mr', 'mr', 'mr', 'mr', 'mr', 'mr', 'mr', 'mr', 'mr', 'mr', 'mr', 'mr', 'mr', 'mr', 'mr', 'mrs', 'mrs', 'mrs', 'mrs', 'mrs', 'mrs', 'mrs', 'mrs', 'mrs', 'mrs', 'mrs', 'mrs', 'mrs', 'mrs', 'mrs', 'mrs', 'mrs', 'mrs', 'mrs', 'mrs', 'mrs', 'mrs', 'mrs', 'mrs', 'mrs', 'mrs', 'mrs', 'mrs', 'mrs', 'mrs', 'mrs', 'mrs', 'mrs', 'mrs', 'mrs', 'mrs', 'mrs', 'mrs', 'mrs', 'mrs', 'mrs', 'mrs', 'mrs', 'mrs', 'mrs', 'mrs', 'mrs', 'mrs', 'mrs', 'mrs', 'mrs', 'mrs', 'mrs', 'much', 'much', 'much', 'much', 'much', 'much', 'much', 'much', 'much', 'much', 'much', 'much', 'much', 'much', 'much', 'much', 'much', 'much', 'much', 'much', 'much', 'much', 'much', 'much', 'much', 'much', 'much', 'much', 'much', 'much', 'much', 'much', 'much', 'much', 'much', 'much', 'much', 'much', 'much', 'much', 'much', 'much', 'much', 'much', 'much', 'much', 'much', 'much', 'much', 'much', 'much', 'much', 'much', 'much', 'much', 'much', 'much', 'much', 'much', 'mud', 'music', 'music', 'music', 'musical', 'must', 'must', 'must', 'must', 'must', 'must', 'must', 'must', 'must', 'must', 'must', 'must', 'must', 'must', 'must', 'must', 'must', 'must', 'must', 'must', 'must', 'must', 'must', 'must', 'must', 'must', 'must', 'must', 'must', 'must', 'must', 'must', 'must', 'must', 'must', 'must', 'must', 'must', 'must', 'must', 'must', 'must', 'must', 'must', 'my', 'my', 'my', 'my', 'my', 'my', 'my', 'my', 'my', 'my', 'my', 'my', 'my', 'my', 'my', 'my', 'my', 'my', 'my', 'my', 'my', 'my', 'my', 'my', 'my', 'my', 'my', 'my', 'my', 'my', 'my', 'my', 'my', 'my', 'my', 'my', 'my', 'my', 'my', 'my', 'my', 'my', 'my', 'my', 'my', 'my', 'my', 'my', 'my', 'my', 'my', 'my', 'my', 'my', 'my', 'my', 'my', 'my', 'my', 'my', 'my', 'my', 'my', 'my', 'my', 'my', 'my', 'my', 'my', 'my', 'my', 'my', 'my', 'my', 'my', 'my', 'my', 'my', 'my', 'my', 'my', 'my', 'my', 'my', 'my', 'my', 'my', 'my', 'my', 'my', 'my', 'my', 'my', 'my', 'my', 'my', 'my', 'my', 'myself', 'myself', 'myself', 'myself', 'myself', 'myself', 'myself', 'myself', 'myself', 'myself', 'myselffor', 'name', 'name', 'names', 'natural', 'natural', 'natural', 'nature', 'nature', 'nature', 'nay', 'nay', 'nay', 'near', 'near', 'near', 'near', 'near', 'near', 'nearly', 'necessarily', 'necessary', 'necessary', 'necessary', 'needless', 'needlework', 'negatived', 'neglect', 'neglect', 'neglect', 'neglect', 'neighbour', 'neighbour', 'neighbour', 'neighbour', 'neighbourhood', 'neighbourhood', 'neighbourhood', 'neighbourhood', 'neighbourhood', 'neighbourhood', 'neighbourhood', 'neighbourhood', 'neighbourhood', 'neighbourhoods', 'neither', 'neither', 'neither', 'nerves', 'nerves', 'nerves', 'nervous', 'net', 'netherfield', 'netherfield', 'netherfield', 'netherfield', 'netherfield', 'netherfield', 'netherfield', 'netherfield', 'netherfield', 'netherfield', 'netherfield', 'netherfield', 'netherfield', 'netherfield', 'netherfield', 'netherfield', 'netherfield', 'netherfield', 'netherfield', 'netting', 'never', 'never', 'never', 'never', 'never', 'never', 'never', 'never', 'never', 'never', 'never', 'never', 'never', 'never', 'never', 'never', 'never', 'never', 'never', 'never', 'never', 'never', 'never', 'never', 'never', 'never', 'never', 'never', 'never', 'never', 'new', 'new', 'new', 'news', 'news', 'news', 'next', 'next', 'next', 'next', 'next', 'next', 'next', 'next', 'next', 'next', 'next', 'next', 'nieces', 'nieces', 'nieces', 'night', 'night', 'night', 'night', 'night', 'nine', 'no', 'no', 'no', 'no', 'no', 'no', 'no', 'no', 'no', 'no', 'no', 'no', 'no', 'no', 'no', 'no', 'no', 'no', 'no', 'no', 'no', 'no', 'no', 'no', 'no', 'no', 'no', 'no', 'no', 'no', 'no', 'no', 'no', 'no', 'no', 'no', 'no', 'no', 'no', 'no', 'no', 'no', 'no', 'no', 'no', 'no', 'no', 'no', 'no', 'no', 'no', 'no', 'no', 'no', 'no', 'no', 'no', 'no', 'no', 'no', 'no', 'noble', 'noble', 'nobody', 'nobody', 'noise', 'none', 'none', 'none', 'nonsense', 'nonsense', 'nonsense', 'nonsense', 'nonsense', 'nonsense', 'nonsensical', 'nor', 'nor', 'nor', 'nor', 'nor', 'nor', 'nor', 'nor', 'nor', 'north', 'north', 'not', 'not', 'not', 'not', 'not', 'not', 'not', 'not', 'not', 'not', 'not', 'not', 'not', 'not', 'not', 'not', 'not', 'not', 'not', 'not', 'not', 'not', 'not', 'not', 'not', 'not', 'not', 'not', 'not', 'not', 'not', 'not', 'not', 'not', 'not', 'not', 'not', 'not', 'not', 'not', 'not', 'not', 'not', 'not', 'not', 'not', 'not', 'not', 'not', 'not', 'not', 'not', 'not', 'not', 'not', 'not', 'not', 'not', 'not', 'not', 'not', 'not', 'not', 'not', 'not', 'not', 'not', 'not', 'not', 'not', 'not', 'not', 'not', 'not', 'not', 'not', 'not', 'not', 'not', 'not', 'not', 'not', 'not', 'not', 'not', 'not', 'not', 'not', 'not', 'not', 'not', 'not', 'not', 'not', 'not', 'not', 'not', 'not', 'not', 'not', 'not', 'not', 'not', 'not', 'not', 'not', 'not', 'not', 'not', 'not', 'not', 'not', 'not', 'not', 'not', 'not', 'not', 'not', 'not', 'not', 'not', 'not', 'not', 'not', 'not', 'not', 'not', 'not', 'not', 'not', 'not', 'not', 'not', 'not', 'not', 'not', 'not', 'not', 'not', 'not', 'not', 'not', 'not', 'not', 'not', 'not', 'not', 'not', 'not', 'not', 'not', 'not', 'not', 'not', 'not', 'not', 'not', 'not', 'not', 'not', 'not', 'not', 'not', 'not', 'not', 'not', 'not', 'not', 'not', 'not', 'not', 'not', 'not', 'not', 'not', 'not', 'not', 'not', 'not', 'not', 'not', 'not', 'not', 'not', 'not', 'not', 'not', 'not', 'not', 'not', 'not', 'not', 'not', 'not', 'not', 'not', 'not', 'not', 'not', 'not', 'not', 'not', 'not', 'not', 'not', 'not', 'note', 'note', 'note', 'note', 'note', 'note', 'nothing', 'nothing', 'nothing', 'nothing', 'nothing', 'nothing', 'nothing', 'nothing', 'nothing', 'nothing', 'nothing', 'nothing', 'nothing', 'nothing', 'nothing', 'nothing', 'nothing', 'nothing', 'nothing', 'nothing', 'nothing', 'nothing', 'nothingness', 'notice', 'notice', 'notice', 'notice', 'notion', 'nourishes', 'now', 'now', 'now', 'now', 'now', 'now', 'now', 'now', 'now', 'now', 'now', 'now', 'now', 'now', 'now', 'number', 'nursing', 'object', 'object', 'object', 'object', 'object', 'object', 'objection', 'objection', 'oblige', 'obliged', 'obliged', 'obliged', 'obliged', 'obliged', 'obliged', 'obliging', 'observation', 'observe', 'observed', 'observed', 'observed', 'observed', 'observed', 'observed', 'observed', 'observing', 'observing', 'observing', 'observing', 'obstinacy', 'occasion', 'occasion', 'occasion', 'occasion', 'occasionally', 'occasions', 'occasions', 'occupied', 'occupy', 'occurs', 'oclock', 'odd', 'odious', 'of', 'of', 'of', 'of', 'of', 'of', 'of', 'of', 'of', 'of', 'of', 'of', 'of', 'of', 'of', 'of', 'of', 'of', 'of', 'of', 'of', 'of', 'of', 'of', 'of', 'of', 'of', 'of', 'of', 'of', 'of', 'of', 'of', 'of', 'of', 'of', 'of', 'of', 'of', 'of', 'of', 'of', 'of', 'of', 'of', 'of', 'of', 'of', 'of', 'of', 'of', 'of', 'of', 'of', 'of', 'of', 'of', 'of', 'of', 'of', 'of', 'of', 'of', 'of', 'of', 'of', 'of', 'of', 'of', 'of', 'of', 'of', 'of', 'of', 'of', 'of', 'of', 'of', 'of', 'of', 'of', 'of', 'of', 'of', 'of', 'of', 'of', 'of', 'of', 'of', 'of', 'of', 'of', 'of', 'of', 'of', 'of', 'of', 'of', 'of', 'of', 'of', 'of', 'of', 'of', 'of', 'of', 'of', 'of', 'of', 'of', 'of', 'of', 'of', 'of', 'of', 'of', 'of', 'of', 'of', 'of', 'of', 'of', 'of', 'of', 'of', 'of', 'of', 'of', 'of', 'of', 'of', 'of', 'of', 'of', 'of', 'of', 'of', 'of', 'of', 'of', 'of', 'of', 'of', 'of', 'of', 'of', 'of', 'of', 'of', 'of', 'of', 'of', 'of', 'of', 'of', 'of', 'of', 'of', 'of', 'of', 'of', 'of', 'of', 'of', 'of', 'of', 'of', 'of', 'of', 'of', 'of', 'of', 'of', 'of', 'of', 'of', 'of', 'of', 'of', 'of', 'of', 'of', 'of', 'of', 'of', 'of', 'of', 'of', 'of', 'of', 'of', 'of', 'of', 'of', 'of', 'of', 'of', 'of', 'of', 'of', 'of', 'of', 'of', 'of', 'of', 'of', 'of', 'of', 'of', 'of', 'of', 'of', 'of', 'of', 'of', 'of', 'of', 'of', 'of', 'of', 'of', 'of', 'of', 'of', 'of', 'of', 'of', 'of', 'of', 'of', 'of', 'of', 'of', 'of', 'of', 'of', 'of', 'of', 'of', 'of', 'of', 'of', 'of', 'of', 'of', 'of', 'of', 'of', 'of', 'of', 'of', 'of', 'of', 'of', 'of', 'of', 'of', 'of', 'of', 'of', 'of', 'of', 'of', 'of', 'of', 'of', 'of', 'of', 'of', 'of', 'of', 'of', 'of', 'of', 'of', 'of', 'of', 'of', 'of', 'of', 'of', 'of', 'of', 'of', 'of', 'of', 'of', 'of', 'of', 'of', 'of', 'of', 'of', 'of', 'of', 'of', 'of', 'of', 'of', 'of', 'of', 'of', 'of', 'of', 'of', 'of', 'of', 'of', 'of', 'of', 'of', 'of', 'of', 'of', 'of', 'of', 'of', 'of', 'of', 'of', 'of', 'of', 'of', 'of', 'of', 'of', 'of', 'of', 'of', 'of', 'of', 'of', 'of', 'of', 'of', 'of', 'of', 'of', 'of', 'of', 'of', 'of', 'of', 'of', 'of', 'of', 'of', 'of', 'of', 'of', 'of', 'of', 'of', 'of', 'of', 'of', 'of', 'of', 'of', 'of', 'of', 'of', 'of', 'of', 'of', 'of', 'of', 'of', 'of', 'of', 'of', 'of', 'of', 'of', 'of', 'of', 'of', 'of', 'of', 'of', 'of', 'of', 'of', 'of', 'of', 'of', 'of', 'of', 'of', 'of', 'of', 'of', 'of', 'of', 'of', 'of', 'of', 'of', 'of', 'of', 'of', 'of', 'of', 'of', 'of', 'of', 'of', 'of', 'of', 'of', 'of', 'of', 'of', 'of', 'off', 'off', 'off', 'off', 'off', 'off', 'off', 'off', 'off', 'offence', 'offend', 'offended', 'offended', 'offer', 'offer', 'offer', 'offer', 'offered', 'offered', 'offered', 'offering', 'office', 'office', 'officers', 'officers', 'officers', 'officers', 'officers', 'officers', 'officers', 'officers', 'officers', 'officersand', 'often', 'often', 'often', 'often', 'often', 'often', 'often', 'often', 'often', 'often', 'often', 'often', 'often', 'often', 'often', 'oftener', 'oh', 'oh', 'oh', 'oh', 'oh', 'oh', 'oh', 'oh', 'oh', 'oh', 'oh', 'oh', 'oh', 'oh', 'oh', 'oh', 'oh', 'ohyou', 'old', 'old', 'on', 'on', 'on', 'on', 'on', 'on', 'on', 'on', 'on', 'on', 'on', 'on', 'on', 'on', 'on', 'on', 'on', 'on', 'on', 'on', 'on', 'on', 'on', 'on', 'on', 'on', 'on', 'on', 'on', 'on', 'on', 'on', 'on', 'on', 'on', 'on', 'on', 'on', 'on', 'on', 'on', 'on', 'on', 'on', 'on', 'on', 'on', 'on', 'on', 'on', 'on', 'on', 'on', 'on', 'on', 'on', 'on', 'on', 'on', 'on', 'on', 'on', 'on', 'on', 'on', 'on', 'on', 'on', 'once', 'once', 'once', 'once', 'once', 'once', 'one', 'one', 'one', 'one', 'one', 'one', 'one', 'one', 'one', 'one', 'one', 'one', 'one', 'one', 'one', 'one', 'one', 'one', 'one', 'one', 'one', 'one', 'one', 'one', 'one', 'one', 'one', 'one', 'one', 'one', 'one', 'one', 'one', 'one', 'one', 'one', 'one', 'one', 'one', 'one', 'one', 'one', 'one', 'one', 'one', 'one', 'only', 'only', 'only', 'only', 'only', 'only', 'only', 'only', 'only', 'only', 'only', 'only', 'only', 'only', 'only', 'only', 'only', 'only', 'only', 'only', 'only', 'only', 'only', 'only', 'only', 'only', 'only', 'only', 'only', 'only', 'only', 'only', 'only', 'only', 'only', 'only', 'only', 'only', 'only', 'open', 'open', 'opened', 'opening', 'openness', 'opinion', 'opinion', 'opinion', 'opinion', 'opinion', 'opinion', 'opinion', 'opinion', 'opinions', 'opinions', 'opportunity', 'opportunity', 'opposed', 'opposition', 'or', 'or', 'or', 'or', 'or', 'or', 'or', 'or', 'or', 'or', 'or', 'or', 'or', 'or', 'or', 'or', 'or', 'or', 'or', 'or', 'or', 'or', 'or', 'or', 'or', 'or', 'or', 'or', 'or', 'or', 'or', 'or', 'order', 'order', 'ordered', 'orders', 'ordinary', 'original', 'original', 'ostentation', 'other', 'other', 'other', 'other', 'other', 'other', 'other', 'other', 'other', 'other', 'other', 'other', 'other', 'other', 'other', 'other', 'other', 'other', 'others', 'others', 'others', 'others', 'others', 'others', 'others', 'others', 'others', 'otherwise', 'ought', 'ought', 'ought', 'ought', 'ought', 'ought', 'ought', 'our', 'our', 'our', 'our', 'our', 'our', 'our', 'our', 'our', 'our', 'ourselves', 'out', 'out', 'out', 'out', 'out', 'out', 'out', 'out', 'out', 'out', 'out', 'over', 'over', 'over', 'over', 'over', 'over', 'over', 'over', 'over', 'over', 'over', 'over', 'over', 'over', 'over', 'over', 'over', 'overcome', 'overhear', 'overheard', 'overheard', 'overhearings', 'overthrowing', 'own', 'own', 'own', 'own', 'own', 'own', 'own', 'own', 'own', 'own', 'own', 'own', 'own', 'own', 'own', 'own', 'own', 'own', 'own', 'own', 'own', 'own', 'own', 'own', 'own', 'own', 'own', 'own', 'own', 'own', 'owner', 'pace', 'pack', 'paid', 'paid', 'paid', 'pain', 'paint', 'painter', 'pair', 'paltry', 'panegyric', 'park', 'parlour', 'part', 'part', 'part', 'part', 'parted', 'partial', 'partiality', 'particular', 'particular', 'particular', 'particular', 'particular', 'particularly', 'particularly', 'particularly', 'particularly', 'particularly', 'particulars', 'parties', 'parties', 'parties', 'parting', 'partner', 'partner', 'partner', 'partner', 'partner', 'partners', 'partners', 'partneryou', 'parts', 'party', 'party', 'party', 'party', 'party', 'party', 'party', 'party', 'party', 'party', 'party', 'pass', 'pass', 'passed', 'passed', 'passed', 'passed', 'passed', 'passing', 'past', 'path', 'patience', 'patience', 'patient', 'pause', 'pause', 'pause', 'paused', 'pay', 'pay', 'pay', 'pedantic', 'pemberley', 'pemberley', 'pemberley', 'pemberley', 'pemberley', 'pemberley', 'pemberley', 'pen', 'pens', 'people', 'people', 'people', 'people', 'people', 'people', 'people', 'people', 'people', 'people', 'peoplewhat', 'perceive', 'perceive', 'perceive', 'perfect', 'perfect', 'perfect', 'perfect', 'perfect', 'perfectly', 'perfectly', 'perfectly', 'perfectly', 'performance', 'performance', 'performance', 'performed', 'performers', 'performs', 'perhaps', 'perhaps', 'perhaps', 'perhaps', 'perhaps', 'perhaps', 'perhaps', 'perhaps', 'perhaps', 'perhaps', 'period', 'perpetual', 'persevering', 'person', 'person', 'person', 'person', 'person', 'person', 'person', 'person', 'persons', 'persuade', 'persuasion', 'persuasion', 'petticoat', 'petticoat', 'petticoat', 'philips', 'philips', 'philips', 'philips', 'physicians', 'pianoforte', 'pianoforte', 'picture', 'picture', 'picturesque', 'piece', 'pieces', 'pies', 'piqued', 'piquet', 'pitiful', 'pity', 'place', 'place', 'place', 'place', 'place', 'place', 'place', 'placed', 'places', 'places', 'plain', 'plain', 'plain', 'plainbut', 'plan', 'plan', 'planned', 'planning', 'play', 'play', 'playful', 'playfulness', 'playing', 'playing', 'playing', 'pleasant', 'pleasant', 'pleasant', 'pleasant', 'pleasant', 'pleasant', 'pleasanter', 'pleasanter', 'pleasantly', 'please', 'please', 'pleased', 'pleased', 'pleased', 'pleased', 'pleasing', 'pleasing', 'pleasing', 'pleasing', 'pleasing', 'pleasing', 'pleasing', 'pleasure', 'pleasure', 'pleasure', 'pleasure', 'pleasure', 'pleasure', 'pleasure', 'pleasure', 'pleasure', 'pleasure', 'pleasure', 'pleasure', 'pleasure', 'pleasure', 'pleasure', 'pliancy', 'poetry', 'poetry', 'point', 'point', 'polished', 'polished', 'polite', 'politely', 'politely', 'politeness', 'politeness', 'poor', 'poor', 'poorly', 'popularity', 'porridgeand', 'portraits', 'possess', 'possess', 'possesses', 'possession', 'possession', 'possessor', 'possibilities', 'possibility', 'possible', 'possible', 'possible', 'possible', 'possibly', 'pounds', 'pounds', 'pounds', 'poured', 'power', 'power', 'praise', 'praise', 'praise', 'praise', 'praises', 'pray', 'pray', 'pray', 'precipitance', 'precipitance', 'precision', 'prefer', 'prefer', 'preference', 'preference', 'preference', 'premeditated', 'present', 'present', 'present', 'present', 'present', 'present', 'present', 'present', 'presentation', 'preside', 'press', 'pressing', 'pretend', 'prettier', 'prettiest', 'pretty', 'pretty', 'pretty', 'pretty', 'pretty', 'pretty', 'pretty', 'pretty', 'pretty', 'prevailed', 'prevented', 'prevented', 'pride', 'pride', 'pride', 'pride', 'pride', 'pride', 'pride', 'pride', 'principal', 'principal', 'principal', 'private', 'prized', 'probability', 'probably', 'probably', 'probably', 'probably', 'proceed', 'proceeding', 'productive', 'profession', 'profuse', 'prognostics', 'progress', 'promise', 'promise', 'promised', 'promised', 'promised', 'prone', 'pronounced', 'pronounced', 'pronounced', 'proper', 'property', 'property', 'property', 'proportion', 'proposal', 'proposal', 'propose', 'propriety', 'propriety', 'prospect', 'protested', 'protested', 'protesting', 'proud', 'proud', 'proud', 'proud', 'proud', 'proud', 'proudest', 'proved', 'provided', 'provoke', 'provoking', 'public', 'public', 'public', 'puddles', 'punishment', 'purchase', 'purchase', 'purchase', 'purchase', 'purchase', 'purpose', 'purpose', 'purpose', 'purse', 'purses', 'pursuit', 'put', 'put', 'put', 'qualities', 'quality', 'quarrel', 'quarters', 'question', 'question', 'question', 'question', 'questionoh', 'questions', 'quick', 'quick', 'quickly', 'quickness', 'quickness', 'quickness', 'quieted', 'quieter', 'quit', 'quit', 'quit', 'quite', 'quite', 'quite', 'quite', 'quite', 'quite', 'quite', 'quite', 'quite', 'quite', 'quite', 'quite', 'quite', 'quite', 'quite', 'quite', 'quite', 'quite', 'quite', 'quite', 'quite', 'quite', 'quite', 'quitting', 'quitting', 'quitting', 'ragout', 'rain', 'rain', 'rain', 'rained', 'raised', 'rambled', 'ran', 'range', 'rank', 'rank', 'rapid', 'rapidity', 'rapidly', 'raptures', 'raptures', 'raptures', 'rashness', 'rather', 'rather', 'rather', 'rather', 'rather', 'rather', 'rather', 'rather', 'rather', 'rather', 'rather', 'rather', 'rather', 'rather', 'reached', 'reached', 'read', 'read', 'read', 'read', 'read', 'reader', 'reader', 'readily', 'readily', 'readilyeasilyto', 'reading', 'reading', 'ready', 'ready', 'real', 'real', 'really', 'really', 'really', 'really', 'really', 'really', 'really', 'really', 'really', 'really', 'really', 'reason', 'reason', 'reasonableness', 'receipt', 'receive', 'receive', 'receive', 'received', 'received', 'received', 'received', 'received', 'received', 'received', 'received', 'recent', 'recent', 'recommend', 'recommend', 'recommend', 'recommendation', 'recommended', 'recommended', 'recovered', 'recovered', 'recovering', 'recovery', 'red', 'reel', 'reel', 'refinements', 'reflection', 'reflections', 'reflections', 'refuse', 'regard', 'regard', 'regard', 'regard', 'regard', 'regard', 'regardless', 'regiment', 'regimentals', 'regimentals', 'rejoicing', 'related', 'relates', 'relation', 'relations', 'relations', 'reliance', 'relief', 'remain', 'remain', 'remain', 'remainder', 'remained', 'remains', 'remark', 'remarkably', 'remarkably', 'remarkably', 'remarkably', 'remarks', 'remember', 'remember', 'remember', 'remember', 'remember', 'remember', 'reminded', 'removal', 'remove', 'removed', 'removed', 'render', 'rendered', 'renewal', 'repaired', 'repaired', 'repeated', 'repeated', 'repeated', 'repeatedly', 'repeating', 'replied', 'replied', 'replied', 'replied', 'replied', 'replied', 'replied', 'replied', 'replied', 'replied', 'replied', 'replied', 'replied', 'replied', 'replied', 'reply', 'reply', 'reply', 'reply', 'replying', 'report', 'report', 'report', 'reprehensible', 'represent', 'representation', 'reproof', 'request', 'request', 'request', 'request', 'requested', 'requested', 'requester', 'required', 'required', 'resented', 'resentfully', 'resentment', 'reserve', 'reserved', 'residence', 'resistance', 'resolution', 'resolution', 'resolve', 'resolved', 'respect', 'respect', 'respect', 'respect', 'respectable', 'respectable', 'rest', 'rest', 'rest', 'rest', 'rest', 'restoration', 'restored', 'result', 'retired', 'return', 'return', 'return', 'return', 'return', 'returned', 'returned', 'returned', 'returned', 'returned', 'returned', 'returning', 'reverie', 'rich', 'rich', 'rid', 'ride', 'ridiculous', 'right', 'right', 'right', 'right', 'rightful', 'risen', 'robinson', 'robinson', 'robinsons', 'rode', 'room', 'room', 'room', 'room', 'room', 'room', 'room', 'room', 'room', 'room', 'room', 'room', 'room', 'room', 'room', 'room', 'room', 'room', 'room', 'room', 'room', 'room', 'room', 'room', 'room', 'rooms', 'round', 'rudeness', 'rudeness', 'rule', 'run', 'running', 'running', 'sacrifice', 'safe', 'safe', 'safely', 'said', 'said', 'said', 'said', 'said', 'said', 'said', 'said', 'said', 'said', 'said', 'said', 'said', 'said', 'said', 'said', 'said', 'said', 'said', 'said', 'said', 'said', 'said', 'said', 'said', 'said', 'said', 'said', 'said', 'said', 'said', 'said', 'said', 'said', 'said', 'said', 'said', 'said', 'said', 'said', 'said', 'said', 'said', 'said', 'said', 'said', 'said', 'said', 'said', 'said', 'said', 'said', 'said', 'said', 'said', 'said', 'said', 'said', 'said', 'said', 'said', 'said', 'said', 'said', 'said', 'said', 'said', 'said', 'said', 'said', 'said', 'said', 'said', 'said', 'said', 'said', 'said', 'said', 'said', 'said', 'sake', 'sake', 'sake', 'sakes', 'same', 'same', 'same', 'same', 'same', 'same', 'same', 'sang', 'sarcastic', 'sat', 'sat', 'sat', 'sat', 'satirical', 'satisfactory', 'satisfied', 'satisfied', 'satisfied', 'satisfied', 'satisfied', 'savage', 'save', 'saw', 'saw', 'saw', 'saw', 'saw', 'saw', 'saw', 'saw', 'saw', 'saw', 'saw', 'saw', 'say', 'say', 'say', 'say', 'say', 'say', 'say', 'say', 'say', 'say', 'say', 'say', 'say', 'say', 'say', 'say', 'say', 'say', 'say', 'say', 'say', 'say', 'say', 'say', 'say', 'saying', 'saying', 'says', 'says', 'says', 'says', 'says', 'says', 'scampering', 'scarcely', 'scarcely', 'scarcely', 'scarcely', 'scarcity', 'scheme', 'schemes', 'science', 'scolding', 'score', 'scotch', 'scotch', 'scrupulous', 'seated', 'seated', 'second', 'second', 'second', 'second', 'secondhand', 'secret', 'secure', 'see', 'see', 'see', 'see', 'see', 'see', 'see', 'see', 'see', 'see', 'see', 'see', 'see', 'see', 'see', 'see', 'see', 'see', 'see', 'see', 'see', 'see', 'see', 'seeing', 'seeing', 'seeing', 'seeing', 'seeing', 'seeing', 'seeing', 'seeing', 'seek', 'seek', 'seem', 'seem', 'seemed', 'seemed', 'seemed', 'seemed', 'seeming', 'seems', 'seems', 'seems', 'seen', 'seen', 'seen', 'seen', 'sees', 'sees', 'seize', 'selfcommand', 'selfcomplacency', 'selfconsequence', 'selfimportance', 'selfish', 'sell', 'seminaries', 'send', 'send', 'send', 'send', 'send', 'sense', 'sense', 'sensible', 'sensible', 'sensible', 'sensible', 'sent', 'sent', 'sent', 'sentiments', 'serious', 'servant', 'servant', 'servant', 'servants', 'servants', 'service', 'serving', 'set', 'set', 'settled', 'settled', 'settled', 'settled', 'settled', 'settled', 'settling', 'seven', 'several', 'several', 'several', 'severe', 'severe', 'sex', 'sex', 'shake', 'shall', 'shall', 'shall', 'shall', 'shall', 'shall', 'shall', 'shall', 'shall', 'shall', 'shall', 'shall', 'shall', 'shall', 'shall', 'shall', 'shall', 'shall', 'shall', 'shame', 'shameful', 'shape', 'share', 'share', 'sharpened', 'she', 'she', 'she', 'she', 'she', 'she', 'she', 'she', 'she', 'she', 'she', 'she', 'she', 'she', 'she', 'she', 'she', 'she', 'she', 'she', 'she', 'she', 'she', 'she', 'she', 'she', 'she', 'she', 'she', 'she', 'she', 'she', 'she', 'she', 'she', 'she', 'she', 'she', 'she', 'she', 'she', 'she', 'she', 'she', 'she', 'she', 'she', 'she', 'she', 'she', 'she', 'she', 'she', 'she', 'she', 'she', 'she', 'she', 'she', 'she', 'she', 'she', 'she', 'she', 'she', 'she', 'she', 'she', 'she', 'she', 'she', 'she', 'she', 'she', 'she', 'she', 'she', 'she', 'she', 'she', 'she', 'she', 'she', 'she', 'she', 'she', 'she', 'she', 'she', 'she', 'she', 'she', 'she', 'she', 'she', 'she', 'she', 'she', 'she', 'she', 'she', 'she', 'she', 'she', 'she', 'she', 'she', 'she', 'she', 'she', 'she', 'she', 'she', 'she', 'she', 'she', 'she', 'she', 'she', 'she', 'she', 'she', 'she', 'she', 'she', 'she', 'she', 'she', 'she', 'she', 'she', 'she', 'she', 'she', 'she', 'she', 'she', 'she', 'she', 'she', 'she', 'she', 'she', 'she', 'she', 'she', 'she', 'she', 'she', 'she', 'she', 'she', 'she', 'she', 'she', 'she', 'she', 'she', 'she', 'she', 'she', 'she', 'she', 'she', 'she', 'she', 'she', 'she', 'she', 'she', 'she', 'shew', 'shew', 'shew', 'shewed', 'shewn', 'shewn', 'shews', 'shocking', 'shocking', 'shop', 'shops', 'short', 'short', 'short', 'short', 'short', 'short', 'should', 'should', 'should', 'should', 'should', 'should', 'should', 'should', 'should', 'should', 'should', 'should', 'should', 'should', 'should', 'should', 'should', 'should', 'should', 'should', 'should', 'should', 'should', 'should', 'should', 'should', 'should', 'should', 'should', 'should', 'should', 'should', 'should', 'should', 'should', 'should', 'should', 'should', 'should', 'should', 'shrubbery', 'shut', 'sick', 'sick', 'side', 'sight', 'sight', 'signal', 'silence', 'silence', 'silence', 'silence', 'silent', 'silent', 'silently', 'silently', 'silliest', 'silly', 'silly', 'silly', 'silly', 'similar', 'simpleton', 'since', 'since', 'since', 'since', 'since', 'since', 'sing', 'sing', 'singing', 'single', 'single', 'single', 'single', 'singular', 'sir', 'sir', 'sir', 'sir', 'sir', 'sir', 'sir', 'sir', 'sir', 'sir', 'sir', 'sir', 'sir', 'sir', 'sir', 'sirand', 'sister', 'sister', 'sister', 'sister', 'sister', 'sister', 'sister', 'sister', 'sister', 'sister', 'sister', 'sister', 'sister', 'sister', 'sister', 'sister', 'sister', 'sister', 'sister', 'sister', 'sister', 'sister', 'sister', 'sister', 'sister', 'sister', 'sister', 'sisterinlaw', 'sisters', 'sisters', 'sisters', 'sisters', 'sisters', 'sisters', 'sisters', 'sisters', 'sisters', 'sisters', 'sisters', 'sisters', 'sisters', 'sisters', 'sisters', 'sisters', 'sisters', 'sisters', 'sisters', 'sisters', 'sisters', 'sisters', 'sit', 'sit', 'sitting', 'sitting', 'situation', 'situation', 'situation', 'six', 'six', 'six', 'six', 'six', 'sixth', 'size', 'skill', 'skill', 'skreen', 'skreens', 'slept', 'slight', 'slight', 'slighted', 'slighted', 'slightingly', 'slowly', 'slowly', 'small', 'small', 'smallest', 'smart', 'smile', 'smiled', 'smiled', 'smiled', 'smiled', 'smiled', 'smiles', 'smiling', 'so', 'so', 'so', 'so', 'so', 'so', 'so', 'so', 'so', 'so', 'so', 'so', 'so', 'so', 'so', 'so', 'so', 'so', 'so', 'so', 'so', 'so', 'so', 'so', 'so', 'so', 'so', 'so', 'so', 'so', 'so', 'so', 'so', 'so', 'so', 'so', 'so', 'so', 'so', 'so', 'so', 'so', 'so', 'so', 'so', 'so', 'so', 'so', 'so', 'so', 'so', 'so', 'so', 'so', 'so', 'so', 'so', 'so', 'so', 'so', 'so', 'so', 'so', 'so', 'so', 'so', 'so', 'so', 'so', 'so', 'so', 'so', 'so', 'so', 'so', 'so', 'so', 'so', 'so', 'so', 'so', 'so', 'so', 'so', 'sobut', 'societies', 'societies', 'society', 'society', 'society', 'solace', 'solaced', 'solely', 'solicitude', 'solicitude', 'solidity', 'some', 'some', 'some', 'some', 'some', 'some', 'some', 'some', 'some', 'some', 'some', 'some', 'some', 'some', 'some', 'some', 'some', 'some', 'some', 'some', 'some', 'some', 'some', 'some', 'some', 'somebody', 'somehow', 'something', 'something', 'something', 'something', 'something', 'something', 'something', 'something', 'something', 'something', 'something', 'something', 'something', 'sometimes', 'sometimes', 'sometimes', 'sometimes', 'sometimes', 'somewhat', 'somewhere', 'song', 'song', 'songs', 'sonnet', 'soon', 'soon', 'soon', 'soon', 'soon', 'soon', 'soon', 'soon', 'soon', 'soon', 'soon', 'soon', 'soon', 'soon', 'soon', 'soon', 'soon', 'soon', 'soon', 'soon', 'soon', 'sooner', 'sorethroat', 'sorry', 'sort', 'sort', 'sort', 'sort', 'sort', 'sound', 'sound', 'source', 'spare', 'sparkled', 'speak', 'speak', 'speak', 'speak', 'speak', 'speaking', 'speaking', 'speaking', 'speaking', 'speaking', 'speaks', 'speech', 'speech', 'spend', 'spending', 'spent', 'spent', 'spent', 'spent', 'spirit', 'spirit', 'spirits', 'spirits', 'spite', 'spite', 'spite', 'spite', 'splendid', 'spoilt', 'spoke', 'spoke', 'spoke', 'spoken', 'sprained', 'spring', 'springing', 'st', 'st', 'stairs', 'stand', 'stand', 'stand', 'stand', 'standing', 'standing', 'standing', 'stared', 'starting', 'starve', 'stationed', 'stay', 'stay', 'stay', 'stay', 'stay', 'stay', 'stays', 'steady', 'step', 'step', 'stiffness', 'stiles', 'still', 'still', 'still', 'still', 'still', 'still', 'still', 'still', 'stockings', 'stood', 'story', 'story', 'stout', 'stout', 'stoutly', 'strange', 'strange', 'stranger', 'strength', 'strength', 'stress', 'strictures', 'strong', 'strongly', 'struck', 'struck', 'struck', 'studier', 'studies', 'study', 'study', 'studying', 'stupid', 'stupider', 'style', 'style', 'subject', 'subject', 'subject', 'subject', 'subject', 'subject', 'subject', 'subject', 'subject', 'subject', 'subjects', 'subsisting', 'substantial', 'succeeded', 'succeeded', 'succeeded', 'succeeds', 'success', 'such', 'such', 'such', 'such', 'such', 'such', 'such', 'such', 'such', 'such', 'such', 'such', 'such', 'such', 'such', 'such', 'such', 'such', 'such', 'such', 'such', 'such', 'such', 'such', 'such', 'such', 'such', 'such', 'such', 'such', 'such', 'such', 'such', 'such', 'such', 'such', 'such', 'such', 'such', 'such', 'such', 'such', 'such', 'such', 'such', 'such', 'such', 'such', 'such', 'such', 'such', 'such', 'such', 'sudden', 'suddenly', 'suffer', 'suffered', 'suffers', 'sufficient', 'sufficiently', 'sufficiently', 'sufficiently', 'suit', 'suited', 'suiting', 'summoned', 'summoned', 'sunday', 'supercilious', 'superciliousness', 'superior', 'superior', 'superior', 'superior', 'supper', 'supplied', 'supply', 'supply', 'supply', 'suppose', 'suppose', 'suppose', 'supposebecause', 'supposed', 'supposed', 'supposed', 'supposed', 'supposed', 'supposition', 'suppositions', 'sure', 'sure', 'sure', 'sure', 'sure', 'sure', 'sure', 'sure', 'sure', 'sure', 'sure', 'sure', 'sure', 'sure', 'sure', 'sure', 'sure', 'sure', 'sure', 'surely', 'surmises', 'surpass', 'surpassing', 'surprise', 'surprise', 'surprised', 'surprised', 'surprised', 'surprisethat', 'surrounding', 'suspected', 'suspected', 'suspecting', 'suspecting', 'suspicions', 'sweet', 'sweet', 'sweet', 'sweet', 'sweetest', 'sweetness', 'sweetness', 'swell', 'syllablesdo', 'symmetry', 'symptoms', 'synonimously', 'table', 'table', 'table', 'table', 'tables', 'take', 'take', 'take', 'take', 'take', 'take', 'take', 'take', 'taken', 'taken', 'taken', 'taken', 'taken', 'taken', 'takes', 'taking', 'taking', 'talk', 'talk', 'talk', 'talked', 'talked', 'talking', 'talking', 'talking', 'talking', 'talking', 'tall', 'tall', 'tall', 'taller', 'tallest', 'taste', 'taste', 'taste', 'taste', 'tax', 'tear', 'teazed', 'teazing', 'teazing', 'tell', 'tell', 'tell', 'tell', 'tell', 'tell', 'tell', 'tell', 'tell', 'tell', 'tell', 'telling', 'temper', 'temper', 'temper', 'temper', 'temper', 'temper', 'temper', 'tempt', 'tempted', 'tempted', 'ten', 'ten', 'ten', 'tenant', 'tenderness', 'testified', 'than', 'than', 'than', 'than', 'than', 'than', 'than', 'than', 'than', 'than', 'than', 'than', 'than', 'than', 'than', 'than', 'than', 'than', 'than', 'than', 'than', 'than', 'than', 'than', 'than', 'than', 'than', 'than', 'than', 'than', 'than', 'than', 'than', 'than', 'than', 'than', 'than', 'thank', 'thanked', 'thankful', 'thankfully', 'thanks', 'thanks', 'that', 'that', 'that', 'that', 'that', 'that', 'that', 'that', 'that', 'that', 'that', 'that', 'that', 'that', 'that', 'that', 'that', 'that', 'that', 'that', 'that', 'that', 'that', 'that', 'that', 'that', 'that', 'that', 'that', 'that', 'that', 'that', 'that', 'that', 'that', 'that', 'that', 'that', 'that', 'that', 'that', 'that', 'that', 'that', 'that', 'that', 'that', 'that', 'that', 'that', 'that', 'that', 'that', 'that', 'that', 'that', 'that', 'that', 'that', 'that', 'that', 'that', 'that', 'that', 'that', 'that', 'that', 'that', 'that', 'that', 'that', 'that', 'that', 'that', 'that', 'that', 'that', 'that', 'that', 'that', 'that', 'that', 'that', 'that', 'that', 'that', 'that', 'that', 'that', 'that', 'that', 'that', 'that', 'that', 'that', 'that', 'that', 'that', 'that', 'that', 'that', 'that', 'that', 'that', 'that', 'that', 'that', 'that', 'that', 'that', 'that', 'that', 'that', 'that', 'that', 'that', 'that', 'that', 'that', 'that', 'that', 'that', 'that', 'that', 'that', 'that', 'that', 'that', 'that', 'that', 'that', 'that', 'that', 'that', 'that', 'that', 'that', 'that', 'that', 'that', 'that', 'that', 'that', 'that', 'that', 'that', 'that', 'that', 'that', 'that', 'that', 'that', 'that', 'that', 'that', 'that', 'that', 'that', 'that', 'that', 'that', 'that', 'that', 'that', 'that', 'that', 'that', 'that', 'that', 'that', 'that', 'that', 'that', 'that', 'that', 'that', 'that', 'that', 'that', 'that', 'that', 'that', 'that', 'that', 'the', 'the', 'the', 'the', 'the', 'the', 'the', 'the', 'the', 'the', 'the', 'the', 'the', 'the', 'the', 'the', 'the', 'the', 'the', 'the', 'the', 'the', 'the', 'the', 'the', 'the', 'the', 'the', 'the', 'the', 'the', 'the', 'the', 'the', 'the', 'the', 'the', 'the', 'the', 'the', 'the', 'the', 'the', 'the', 'the', 'the', 'the', 'the', 'the', 'the', 'the', 'the', 'the', 'the', 'the', 'the', 'the', 'the', 'the', 'the', 'the', 'the', 'the', 'the', 'the', 'the', 'the', 'the', 'the', 'the', 'the', 'the', 'the', 'the', 'the', 'the', 'the', 'the', 'the', 'the', 'the', 'the', 'the', 'the', 'the', 'the', 'the', 'the', 'the', 'the', 'the', 'the', 'the', 'the', 'the', 'the', 'the', 'the', 'the', 'the', 'the', 'the', 'the', 'the', 'the', 'the', 'the', 'the', 'the', 'the', 'the', 'the', 'the', 'the', 'the', 'the', 'the', 'the', 'the', 'the', 'the', 'the', 'the', 'the', 'the', 'the', 'the', 'the', 'the', 'the', 'the', 'the', 'the', 'the', 'the', 'the', 'the', 'the', 'the', 'the', 'the', 'the', 'the', 'the', 'the', 'the', 'the', 'the', 'the', 'the', 'the', 'the', 'the', 'the', 'the', 'the', 'the', 'the', 'the', 'the', 'the', 'the', 'the', 'the', 'the', 'the', 'the', 'the', 'the', 'the', 'the', 'the', 'the', 'the', 'the', 'the', 'the', 'the', 'the', 'the', 'the', 'the', 'the', 'the', 'the', 'the', 'the', 'the', 'the', 'the', 'the', 'the', 'the', 'the', 'the', 'the', 'the', 'the', 'the', 'the', 'the', 'the', 'the', 'the', 'the', 'the', 'the', 'the', 'the', 'the', 'the', 'the', 'the', 'the', 'the', 'the', 'the', 'the', 'the', 'the', 'the', 'the', 'the', 'the', 'the', 'the', 'the', 'the', 'the', 'the', 'the', 'the', 'the', 'the', 'the', 'the', 'the', 'the', 'the', 'the', 'the', 'the', 'the', 'the', 'the', 'the', 'the', 'the', 'the', 'the', 'the', 'the', 'the', 'the', 'the', 'the', 'the', 'the', 'the', 'the', 'the', 'the', 'the', 'the', 'the', 'the', 'the', 'the', 'the', 'the', 'the', 'the', 'the', 'the', 'the', 'the', 'the', 'the', 'the', 'the', 'the', 'the', 'the', 'the', 'the', 'the', 'the', 'the', 'the', 'the', 'the', 'the', 'the', 'the', 'the', 'the', 'the', 'the', 'the', 'the', 'the', 'the', 'the', 'the', 'the', 'the', 'the', 'the', 'the', 'the', 'the', 'the', 'the', 'the', 'the', 'the', 'the', 'the', 'the', 'the', 'the', 'the', 'the', 'the', 'the', 'the', 'the', 'the', 'the', 'the', 'the', 'the', 'the', 'the', 'the', 'the', 'the', 'the', 'the', 'the', 'the', 'the', 'the', 'the', 'the', 'the', 'the', 'the', 'the', 'the', 'the', 'the', 'the', 'the', 'the', 'the', 'the', 'the', 'the', 'the', 'the', 'the', 'the', 'the', 'the', 'the', 'the', 'the', 'the', 'the', 'the', 'the', 'the', 'the', 'the', 'the', 'the', 'the', 'the', 'the', 'the', 'the', 'the', 'the', 'the', 'the', 'the', 'the', 'the', 'the', 'the', 'the', 'the', 'the', 'the', 'the', 'the', 'the', 'the', 'the', 'the', 'the', 'the', 'the', 'the', 'the', 'the', 'the', 'the', 'the', 'the', 'the', 'the', 'the', 'the', 'the', 'the', 'the', 'the', 'the', 'the', 'the', 'the', 'the', 'the', 'the', 'the', 'the', 'the', 'the', 'the', 'the', 'the', 'the', 'the', 'the', 'the', 'the', 'the', 'the', 'the', 'the', 'the', 'the', 'the', 'the', 'the', 'the', 'the', 'the', 'the', 'the', 'the', 'the', 'the', 'the', 'the', 'the', 'the', 'the', 'the', 'the', 'the', 'the', 'the', 'the', 'the', 'the', 'the', 'the', 'the', 'the', 'the', 'the', 'the', 'the', 'the', 'the', 'the', 'the', 'the', 'the', 'the', 'the', 'the', 'the', 'the', 'the', 'the', 'the', 'the', 'the', 'the', 'the', 'the', 'the', 'the', 'the', 'the', 'the', 'the', 'the', 'the', 'the', 'the', 'the', 'the', 'the', 'the', 'the', 'the', 'the', 'the', 'the', 'the', 'the', 'the', 'the', 'the', 'the', 'the', 'the', 'the', 'their', 'their', 'their', 'their', 'their', 'their', 'their', 'their', 'their', 'their', 'their', 'their', 'their', 'their', 'their', 'their', 'their', 'their', 'their', 'their', 'their', 'their', 'their', 'their', 'their', 'their', 'their', 'their', 'their', 'their', 'their', 'their', 'their', 'their', 'their', 'their', 'their', 'their', 'their', 'their', 'their', 'their', 'their', 'their', 'their', 'their', 'their', 'their', 'their', 'their', 'their', 'their', 'their', 'their', 'their', 'their', 'their', 'their', 'their', 'their', 'theirs', 'them', 'them', 'them', 'them', 'them', 'them', 'them', 'them', 'them', 'them', 'them', 'them', 'them', 'them', 'them', 'them', 'them', 'them', 'them', 'them', 'them', 'them', 'them', 'them', 'them', 'them', 'them', 'them', 'them', 'them', 'them', 'them', 'them', 'them', 'them', 'them', 'them', 'them', 'them', 'them', 'them', 'them', 'them', 'them', 'them', 'them', 'them', 'them', 'them', 'them', 'them', 'themby', 'themselves', 'themselves', 'themselves', 'themselves', 'themselves', 'themselves', 'themselves', 'themselves', 'themselves', 'then', 'then', 'then', 'then', 'then', 'then', 'then', 'then', 'then', 'then', 'then', 'then', 'then', 'then', 'then', 'then', 'then', 'then', 'then', 'then', 'there', 'there', 'there', 'there', 'there', 'there', 'there', 'there', 'there', 'there', 'there', 'there', 'there', 'there', 'there', 'there', 'there', 'there', 'there', 'there', 'there', 'there', 'there', 'there', 'there', 'there', 'there', 'there', 'there', 'there', 'there', 'there', 'there', 'there', 'there', 'there', 'there', 'there', 'there', 'there', 'thereby', 'thereby', 'therefore', 'therefore', 'therefore', 'therefore', 'therefore', 'therefore', 'therefore', 'therefore', 'therefore', 'therefore', 'therefore', 'therefore', 'therefore', 'therefore', 'thereupon', 'these', 'these', 'these', 'these', 'these', 'these', 'they', 'they', 'they', 'they', 'they', 'they', 'they', 'they', 'they', 'they', 'they', 'they', 'they', 'they', 'they', 'they', 'they', 'they', 'they', 'they', 'they', 'they', 'they', 'they', 'they', 'they', 'they', 'they', 'they', 'they', 'they', 'they', 'they', 'they', 'they', 'they', 'they', 'they', 'they', 'they', 'they', 'they', 'they', 'they', 'they', 'they', 'they', 'they', 'they', 'they', 'they', 'they', 'they', 'they', 'they', 'they', 'they', 'they', 'they', 'they', 'they', 'they', 'they', 'they', 'they', 'they', 'they', 'they', 'they', 'they', 'they', 'they', 'they', 'they', 'thin', 'thing', 'thing', 'thing', 'thing', 'thing', 'thing', 'thing', 'thing', 'thing', 'thing', 'thing', 'thing', 'thing', 'thing', 'things', 'things', 'things', 'think', 'think', 'think', 'think', 'think', 'think', 'think', 'think', 'think', 'think', 'think', 'think', 'think', 'think', 'think', 'think', 'think', 'think', 'think', 'think', 'think', 'think', 'think', 'think', 'think', 'think', 'think', 'think', 'think', 'think', 'think', 'think', 'think', 'think', 'think', 'thinking', 'thinking', 'thinking', 'thinking', 'third', 'this', 'this', 'this', 'this', 'this', 'this', 'this', 'this', 'this', 'this', 'this', 'this', 'this', 'this', 'this', 'this', 'this', 'this', 'this', 'this', 'this', 'this', 'this', 'this', 'this', 'this', 'this', 'this', 'this', 'this', 'this', 'this', 'this', 'this', 'this', 'this', 'this', 'this', 'this', 'this', 'this', 'this', 'this', 'this', 'this', 'this', 'this', 'this', 'this', 'this', 'this', 'this', 'this', 'this', 'this', 'this', 'this', 'this', 'this', 'thither', 'thorough', 'those', 'those', 'those', 'those', 'those', 'those', 'those', 'those', 'those', 'those', 'though', 'though', 'though', 'though', 'though', 'though', 'though', 'though', 'though', 'though', 'though', 'though', 'though', 'though', 'though', 'though', 'though', 'though', 'though', 'though', 'though', 'though', 'though', 'though', 'though', 'though', 'though', 'though', 'though', 'thought', 'thought', 'thought', 'thought', 'thought', 'thought', 'thought', 'thought', 'thought', 'thought', 'thought', 'thoughts', 'thoughts', 'thoughts', 'thousand', 'thousand', 'thousand', 'thousand', 'thousand', 'thousand', 'thousand', 'thousand', 'three', 'three', 'three', 'three', 'three', 'three', 'three', 'three', 'three', 'three', 'three', 'through', 'through', 'throw', 'thus', 'thus', 'thus', 'tide', 'till', 'till', 'till', 'till', 'till', 'till', 'till', 'till', 'till', 'till', 'till', 'till', 'till', 'till', 'till', 'time', 'time', 'time', 'time', 'time', 'time', 'time', 'time', 'time', 'time', 'time', 'time', 'time', 'time', 'time', 'time', 'time', 'times', 'times', 'times', 'times', 'times', 'tiresome', 'to', 'to', 'to', 'to', 'to', 'to', 'to', 'to', 'to', 'to', 'to', 'to', 'to', 'to', 'to', 'to', 'to', 'to', 'to', 'to', 'to', 'to', 'to', 'to', 'to', 'to', 'to', 'to', 'to', 'to', 'to', 'to', 'to', 'to', 'to', 'to', 'to', 'to', 'to', 'to', 'to', 'to', 'to', 'to', 'to', 'to', 'to', 'to', 'to', 'to', 'to', 'to', 'to', 'to', 'to', 'to', 'to', 'to', 'to', 'to', 'to', 'to', 'to', 'to', 'to', 'to', 'to', 'to', 'to', 'to', 'to', 'to', 'to', 'to', 'to', 'to', 'to', 'to', 'to', 'to', 'to', 'to', 'to', 'to', 'to', 'to', 'to', 'to', 'to', 'to', 'to', 'to', 'to', 'to', 'to', 'to', 'to', 'to', 'to', 'to', 'to', 'to', 'to', 'to', 'to', 'to', 'to', 'to', 'to', 'to', 'to', 'to', 'to', 'to', 'to', 'to', 'to', 'to', 'to', 'to', 'to', 'to', 'to', 'to', 'to', 'to', 'to', 'to', 'to', 'to', 'to', 'to', 'to', 'to', 'to', 'to', 'to', 'to', 'to', 'to', 'to', 'to', 'to', 'to', 'to', 'to', 'to', 'to', 'to', 'to', 'to', 'to', 'to', 'to', 'to', 'to', 'to', 'to', 'to', 'to', 'to', 'to', 'to', 'to', 'to', 'to', 'to', 'to', 'to', 'to', 'to', 'to', 'to', 'to', 'to', 'to', 'to', 'to', 'to', 'to', 'to', 'to', 'to', 'to', 'to', 'to', 'to', 'to', 'to', 'to', 'to', 'to', 'to', 'to', 'to', 'to', 'to', 'to', 'to', 'to', 'to', 'to', 'to', 'to', 'to', 'to', 'to', 'to', 'to', 'to', 'to', 'to', 'to', 'to', 'to', 'to', 'to', 'to', 'to', 'to', 'to', 'to', 'to', 'to', 'to', 'to', 'to', 'to', 'to', 'to', 'to', 'to', 'to', 'to', 'to', 'to', 'to', 'to', 'to', 'to', 'to', 'to', 'to', 'to', 'to', 'to', 'to', 'to', 'to', 'to', 'to', 'to', 'to', 'to', 'to', 'to', 'to', 'to', 'to', 'to', 'to', 'to', 'to', 'to', 'to', 'to', 'to', 'to', 'to', 'to', 'to', 'to', 'to', 'to', 'to', 'to', 'to', 'to', 'to', 'to', 'to', 'to', 'to', 'to', 'to', 'to', 'to', 'to', 'to', 'to', 'to', 'to', 'to', 'to', 'to', 'to', 'to', 'to', 'to', 'to', 'to', 'to', 'to', 'to', 'to', 'to', 'to', 'to', 'to', 'to', 'to', 'to', 'to', 'to', 'to', 'to', 'to', 'to', 'to', 'to', 'to', 'to', 'to', 'to', 'to', 'to', 'to', 'to', 'to', 'to', 'to', 'to', 'to', 'to', 'to', 'to', 'to', 'to', 'to', 'to', 'to', 'to', 'to', 'to', 'to', 'to', 'to', 'to', 'to', 'to', 'to', 'to', 'to', 'to', 'to', 'to', 'to', 'to', 'to', 'to', 'to', 'to', 'to', 'to', 'to', 'to', 'to', 'to', 'to', 'to', 'to', 'to', 'to', 'to', 'to', 'to', 'to', 'to', 'to', 'to', 'to', 'to', 'to', 'to', 'to', 'to', 'to', 'to', 'to', 'to', 'to', 'to', 'to', 'to', 'to', 'to', 'to', 'to', 'to', 'to', 'to', 'to', 'to', 'to', 'to', 'to', 'to', 'to', 'to', 'to', 'to', 'to', 'to', 'to', 'to', 'to', 'to', 'to', 'to', 'to', 'to', 'to', 'to', 'to', 'to', 'to', 'to', 'to', 'to', 'to', 'to', 'to', 'to', 'to', 'to', 'to', 'to', 'to', 'to', 'to', 'to', 'to', 'to', 'to', 'to', 'to', 'to', 'to', 'to', 'to', 'to', 'to', 'to', 'to', 'to', 'to', 'to', 'to', 'to', 'to', 'to', 'to', 'to', 'to', 'to', 'to', 'to', 'to', 'to', 'to', 'to', 'to', 'to', 'to', 'to', 'to', 'to', 'to', 'to', 'to', 'to', 'to', 'to', 'to', 'to', 'to', 'to', 'to', 'to', 'to', 'today', 'today', 'together', 'together', 'together', 'together', 'together', 'togetherand', 'told', 'told', 'told', 'told', 'told', 'told', 'tolerable', 'tolerable', 'tolerable', 'tolerable', 'tolerably', 'tomorrow', 'tomorrow', 'tone', 'tongue', 'too', 'too', 'too', 'too', 'too', 'too', 'too', 'too', 'too', 'too', 'too', 'too', 'too', 'too', 'too', 'too', 'too', 'too', 'took', 'took', 'took', 'totally', 'towards', 'towards', 'towards', 'towards', 'towards', 'towards', 'towards', 'towards', 'towards', 'town', 'town', 'town', 'town', 'town', 'town', 'town', 'town', 'town', 'town', 'town', 'town', 'trade', 'trade', 'trade', 'treated', 'treatment', 'tremble', 'trespass', 'tried', 'trifling', 'trimming', 'triumph', 'troubling', 'true', 'true', 'true', 'trust', 'truth', 'truth', 'truth', 'ttette', 'tumult', 'turn', 'turn', 'turn', 'turn', 'turned', 'turned', 'turned', 'turned', 'turned', 'turning', 'turning', 'twelve', 'twelve', 'twelvemonth', 'twenty', 'twenty', 'twenty', 'twenty', 'twenty', 'twenty', 'twentyseven', 'twice', 'twice', 'twice', 'twice', 'two', 'two', 'two', 'two', 'two', 'two', 'two', 'two', 'two', 'two', 'two', 'two', 'two', 'two', 'two', 'two', 'two', 'two', 'two', 'two', 'two', 'two', 'two', 'two', 'two', 'two', 'unable', 'unable', 'unaffected', 'unaffected', 'unaffectedly', 'unassailed', 'unawareto', 'uncertain', 'uncle', 'uncle', 'uncle', 'uncles', 'uncles', 'uncomfortable', 'uncommon', 'uncommonly', 'uncommonly', 'uncommonly', 'uncommonly', 'uncommonly', 'unconcern', 'under', 'under', 'understand', 'understand', 'understand', 'understanding', 'understanding', 'understanding', 'undervaluing', 'undone', 'undoubtedly', 'undoubtedly', 'uneasy', 'unfolded', 'unfortunately', 'uniform', 'unison', 'united', 'united', 'universally', 'unknown', 'unless', 'unless', 'unlike', 'unlucky', 'unlucky', 'unreserved', 'unshackled', 'untidy', 'unvarying', 'unwell', 'unwilling', 'unwilling', 'unwilling', 'unwillingly', 'unworthy', 'up', 'up', 'up', 'up', 'up', 'up', 'up', 'up', 'up', 'upon', 'upon', 'upon', 'upon', 'upon', 'upon', 'upon', 'upon', 'upon', 'upon', 'upon', 'upon', 'upper', 'urged', 'us', 'us', 'us', 'us', 'us', 'us', 'us', 'us', 'us', 'us', 'us', 'us', 'us', 'us', 'us', 'us', 'use', 'used', 'used', 'used', 'usually', 'usually', 'v', 'vacant', 'vain', 'vain', 'valuable', 'value', 'vanity', 'vanity', 'vanity', 'vanity', 'vanity', 'varied', 'variety', 'various', 'vast', 'vast', 'venture', 'verses', 'very', 'very', 'very', 'very', 'very', 'very', 'very', 'very', 'very', 'very', 'very', 'very', 'very', 'very', 'very', 'very', 'very', 'very', 'very', 'very', 'very', 'very', 'very', 'very', 'very', 'very', 'very', 'very', 'very', 'very', 'very', 'very', 'very', 'very', 'very', 'very', 'very', 'very', 'very', 'very', 'very', 'very', 'very', 'very', 'very', 'very', 'very', 'very', 'very', 'very', 'very', 'very', 'very', 'very', 'very', 'very', 'very', 'very', 'very', 'very', 'very', 'very', 'very', 'very', 'very', 'very', 'very', 'very', 'very', 'very', 'very', 'very', 'very', 'very', 'very', 'very', 'very', 'very', 'very', 'very', 'very', 'very', 'very', 'very', 'very', 'vexation', 'vexed', 'vexed', 'vexing', 'vi', 'victory', 'view', 'views', 'views', 'vii', 'viii', 'village', 'village', 'vingtun', 'violent', 'violent', 'visit', 'visit', 'visit', 'visit', 'visit', 'visit', 'visit', 'visit', 'visit', 'visit', 'visit', 'visit', 'visit', 'visit', 'visit', 'visit', 'visited', 'visiting', 'visits', 'vogue', 'voice', 'vulgar', 'wait', 'wait', 'waited', 'waited', 'waited', 'waited', 'waiting', 'waiting', 'walk', 'walk', 'walk', 'walk', 'walk', 'walk', 'walk', 'walk', 'walk', 'walk', 'walked', 'walked', 'walked', 'walked', 'walked', 'walked', 'walker', 'walking', 'walking', 'walking', 'walking', 'want', 'want', 'want', 'want', 'want', 'want', 'want', 'wanted', 'wanted', 'wanted', 'wanted', 'wanted', 'wanting', 'warmly', 'warmth', 'was', 'was', 'was', 'was', 'was', 'was', 'was', 'was', 'was', 'was', 'was', 'was', 'was', 'was', 'was', 'was', 'was', 'was', 'was', 'was', 'was', 'was', 'was', 'was', 'was', 'was', 'was', 'was', 'was', 'was', 'was', 'was', 'was', 'was', 'was', 'was', 'was', 'was', 'was', 'was', 'was', 'was', 'was', 'was', 'was', 'was', 'was', 'was', 'was', 'was', 'was', 'was', 'was', 'was', 'was', 'was', 'was', 'was', 'was', 'was', 'was', 'was', 'was', 'was', 'was', 'was', 'was', 'was', 'was', 'was', 'was', 'was', 'was', 'was', 'was', 'was', 'was', 'was', 'was', 'was', 'was', 'was', 'was', 'was', 'was', 'was', 'was', 'was', 'was', 'was', 'was', 'was', 'was', 'was', 'was', 'was', 'was', 'was', 'was', 'was', 'was', 'was', 'was', 'was', 'was', 'was', 'was', 'was', 'was', 'was', 'was', 'was', 'was', 'was', 'was', 'was', 'was', 'was', 'was', 'was', 'was', 'was', 'was', 'was', 'was', 'was', 'was', 'was', 'was', 'was', 'was', 'was', 'was', 'was', 'was', 'was', 'was', 'was', 'was', 'was', 'was', 'was', 'was', 'was', 'was', 'was', 'was', 'was', 'was', 'was', 'was', 'was', 'was', 'was', 'was', 'was', 'was', 'was', 'was', 'was', 'was', 'was', 'was', 'was', 'was', 'was', 'was', 'was', 'was', 'was', 'was', 'was', 'was', 'was', 'was', 'was', 'was', 'was', 'was', 'was', 'was', 'was', 'was', 'was', 'was', 'was', 'was', 'was', 'was', 'was', 'was', 'was', 'was', 'was', 'was', 'was', 'was', 'was', 'was', 'was', 'was', 'was', 'was', 'wasting', 'watching', 'watsons', 'way', 'way', 'way', 'way', 'way', 'way', 'way', 'way', 'way', 'way', 'way', 'way', 'ways', 'we', 'we', 'we', 'we', 'we', 'we', 'we', 'we', 'we', 'we', 'we', 'we', 'we', 'we', 'we', 'we', 'we', 'we', 'we', 'we', 'we', 'we', 'we', 'we', 'we', 'weary', 'weather', 'week', 'week', 'week', 'weight', 'well', 'well', 'well', 'well', 'well', 'well', 'well', 'well', 'well', 'well', 'well', 'well', 'well', 'well', 'well', 'well', 'well', 'well', 'well', 'well', 'well', 'well', 'well', 'well', 'well', 'well', 'well', 'well', 'well', 'welland', 'wellgrown', 'were', 'were', 'were', 'were', 'were', 'were', 'were', 'were', 'were', 'were', 'were', 'were', 'were', 'were', 'were', 'were', 'were', 'were', 'were', 'were', 'were', 'were', 'were', 'were', 'were', 'were', 'were', 'were', 'were', 'were', 'were', 'were', 'were', 'were', 'were', 'were', 'were', 'were', 'were', 'were', 'were', 'were', 'were', 'were', 'were', 'were', 'were', 'were', 'were', 'were', 'were', 'were', 'were', 'were', 'were', 'were', 'were', 'were', 'were', 'were', 'were', 'were', 'were', 'were', 'were', 'were', 'were', 'were', 'were', 'were', 'wet', 'what', 'what', 'what', 'what', 'what', 'what', 'what', 'what', 'what', 'what', 'what', 'what', 'what', 'what', 'what', 'what', 'what', 'what', 'what', 'what', 'what', 'what', 'what', 'what', 'what', 'what', 'what', 'what', 'what', 'what', 'what', 'what', 'what', 'what', 'what', 'what', 'what', 'what', 'what', 'what', 'what', 'what', 'what', 'what', 'what', 'whatever', 'whatever', 'whatever', 'whatever', 'whatsomething', 'when', 'when', 'when', 'when', 'when', 'when', 'when', 'when', 'when', 'when', 'when', 'when', 'when', 'when', 'when', 'when', 'when', 'when', 'when', 'when', 'when', 'when', 'when', 'when', 'when', 'when', 'when', 'when', 'when', 'when', 'when', 'when', 'when', 'when', 'when', 'when', 'when', 'when', 'when', 'when', 'when', 'when', 'when', 'when', 'when', 'when', 'when', 'when', 'when', 'when', 'when', 'when', 'when', 'when', 'whenever', 'where', 'where', 'where', 'where', 'where', 'where', 'where', 'where', 'where', 'where', 'where', 'where', 'where', 'where', 'wherever', 'whether', 'whether', 'whether', 'whether', 'which', 'which', 'which', 'which', 'which', 'which', 'which', 'which', 'which', 'which', 'which', 'which', 'which', 'which', 'which', 'which', 'which', 'which', 'which', 'which', 'which', 'which', 'which', 'which', 'which', 'which', 'which', 'which', 'which', 'which', 'which', 'which', 'which', 'which', 'which', 'which', 'which', 'which', 'which', 'which', 'which', 'which', 'which', 'which', 'which', 'which', 'which', 'which', 'which', 'which', 'which', 'while', 'while', 'while', 'while', 'while', 'while', 'while', 'while', 'while', 'while', 'whisper', 'whispering', 'who', 'who', 'who', 'who', 'who', 'who', 'who', 'who', 'who', 'who', 'who', 'who', 'who', 'who', 'who', 'who', 'who', 'who', 'who', 'who', 'who', 'who', 'who', 'who', 'who', 'who', 'who', 'who', 'who', 'who', 'who', 'who', 'who', 'who', 'who', 'who', 'who', 'who', 'who', 'who', 'who', 'who', 'who', 'whole', 'whole', 'whole', 'whole', 'whole', 'whole', 'whole', 'whole', 'wholly', 'whom', 'whom', 'whom', 'whom', 'whom', 'whom', 'whom', 'whom', 'whom', 'whom', 'whom', 'whose', 'whose', 'whose', 'why', 'why', 'why', 'why', 'wide', 'wife', 'wife', 'wife', 'wife', 'wife', 'wife', 'wife', 'wifes', 'wild', 'wild', 'will', 'will', 'will', 'will', 'will', 'will', 'will', 'will', 'will', 'will', 'will', 'will', 'will', 'will', 'will', 'will', 'will', 'will', 'will', 'will', 'will', 'will', 'will', 'will', 'will', 'will', 'will', 'will', 'will', 'will', 'will', 'will', 'will', 'will', 'will', 'will', 'will', 'will', 'will', 'will', 'will', 'will', 'will', 'will', 'will', 'will', 'will', 'will', 'will', 'william', 'william', 'william', 'william', 'william', 'william', 'william', 'william', 'william', 'william', 'williams', 'window', 'wine', 'winter', 'wish', 'wish', 'wish', 'wish', 'wish', 'wish', 'wish', 'wish', 'wish', 'wish', 'wish', 'wish', 'wish', 'wish', 'wish', 'wish', 'wish', 'wish', 'wish', 'wished', 'wished', 'wished', 'wishing', 'wit', 'with', 'with', 'with', 'with', 'with', 'with', 'with', 'with', 'with', 'with', 'with', 'with', 'with', 'with', 'with', 'with', 'with', 'with', 'with', 'with', 'with', 'with', 'with', 'with', 'with', 'with', 'with', 'with', 'with', 'with', 'with', 'with', 'with', 'with', 'with', 'with', 'with', 'with', 'with', 'with', 'with', 'with', 'with', 'with', 'with', 'with', 'with', 'with', 'with', 'with', 'with', 'with', 'with', 'with', 'with', 'with', 'with', 'with', 'with', 'with', 'with', 'with', 'with', 'with', 'with', 'with', 'with', 'with', 'with', 'with', 'with', 'with', 'with', 'with', 'with', 'with', 'with', 'with', 'with', 'with', 'with', 'with', 'with', 'with', 'with', 'with', 'with', 'with', 'with', 'with', 'with', 'with', 'with', 'with', 'with', 'with', 'with', 'with', 'with', 'with', 'with', 'with', 'with', 'with', 'with', 'with', 'with', 'with', 'with', 'with', 'with', 'with', 'with', 'with', 'with', 'with', 'with', 'with', 'with', 'with', 'with', 'with', 'with', 'with', 'with', 'with', 'with', 'with', 'with', 'with', 'with', 'with', 'with', 'with', 'with', 'with', 'with', 'with', 'with', 'with', 'with', 'with', 'with', 'with', 'with', 'with', 'with', 'with', 'with', 'with', 'with', 'with', 'with', 'with', 'with', 'with', 'with', 'with', 'with', 'with', 'with', 'with', 'with', 'with', 'with', 'with', 'with', 'with', 'withdrew', 'withheld', 'within', 'within', 'within', 'withkeep', 'without', 'without', 'without', 'without', 'without', 'without', 'without', 'without', 'without', 'without', 'without', 'without', 'without', 'without', 'without', 'without', 'without', 'without', 'witticisms', 'wives', 'woman', 'woman', 'woman', 'woman', 'woman', 'woman', 'woman', 'woman', 'woman', 'woman', 'woman', 'woman', 'woman', 'woman', 'woman', 'woman', 'woman', 'woman', 'women', 'women', 'women', 'women', 'women', 'women', 'women', 'wonder', 'wonder', 'wonder', 'wonder', 'wonder', 'wonder', 'wonderfully', 'word', 'word', 'word', 'word', 'word', 'word', 'word', 'word', 'word', 'words', 'words', 'words', 'wordwell', 'wore', 'work', 'work', 'worked', 'world', 'world', 'world', 'world', 'world', 'world', 'world', 'world', 'world', 'worldevery', 'worse', 'worse', 'worth', 'worth', 'worth', 'worthless', 'would', 'would', 'would', 'would', 'would', 'would', 'would', 'would', 'would', 'would', 'would', 'would', 'would', 'would', 'would', 'would', 'would', 'would', 'would', 'would', 'would', 'would', 'would', 'would', 'would', 'would', 'would', 'would', 'would', 'would', 'would', 'would', 'would', 'would', 'would', 'would', 'would', 'would', 'would', 'would', 'would', 'would', 'would', 'would', 'would', 'would', 'would', 'would', 'would', 'would', 'would', 'would', 'would', 'would', 'would', 'would', 'would', 'would', 'would', 'would', 'would', 'would', 'would', 'wretchedness', 'write', 'write', 'write', 'write', 'write', 'write', 'write', 'write', 'write', 'writes', 'writing', 'writing', 'writing', 'wrong', 'wrong', 'wrote', 'x', 'year', 'year', 'year', 'year', 'year', 'year', 'years', 'years', 'years', 'yes', 'yes', 'yes', 'yes', 'yes', 'yes', 'yes', 'yes', 'yes', 'yes', 'yesbut', 'yesbut', 'yesbut', 'yesdo', 'yesi', 'yesit', 'yesterday', 'yesterday', 'yet', 'yet', 'yet', 'yet', 'yet', 'yet', 'yet', 'yet', 'yield', 'yield', 'yield', 'yielding', 'you', 'you', 'you', 'you', 'you', 'you', 'you', 'you', 'you', 'you', 'you', 'you', 'you', 'you', 'you', 'you', 'you', 'you', 'you', 'you', 'you', 'you', 'you', 'you', 'you', 'you', 'you', 'you', 'you', 'you', 'you', 'you', 'you', 'you', 'you', 'you', 'you', 'you', 'you', 'you', 'you', 'you', 'you', 'you', 'you', 'you', 'you', 'you', 'you', 'you', 'you', 'you', 'you', 'you', 'you', 'you', 'you', 'you', 'you', 'you', 'you', 'you', 'you', 'you', 'you', 'you', 'you', 'you', 'you', 'you', 'you', 'you', 'you', 'you', 'you', 'you', 'you', 'you', 'you', 'you', 'you', 'you', 'you', 'you', 'you', 'you', 'you', 'you', 'you', 'you', 'you', 'you', 'you', 'you', 'you', 'you', 'you', 'you', 'you', 'you', 'you', 'you', 'you', 'you', 'you', 'you', 'you', 'you', 'you', 'you', 'you', 'you', 'you', 'you', 'you', 'you', 'you', 'you', 'you', 'you', 'you', 'you', 'you', 'you', 'you', 'you', 'you', 'you', 'you', 'you', 'you', 'you', 'you', 'you', 'you', 'you', 'you', 'you', 'you', 'you', 'you', 'you', 'you', 'you', 'you', 'you', 'you', 'you', 'you', 'you', 'you', 'you', 'you', 'you', 'you', 'you', 'you', 'you', 'you', 'you', 'you', 'you', 'you', 'you', 'you', 'you', 'you', 'you', 'you', 'you', 'you', 'you', 'you', 'you', 'you', 'you', 'you', 'you', 'you', 'you', 'you', 'you', 'you', 'you', 'you', 'you', 'you', 'you', 'you', 'you', 'you', 'you', 'you', 'you', 'you', 'you', 'you', 'you', 'you', 'you', 'you', 'you', 'you', 'you', 'you', 'you', 'you', 'you', 'you', 'you', 'you', 'you', 'you', 'you', 'you', 'you', 'you', 'you', 'you', 'you', 'you', 'you', 'you', 'you', 'you', 'you', 'you', 'you', 'you', 'you', 'you', 'you', 'you', 'you', 'you', 'you', 'you', 'you', 'you', 'you', 'you', 'youbut', 'young', 'young', 'young', 'young', 'young', 'young', 'young', 'young', 'young', 'young', 'young', 'young', 'young', 'young', 'young', 'young', 'young', 'young', 'young', 'young', 'young', 'young', 'young', 'younger', 'younger', 'younger', 'younger', 'youngest', 'youngest', 'youngest', 'youngest', 'youngest', 'youngest', 'youngest', 'youngest', 'your', 'your', 'your', 'your', 'your', 'your', 'your', 'your', 'your', 'your', 'your', 'your', 'your', 'your', 'your', 'your', 'your', 'your', 'your', 'your', 'your', 'your', 'your', 'your', 'your', 'your', 'your', 'your', 'your', 'your', 'your', 'your', 'your', 'your', 'your', 'your', 'your', 'your', 'your', 'your', 'your', 'your', 'your', 'your', 'your', 'your', 'your', 'your', 'your', 'your', 'your', 'your', 'your', 'your', 'your', 'your', 'your', 'your', 'your', 'your', 'your', 'your', 'your', 'your', 'your', 'your', 'yours', 'yours', 'yours', 'yours', 'yours', 'yours', 'yours', 'yourself', 'yourself', 'yourself', 'yourself', 'yourself', 'yourselfand']\n"
     ]
    }
   ],
   "source": [
    "# We can sort the list, and have a look how it looks like.\n",
    "\n",
    "tokens_sorted = tokens\n",
    "tokens_sorted.sort()\n",
    "\n",
    "print(tokens_sorted)\n"
   ]
  },
  {
   "cell_type": "code",
   "execution_count": 11,
   "id": "701e2f42-9ca9-4912-a189-5f1ff6b76bf4",
   "metadata": {},
   "outputs": [],
   "source": [
    "# For more counting, it is possible to use Counters, which is a collection or a container for counting elements part of our variables.\n",
    "\n",
    "# We could also take this work list to excel for instance, and continue counting and visualization there\n",
    "\n",
    "# However, we will do more counting with Pandas dataframes in the following:\n"
   ]
  },
  {
   "cell_type": "code",
   "execution_count": 12,
   "id": "dc3d80c9-2855-45a6-bf9b-8a7599010118",
   "metadata": {},
   "outputs": [],
   "source": [
    "# Let's continue with spacy for some operations: we import spacy, load the language model, and process our text into a Spacy Doc object called here part1_doc\n",
    "\n",
    "import spacy\n",
    "\n",
    "nlp = spacy.load(\"en_core_web_sm\")\n",
    "\n",
    "chapters_doc = nlp(chapters, disable=[\"parser\", \"ner\"])  # We disable the parser and ner processes with are part of the Spacy nlp pipeline to gain some speed"
   ]
  },
  {
   "cell_type": "code",
   "execution_count": 13,
   "id": "1a17729e-3042-4cc2-9e83-3b785b5e6781",
   "metadata": {},
   "outputs": [
    {
     "name": "stdout",
     "output_type": "stream",
     "text": [
      "['truth', 'universally', 'acknowledge', 'single', 'man', 'possession', 'good', 'fortune', 'want', 'wife', 'little', 'know', 'feeling', 'view', 'man', 'enter', 'neighbourhood', 'truth', 'fix', 'mind', 'surround', 'family', 'consider', 'rightful', 'property', 'daughter', 'dear', 'Bennet', 'say', 'lady', 'day', 'hear', 'Netherfield', 'Park', 'let', 'Bennet', 'reply', 'return', 'Long', 'tell', 'Bennet', 'answer', 'want', 'know', 'take', 'cry', 'wife', 'impatiently', 'want', 'tell', 'objection', 'hear', 'invitation', 'dear', 'know', 'Long', 'say', 'Netherfield', 'take', 'young', 'man', 'large', 'fortune', 'north', 'England', 'come', 'Monday', 'chaise', 'place', 'delight', 'agree', 'Morris', 'immediately', 'possession', 'Michaelmas', 'servant', 'house', 'end', 'week', 'Bingley', 'married', 'single', 'Oh', 'single', 'dear', 'sure', 'single', 'man', 'large', 'fortune', 'thousand', 'year', 'fine', 'thing', 'girl', 'affect', 'dear', 'Bennet', 'reply', 'wife', 'tiresome', 'know', 'think', 'marry', 'design', 'settle', 'design', 'nonsense', 'talk', 'likely', 'fall', 'love', 'visit', 'soon', 'come', 'occasion', 'girl', 'send', 'well', 'handsome', 'Bingley', 'like', 'good', 'party', 'dear', 'flatter', 'certainly', 'share', 'beauty', 'pretend', 'thing', 'extraordinary', 'woman', 'grow', 'daughter', 'ought', 'thinking', 'beauty', 'case', 'woman', 'beauty', 'think', 'dear', 'Bingley', 'come', 'neighbourhood', 'engage', 'assure', 'consider', 'daughter', 'think', 'establishment', 'Sir', 'William', 'Lady', 'Lucas', 'determined', 'merely', 'account', 'general', 'know', 'visit', 'new', 'comer', 'impossible', 'visit', 'scrupulous', 'surely', 'dare', 'Bingley', 'glad', 'send', 'line', 'assure', 'hearty', 'consent', 'marrying', 'chuse', 'girl', 'throw', 'good', 'word', 'little', 'Lizzy', 'desire', 'thing', 'Lizzy', 'bit', 'well', 'sure', 'half', 'handsome', 'Jane', 'half', 'good', 'humour', 'Lydia', 'give', 'preference', 'recommend']\n"
     ]
    }
   ],
   "source": [
    "# Let's take the lemmas and non-stop words only; and have a look how the \"trash\" looks like\n",
    "\n",
    "# we use \"and\" in the if statement, so when token.is_alpha and token.is_stop == False (thus is not a stopword), we same the lemma on our list.\n",
    "# Otherwise (else) this is store to cleaned_tokens list\n",
    "\n",
    "lemmas = []\n",
    "cleaned_tokens = []\n",
    "\n",
    "for token in chapters_doc:\n",
    "    if token.is_alpha and (token.is_stop == False):\n",
    "        lemmas.append(token.lemma_)\n",
    "    else:\n",
    "        cleaned_tokens.append(token)\n",
    "                             \n",
    "print(lemmas[0:200])\n",
    "\n",
    "# you can see how the non-alphanumerical & stopwords look like:\n",
    "\n",
    "# print(cleaned_tokens[0:200])\n"
   ]
  },
  {
   "cell_type": "code",
   "execution_count": 16,
   "id": "9c021950-270f-4162-b48b-96281696e636",
   "metadata": {},
   "outputs": [],
   "source": [
    "# Let's save this to a file, so we can open it with Excel, Antconc Voyant tools, or similar for more analysis and visualization\n",
    "\n",
    "with open(\"./output_lemmas.txt\", mode=\"w\", encoding=\"utf-8\") as file:\n",
    "    for lemma in lemmas:\n",
    "        file.write(lemma)\n",
    "        file.write(\"\\n\")\n"
   ]
  },
  {
   "cell_type": "markdown",
   "id": "99a67121-cc9b-400e-8d96-d6ae5af67ff5",
   "metadata": {},
   "source": [
    "### 2. Data in tabular format (pandas)\n",
    "\n",
    "In this exercise with use only Pandas Series which contain only one list, whereas pandas dataframes can contain several lists. You can compare this to excel sheet, where you have only one column (pandas Series) or several columns (pandas dataframe)."
   ]
  },
  {
   "cell_type": "code",
   "execution_count": 17,
   "id": "1724ee4f-a28d-4d2e-a37b-6e694c2d4e27",
   "metadata": {},
   "outputs": [],
   "source": [
    "# We want to do some basic calculations in Python about word frequencies. For this we use pandas where we can handle numbers in tables.\n",
    "\n",
    "import pandas as pd"
   ]
  },
  {
   "cell_type": "code",
   "execution_count": 18,
   "id": "ee610a96-009b-4a34-b063-e3246def9c02",
   "metadata": {},
   "outputs": [],
   "source": [
    "# We organise our list of lemmas (that we created in the previous section) into an array with Pandas\n",
    "\n",
    "lemmas_series = pd.Series(lemmas, name=\"chapters_lemmas\")\n",
    "\n",
    "# If you want, you can check the type of our object. We see that we have a Pandas series here.\n",
    "\n",
    "# print(type(lemmas_series))"
   ]
  },
  {
   "cell_type": "code",
   "execution_count": 19,
   "id": "ef94ef1e-ef26-4eaa-b5a8-87f00273cb06",
   "metadata": {},
   "outputs": [
    {
     "name": "stdout",
     "output_type": "stream",
     "text": [
      "0             truth\n",
      "1       universally\n",
      "2       acknowledge\n",
      "3            single\n",
      "4               man\n",
      "           ...     \n",
      "5798          leave\n",
      "5799           room\n",
      "5800         couple\n",
      "5801           hour\n",
      "5802        evening\n",
      "Name: chapters_lemmas, Length: 5803, dtype: object\n"
     ]
    }
   ],
   "source": [
    "# when we print the Series we get only the first and the last entries, which makes it easy to study\n",
    "\n",
    "print(lemmas_series)"
   ]
  },
  {
   "cell_type": "code",
   "execution_count": 21,
   "id": "4eb8f00c-962e-4c8c-9f23-d7fc015dc909",
   "metadata": {},
   "outputs": [
    {
     "name": "stdout",
     "output_type": "stream",
     "text": [
      "Bingley      111\n",
      "say           86\n",
      "Miss          75\n",
      "Bennet        71\n",
      "Elizabeth     71\n",
      "            ... \n",
      "duty           1\n",
      "tide           1\n",
      "milliner       1\n",
      "frequent       1\n",
      "couple         1\n",
      "Name: chapters_lemmas, Length: 1647, dtype: int64\n"
     ]
    }
   ],
   "source": [
    "# the method value_counts() of the Series will return another Series where all same values have been summed up: we will get frequencies\n",
    "\n",
    "lemmas_count = lemmas_series.value_counts()\n",
    "\n",
    "print(lemmas_count)\n",
    "\n",
    "# Again, we have only one list so this is a Series. The index\n",
    "\n",
    "# print(type(lemmas_count))\n"
   ]
  },
  {
   "cell_type": "code",
   "execution_count": 22,
   "id": "4779798e-cd09-4c09-a0cf-81dc733d583a",
   "metadata": {},
   "outputs": [
    {
     "name": "stdout",
     "output_type": "stream",
     "text": [
      "Index(['Bingley', 'say', 'Miss', 'Bennet', 'Elizabeth', 'Darcy', 'sister',\n",
      "       'think', 'know', 'Jane',\n",
      "       ...\n",
      "       'clerk', 'convenient', 'please', 'popularity', 'thither', 'duty',\n",
      "       'tide', 'milliner', 'frequent', 'couple'],\n",
      "      dtype='object', length=1647)\n"
     ]
    }
   ],
   "source": [
    "# Here the term index refers to the names of the terms which we had on the original list:\n",
    "\n",
    "print(lemmas_count.index)\n",
    "\n"
   ]
  },
  {
   "cell_type": "code",
   "execution_count": 23,
   "id": "2cbaa7fb-64da-4d62-968f-35df2f56f17c",
   "metadata": {},
   "outputs": [
    {
     "name": "stdout",
     "output_type": "stream",
     "text": [
      "[111, 86, 75, 71, 71, 70, 50, 49, 46, 45]\n"
     ]
    }
   ],
   "source": [
    "# They correspond to list of values, which can be printed when they are converted to a list. Here we print the ten first values, thus which are the frequencies of\n",
    "# \"Bingley\", \"say\", \"Miss\", \"Elizabeth\" ..\n",
    "\n",
    "print(list(lemmas_count)[0:10])"
   ]
  },
  {
   "cell_type": "code",
   "execution_count": 25,
   "id": "8f9f78ae-9f7f-4b17-af0b-098e5d325151",
   "metadata": {},
   "outputs": [],
   "source": [
    "# Let's save the frequencies of our lemmas: we can open csv in excel for instance for further operations!\n",
    "\n",
    "lemmas_count.to_csv(\"./lemmas.csv\", encoding=\"utf-8\")"
   ]
  },
  {
   "cell_type": "code",
   "execution_count": 26,
   "id": "41fabc48-96fb-4970-88a2-6a7c0bb81097",
   "metadata": {},
   "outputs": [
    {
     "name": "stdout",
     "output_type": "stream",
     "text": [
      "Bingley      111\n",
      "say           86\n",
      "Miss          75\n",
      "Bennet        71\n",
      "Elizabeth     71\n",
      "Darcy         70\n",
      "sister        50\n",
      "think         49\n",
      "know          46\n",
      "Jane          45\n",
      "dance         35\n",
      "young         34\n",
      "good          34\n",
      "lady          32\n",
      "great         30\n",
      "dear          28\n",
      "like          28\n",
      "room          28\n",
      "man           27\n",
      "friend        27\n",
      "Name: chapters_lemmas, dtype: int64\n"
     ]
    }
   ],
   "source": [
    "# One more time, we can have a look at the 20 most common terms:\n",
    "\n",
    "print(lemmas_count[:20])"
   ]
  },
  {
   "cell_type": "markdown",
   "id": "f3b7076c-5155-4c3a-98d2-b3154ac4472e",
   "metadata": {},
   "source": [
    "### 3. Counting bigrams"
   ]
  },
  {
   "cell_type": "markdown",
   "id": "7ec5ceb1-4ff9-4051-8262-89f3e99177b8",
   "metadata": {},
   "source": [
    "Bigrams (and ngrams) are sequences of two words (bi) or n-words (ngram). They are useful for studying how the words occur together. There are many applications for ngrams, eg. for predicting word occurrence or building single entities when two words should occur together (eg. better to have New York for analysis (New_York) than New and York separately.\n",
    "\n",
    "The bigrams (2-gram) of the sentence \"The weather is very good\" are:\n",
    "\n",
    "- The weather\n",
    "- weather is\n",
    "- is very\n",
    "- very good\n"
   ]
  },
  {
   "cell_type": "code",
   "execution_count": 27,
   "id": "9659b410-3179-4220-a85a-4e619727c180",
   "metadata": {
    "tags": []
   },
   "outputs": [
    {
     "name": "stdout",
     "output_type": "stream",
     "text": [
      "['it', 'be', 'a', 'truth', 'universally', 'acknowledge', 'that', 'a', 'single', 'man', 'in', 'possession', 'of', 'a', 'good', 'fortune', 'must', 'be', 'in', 'want', 'of', 'a', 'wife', 'however', 'little', 'know', 'the', 'feeling', 'or', 'view', 'of', 'such', 'a', 'man', 'may', 'be', 'on', 'his', 'first', 'enter', 'a', 'neighbourhood', 'this', 'truth', 'be', 'so', 'well', 'fix', 'in', 'the']\n"
     ]
    }
   ],
   "source": [
    "# We cannot continue with our lemmas list, while we need stopwords for building the bigrams\n",
    "\n",
    "# Let's process our spacy_doc again! This time we won't remove stopwords.\n",
    "\n",
    "# In this example we do not store the non-alphanumerical in the \"else\" part. We have saved them previously for seeing what is removed,\n",
    "# if there are errors etc.\n",
    "\n",
    "tokens_cleaned = []\n",
    "tokens_lemma = []\n",
    "\n",
    "for token in chapters_doc:\n",
    "    if token.is_alpha:\n",
    "        tokens_lemma.append(token.lemma_)\n",
    "        \n",
    "print(tokens_lemma[0:50])\n"
   ]
  },
  {
   "cell_type": "code",
   "execution_count": 28,
   "id": "aaa2f3b9-b5d6-4d4e-a093-091e2de8f43c",
   "metadata": {},
   "outputs": [
    {
     "name": "stdout",
     "output_type": "stream",
     "text": [
      "[('it', 'be'), ('be', 'a'), ('a', 'truth'), ('truth', 'universally'), ('universally', 'acknowledge'), ('acknowledge', 'that'), ('that', 'a'), ('a', 'single'), ('single', 'man'), ('man', 'in'), ('in', 'possession'), ('possession', 'of'), ('of', 'a'), ('a', 'good'), ('good', 'fortune'), ('fortune', 'must'), ('must', 'be'), ('be', 'in'), ('in', 'want'), ('want', 'of'), ('of', 'a'), ('a', 'wife'), ('wife', 'however'), ('however', 'little'), ('little', 'know'), ('know', 'the'), ('the', 'feeling'), ('feeling', 'or'), ('or', 'view'), ('view', 'of'), ('of', 'such'), ('such', 'a'), ('a', 'man'), ('man', 'may'), ('may', 'be'), ('be', 'on'), ('on', 'his'), ('his', 'first'), ('first', 'enter'), ('enter', 'a'), ('a', 'neighbourhood'), ('neighbourhood', 'this'), ('this', 'truth'), ('truth', 'be'), ('be', 'so'), ('so', 'well'), ('well', 'fix'), ('fix', 'in'), ('in', 'the'), ('the', 'mind')]\n"
     ]
    }
   ],
   "source": [
    "# we use nltk library, which has powerful tools for basic NLP operations. nltk.bigrams() turns a string into bigrams, which we save as a list to variable\n",
    "# token_bigrams\n",
    "\n",
    "import nltk\n",
    "\n",
    "token_bigrams = list(nltk.bigrams(tokens_lemma))\n",
    "\n",
    "# This is a list containing lists. We can access the elements of the list in the list by two brackets:\n",
    "\n",
    "print(token_bigrams[0:50])  # prints two first entries in our list token_bigrams\n",
    "\n",
    "# print(token_bigrams[0][0]) # prints the first element in of the first element in our list token_bigrams\n"
   ]
  },
  {
   "cell_type": "code",
   "execution_count": 29,
   "id": "13c0c2f2-f90f-4b1c-b4e0-6ce55a3a344d",
   "metadata": {},
   "outputs": [
    {
     "name": "stdout",
     "output_type": "stream",
     "text": [
      "['it be', 'be a', 'a truth', 'truth universally', 'universally acknowledge']\n"
     ]
    }
   ],
   "source": [
    "# We process our list of lists a bit, and make it into a list of strings, where the bigram elements are combined. This is easier to operate.\n",
    "# eg. [('it', 'be'), ('be', 'a')] into a list of strings\n",
    "# -> [\"it be\", \"be a\"\n",
    "\n",
    "bigrams = []\n",
    "\n",
    "for bigram in token_bigrams:\n",
    "    bigrams.append(bigram[0] + ' ' + bigram[1])\n",
    "\n",
    "print(bigrams[0:5])"
   ]
  },
  {
   "cell_type": "code",
   "execution_count": 30,
   "id": "6ef2b601-795c-41ad-9176-db65a8b30724",
   "metadata": {},
   "outputs": [],
   "source": [
    "# Lets use our bigrams for simple analysis. Can we find any differences between uses of \"he\" and \"she\"\n",
    "# in the text when look at the bigrams?\n",
    "\n",
    "# We use the regex \\bhe\\b for capturing \"he\" and \\bshe\\b for capturing \"she\". \\b marks word boundary. NB we need two \\\\ while the python syntax removes the \\ in this\n",
    "# string operation.\n",
    "#\n",
    "# We want to capture also possession bigrams, eg. his and her. For his and her, we take only bigrams where the \"his\" is the first word of the bigram.\n",
    "\n",
    "\n",
    "he_bigrams = []\n",
    "she_bigrams = []\n",
    "\n",
    "his_bigrams = []\n",
    "her_bigrams = []\n",
    "\n",
    "for bigram in bigrams:\n",
    "    if re.search(\"\\\\bhe\\\\b\", bigram):     # \\\\b -> \\b\n",
    "        he_bigrams.append(bigram)\n",
    "    if re.search(\"\\\\bshe\\\\b\", bigram):\n",
    "        she_bigrams.append(bigram)\n",
    "    if re.search(\"\\\\bhis\\\\b\", bigram.split()[0]):   # we split the bigram into two, and do the searching only concerning the first bigram word\n",
    "        his_bigrams.append(bigram)\n",
    "    if re.search(\"\\\\bher\\\\b\", bigram.split()[0]):   # we split the bigram into two, and do the searching only concerning the first bigram word\n",
    "        her_bigrams.append(bigram)\n",
    "    \n"
   ]
  },
  {
   "cell_type": "code",
   "execution_count": 31,
   "id": "d6f25519-4bae-49ae-9128-4c2d198d3161",
   "metadata": {},
   "outputs": [
    {
     "name": "stdout",
     "output_type": "stream",
     "text": [
      "he be          36\n",
      "he have        26\n",
      "that he        20\n",
      "with he        12\n",
      "he do          12\n",
      "if he           9\n",
      "he and          8\n",
      "he would        8\n",
      "as he           7\n",
      "he could        6\n",
      "to he           6\n",
      "for he          6\n",
      "and he          5\n",
      "he he           5\n",
      "but he          5\n",
      "he to           4\n",
      "say he          4\n",
      "between he      4\n",
      "he from         4\n",
      "when he         4\n",
      "he in           4\n",
      "see he          3\n",
      "he continue     3\n",
      "he reply        3\n",
      "ask he          3\n",
      "he seem         3\n",
      "like he         3\n",
      "he on           3\n",
      "however he      3\n",
      "he must         3\n",
      "whether he      3\n",
      "visit he        3\n",
      "he should       3\n",
      "he come         3\n",
      "he one          3\n",
      "he at           3\n",
      "know he         2\n",
      "though he       2\n",
      "he make         2\n",
      "he might        2\n",
      "Name: he, dtype: int64\n",
      "******************\n",
      "she be         48\n",
      "she have       22\n",
      "that she       13\n",
      "to she         12\n",
      "with she       10\n",
      "she could      10\n",
      "as she         10\n",
      "of she          9\n",
      "she to          8\n",
      "for she         8\n",
      "see she         7\n",
      "say she         7\n",
      "when she        7\n",
      "think she       6\n",
      "she for         6\n",
      "she would       6\n",
      "and she         6\n",
      "she will        5\n",
      "this she        5\n",
      "she and         5\n",
      "she with        5\n",
      "at she          5\n",
      "if she          4\n",
      "she that        4\n",
      "but she         4\n",
      "she do          4\n",
      "she add         4\n",
      "she but         4\n",
      "she must        4\n",
      "she should      4\n",
      "she twice       4\n",
      "admire she      4\n",
      "which she       4\n",
      "leave she       4\n",
      "attend she      3\n",
      "have she        3\n",
      "however she     3\n",
      "she see         3\n",
      "while she       3\n",
      "she if          3\n",
      "Name: she, dtype: int64\n"
     ]
    }
   ],
   "source": [
    "# Let's take them to pandas Series and calculate directly the frequencies with value_counts()\n",
    "\n",
    "\n",
    "he_bigrams_count = pd.Series(he_bigrams, name = \"he\").value_counts()\n",
    "she_bigrams_count = pd.Series(she_bigrams, name = \"she\").value_counts()\n",
    "his_bigrams_count = pd.Series(his_bigrams, name = \"his\").value_counts()\n",
    "her_bigrams_count = pd.Series(her_bigrams, name = \"her\").value_counts()\n",
    "\n",
    "# we can have a look at the he & his terms. \n",
    "\n",
    "print(he_bigrams_count[:40])\n",
    "print(\"******************\")\n",
    "print(she_bigrams_count[:40])\n",
    "\n"
   ]
  },
  {
   "cell_type": "code",
   "execution_count": 32,
   "id": "0fa38ff0-3db0-425b-8733-3369c83d6b68",
   "metadata": {},
   "outputs": [
    {
     "name": "stdout",
     "output_type": "stream",
     "text": [
      "his sister          11\n",
      "his own             10\n",
      "his friend           8\n",
      "his wife             7\n",
      "his character        5\n",
      "his have             4\n",
      "his letter           4\n",
      "his attention        3\n",
      "his answer           3\n",
      "his manner           3\n",
      "his first            2\n",
      "his ask              2\n",
      "his house            2\n",
      "his temper           2\n",
      "his pride            2\n",
      "his gallantry        2\n",
      "his kindness         2\n",
      "his companion        2\n",
      "his library          2\n",
      "his second           2\n",
      "his complaisance     1\n",
      "his asserting        1\n",
      "his doing            1\n",
      "his breakfast        1\n",
      "his regimental       1\n",
      "his approach         1\n",
      "his niece            1\n",
      "his patient          1\n",
      "his her              1\n",
      "his daughter         1\n",
      "his neighbour        1\n",
      "his composure        1\n",
      "his attempt          1\n",
      "his face             1\n",
      "his housekeeper      1\n",
      "his anxiety          1\n",
      "his word             1\n",
      "his approbation      1\n",
      "his idea             1\n",
      "his notice           1\n",
      "his dislike          1\n",
      "his behaviour        1\n",
      "his plan             1\n",
      "his return           1\n",
      "his line             1\n",
      "his eld              1\n",
      "his hand             1\n",
      "his promise          1\n",
      "his young            1\n",
      "his affection        1\n",
      "Name: his, dtype: int64\n",
      "****************\n",
      "her sister            19\n",
      "her mother            13\n",
      "her daughter           7\n",
      "her own                5\n",
      "her father             5\n",
      "her room               4\n",
      "her husband            3\n",
      "her eye                3\n",
      "her manner             3\n",
      "her friend             3\n",
      "her hand               2\n",
      "her performance        2\n",
      "her praise             2\n",
      "her hope               2\n",
      "her home               2\n",
      "her brother            2\n",
      "her petticoat          2\n",
      "her situation          2\n",
      "her appearance         2\n",
      "her mind               2\n",
      "her eld                1\n",
      "her address            1\n",
      "her acknowledgment     1\n",
      "her removal            1\n",
      "her answer             1\n",
      "her restoration        1\n",
      "her illness            1\n",
      "her two                1\n",
      "her imply              1\n",
      "her voice              1\n",
      "her air                1\n",
      "her age                1\n",
      "her book               1\n",
      "her other              1\n",
      "her heart              1\n",
      "her fine               1\n",
      "her ancle              1\n",
      "her triumph            1\n",
      "her thank              1\n",
      "her part               1\n",
      "her carriage           1\n",
      "her guest              1\n",
      "her desire             1\n",
      "her dear               1\n",
      "her great              1\n",
      "her connection         1\n",
      "her silence            1\n",
      "her more               1\n",
      "her advice             1\n",
      "her laugh              1\n",
      "Name: her, dtype: int64\n"
     ]
    }
   ],
   "source": [
    "# how about the his and her bigrams?\n",
    "\n",
    "print(his_bigrams_count[0:50])\n",
    "print(\"****************\")\n",
    "print(her_bigrams_count[0:50])\n"
   ]
  },
  {
   "cell_type": "code",
   "execution_count": 34,
   "id": "169889ed-2d3b-4803-9f88-cac21ab807a0",
   "metadata": {},
   "outputs": [],
   "source": [
    "# Let's save the output\n",
    "\n",
    "his_bigrams_count.to_csv(\"./bigrams-his.csv\", encoding=\"utf-8\")\n",
    "\n",
    "her_bigrams_count.to_csv(\"./bigrams-her.csv\", encoding=\"utf-8\")\n",
    "\n"
   ]
  },
  {
   "cell_type": "markdown",
   "id": "7783a15a-1157-4e90-be7c-9d4d5c07ffc1",
   "metadata": {},
   "source": [
    "Try to open the csv in Excel!"
   ]
  },
  {
   "cell_type": "markdown",
   "id": "736be5c1-f0c1-44ad-8f8e-8ea310c79ff1",
   "metadata": {},
   "source": [
    "### 4. Visualization (optional)"
   ]
  },
  {
   "cell_type": "code",
   "execution_count": 36,
   "id": "4cb9aca9-3ddf-4353-9e95-986df56ef014",
   "metadata": {},
   "outputs": [
    {
     "data": {
      "image/png": "[encoded data removed]",
      "text/plain": [
       "<Figure size 1080x360 with 1 Axes>"
      ]
     },
     "metadata": {
      "needs_background": "light"
     },
     "output_type": "display_data"
    }
   ],
   "source": [
    "# The library matplotlib enables visualisations. We can do this also directly with pandas, which uses matlotlib too.\n",
    "#\n",
    "# Here is a simple example for visualising the 50 most common bigrams\n",
    "\n",
    "import matplotlib\n",
    "import matplotlib.pyplot as plt\n",
    "\n",
    "bigrams_her = her_bigrams_count[0:50]\n",
    "\n",
    "# we plot now our bigrams on a bar chart:\n",
    "\n",
    "# we define the size of the figure\n",
    "plt.figure(figsize = (15, 5)) \n",
    "\n",
    "# we put \"index\" values thus the bigrams on x-axis, and the count values (list) to y-axis, and define our bar chart color as \"green\"\n",
    "plt.bar(bigrams_her.index, bigrams_her.tolist(), color=\"green\")\n",
    "\n",
    "# we rotate the x-axis labels by 90 so we can read them   \n",
    "plt.xticks(rotation=90)\n",
    "\n",
    "# we give a label to the x axis\n",
    "plt.xlabel(\"Bigrams\")\n",
    "\n",
    "# we give a label to the y axis\n",
    "plt.ylabel(\"Frequency (n)\")\n",
    "\n",
    "# we give a title to our figure\n",
    "plt.suptitle(\"50 most frequent lemmatized bigrams with 'her' as the first word (Pride and prejudice, ch 1-10)\")\n",
    "\n",
    "# the figure is saved to our material folder\n",
    "plt.savefig(\"./bigrams.png\", dpi = 200)\n",
    "\n",
    "# we display the figure in Jupiter Lab\n",
    "plt.show()\n",
    "\n"
   ]
  },
  {
   "cell_type": "code",
   "execution_count": 39,
   "id": "8c10ca40-ab7d-4bea-a950-1bc66fb1aa1a",
   "metadata": {},
   "outputs": [
    {
     "ename": "ModuleNotFoundError",
     "evalue": "No module named 'wordcloud'",
     "output_type": "error",
     "traceback": [
      "\u001b[1;31m---------------------------------------------------------------------------\u001b[0m",
      "\u001b[1;31mModuleNotFoundError\u001b[0m                       Traceback (most recent call last)",
      "\u001b[1;32mc:\\Users\\DELL\\Desktop\\python\\Distant reading\\texts_week2\\Material_2a_counting.ipynb Cell 34\u001b[0m in \u001b[0;36m<cell line: 3>\u001b[1;34m()\u001b[0m\n\u001b[0;32m      <a href='vscode-notebook-cell:/c%3A/Users/DELL/Desktop/python/Distant%20reading/texts_week2/Material_2a_counting.ipynb#X45sZmlsZQ%3D%3D?line=0'>1</a>\u001b[0m \u001b[39m# We can also visualize our lemmas in a wordcloud; you need to install the wordcloud package first by using pip!\u001b[39;00m\n\u001b[1;32m----> <a href='vscode-notebook-cell:/c%3A/Users/DELL/Desktop/python/Distant%20reading/texts_week2/Material_2a_counting.ipynb#X45sZmlsZQ%3D%3D?line=2'>3</a>\u001b[0m \u001b[39mfrom\u001b[39;00m \u001b[39mwordcloud\u001b[39;00m \u001b[39mimport\u001b[39;00m WordCloud\n\u001b[0;32m      <a href='vscode-notebook-cell:/c%3A/Users/DELL/Desktop/python/Distant%20reading/texts_week2/Material_2a_counting.ipynb#X45sZmlsZQ%3D%3D?line=4'>5</a>\u001b[0m wc \u001b[39m=\u001b[39m WordCloud(background_color\u001b[39m=\u001b[39m\u001b[39m\"\u001b[39m\u001b[39mblack\u001b[39m\u001b[39m\"\u001b[39m,width\u001b[39m=\u001b[39m\u001b[39m500\u001b[39m,height\u001b[39m=\u001b[39m\u001b[39m500\u001b[39m, max_words\u001b[39m=\u001b[39m\u001b[39m50\u001b[39m)\u001b[39m.\u001b[39mgenerate_from_frequencies(lemmas_count)\n\u001b[0;32m      <a href='vscode-notebook-cell:/c%3A/Users/DELL/Desktop/python/Distant%20reading/texts_week2/Material_2a_counting.ipynb#X45sZmlsZQ%3D%3D?line=5'>6</a>\u001b[0m plt\u001b[39m.\u001b[39mimshow(wc)\n",
      "\u001b[1;31mModuleNotFoundError\u001b[0m: No module named 'wordcloud'"
     ]
    }
   ],
   "source": [
    "# We can also visualize our lemmas in a wordcloud; you need to install the wordcloud package first by using pip!\n",
    "\n",
    "from wordcloud import WordCloud\n",
    "\n",
    "wc = WordCloud(background_color=\"black\",width=500,height=500, max_words=50).generate_from_frequencies(lemmas_count)\n",
    "plt.imshow(wc)\n",
    "plt.axis(\"off\")\n",
    "plt.savefig(\"./wordcloud.png\", dpi = 200)\n",
    "plt.show()\n",
    "\n"
   ]
  },
  {
   "cell_type": "code",
   "execution_count": null,
   "id": "57576c9f-a813-4897-a3b5-01aab8675a6d",
   "metadata": {},
   "outputs": [],
   "source": []
  }
 ],
 "metadata": {
  "kernelspec": {
   "display_name": "Python 3",
   "language": "python",
   "name": "python3"
  },
  "language_info": {
   "codemirror_mode": {
    "name": "ipython",
    "version": 3
   },
   "file_extension": ".py",
   "mimetype": "text/x-python",
   "name": "python",
   "nbconvert_exporter": "python",
   "pygments_lexer": "ipython3",
   "version": "3.9.12 (main, Apr  4 2022, 05:22:27) [MSC v.1916 64 bit (AMD64)]"
  },
  "vscode": {
   "interpreter": {
    "hash": "5ae58900cfbb8c43ab3495913814b7cf26024f51651a94ce8bf64d6111688e8d"
   }
  }
 },
 "nbformat": 4,
 "nbformat_minor": 5
}
