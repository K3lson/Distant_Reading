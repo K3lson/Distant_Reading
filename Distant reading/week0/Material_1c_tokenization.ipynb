{
 "cells": [
  {
   "cell_type": "markdown",
   "id": "3dbeb7e7-88b1-4819-838d-d57893107392",
   "metadata": {},
   "source": [
    "## Distant reading course week 1 (VT-23, Matti La Mela)\n",
    "\n",
    "### Learning material 1c: Tokenization, lemmatization, POS-tagging\n",
    "\n",
    "In this learning material, we will use SpaCy to tokenize text data and perform selected operations of data curation to the text.\n",
    "\n",
    "The reference readings for this learning material is:\n",
    "\n",
    "o SpaCy.io, 2019, URL: https://spacy.io/usage/"
   ]
  },
  {
   "cell_type": "markdown",
   "id": "e1827239-9d2c-487c-b2d2-7711b71a65c2",
   "metadata": {},
   "source": [
    "### 1. Starting to work with spaCy"
   ]
  },
  {
   "cell_type": "code",
   "execution_count": 1,
   "id": "1a534dad-f7e7-4775-8a82-aca35f62c0ab",
   "metadata": {},
   "outputs": [],
   "source": [
    "# In this exercise we will use spacy, so we import the library and also the English language model.\n",
    "\n",
    "import spacy\n",
    "\n",
    "nlp = spacy.load(\"en_core_web_sm\")"
   ]
  },
  {
   "cell_type": "code",
   "execution_count": 2,
   "id": "e5819f2d-9877-41ab-83af-7cf138b06eeb",
   "metadata": {},
   "outputs": [],
   "source": [
    "# We read again Jane Austen's novel Pride and Prejudice into a string variable, and process it a bit (partly based on the previous Material_1b)\n",
    "# The novel is from Project Gutenberg: https://www.gutenberg.org/ebooks/42671\n",
    "\n",
    "with open(\"./texts_week1/pride_and_prejudice.txt\", mode=\"r\", encoding=\"utf-8\") as file:\n",
    "    text = file.read()\n",
    "\n",
    "text = text.replace(\"\\n\", \" \")  # remove all endlines \\n\n",
    "\n",
    "# We take the first chapter of the novel: opening the txt file and using the typeset of the chapter headings (could be also the first sentence\n",
    "# of the chapter or similar.\n",
    "\n",
    "start = text.index(\"CHAPTER I.\")\n",
    "end = text.index(\"CHAPTER II.\")\n",
    "\n",
    "chapter1 = text[start+13:end]  # we add 13 characters to get over the \"CHAPTER I.  \" to the beginning of the chapter.\n",
    "\n"
   ]
  },
  {
   "cell_type": "code",
   "execution_count": 3,
   "id": "3ae8ef0e-d130-476c-866a-ead8c19cdc8a",
   "metadata": {},
   "outputs": [
    {
     "name": "stdout",
     "output_type": "stream",
     "text": [
      "Our string 'chapter1' contains 4488 characters.\n",
      "It is a truth universally acknowledged, that a single man in possession of a good fortune, must be i\n"
     ]
    }
   ],
   "source": [
    "# let's see how long our string is!\n",
    "\n",
    "print(\"Our string 'chapter1' contains \" + str(len(chapter1)) + \" characters.\")\n",
    "\n",
    "# The first 100 chars are like this:\n",
    "\n",
    "print(chapter1[0:100])\n"
   ]
  },
  {
   "cell_type": "code",
   "execution_count": 4,
   "id": "f2e8a03f-5f3b-4c56-86f1-f8ab2790e3f6",
   "metadata": {},
   "outputs": [
    {
     "data": {
      "text/plain": [
       "spacy.tokens.doc.Doc"
      ]
     },
     "execution_count": 4,
     "metadata": {},
     "output_type": "execute_result"
    }
   ],
   "source": [
    "# We take next our \"chapter one\" to spacy by calling the nlp() function. It creates a specific spaCy Doc object, which has a Doc datatype.\n",
    "\n",
    "doc = nlp(chapter1)\n",
    "\n",
    "type(doc)\n"
   ]
  },
  {
   "attachments": {
    "e600d8f6-578d-4470-a760-d55353c4c1c7.png": {
     "image/png": "[encoded data removed]"
    }
   },
   "cell_type": "markdown",
   "id": "c43dafd5-d9f9-4c57-be64-d29c88be5b80",
   "metadata": {},
   "source": [
    "### spaCy nlp() pipeline\n",
    "\n",
    "What does nlp() then do? It first tokenizes the text on which it is called and produces the so-called Doc object. This Doc object is then processed through the spaCy nlp pipeline (see below), which assigns many kinds of relevant information to the tokens, including lemmas (base forms), part-of-speech tags (noun, adjective etc.), and even labels of the named entities that are identified among the tokens. \n",
    "\n",
    "![image.png](attachment:e600d8f6-578d-4470-a760-d55353c4c1c7.png)\n",
    "\n",
    "https://spacy.io/usage/spacy-101\n",
    "\n",
    "How well the pipeline performs depends on the language and statistical models that are part of the pipeline components."
   ]
  },
  {
   "cell_type": "code",
   "execution_count": 5,
   "id": "db89653c-2e6d-4df3-b525-e621d0d0a420",
   "metadata": {},
   "outputs": [
    {
     "name": "stdout",
     "output_type": "stream",
     "text": [
      "It\n",
      "is\n",
      "a\n"
     ]
    }
   ],
   "source": [
    "# The nlp() pipeline tokenizes the text for us in the Doc object. This can be understood as a list of Spacy tokens.\n",
    "# It does the tokenization according to language rules, thus separates sentence-related punctuation but not punctuation part of words,\n",
    "# . U.K. When we use the index, we see that it is ordered by token that is by word or punctuation), and not per character like a string variable.\n",
    "\n",
    "# We use .text attribute, because we want to get the string value of the token. With other attributes we can get other tags related to the particular token\n",
    "\n",
    "print(doc[0].text)\n",
    "print(doc[1].text)\n",
    "print(doc[2].text)\n",
    "\n"
   ]
  },
  {
   "cell_type": "code",
   "execution_count": 6,
   "id": "afe09775-220f-4d68-8622-31e72c7b4b89",
   "metadata": {},
   "outputs": [
    {
     "name": "stdout",
     "output_type": "stream",
     "text": [
      "The second sentence is: However little known the feelings or views of such a man may be on his first entering a neighbourhood, this truth is so well fixed in the minds of the surrounding families, that he is considered as the rightful property of some one or other of their daughters.  \n"
     ]
    }
   ],
   "source": [
    "# We can also navigate through the spacy Doc by sentence, for example, if we want to tokenize by sentence.\n",
    "# Here we create a list variable with the sentences.\n",
    "\n",
    "text_sentences = []\n",
    "\n",
    "for sentence in doc.sents:\n",
    "    text_sentences.append(sentence)\n",
    "\n",
    "print(\"The second sentence is: \" + str(text_sentences[1]))\n"
   ]
  },
  {
   "cell_type": "markdown",
   "id": "de474ecd-9cea-4aa0-8e80-f021dc2db0ea",
   "metadata": {
    "tags": []
   },
   "source": [
    "### 2. Filtering our text with spacy: alphanumerical words & stopwords\n",
    "\n",
    "Filtering is a rather straight-forward operation, as spaCy has already assigned in the nlp() pipeline relevant linguistic and semantic information to the tokens in our text. We will take use of this information when we further process our data. We do two things: we first select only alphanumerical tokens (so leave punctuation out) and then filter out stopwords."
   ]
  },
  {
   "cell_type": "code",
   "execution_count": null,
   "id": "0ce9af34-2fe4-4179-873b-52f7b57bab15",
   "metadata": {},
   "outputs": [],
   "source": []
  },
  {
   "cell_type": "code",
   "execution_count": 7,
   "id": "928c3793-b5cb-4a50-aac4-f81d922b49dc",
   "metadata": {},
   "outputs": [
    {
     "name": "stdout",
     "output_type": "stream",
     "text": [
      "Some examples of alphanumerical tokens on our list: [It, is, a, truth, universally, acknowledged, that, a, single, man, in, possession, of, a, good]\n"
     ]
    }
   ],
   "source": [
    "# spaCy has marked the information about being alphanumerical to the tokens. This is in the attribute .is_alpha.\n",
    "# If the value of .is_alpha is true, the token is an alphanumerical token.\n",
    "\n",
    "list_alphanumerical = []\n",
    "list_others = []\n",
    "\n",
    "# We use the for loop and if statement. For loop goes through all the tokens in our doc.\n",
    "# if a token.is_alpha is true, it will add the token to our list. Else: we put it on the other list, \"list_others\"\n",
    "\n",
    "for token in doc:\n",
    "    if token.is_alpha:\n",
    "        list_alphanumerical.append(token)\n",
    "    else:\n",
    "        list_others.append(token)\n",
    "\n",
    "print(\"Some examples of alphanumerical tokens on our list: \" + str(list_alphanumerical[0:15]))\n",
    "\n",
    "# if you want, you can print what is in the \"trash\", thus punctuation or other tokens which are not oly alphanumericalthat is not alphanumerical.\n",
    "# this you do with:\n",
    "#\n",
    "\n",
    "# print(list_others)\n",
    "\n",
    "# looks like things we don't really need.. at the same time, it seems that there are some \"'s\" and \"'ve\" that go missing. We should check our preprocessing,\n",
    "# are there for example extra spaces there?\n",
    "#\n",
    "# by the way, some people study punctuation!\n",
    "# eg. Baunvig et al. (2021): Emotial Imprints: Exclamation Marks in N.F.S. Grundtvig's Writings, http://ceur-ws.org/Vol-2865/short7.pdf\n"
   ]
  },
  {
   "cell_type": "code",
   "execution_count": 8,
   "id": "9f5e6c60-904b-4a9f-9aeb-0c57cbc22161",
   "metadata": {},
   "outputs": [
    {
     "name": "stdout",
     "output_type": "stream",
     "text": [
      "Some examples of alphanum & non-stop words on our list: [truth, universally, acknowledged, single, man, possession, good, fortune, want, wife]\n"
     ]
    }
   ],
   "source": [
    "# We continue with our list of alphanumerical words and remove next the stop words. Our focus is only on the words that have more semantic\n",
    "# information for us.\n",
    "\n",
    "# Like with alphanumerical words above, spaCys nlp() has also marked the tokens based on whether they are stop words or not with attribute .is_stop.\n",
    "# We use again a for loop to go through our list:\n",
    "\n",
    "list_nonstop = []\n",
    "\n",
    "for token in list_alphanumerical:        # we go through our list, the values are assigned to \"token\" in a sequential order\n",
    "    if token.is_stop:                    # if token taken from our list is a stop word, \n",
    "        list_others.append(token)        # we append it to the list of \"others\"\n",
    "    else:\n",
    "        list_nonstop.append(token)       # else: it has to be a non-stop word, thus we add it to our list of words that are relevant (thus not stop words)\n",
    "\n",
    "print(\"Some examples of alphanum & non-stop words on our list: \" + str(list_nonstop[0:10]))\n",
    "\n",
    "# We added the stop words to our \"others\" list, where we had our punctuation words too. If you want, you can print it again to see what we have removed.\n",
    "\n",
    "# print(list_others)\n",
    "\n",
    "# Are there words that you think could be still useful, thus contain information for certain type of analysis?\n",
    "        "
   ]
  },
  {
   "cell_type": "code",
   "execution_count": 9,
   "id": "e643cb02-4f36-470d-8113-f106c5ce4ab5",
   "metadata": {},
   "outputs": [
    {
     "name": "stdout",
     "output_type": "stream",
     "text": [
      "{'’re', 'while', 'formerly', 'somehow', 'not', 'together', '‘s', 'enough', 'various', 'someone', 'alone', 'eleven', 'does', 'indeed', 'our', 'see', 'since', 'its', 'amount', 'where', 'whole', 'you', 'as', '‘d', '’d', 'did', 'meanwhile', 'done', 'yourselves', 'almost', 'your', 'toward', 'last', 'made', 'everything', 'one', 'get', 'hereafter', 'latter', 'bottom', 'third', 'we', '’s', 'yours', 'himself', 'for', 'are', 'else', 'therein', \"'re\", 'please', 'n’t', 'along', 'few', 'nine', 'herself', 'about', 'on', 'some', 'after', 'even', 'many', 'elsewhere', 'five', 'had', 'behind', 'well', 'or', 'this', 'amongst', 'the', 'less', 'very', 'whence', 'other', 'make', 'anywhere', 'when', 'ca', 'only', 'him', 'using', 'but', 'these', 'across', 'nobody', 'that', 'me', 'been', 'used', 'might', 'ten', 'how', 'became', \"'s\", 'until', 'during', 'such', 'often', 'each', 'around', 'without', 'of', 'now', 'then', 'part', 'either', 'down', 'namely', 'top', 'side', 'am', 'doing', 'seems', 'mostly', 'unless', 'three', 'another', 'never', 'become', 'say', 'nor', 'his', \"'ll\", 'whereafter', 'in', 'by', 'empty', 'seem', 'themselves', 'at', 'below', 'already', 'four', 'us', 'several', 'will', 'whoever', 'fifty', 'myself', 'whether', 'hundred', 'two', 'put', 'is', 'except', \"'ve\", 'whenever', 'whither', 'nothing', 'rather', '‘m', 'regarding', 'throughout', 'twelve', 'onto', 'others', 'beforehand', 'beside', 'my', 'everyone', 'name', 'first', 'have', 'something', 'noone', '‘ll', 'has', 'fifteen', 'thereupon', 'why', 'much', 'among', 'she', 'anyhow', 'still', 'quite', 're', 'show', 'former', 'whereby', 'take', 'they', 'sometime', 'itself', 'those', 'becomes', 'be', 'next', 'really', \"n't\", 'once', 'sixty', 'whereas', '‘ve', 'them', 'an', 'nevertheless', 'move', 'becoming', 'yet', 'and', 'further', 'towards', 'due', 'hereby', 'he', 'own', 'whose', 'before', 'mine', 'six', 'most', 'above', 'afterwards', 'must', 'per', 'may', 'anything', 'too', 'wherein', 'give', 'perhaps', 'to', 'a', 'everywhere', 'otherwise', 'against', 'between', 'sometimes', 'who', '‘re', 'n‘t', 'whereupon', 'i', 'thereafter', 'hence', 'although', 'besides', 'do', 'whom', 'anyone', 'whatever', 'her', 'any', 'ours', 'anyway', 'so', 'serious', 'can', 'should', 'least', 'all', 'could', 'here', 'however', 'hers', 'under', 'call', 'than', 'though', 'via', 'yourself', 'with', 'seemed', 'neither', 'thru', 'being', 'because', 'it', 'eight', 'cannot', 'always', 'go', 'nowhere', 'off', 'no', 'what', 'front', 'herein', 'beyond', \"'d\", 'from', 'into', 'same', 'thereby', 'was', 'back', 'if', 'somewhere', 'through', 'therefore', 'moreover', 'keep', 'every', 'hereupon', 'again', '’ve', 'were', 'ever', 'full', 'thence', 'none', \"'m\", 'ourselves', 'over', 'within', 'wherever', 'thus', 'forty', 'seeming', 'upon', 'latterly', 'which', 'just', '’ll', 'up', 'there', 'more', 'would', '’m', 'twenty', 'both', 'their', 'also', 'out'}\n"
     ]
    }
   ],
   "source": [
    "## It is possible to modify the list of stop words. We see the default list here:\n",
    "\n",
    "print(nlp.Defaults.stop_words)\n",
    "\n",
    "# We could a stop word to the list with:\n",
    "# nlp.Defaults.stop_words.add(\"this_stopword_needs_to_be_included\")\n",
    "\n",
    "# We could remove a stop word from the list with:\n",
    "# nlp.Defaults.stop_words.remove(\"must\")\n"
   ]
  },
  {
   "cell_type": "markdown",
   "id": "afba1212-91a1-4cbb-929c-52a81a728d45",
   "metadata": {},
   "source": [
    "### 3. Lemmatizing our data with spaCy\n",
    "\n",
    "We are almost ready to save our processed data. As we aim to study the most common words and thematic areas, it is useful to have the words in lemmatized form.\n",
    "\n",
    "spaCy has done the lemmatization already with nlp(), and we find the lemma form in the tokens attribute token.lemma_."
   ]
  },
  {
   "cell_type": "code",
   "execution_count": 10,
   "id": "2f4463ad-6f9b-479d-a8b6-e1be6a0c0f32",
   "metadata": {},
   "outputs": [
    {
     "name": "stdout",
     "output_type": "stream",
     "text": [
      "there\n",
      "be\n",
      "three\n",
      "dog\n",
      "and\n",
      "a\n",
      "fly\n",
      "duck\n"
     ]
    }
   ],
   "source": [
    "# In this cell there is an example of how a sentence becomes lemmatized in spacy. You can hop over this to the next cell,\n",
    "# if you want to continue with our data processing.\n",
    "\n",
    "example = \"There were three dogs and a flying duck\"\n",
    "\n",
    "example_doc = nlp(example)  # nlp() tokenizes the string and processes the result by adding tags and other information, including the lemma of the token.\n",
    "\n",
    "for token in example_doc:\n",
    "    print(token.lemma_)\n",
    "    "
   ]
  },
  {
   "cell_type": "code",
   "execution_count": 11,
   "id": "0b879e33-02ec-42bf-b4e4-f93e643398c8",
   "metadata": {},
   "outputs": [
    {
     "name": "stdout",
     "output_type": "stream",
     "text": [
      "(0) lemmatized: truth ---> truth\n",
      "(1) lemmatized: universally ---> universally\n",
      "(2) lemmatized: acknowledged ---> acknowledge\n",
      "(3) lemmatized: single ---> single\n",
      "(4) lemmatized: man ---> man\n",
      "(5) lemmatized: possession ---> possession\n",
      "(6) lemmatized: good ---> good\n",
      "(7) lemmatized: fortune ---> fortune\n",
      "(8) lemmatized: want ---> want\n",
      "(9) lemmatized: wife ---> wife\n",
      "(10) lemmatized: little ---> little\n",
      "(11) lemmatized: known ---> know\n",
      "(12) lemmatized: feelings ---> feeling\n",
      "(13) lemmatized: views ---> view\n",
      "(14) lemmatized: man ---> man\n",
      "(15) lemmatized: entering ---> enter\n",
      "(16) lemmatized: neighbourhood ---> neighbourhood\n",
      "(17) lemmatized: truth ---> truth\n",
      "(18) lemmatized: fixed ---> fix\n",
      "(19) lemmatized: minds ---> mind\n"
     ]
    }
   ],
   "source": [
    "# As a final step, let's save the lemma form of our tokens in the list \"list_nonstop\", where we have the latest results of our data processing.\n",
    "# As noted above, spaCy has stored the base forms in the tokens attribute .lemma_ \n",
    "\n",
    "result_lemmas = []\n",
    "\n",
    "for token in list_nonstop:\n",
    "    result_lemmas.append(token.lemma_)\n",
    "\n",
    "# Let's see how the lemmatization for the first twenty words:\n",
    "\n",
    "for i in range(0,20):\n",
    "    print(\"(\" + str(i) + \") lemmatized: \" + list_nonstop[i].text + \" ---> \" + result_lemmas[i])\n",
    "    \n",
    "# Looks very good!\n",
    "\n",
    "# PS. .text attribute returns the text form of the token, which is a string! token.lemma_ is a string! the tokens themselves are Spacy objects,\n",
    "# and cannot be operated like string variables."
   ]
  },
  {
   "cell_type": "code",
   "execution_count": 12,
   "id": "131c9540-ae7a-4062-a361-00b6008d2294",
   "metadata": {},
   "outputs": [],
   "source": [
    "# We are satisfied with the result and write our processed data to a text file, as instructed in the previous lesson Material_1b. eg.\n",
    "\n",
    "with open(\"./texts_week1/output_lemmas.txt\", mode=\"w\", encoding=\"utf-8\") as file:\n",
    "    for lemma in result_lemmas:\n",
    "        file.write(lemma)\n",
    "        file.write(\"\\n\")\n",
    "\n",
    "# You can now open the txt-file and compare it with the original file \"crime_and_punishment_ch1.txt\""
   ]
  },
  {
   "cell_type": "markdown",
   "id": "836a71e6-162f-4767-b835-3921f9d7de36",
   "metadata": {},
   "source": [
    "## Well done! I think we are (almost) done for this week.."
   ]
  },
  {
   "cell_type": "markdown",
   "id": "021d7330-3c67-4dc3-8792-fc312161cc2c",
   "metadata": {},
   "source": [
    "### 4. Optional: POS-tagging with spacy"
   ]
  },
  {
   "cell_type": "code",
   "execution_count": 15,
   "id": "16d97289-bed5-49de-a80b-16073b2e54fe",
   "metadata": {},
   "outputs": [
    {
     "name": "stdout",
     "output_type": "stream",
     "text": [
      "there === PRON\n",
      "be === VERB\n",
      "three === NUM\n",
      "dog === NOUN\n",
      "and === CCONJ\n",
      "a === DET\n",
      "fly === VERB\n",
      "duck === NOUN\n"
     ]
    }
   ],
   "source": [
    "# spacy tags the tokens with POS-tags, which are stored in the token attribute .pos_\n",
    "\n",
    "example = \"There were three dogs and a flying duck\"\n",
    "\n",
    "example_doc = nlp(example)  # nlp() tokenizes the string and processes the result by adding tags and other information, including the lemma and the POS-tag of the token.\n",
    "\n",
    "for token in example_doc:\n",
    "    print(token.lemma_ + \" === \" + token.pos_)\n",
    "\n",
    "    "
   ]
  },
  {
   "cell_type": "code",
   "execution_count": 14,
   "id": "0e301d40-ea84-4165-95b5-bc478edf104b",
   "metadata": {},
   "outputs": [
    {
     "name": "stdout",
     "output_type": "stream",
     "text": [
      "['acknowledge', 'know', 'enter', 'fix', 'surround', 'consider', 'say', 'hear', 'let', 'reply', 'return', 'tell', 'want', 'know', 'take', 'cry', 'want', 'tell', 'hear', 'know', 'say', 'take', 'come', 'agree', 'affect', 'reply', 'know', 'think', 'marry', 'settle', 'talk', 'fall', 'visit', 'come', 'send', 'like', 'flatter', 'pretend', 'grow', 'think', 'come', 'engage', 'assure', 'consider', 'think', 'know', 'visit', 'visit', 'dare', 'send', 'assure', 'throw', 'desire', 'humour', 'give', 'recommend', 'reply', 'abuse', 'vex', 'mistake', 'hear', 'mention', 'know', 'suffer', 'hope', 'live', 'come', 'come', 'visit', 'depend', 'visit', 'caprice', 'understand', 'develope', 'discontent', 'fancy', 'marry', 'visit']\n"
     ]
    }
   ],
   "source": [
    "# let's pick only verbs from the text we have been working on\n",
    "\n",
    "# We continue with our list_nonstop\n",
    "\n",
    "result_verbs = []\n",
    "\n",
    "for token in list_nonstop:\n",
    "    if token.pos_ == \"VERB\":\n",
    "        result_verbs.append(token.lemma_)\n",
    "\n",
    "print(result_verbs)\n",
    "\n",
    "# done!"
   ]
  },
  {
   "cell_type": "code",
   "execution_count": null,
   "id": "7214155b-f9f9-4163-98be-0c78e1946369",
   "metadata": {},
   "outputs": [],
   "source": []
  },
  {
   "cell_type": "code",
   "execution_count": null,
   "id": "13a8fe02-a570-49f5-9126-625bb6e11538",
   "metadata": {},
   "outputs": [],
   "source": []
  }
 ],
 "metadata": {
  "kernelspec": {
   "display_name": "Python 3",
   "language": "python",
   "name": "python3"
  },
  "language_info": {
   "codemirror_mode": {
    "name": "ipython",
    "version": 3
   },
   "file_extension": ".py",
   "mimetype": "text/x-python",
   "name": "python",
   "nbconvert_exporter": "python",
   "pygments_lexer": "ipython3",
   "version": "3.9.12 (main, Apr  4 2022, 05:22:27) [MSC v.1916 64 bit (AMD64)]"
  },
  "vscode": {
   "interpreter": {
    "hash": "5ae58900cfbb8c43ab3495913814b7cf26024f51651a94ce8bf64d6111688e8d"
   }
  }
 },
 "nbformat": 4,
 "nbformat_minor": 5
}
