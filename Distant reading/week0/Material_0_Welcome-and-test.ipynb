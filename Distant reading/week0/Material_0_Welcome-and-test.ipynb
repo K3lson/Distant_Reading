{
 "cells": [
  {
   "cell_type": "markdown",
   "id": "aebd7368",
   "metadata": {
    "tags": []
   },
   "source": [
    "# Welcome to the course \"Distant Reading\"! (UU, Master's programme in DH, VT-23)"
   ]
  },
  {
   "cell_type": "markdown",
   "id": "d9a50b3b",
   "metadata": {
    "tags": []
   },
   "source": [
    "During the course, we will learn basic Python programming with the help of Jupyter Notebooks. You can also use the notebooks when you do your Lab assignments. The notebooks allow us to do both coding and commenting in a easy-approachable way.\n",
    "\n",
    "## First: what are Jupyter notebooks?\n",
    "\n",
    "Jupyter notebooks are programming and computing platforms that are run in the web browser. They consist of \"cells\" which can contain either code that can be run in the notebook, or text, that is,\"Markdown\" (like this field), where it possible to type in instructions and comments. The notebooks are then easily shared with others to study.\n",
    "\n",
    "For this course, we use a locally installed version of the Jupyter Notebook Lab (through Anaconda), which allows to create and open notebooks. Another tool for working with notebooks is Google Colaboratory, which is part of the Google cloud services (drive, document etc.)\n",
    "\n",
    "We will do our Lab assignments in Jupyter Notebook. The \"code cells\" will contain Python code that we will learn during the course. The \"Markdown cells\" containt text that can be formatted (headings, bold, italics) using the Markdown language. You can have a look at the basic formatting instructions here: https://www.markdownguide.org/cheat-sheet/.\n",
    "\n",
    "\n",
    "## Test that you have the course libraries installed:\n",
    "\n",
    "As you run the exercises locally, this first notebook is used to test that you have all libraries used during this course (and some optional) installed to your notebook platform. The libraries contain functions that we can use instead of writing all the code by ourselves. We will talk more about the libraries during the course.\n",
    "\n",
    "Run the steps by clicking the \"play\" arrow symbol or selecting Run All Cells from the menu or press CTRL+enter (execute the currently active cell) or SHIFT+enter (execute the current cell and move to the next cell). When the code line is done, you get a number between the brackets on the left side of the code line.\n",
    "\n",
    "If you get an error \"ModuleNotFoundError\", then go to the course instructions for installing Anaconda and Jupyter Notebook on Studium. We will also tackel possible errors at Lecture 1.\n",
    "\n",
    "If you get no errors you are ready to start with the first material presented at Lecture 1. Well done!\n",
    "\n"
   ]
  },
  {
   "cell_type": "code",
   "execution_count": 8,
   "id": "38743de8",
   "metadata": {},
   "outputs": [],
   "source": [
    "import spacy"
   ]
  },
  {
   "cell_type": "code",
   "execution_count": 9,
   "id": "3d43553b-f415-4bea-a6b6-7bd1227fc0d5",
   "metadata": {},
   "outputs": [],
   "source": [
    "nlp = spacy.load(\"en_core_web_sm\")"
   ]
  },
  {
   "cell_type": "code",
   "execution_count": 10,
   "id": "0a13426a-0bc8-4235-a1a2-3d22c9b33636",
   "metadata": {},
   "outputs": [],
   "source": [
    "import matplotlib"
   ]
  },
  {
   "cell_type": "code",
   "execution_count": 11,
   "id": "04025445",
   "metadata": {},
   "outputs": [],
   "source": [
    "import numpy"
   ]
  },
  {
   "cell_type": "code",
   "execution_count": 12,
   "id": "1e5aa50b",
   "metadata": {},
   "outputs": [],
   "source": [
    "import pandas"
   ]
  },
  {
   "cell_type": "code",
   "execution_count": 13,
   "id": "01e6ffd9-723e-4b9d-b5c0-a05b2fe2044d",
   "metadata": {},
   "outputs": [],
   "source": [
    "import nltk"
   ]
  },
  {
   "cell_type": "code",
   "execution_count": 14,
   "id": "ad261353-4154-43e4-804b-79002df743a4",
   "metadata": {},
   "outputs": [
    {
     "name": "stdout",
     "output_type": "stream",
     "text": [
      "All clear? Let's continue with the learning material at Lecture 1!\n"
     ]
    }
   ],
   "source": [
    "print (\"All clear? Let's continue with the learning material at Lecture 1!\")"
   ]
  },
  {
   "cell_type": "markdown",
   "id": "cf3a295d-a864-4569-b0fa-40f3f1d249be",
   "metadata": {},
   "source": [
    "## About the library packages:\n",
    "\n",
    "-spaCy is a free, open-source library for advanced Natural Language Processing (NLP) in Python.\n",
    "\n",
    "-en_core_web_sm is the English language model used by spaCy\n",
    "\n",
    "-Matplotlib is a comprehensive library for creating static, animated, and interactive visualizations in Python.\n",
    "\n",
    "-NumPy is a common library for scientific computing in Python.\n",
    "\n",
    "-pandas is a library for data analysis tools and enabling use of data structures\n",
    "\n",
    "-nltk: Natural Language Processing Toolkit, a very commonly used Natural Language Processing library with a great course book: https://www.nltk.org/book/\n"
   ]
  },
  {
   "cell_type": "code",
   "execution_count": null,
   "id": "d8e8925e-8345-4852-87b2-0d14674593b2",
   "metadata": {},
   "outputs": [],
   "source": []
  }
 ],
 "metadata": {
  "kernelspec": {
   "display_name": "Python 3",
   "language": "python",
   "name": "python3"
  },
  "language_info": {
   "codemirror_mode": {
    "name": "ipython",
    "version": 3
   },
   "file_extension": ".py",
   "mimetype": "text/x-python",
   "name": "python",
   "nbconvert_exporter": "python",
   "pygments_lexer": "ipython3",
   "version": "3.9.12 (main, Apr  4 2022, 05:22:27) [MSC v.1916 64 bit (AMD64)]"
  },
  "vscode": {
   "interpreter": {
    "hash": "5ae58900cfbb8c43ab3495913814b7cf26024f51651a94ce8bf64d6111688e8d"
   }
  }
 },
 "nbformat": 4,
 "nbformat_minor": 5
}
