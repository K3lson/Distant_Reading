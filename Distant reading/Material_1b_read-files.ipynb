{
 "cells": [
  {
   "cell_type": "markdown",
   "id": "f5884a7f-3a86-48f1-b4ed-ef3571dd46b2",
   "metadata": {
    "tags": []
   },
   "source": [
    "## Distant reading study week 1 (VT-23, Matti La Mela)\n",
    "\n",
    "Learning material 1b\n",
    "Opening and writing files (txt)\n",
    "\n",
    "This Notebook introduces us to how to open and write txt files. We are able to take external text data from to our python data processing and analysis. Later we will also open csv-files which store tabular data.\n",
    "\n",
    "The reference readings for this learning material is\n",
    "\n",
    "o Chapter 9 in Allen B. Downey Think Python: How to Think Like a Computer Scientist, 2nd ed., Needham 2015, https://greenteapress.com/wp/think-python-2e/\n"
   ]
  },
  {
   "cell_type": "markdown",
   "id": "f132dd4a-fb86-4e6a-9fa3-1d469c5de806",
   "metadata": {},
   "source": [
    "Make sure that you have the example folder \"text-material\" downloaded to the path where you have this notebook, Material_1b_read_files. You can adjust the path from where we read and write below in the code."
   ]
  },
  {
   "cell_type": "markdown",
   "id": "3a79ce28-cab9-4ff9-b42d-5345ca2caaf4",
   "metadata": {},
   "source": [
    "### 1. Reading a text file"
   ]
  },
  {
   "cell_type": "code",
   "execution_count": 2,
   "id": "e24a2058-96d3-41b3-be30-e2588aa169fe",
   "metadata": {},
   "outputs": [
    {
     "name": "stdout",
     "output_type": "stream",
     "text": [
      "CHAPTER I.\n",
      "Down the Rabbit-Hole\n",
      "\n",
      "\n",
      "Alice was beginning to get very tired of sitting by her sister on \n"
     ]
    }
   ],
   "source": [
    "# We will read the contents of the text file into a string variable that we label \"chapter1\". This includes all the characters the text file might\n",
    "# contain including extra spaces, OCR-dirt, line breaks. These we might have to clean later.\n",
    "\n",
    "# We use the open() function to open our file. We give as arguments the path, mode, and file encoding.\n",
    "# We use mode = \"r\", while we are reading the file. We will use later \"w\" (writes over the old file) or \"a\" (append).\n",
    "\n",
    "# The with statement here ensures simply that we do not leave the file open. We should close it with close(). Python is good in handling files that never\n",
    "# get closed, but for example when writing we need to close the file to have it actully written.\n",
    "\n",
    "# Note the indentation again: everything that is in the indented code block is done while the file is open!\n",
    "\n",
    "with open(\"./texts_week1/Alice_in_wonderland_ch1.txt\", mode=\"r\", encoding=\"utf-8\") as file:\n",
    "    chapter1 = file.read()\n",
    "\n",
    "print(chapter1[0:100])\n",
    "\n",
    "# We use the index to print the first hundred characters of the Alice's adventures in Wonderland by Lewis Carroll (https://www.gutenberg.org/ebooks/11)."
   ]
  },
  {
   "cell_type": "code",
   "execution_count": 3,
   "id": "4e9fdccf-fb7d-4510-97a4-5b2e2fe4e0b6",
   "metadata": {},
   "outputs": [
    {
     "name": "stdout",
     "output_type": "stream",
     "text": [
      "['CHAPTER I.\\n', 'Down the Rabbit-Hole\\n', '\\n']\n",
      "Hello\n",
      "world!\n"
     ]
    }
   ],
   "source": [
    "# We Aae also able to read the file line by line. This can sometimes be more useful depending on how the text file we are reading is structured.\n",
    "# We create first a list where we store the file lines as strings, and then use for-loop to go through the lines.\n",
    "\n",
    "text_lines = []\n",
    "\n",
    "with open(\"./texts_week1/Alice_in_wonderland_ch1.txt\", mode=\"r\", encoding=\"utf-8\") as file:\n",
    "    for line in file:\n",
    "        text_lines.append(line)\n",
    "\n",
    "# we could add some data processing operation already here inside the for loop for every \"line\" we read, eg. line = line.lower()\n",
    "\n",
    "print(text_lines[0:3])\n",
    "\n",
    "# we print the first three lines we read. This is not the same as sentence, but line ends into a \"\\n\" which means \"endline\". You can add \\n\n",
    "# to your strings too:\n",
    "\n",
    "string = \"Hello\\nworld!\"\n",
    "print (string)\n",
    "\n",
    "# It is also possible to use the file-function readline(), about which we have example in chapter 9 of our reference book Think Python."
   ]
  },
  {
   "cell_type": "code",
   "execution_count": 4,
   "id": "320afcb6-e589-4e39-83a9-216c8144d210",
   "metadata": {},
   "outputs": [
    {
     "name": "stdout",
     "output_type": "stream",
     "text": [
      "Our string 'text' contains 11554 characters.\n"
     ]
    }
   ],
   "source": [
    "# In our example, however, we want to read all characters in the text file to our string variable \"text\", so we do the reading again.\n",
    "\n",
    "with open(\"./texts_week1/Alice_in_wonderland_ch1.txt\", mode=\"r\", encoding=\"utf-8\") as file:\n",
    "    text = file.read()\n",
    "\n",
    "# let's see how long our string is!\n",
    "\n",
    "print(\"Our string 'text' contains \" + str(len(text)) + \" characters.\")\n"
   ]
  },
  {
   "attachments": {},
   "cell_type": "markdown",
   "id": "42292ff2-411b-4cd2-bf5a-7b901c638de2",
   "metadata": {},
   "source": [
    "### 2. Some data processing with the text data we have read"
   ]
  },
  {
   "cell_type": "code",
   "execution_count": 5,
   "id": "61a95e65-adce-45ec-ba95-58aa0abbe933",
   "metadata": {},
   "outputs": [
    {
     "name": "stdout",
     "output_type": "stream",
     "text": [
      "34\n",
      "Alice was beginning to get very tired of sitting by her sister on \n"
     ]
    }
   ],
   "source": [
    "# We will focus only on the chapter text. There might be also other metadata at the beginning of a text file which is useful to be cut out. We will\n",
    "# first find the index where our chapter text starts and cut our string to start from there.\n",
    "\n",
    "# index() function gives us the index number where a sub-string is found. We know that the first chapter starts with the words\n",
    "# \"Alice was beginning to get very tired\".\n",
    "\n",
    "print (text.index(\"Alice was beginning to get very tired\"))\n",
    "\n",
    "# We see that this substring starts at index 46. We can check that with by printing some characters from that index onwards\n",
    "\n",
    "print (text[34:100])\n",
    "\n",
    "# If we had the complete text, we could do the same for finding the end of a chapter with some substring. In this case we know that the text file\n",
    "# that we are using ends at the end of the chapter."
   ]
  },
  {
   "cell_type": "code",
   "execution_count": 6,
   "id": "3bf73c29-121f-40ba-84ee-fca4e376a7f0",
   "metadata": {},
   "outputs": [],
   "source": [
    "# We then replace our text string with a string that starts from the index 46 and runs until the end of the string\n",
    "\n",
    "text_ch1 = text[34:]\n"
   ]
  },
  {
   "cell_type": "code",
   "execution_count": 7,
   "id": "0160b9f5-1e3b-466c-914a-fd967916e535",
   "metadata": {},
   "outputs": [
    {
     "name": "stdout",
     "output_type": "stream",
     "text": [
      "['alice was beginning to get very tired of sitting by her sister on the\\nbank, and of having nothing to do: once or twice she had peeped into\\nthe book her sister was reading, but it had no pictures or\\nconversations in it, “and what is the use of a book,” thought alice\\n“without pictures or conversations?”', 'so she was considering in her own mind (as well as she could, for the\\nhot day made her feel very sleepy and stupid), whether the pleasure of\\nmaking a daisy-chain would be worth the trouble of getting up and\\npicking the daisies, when suddenly a white rabbit with pink eyes ran\\nclose by her.', 'there was nothing so _very_ remarkable in that; nor did alice think it\\nso _very_ much out of the way to hear the rabbit say to itself, “oh\\ndear! oh dear! i shall be late!” (when she thought it over afterwards,\\nit occurred to her that she ought to have wondered at this, but at the\\ntime it all seemed quite natural); but when the rabbit actually _took a\\nwatch out of its waistcoat-pocket_, and looked at it, and then hurried\\non, alice started to her feet, for it flashed across her mind that she\\nhad never before seen a rabbit with either a waistcoat-pocket, or a\\nwatch to take out of it, and burning with curiosity, she ran across the\\nfield after it, and fortunately was just in time to see it pop down a\\nlarge rabbit-hole under the hedge.']\n"
     ]
    }
   ],
   "source": [
    "# We continue with processing our text data. For the method that we plan to use, we want the text as lowercase.\n",
    "\n",
    "text_ch1 = text_ch1.lower()\n",
    "\n",
    "# Also, we want to assign the text paragraphs into a list. With split() method, we can split the parts between two endlines \\n\\n, which mark the\n",
    "# paragraph here\n",
    "\n",
    "text_paragraphs = text_ch1.split(\"\\n\\n\")\n",
    "\n",
    "print(text_paragraphs[0:3])\n",
    "\n",
    "# we should see now first three paragraphs of the novel"
   ]
  },
  {
   "cell_type": "code",
   "execution_count": 8,
   "id": "06fc6b65-4b7d-4e80-aa89-ce513842e689",
   "metadata": {},
   "outputs": [
    {
     "name": "stdout",
     "output_type": "stream",
     "text": [
      "alice was beginning to get very tired of sitting by her sister on the bank, and of having nothing to do: once or twice she had peeped into the book her sister was reading, but it had no pictures or conversations in it, “and what is the use of a book,” thought alice “without pictures or conversations?”\n"
     ]
    }
   ],
   "source": [
    "# We continue our data processing:\n",
    "\n",
    "# We see that the paragraphs contain endlines, \\n. Our hypothetical method processes only words, so we could replace the endlines with space.\n",
    "\n",
    "paragraph = text_paragraphs[0].replace(\"\\n\", \" \")\n",
    "\n",
    "print(paragraph)\n",
    "                                  "
   ]
  },
  {
   "cell_type": "code",
   "execution_count": null,
   "id": "16e14442-c403-4215-96ca-f37b73a8d8aa",
   "metadata": {},
   "outputs": [],
   "source": [
    "# There are many extra characters we might need to clean for our analysis, e.g. everything else than alphabets.\n",
    "# We see in Material_1c how such filtering is done with Spacy. We could use the replace method for this,\n",
    "# or then regular expressions (which are explored later during the course).\n",
    "\n",
    "# we import the library re, which allows regular expression operations\n",
    "# (http://programminghistorian.org/en/lessons/cleaning-ocrd-text-with-regular-expressions)\n",
    "\n",
    "import re \n",
    "\n",
    "print(paragraph)\n",
    "\n",
    "# In this regular expression, we select everything else than a-z or A-Z, thus also numerals are selected, and then replace them with \"\", thus remove them.\n",
    "\n",
    "paragraph = re.sub(r\"[^a-zA-Z ]\", \"\", paragraph)\n",
    "\n",
    "print(paragraph)\n",
    "\n",
    "#para = 0\n",
    "#for i in text_paragraphs:\n",
    "#    print(i)\n",
    "#    print(para)\n",
    "#    para += 1\n",
    "    \n",
    "#print(text_paragraphs[11])"
   ]
  },
  {
   "cell_type": "code",
   "execution_count": null,
   "id": "eaae8d52-3223-40ff-b25f-de702d644350",
   "metadata": {},
   "outputs": [],
   "source": [
    "# now let's do our operations and assign them to the variable. In this example we create a new list variable \"cleaned_paragraphs\".\n",
    "# We use a for loop to go through our list variable \"text_paragraphs\":\n",
    "\n",
    "# In the for loop, \"paragraph\" gets with every iteration a value that we have in our text_paragraphs list\n",
    "\n",
    "cleaned_paragraphs = []\n",
    "\n",
    "for paragraph in text_paragraphs:\n",
    "    paragraph = paragraph.replace(\"\\n\", \" \")         # we remove endlines from the paragraph\n",
    "    paragraph = re.sub(r\"[^a-zA-Z ]\", \"\", paragraph) # we our regular expression to remove everything else but a-z A-Z\n",
    "    cleaned_paragraphs.append(paragraph)             # add the cleaned paragraph to our list variable \"cleaned_paragraphs\"\n",
    "\n",
    "# you could add more operations here in the for loop, based on the needs\n",
    "\n"
   ]
  },
  {
   "cell_type": "code",
   "execution_count": null,
   "id": "e914f300-8e76-446a-9f4c-b79ac8107241",
   "metadata": {},
   "outputs": [],
   "source": [
    "# Let's print some example paragraphs to see how they look like:\n",
    "\n",
    "print(cleaned_paragraphs[0])\n",
    "\n",
    "print(\"\")\n",
    "\n",
    "print(cleaned_paragraphs[5])\n",
    "\n",
    "# we could more interesting analysis with the paragraphs, for now this is enough and we want to write the paragraphs back to a text file."
   ]
  },
  {
   "cell_type": "code",
   "execution_count": null,
   "id": "6270a24e-49bd-49f5-b93b-ca6ffa707c85",
   "metadata": {},
   "outputs": [],
   "source": [
    "# Ps. One useful method for cleaning strings is .strip(\"CHAR\")\n",
    "\n",
    "# This removes the CHAR from the beginning and end of a string. If no CHAR is given strip removes whitespaces.\n",
    "\n",
    "# In this example string there are extra whitespaces at the beginning and at the end\n",
    "\n",
    "example = \"     this is our data   \"\n",
    "\n",
    "cleaned = example.strip()\n",
    "\n",
    "print(cleaned)\n"
   ]
  },
  {
   "cell_type": "markdown",
   "id": "b30c358a-98c5-4930-8a5f-2199ee2ef7e8",
   "metadata": {
    "tags": []
   },
   "source": [
    "### Writing a text file"
   ]
  },
  {
   "cell_type": "code",
   "execution_count": null,
   "id": "ce6cc32c-697c-470f-bec1-109fdae897f7",
   "metadata": {},
   "outputs": [],
   "source": [
    "# We could continue our data processing and analysis, but we want to write the cleaned paragraphs to a text file.\n",
    "# This is done in a similar way like when opening a file, but we use the mode \"w\". Note what mode \"w\" overwrites any existing file.\n",
    "# If we want to append, thus to add new content to the file, we can use mode \"a\" when writing. We use utf-8 encoding for our files.\n",
    "#\n",
    "# There are several ways to write our list to the file.\n",
    "\n",
    "# We can use a for loop for this. Note again the indentation, what are the blocks that are executed when the file is open (with),\n",
    "# and what is done in the for loop.\n",
    "#\n",
    "# In the for loop, we iterate through the cleaned_paragraphs list: each value (thus paragraph in our list) is assigned to \"text\". We write the\n",
    "# content of the text variable to the file \"output_paragraphs.txt\". We add also a breakline \\n.\n",
    "\n",
    "with open(\"./texts_week1/output_paragraphs.txt\", mode=\"w\", encoding=\"utf-8\") as file:\n",
    "    for text in cleaned_paragraphs:\n",
    "        file.write(text)\n",
    "        file.write(\"\\n\")\n",
    "\n",
    "\n",
    "# we should now have a file \"output_paragraphs\" in our texts_week1 folder. You can obviously use some other path also for this!\n"
   ]
  },
  {
   "cell_type": "code",
   "execution_count": null,
   "id": "2c138feb-1e8e-4ea3-9a67-e368f23fde39",
   "metadata": {},
   "outputs": [],
   "source": [
    "# It is very easy to unite a list of strings together with the join() method. The string given to join is what is put\n",
    "# between the list entries.\n",
    "\n",
    "# Example, our list with planet names.\n",
    "\n",
    "planets = [\"mars\", \"jupiter\", \"venus\"]\n",
    "\n",
    "print(planets)\n",
    "\n",
    "print(\"\")\n",
    "\n",
    "# We join it to the string variable text. We give space, \" \", as the connecting string. This could any string that we might want as a connector.\n",
    "\n",
    "text = \" \".join(planets)\n",
    "\n",
    "print(text)\n",
    "\n",
    "# The first line of output is a list of strings, the lower one is a string where we have concatenated the list entries.\n"
   ]
  },
  {
   "cell_type": "code",
   "execution_count": null,
   "id": "9c379e40-c9bc-4695-ba4a-3c09a4420fb9",
   "metadata": {},
   "outputs": [],
   "source": [
    "# Now let's use join() method to unite our paragraphs into a string, and then write the string to a file. We use linebreak \"\\n\" as the connector:\n",
    "\n",
    "text = \"\\n\".join(cleaned_paragraphs)\n",
    "\n",
    "# we overwrite the file \"output_paragraphs.txt\".\n",
    "\n",
    "with open(\"./texts_week1/output_paragraphs.txt\", mode=\"w\", encoding=\"utf-8\") as file:\n",
    "    file.write(text)\n"
   ]
  },
  {
   "cell_type": "code",
   "execution_count": null,
   "id": "73f8cdde-7907-4efd-83d1-c5bb5f570fe3",
   "metadata": {},
   "outputs": [],
   "source": [
    "# We can try also the mode =\"a\", append, which opens an existing file and writes in at the end of the file.\n",
    "# This can be useful if you combine several strings to an output file.\n",
    "\n",
    "# Let's write some linebreaks to the beginning, so we do not connect the last and the first paragraphs together. We a\n",
    "\n",
    "with open(\"./texts_week1/output_paragraphs.txt\", mode=\"a\", encoding=\"utf-8\") as file:\n",
    "    file.write(\"\\n\\n\")\n",
    "    file.write(\"Here starts our new appended string:\")\n",
    "    file.write(\"\\n\\n\")\n",
    "    file.write(text)\n"
   ]
  },
  {
   "cell_type": "markdown",
   "id": "d614d24c-bbfd-4910-878f-70dc9b13b837",
   "metadata": {},
   "source": [
    "### Well done. You can try opening the text file (output_paragraphs.txt) in a text processing program, e.g. notepad++ or word.\n",
    "\n",
    "We see that there are still empty paragraphs written to our file. You can reflect on about what in our cleaning process left these empty spaces. Perhaps our process could be simplified?\n"
   ]
  },
  {
   "cell_type": "code",
   "execution_count": null,
   "id": "2faf9fdb-bfda-45e1-86f8-6b892023c65a",
   "metadata": {},
   "outputs": [],
   "source": []
  },
  {
   "cell_type": "markdown",
   "id": "67e3b7ca-03d4-44b0-aca9-4ce6e8d7e817",
   "metadata": {},
   "source": [
    "(OPTIONAL)\n",
    "\n",
    "Ps.\n",
    "\n",
    "Why do we use the encoding = utf-8 when opening files? This is to ensure that we open the file with the right encoding (in this case: utf-8). Otherwise open() uses the computer's default encoding, which might be something else, and might lead to an error.\n",
    "\n",
    "Utf-8 is the most common encoding today, https://en.wikipedia.org/wiki/Popularity_of_text_encodings, and it covers the whole very encompassing Unicode character set (Unicode 15.0.0 has 149,185 characters, https://www.unicode.org/versions/Unicode15.0.0/). For example, some historical character sets like ASCII had just 95 printable characters. It is thus good to save your text data into utf-8 to ensure compatibility, and if the file is in some different format, it can be converted for example with Notepad++ to utf-8. You can read more about character encodings at https://dsc.gmu.edu/tutorials-data/tutorial-character-encoding/\n",
    "\n",
    "In the below code cell, we try to open a Finnish version of the book without precising the encoding, and if you print the text, you will see, depending on your Environment settings, that some characters (the skands for instance, ä ö) are not read/printed correctly. (https://www.gutenberg.org/ebooks/46569)"
   ]
  },
  {
   "cell_type": "code",
   "execution_count": null,
   "id": "14bd9a15-dc48-4ebd-839e-6fedeb783753",
   "metadata": {
    "tags": []
   },
   "outputs": [],
   "source": [
    "with open(\"./texts_week1/alice_fi_ch1.txt\", mode=\"r\") as file:\n",
    "    text = file.read()\n",
    "\n",
    "print(text[0:300])\n",
    "\n",
    "# Try opening the file with encoding=\"utf-8\", and the characters appear correctly:\n",
    "#\n",
    "#with open(\"./texts_week1/alice_fi_ch1.txt\", mode=\"r\", encoding=\"utf-8\") as file:\n",
    "#    text = file.read()\n",
    "\n",
    "#print(text[0:300])\n"
   ]
  },
  {
   "cell_type": "code",
   "execution_count": null,
   "id": "05b41903-6388-42a5-ba6e-f276e9761922",
   "metadata": {},
   "outputs": [],
   "source": [
    "# If you want to see what kind of unicode characters there are, you can print the first 10000 chars with this for loop:\n",
    "\n",
    "i = 0\n",
    "\n",
    "for i in range(0, 10000):\n",
    "    print(chr(i))\n",
    "    \n",
    "# There are even emojis included..\n"
   ]
  },
  {
   "cell_type": "code",
   "execution_count": null,
   "id": "44ede4a2-3886-4863-8753-4e8303eda277",
   "metadata": {},
   "outputs": [],
   "source": []
  }
 ],
 "metadata": {
  "kernelspec": {
   "display_name": "Python 3",
   "language": "python",
   "name": "python3"
  },
  "language_info": {
   "codemirror_mode": {
    "name": "ipython",
    "version": 3
   },
   "file_extension": ".py",
   "mimetype": "text/x-python",
   "name": "python",
   "nbconvert_exporter": "python",
   "pygments_lexer": "ipython3",
   "version": "3.9.12"
  },
  "vscode": {
   "interpreter": {
    "hash": "5ae58900cfbb8c43ab3495913814b7cf26024f51651a94ce8bf64d6111688e8d"
   }
  }
 },
 "nbformat": 4,
 "nbformat_minor": 5
}
