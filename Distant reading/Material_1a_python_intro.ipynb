{
 "cells": [
  {
   "cell_type": "markdown",
   "id": "5dfab8e1-97dc-4a02-bc82-e309fa283b95",
   "metadata": {},
   "source": [
    "## Distant reading course week 1\n",
    "\n",
    "### Learning material 1a: Introduction to Python basics\n",
    "\n",
    "This Notebook introduces us to basic programming concepts in Python such as variables, operations, iterations, and functions. The concepts would be similar in other programming languages too.\n",
    "<br>\n",
    "<br>\n",
    "The reference readings for this learning material is\n",
    "\n",
    "o Chapters 1-3, 5, 7-8 and 10 in Allen B. Downey Think Python: How to Think Like a Computer Scientist, 2nd ed., Needham 2015, https://greenteapress.com/wp/think-python-2e/\n",
    "\n",
    "o Chapter 1 (with a focus on text only) in Bird, Steven, Ewan Klein, and Edward Loper (2019), Natural Language Processing with Python (NLTK 3.0), https://www.nltk.org/book/\n",
    "\n",
    "<br>"
   ]
  },
  {
   "cell_type": "markdown",
   "id": "5954b3ed-36f0-43ce-bf17-0bbc63e416ec",
   "metadata": {},
   "source": [
    "### Code cell:\n",
    "\n",
    "When running the code cell you will get the output below the cell. You are free to modify the code cell yourself. If the code is not correct, for example\n",
    "that the syntax is not correct, you will get an error message below the cell.\n",
    "\n",
    "New cells, which can then be defined as Code or Markdown can be created by clicking the plus symbol. Scissors are used for cutting. Play symbol (or shift-enter) runs the cell.\n",
    "\n",
    "We should run the cells in the order they are entered here, as some of the variables or operations we do in the cells are required for the cells below to work. Thus, Jupyter Notebook stores the variables we have created in the previous cells."
   ]
  },
  {
   "cell_type": "code",
   "execution_count": 6,
   "id": "40f95d63-6ac8-48e9-ac52-9052543369ec",
   "metadata": {},
   "outputs": [
    {
     "name": "stdout",
     "output_type": "stream",
     "text": [
      "2\n",
      "10\n",
      "51\n"
     ]
    }
   ],
   "source": [
    "# This is a code cell. Hashtag is used to write comments that are not executed, but which describe the code \n",
    "\n",
    "# The code is executed from the beginning to the end.\n",
    "\n",
    "# We use the print() function to print in the output section below the cell.\n",
    "\n",
    "print(2)\n",
    "\n",
    "# The program first executes what is inside the () of our function\n",
    "\n",
    "print(5 + 5)\n",
    "\n",
    "print(5 * 10 + 1)\n"
   ]
  },
  {
   "cell_type": "code",
   "execution_count": 7,
   "id": "16785632-065c-4c87-8607-e7f543329ddc",
   "metadata": {},
   "outputs": [
    {
     "name": "stdout",
     "output_type": "stream",
     "text": [
      "Hello world\n",
      "Hello world !!!\n"
     ]
    }
   ],
   "source": [
    "# When we print a string, we need to have it between quotation marks \"\".\n",
    "\n",
    "print (\"Hello world\")\n",
    "\n",
    "# We can also combine strings together with +\n",
    "\n",
    "print (\"Hello\" + \" \" + \"world\" + \" \" + \"!!!\")\n"
   ]
  },
  {
   "cell_type": "markdown",
   "id": "46b580df-708f-4861-988c-6fc2d5595f51",
   "metadata": {
    "tags": []
   },
   "source": [
    "### 1. Variables\n",
    "\n",
    "Variables are used to store information (values) which we calculate and process in our code. There are different types of variables depending on what values we assign to them, eg. numeric value or strings. The variable is created and is given a type (integer, string) when we assign a value to it for the first time.\n",
    "\n",
    "We can make up the variable names by ourselves, but they should be precise, meaningful, and concise to keep our code understandable for us and others. The variable names cannot start with a number, and cannot include whitespace (use underscore). It is not possible to give names that are used already in the programming syntax or are defined already, eg. \"not\" or \"if\" are not valid variable names."
   ]
  },
  {
   "cell_type": "code",
   "execution_count": 8,
   "id": "a77996d0-41da-4b56-9b47-629c308fb2ee",
   "metadata": {},
   "outputs": [
    {
     "name": "stdout",
     "output_type": "stream",
     "text": [
      "12\n",
      "4\n"
     ]
    }
   ],
   "source": [
    "# Let's define two variables that have the values of tables and chairs in a classroom\n",
    "\n",
    "tables = 4\n",
    "chairs = 12\n",
    "\n",
    "print (chairs)\n",
    "print (tables)"
   ]
  },
  {
   "cell_type": "code",
   "execution_count": 9,
   "id": "8acbd6dc-b497-4bb2-a746-355653293a14",
   "metadata": {},
   "outputs": [],
   "source": [
    "# We create here three variables, by assigning values to them. The variables are used to store data about films we are analysing.\n",
    "\n",
    "film_year = 2002\n",
    "film_title = \"The Man Without a Past\"\n",
    "film_rating = 7.7\n"
   ]
  },
  {
   "cell_type": "code",
   "execution_count": 10,
   "id": "572847e6-b1f6-413b-bac0-9b902ae9777a",
   "metadata": {},
   "outputs": [
    {
     "name": "stdout",
     "output_type": "stream",
     "text": [
      "The film to be analysed is: The Man Without a Past\n",
      "2002\n"
     ]
    }
   ],
   "source": [
    "# Defining the variables does not give us any output. The values are assigned and stored in the variables until we close the notebook\n",
    "# or reset the Kernel (the program that runs our code).\n",
    "\n",
    "# We print the string \"The film to be analysed is: \" and add there the value of the variable film_title (which is also a string).\n",
    "\n",
    "print(\"The film to be analysed is: \" + film_title)\n",
    "\n",
    "print(film_year)\n"
   ]
  },
  {
   "cell_type": "markdown",
   "id": "bd2f1119-b68f-4aec-b957-2a68cccaff61",
   "metadata": {},
   "source": [
    "These variables are of three types:\n",
    "\n",
    "o film_year variable indicates the release year of the film and is an integer (int). Integers are whole-valued numbers and a very commonly used variable type.\n",
    "\n",
    "o film_title was created as a string variable. This is done by typing the string of characters between the quotation marks (\") (one letter, many letters, words, the \"space\" is a character for the computer).\n",
    "\n",
    "o the film_rating is a floating-point (float) variable, as it allows decimal points.\n"
   ]
  },
  {
   "cell_type": "code",
   "execution_count": 11,
   "id": "a7278db8-c04f-4198-859a-a8ce962eb607",
   "metadata": {},
   "outputs": [
    {
     "name": "stdout",
     "output_type": "stream",
     "text": [
      "<class 'int'>\n"
     ]
    }
   ],
   "source": [
    "# You can check the variable types with the function type().\n",
    "\n",
    "# Change the variable film_year to film_title or to film_rating, and see what types the other variables are.\n",
    "\n",
    "variable_type = type(film_year)\n",
    "\n",
    "print(variable_type)"
   ]
  },
  {
   "cell_type": "markdown",
   "id": "4505ffdc-85cf-4b90-bad4-661634356d9e",
   "metadata": {},
   "source": [
    "There are operators which can be used to calculate variables: + (addition), - (substraction), * (multiplication), / (division)."
   ]
  },
  {
   "cell_type": "code",
   "execution_count": 12,
   "id": "75963189-c860-4a8c-bde4-5e67c690aafc",
   "metadata": {},
   "outputs": [
    {
     "name": "stdout",
     "output_type": "stream",
     "text": [
      "9\n"
     ]
    }
   ],
   "source": [
    "# We want to calculate how many fruits there are. \n",
    "\n",
    "apples = 4\n",
    "pears = 5\n",
    "fruits = apples + pears\n",
    "\n",
    "print(fruits)\n",
    "\n"
   ]
  },
  {
   "cell_type": "code",
   "execution_count": 13,
   "id": "d8d3f618-a44b-428a-97e8-f7bd242834ad",
   "metadata": {},
   "outputs": [
    {
     "name": "stdout",
     "output_type": "stream",
     "text": [
      "12\n"
     ]
    }
   ],
   "source": [
    "# We assign another value to apples and redo the calculation\n",
    "\n",
    "apples = 7\n",
    "\n",
    "fruits = apples + pears\n",
    "\n",
    "print(fruits)\n"
   ]
  },
  {
   "cell_type": "code",
   "execution_count": 16,
   "id": "64524dea-26a5-4e3f-913f-fa0c17faff15",
   "metadata": {},
   "outputs": [
    {
     "name": "stdout",
     "output_type": "stream",
     "text": [
      "10\n"
     ]
    }
   ],
   "source": [
    "# But sometimes apples and pears do not go well together.\n",
    "\n",
    "apples = 7\n",
    "pears = \"5 pears\"\n",
    "\n",
    "fruits = apples + pears\n",
    "\n",
    "print(fruits)\n",
    "\n",
    "# We get an error while we cannot calculate integers and strings together, either or!\n",
    "\n",
    "# Try to fix the situation: change either the pears to an integer, or apples to a string."
   ]
  },
  {
   "cell_type": "code",
   "execution_count": 17,
   "id": "16798563-703b-460f-bdb7-9730f1a55f88",
   "metadata": {},
   "outputs": [
    {
     "name": "stdout",
     "output_type": "stream",
     "text": [
      "Roses are red, Roses are red, Roses are red, Roses are red, Roses are red, \n",
      "Roses are red, Roses are red, Roses are red, Roses are red, Roses are red, \n"
     ]
    }
   ],
   "source": [
    "# We can also do additions and multiplication with string (but not substraction or division)\n",
    "\n",
    "pattern = \"Roses are red, \"\n",
    "\n",
    "repetion = 5 * pattern\n",
    "\n",
    "print(repetion)\n",
    "\n",
    "# This would be the same as:\n",
    "\n",
    "print(pattern + pattern + pattern + pattern + pattern)"
   ]
  },
  {
   "cell_type": "code",
   "execution_count": 18,
   "id": "8d3388ef-60b0-45ae-a0a1-3fc963d047ef",
   "metadata": {},
   "outputs": [
    {
     "name": "stdout",
     "output_type": "stream",
     "text": [
      "The variable 'length' consists of 15 characters\n"
     ]
    }
   ],
   "source": [
    "# Strings consist of characters (character symbols, not letters only). We get the lenght of the string with the len() function.\n",
    "\n",
    "length = len(pattern)\n",
    "\n",
    "print(\"The variable 'length' consists of \" + str(length) + \" characters\")\n",
    "\n",
    "# Note: we cannot add in the above print() strings and integers, as in the above apples and pears example.\n",
    "# \"\" creates a string, and length is an integer. Thus, we conver the length variable into a string with str() function"
   ]
  },
  {
   "cell_type": "code",
   "execution_count": 19,
   "id": "40d4d440-8a7b-4d2c-b133-deb1977209f6",
   "metadata": {},
   "outputs": [
    {
     "name": "stdout",
     "output_type": "stream",
     "text": [
      "Violets are blue!\n",
      "V\n"
     ]
    }
   ],
   "source": [
    "# Strings consist of characters. We are able to work with the individual characters with the bracket operator containing the index:\n",
    "\n",
    "pattern = \"Violets are blue!\"\n",
    "\n",
    "print(pattern)\n",
    "\n",
    "# What is the first character? The indexes start from offset 0!\n",
    "\n",
    "print(pattern[0])\n",
    "\n"
   ]
  },
  {
   "cell_type": "code",
   "execution_count": 22,
   "id": "ef6931d9-d75f-4e58-968e-a77047ba5eb3",
   "metadata": {},
   "outputs": [
    {
     "name": "stdout",
     "output_type": "stream",
     "text": [
      "Viole\n"
     ]
    }
   ],
   "source": [
    "# We can also pick a slice of the string by typing \"from:to\" inside the brackets. NB, \"from\" starts from 0, but the \"to\" needs to be\n",
    "# the order number following the character which we want to include to the range.\n",
    "\n",
    "# Thus, the if we want a range from the first to the fifth char, we start from index 0.\n",
    "# The fifth character is index number 4, but as we want to include it, we type 4+1 = 5. Index 5 points to the beginning of the sixth char,\n",
    "# but does not include it. See also: our Think Python book, ch. 8.4.\n",
    "\n",
    "print(pattern[0:5])\n",
    "\n"
   ]
  },
  {
   "cell_type": "code",
   "execution_count": 23,
   "id": "93efba88-bef1-409b-b89a-1da6c89bc082",
   "metadata": {},
   "outputs": [
    {
     "name": "stdout",
     "output_type": "stream",
     "text": [
      "Vi\n",
      "ets are blue!\n"
     ]
    }
   ],
   "source": [
    "# We can use another variable as the index:\n",
    "\n",
    "end = 2\n",
    "print(pattern[0:end])\n",
    "\n",
    "# If we want to start from the beginning of the string, we type simply [:6] without the 0. Which is even more useful,\n",
    "# it works also the other way round, so [4:] takes us from the fifth character until the end of the string.\n",
    "\n",
    "print(pattern[4:])"
   ]
  },
  {
   "cell_type": "markdown",
   "id": "62634ac9-673f-489f-81b9-12bef349f817",
   "metadata": {},
   "source": [
    "String variables have in-built methods (functions that are built to the object, in this case, any string variable) which are useful for us. Here are just a few examples: (see more in nltk Ch 3.2)"
   ]
  },
  {
   "cell_type": "code",
   "execution_count": null,
   "id": "179bb09d-e7b9-440b-afdb-6338ba2dbe29",
   "metadata": {},
   "outputs": [],
   "source": [
    "# We can transform our strings to uppercase or lowercase rather easily:\n",
    "\n",
    "print (pattern.lower())\n",
    "\n",
    "upper = pattern.upper()\n",
    "print(upper)"
   ]
  },
  {
   "cell_type": "code",
   "execution_count": 24,
   "id": "930b8a44-ccf3-4f96-9db2-59cd42c64d35",
   "metadata": {},
   "outputs": [
    {
     "name": "stdout",
     "output_type": "stream",
     "text": [
      "Midway upon the journey of our life, I found myself within a forest dark\n"
     ]
    }
   ],
   "source": [
    "# With s.replace(a, b), we can replace all \"a\" with \"b\" in our string s.\n",
    "\n",
    "# In this case, all letters \"o\" have been recognized as zeros \"0\". Let's replace them.\n",
    "\n",
    "sentence = \"Midway up0n the j0urney of 0ur life, I f0und myself within a f0rest dark\"\n",
    "\n",
    "cleaned_sentence = sentence.replace(\"0\", \"o\")\n",
    "\n",
    "print(cleaned_sentence)"
   ]
  },
  {
   "cell_type": "code",
   "execution_count": null,
   "id": "5908f073-3110-41f2-8c87-a52be38c3df9",
   "metadata": {},
   "outputs": [],
   "source": [
    "# As we know already, replace is useful for removing characters from a string, by replacing them with nothing, \"\"\n",
    "\n",
    "# We are studying tweets, but we want to remove all question marks and exclamation marks.\n",
    "\n",
    "tweet = \"I think Uppsala is a great city???!!!!???\"\n",
    "\n",
    "tweet = tweet.replace(\"!\", \"\")\n",
    "tweet = tweet.replace(\"?\", \"\")\n",
    "\n",
    "print (tweet)\n",
    "\n",
    "# there are more efficient ways for cleaning strings with regular expressions, but we will come back to this later"
   ]
  },
  {
   "cell_type": "markdown",
   "id": "6b391164-197d-41ad-b03f-a3f8a215e639",
   "metadata": {},
   "source": [
    "### 2. Functions"
   ]
  },
  {
   "cell_type": "markdown",
   "id": "f9751fbe-694a-42c8-99e4-d56a4b14b636",
   "metadata": {},
   "source": [
    "We have used functions already above, for example, print(), type() and len(). We are also able to define functions by ourselves for operations that we repeat often in our programme. We give the function a name and the code that we want to include. The functions are not run by the program, if we do not call them.\n",
    "\n",
    "The functions often take an \"argument\" when they are called: argument is between the parentheses, e.g. len(sentence). Many functions give back a result, which is a return value, for example, the length of variable \"sentence\"."
   ]
  },
  {
   "cell_type": "code",
   "execution_count": 25,
   "id": "fa02ca50-d130-4c9b-8ad3-a8bd7f73ede6",
   "metadata": {},
   "outputs": [
    {
     "name": "stdout",
     "output_type": "stream",
     "text": [
      "Our function prints text\n",
      "And another line\n",
      "and one more line\n",
      "\n",
      "Our function prints text\n",
      "And another line\n",
      "and one more line\n",
      "\n",
      "Our function prints text\n",
      "And another line\n",
      "and one more line\n",
      "\n"
     ]
    }
   ],
   "source": [
    "# We define a simple function called \"print_text\", which prints text. There is no return value or arguments needed.\n",
    "\n",
    "def print_text():\n",
    "    print(\"Our function prints text\")\n",
    "    print(\"And another line\")\n",
    "    print(\"and one more line\")\n",
    "    print(\"\")\n",
    "    \n",
    "# we can call our function. NB! The code starts from here, the function is just defined but not executed until we call it in the main part\n",
    "# of our code here below.\n",
    "\n",
    "# Uncomment (remove the hashtags) and see how the function is called.\n",
    "\n",
    "print_text()\n",
    "print_text()\n",
    "print_text()\n"
   ]
  },
  {
   "cell_type": "code",
   "execution_count": 28,
   "id": "687213e0-2e88-449c-889d-fc4f4fdb7155",
   "metadata": {},
   "outputs": [
    {
     "name": "stdout",
     "output_type": "stream",
     "text": [
      "Hello well!\n"
     ]
    }
   ],
   "source": [
    "# We define our own function, which greets us. The argument given to the function is assigned to variable \"name\".\n",
    "# The variable \"name\" is printed as part of the code in the function.\n",
    "\n",
    "def greet(name):\n",
    "    print(\"Hello \" + name + \"!\")\n",
    "        \n",
    "# now we call the function and give it the parameter \"Your_name\":\n",
    "\n",
    "greet(\"well\")\n",
    "\n",
    "# You can type your name to our greet() function."
   ]
  },
  {
   "cell_type": "code",
   "execution_count": 31,
   "id": "f0222d29-5b9e-4864-8a3e-4543a45458fd",
   "metadata": {},
   "outputs": [
    {
     "name": "stdout",
     "output_type": "stream",
     "text": [
      "uppsala is truly a great city?\n",
      "i think i have to agree?\n"
     ]
    }
   ],
   "source": [
    "# We have a data processing case, where we need to convert strings to lowercase, remove all exclamation marks and add a question mark to the end.\n",
    "# We think that a function could be useful, as we repeat this in our program several times. In this function we have a return value in the end.\n",
    "\n",
    "# We first define the function that we name clean_text. The parameters given to the function are in variable \"input\".\n",
    "\n",
    "def clean_text(input):\n",
    "    input = input.lower()\n",
    "    input = input.replace(\"!\", \"\")\n",
    "    input = input + \"?\"\n",
    "    return (input)\n",
    "\n",
    "# We have two string variables that we want to process:\n",
    "\n",
    "sentence = \"Uppsala is truly a GREAT city!!!\"\n",
    "sentence2 = \"I THINK I HAVE TO AGREE!\"\n",
    "\n",
    "# We process our two sentences with the clean_text function and then print the output.\n",
    "\n",
    "print (clean_text(sentence))\n",
    "print (clean_text(sentence2))\n"
   ]
  },
  {
   "cell_type": "code",
   "execution_count": 38,
   "id": "8d8a6dc4-13e6-4b70-bba0-87003b9f67fe",
   "metadata": {},
   "outputs": [
    {
     "name": "stdout",
     "output_type": "stream",
     "text": [
      "Uppsala is truly a GREAT city!!!\n",
      "uppsala is truly a great city?\n"
     ]
    }
   ],
   "source": [
    "# Note that the variable sentence is still the same:\n",
    "\n",
    "print(sentence)\n",
    "\n",
    "# Our function returned the cleaned sentence, but we merely printed it with print() and did not store it into a any variable, e.g.\n",
    "\n",
    "cleaned_sentence = clean_text(sentence)\n",
    "\n",
    "print(cleaned_sentence)"
   ]
  },
  {
   "cell_type": "markdown",
   "id": "51ac2257-0943-4164-9653-26583687943f",
   "metadata": {},
   "source": [
    "### 3. Conditionals\n",
    "\n",
    "Another group of operators are comparison operators: == (is equal?), != (is not equal?), > (is greater than?), < (is less than?), >= (is greater than or equal?), <= (is less than or equal?). The comparisons return truth values: true or false.\n",
    "\n",
    "We can accompany these with the logical operators and, or and not, which are familiar to us from google searches for example."
   ]
  },
  {
   "cell_type": "code",
   "execution_count": null,
   "id": "38ba84e4-2e47-440a-bc4d-99fd8e1b1758",
   "metadata": {},
   "outputs": [],
   "source": [
    "result = 5 > 4\n",
    "print (result)"
   ]
  },
  {
   "cell_type": "code",
   "execution_count": null,
   "id": "93159064-bdd5-4644-84c6-7ca94ef193ee",
   "metadata": {},
   "outputs": [],
   "source": [
    "# Are the following true or false?\n",
    "\n",
    "print (5 == 5)\n",
    "print (4 < 7)\n",
    "print (8 != 8)\n",
    "\n"
   ]
  },
  {
   "cell_type": "code",
   "execution_count": 39,
   "id": "c65eb0b9-a942-4f32-bba1-0e4f6ed5643e",
   "metadata": {},
   "outputs": [
    {
     "name": "stdout",
     "output_type": "stream",
     "text": [
      "False\n",
      "True\n"
     ]
    }
   ],
   "source": [
    "# == and != work with strings\n",
    "\n",
    "fruit1 = \"apple\"\n",
    "fruit2 = \"orange\"\n",
    "\n",
    "print (fruit1 == fruit2)\n",
    "\n",
    "print (\"Apples\" != \"Oranges\")\n"
   ]
  },
  {
   "cell_type": "code",
   "execution_count": 40,
   "id": "b184ed39-904c-4d35-af9d-0ec3c914855c",
   "metadata": {},
   "outputs": [
    {
     "name": "stdout",
     "output_type": "stream",
     "text": [
      "False\n",
      "True\n"
     ]
    }
   ],
   "source": [
    "# strings consist of characters for the computer, and we have to consider cases (\"A\" is different than \"a\")\n",
    "# so the following is false due to case-sensitivity: A is not a! That's where lower() might come useful..\n",
    "\n",
    "print (\"Apples\" == \"apples\")\n",
    "\n",
    "# but this is correct, it is an exact match:\n",
    "print (\"oranges\" == \"oranges\")\n"
   ]
  },
  {
   "cell_type": "markdown",
   "id": "6bbac7f2-6d89-4389-8d75-96d15f8b7734",
   "metadata": {},
   "source": [
    "We can use the \"if\" statement to guide the programme based on the conditionals. If our if statement is true, the following code is executed, if it is fales, nothing happens or the program continues with the code in \"else\".\n",
    "\n",
    "NOTE! Here we indent the code block that will be run, if the \"if\" statement is true. Same for else"
   ]
  },
  {
   "cell_type": "code",
   "execution_count": 41,
   "id": "52d989a7-ab94-40b0-a191-31af1681ff4e",
   "metadata": {},
   "outputs": [
    {
     "name": "stdout",
     "output_type": "stream",
     "text": [
      "We still need more books to the corpus, get back to work!\n"
     ]
    }
   ],
   "source": [
    "# We have entered 124 books in our corpus, but we want to reach a level of 150 books. Note the indentation!\n",
    "\n",
    "books_amount = 124\n",
    "\n",
    "if books_amount >= 150:\n",
    "    print(\"We have enough books, at least 150!\")\n",
    "else:\n",
    "    print(\"We still need more books to the corpus, get back to work!\")\n",
    "\n",
    "# You can change the value of the variable books_amount to see if we get the other message too.\n",
    "        "
   ]
  },
  {
   "cell_type": "markdown",
   "id": "b37faafe-a12b-492b-a7d5-d0604feb2e0e",
   "metadata": {},
   "source": [
    "### 4. Iteration with While and For\n",
    "\n",
    "While and for statements are useful for doing several iterations: \"for\" means for some time, and \"while\" while a condition has not been reached.\n",
    "\n",
    "Similar to if, we use identation to define the code blocks that are part of the iterating loops."
   ]
  },
  {
   "cell_type": "code",
   "execution_count": 42,
   "id": "12e26eb3-ba13-4291-8c62-f57e46deb2f1",
   "metadata": {},
   "outputs": [
    {
     "name": "stdout",
     "output_type": "stream",
     "text": [
      "0\n",
      "1\n",
      "2\n",
      "3\n"
     ]
    }
   ],
   "source": [
    "# For statement executes the loop over a sequence, for example range(a, b). It proceeds incrementally.\n",
    "\n",
    "# We have variable \"count\" going incrementally from 0 to 4. Again, 4 means here the \"end of 3\" and the beginning of 4, so we won't go until 4.\n",
    "# see about the string indexes above.\n",
    "\n",
    "for count in range(0, 4):\n",
    "    print(count)\n",
    "    "
   ]
  },
  {
   "cell_type": "code",
   "execution_count": 43,
   "id": "d8ab4f52-25f6-4726-acab-29f002a075d5",
   "metadata": {},
   "outputs": [
    {
     "name": "stdout",
     "output_type": "stream",
     "text": [
      "We start from: 1\n",
      "Count is 5 or under, so we are in the While loop\n",
      "Count is now: 2\n",
      "We will go back to the while statement and see if the condition count <= 5 is false\n",
      "Count is 5 or under, so we are in the While loop\n",
      "Count is now: 3\n",
      "We will go back to the while statement and see if the condition count <= 5 is false\n",
      "Count is 5 or under, so we are in the While loop\n",
      "Count is now: 4\n",
      "We will go back to the while statement and see if the condition count <= 5 is false\n",
      "Count is 5 or under, so we are in the While loop\n",
      "Count is now: 5\n",
      "We will go back to the while statement and see if the condition count <= 5 is false\n",
      "Count is 5 or under, so we are in the While loop\n",
      "Count is now: 6\n",
      "We will go back to the while statement and see if the condition count <= 5 is false\n",
      "Outside the while loop, because count <= 5 was false. Counting is now: 6\n"
     ]
    }
   ],
   "source": [
    "# In this example, we will repeat the while loop until the counting has reached 5. The counting starts from 1.\n",
    "\n",
    "counting = 1\n",
    "\n",
    "print (\"We start from: \" + str(counting))\n",
    "\n",
    "while counting <= 5:\n",
    "    print(\"Count is 5 or under, so we are in the While loop\")\n",
    "    counting += 1    # is same as: counting = counting + 1\n",
    "    print(\"Count is now: \" + str(counting))\n",
    "    print(\"We will go back to the while statement and see if the condition count <= 5 is false\")\n",
    "\n",
    "    \n",
    "print(\"Outside the while loop, because count <= 5 was false. Counting is now: \" + str(counting))\n",
    "\n"
   ]
  },
  {
   "cell_type": "code",
   "execution_count": 44,
   "id": "9347d5c3-b48d-44f0-b3a8-b3400c68fe7b",
   "metadata": {},
   "outputs": [
    {
     "name": "stdout",
     "output_type": "stream",
     "text": [
      "The character is: W\n",
      "The character is: h\n",
      "The character is: a\n",
      "The character is: t\n",
      "The character is:  \n",
      "The character is: a\n",
      "The character is:  \n",
      "The character is: b\n",
      "The character is: e\n",
      "The character is: a\n",
      "The character is: u\n",
      "The character is: t\n",
      "The character is: i\n",
      "The character is: f\n",
      "The character is: u\n",
      "The character is: l\n",
      "The character is:  \n",
      "The character is: d\n",
      "The character is: a\n",
      "The character is: y\n",
      "The character is: !\n"
     ]
    }
   ],
   "source": [
    "# we can also proceed through a string or a list (we go more in detail to this below). We print the string char by char.\n",
    "\n",
    "sentence = \"What a beautiful day!\"\n",
    "\n",
    "for c in sentence:\n",
    "    print(\"The character is: \" + c)\n",
    "        \n",
    "\n",
    "# This could be done also with the len() function and range(). Remove the hashtags if you want to test this option:\n",
    "\n",
    "#for i in range(0, len(sentence)):\n",
    "#     print(\"The character is: \" + sentence[i])"
   ]
  },
  {
   "cell_type": "markdown",
   "id": "d5dfa57b-d186-4cee-8a8a-fd83f46dcf96",
   "metadata": {},
   "source": [
    "### 5. Lists\n",
    "\n",
    "Lists are data types which contain a list of other data types, eg. strings or integers. They are useful in data processing, for example, we can tokenize a sentence into list of words and then work on every element in the list."
   ]
  },
  {
   "cell_type": "code",
   "execution_count": 45,
   "id": "dfe2450e-f1ab-456e-b822-f876ac9914dc",
   "metadata": {},
   "outputs": [
    {
     "name": "stdout",
     "output_type": "stream",
     "text": [
      "[14, 15, 16, 20, 12]\n",
      "We have 5 in our list of observed values\n"
     ]
    }
   ],
   "source": [
    "# Here is an example of an list of integers. A list is created by using brackets, and the values in the list are separated with commas.\n",
    "\n",
    "observed_values = [14, 15, 16, 20, 12]\n",
    "\n",
    "print(observed_values)\n",
    "\n",
    "print(\"We have \" + str(len(observed_values)) + \" in our list of observed values\")\n",
    "\n"
   ]
  },
  {
   "cell_type": "code",
   "execution_count": 46,
   "id": "0d716dc2-9981-4e30-b27d-5ddaa3b79550",
   "metadata": {},
   "outputs": [
    {
     "name": "stdout",
     "output_type": "stream",
     "text": [
      "The first value is : 14\n"
     ]
    }
   ],
   "source": [
    "# Again, we can use the index to navigate the list:\n",
    "\n",
    "print(\"The first value is : \" + str(observed_values[0]))\n"
   ]
  },
  {
   "cell_type": "code",
   "execution_count": 47,
   "id": "fc444571-eb02-45a7-a474-0713a32c352e",
   "metadata": {},
   "outputs": [
    {
     "name": "stdout",
     "output_type": "stream",
     "text": [
      "['Mars', 'Earth', 'Jupiter', 'Pluto']\n",
      "We have identified 4 planets\n"
     ]
    }
   ],
   "source": [
    "# Here is a list of strings:\n",
    "\n",
    "planets = [\"Mars\", \"Earth\", \"Jupiter\", \"Pluto\"]\n",
    "\n",
    "print(planets)\n",
    "\n",
    "print(\"We have identified \" + str(len(planets)) + \" planets\")\n"
   ]
  },
  {
   "cell_type": "code",
   "execution_count": 48,
   "id": "0eb082fb-7efa-40af-af9a-a810a4ba2877",
   "metadata": {},
   "outputs": [
    {
     "name": "stdout",
     "output_type": "stream",
     "text": [
      "['Mars', 'Earth', 'Jupiter']\n"
     ]
    }
   ],
   "source": [
    "# But is pluto a planet? Let's remove it. We can remove the last element on the list with .pop() method,\n",
    "# or by name with method .remove(\"NAME\"), or by using the index number with .remove().\n",
    "\n",
    "# You can pick one of the ways. Remember after removing, the variable does not have pluto any more.\n",
    "# You have to rerun the above cell to get Pluto back.\n",
    "\n",
    "# planets.pop()\n",
    "\n",
    "planets.remove(\"Pluto\")\n",
    "\n",
    "# planets.remove(planets[3])\n",
    "\n",
    "print(planets)"
   ]
  },
  {
   "cell_type": "code",
   "execution_count": 49,
   "id": "37dfa358-adb1-4313-bced-cd33fd4dfb67",
   "metadata": {},
   "outputs": [
    {
     "name": "stdout",
     "output_type": "stream",
     "text": [
      "['Mars', 'Earth', 'Jupiter', 'Pluto']\n"
     ]
    }
   ],
   "source": [
    "# When we want to add new items to the list, we need to use .append() method\n",
    "\n",
    "# If we enter new values to a specific place on the list, we use .insert() method.\n",
    "\n",
    "# Again the index number is \"in between\" two list elements. Insert moves the existing list elements one index further.\n",
    "\n",
    "planets.append(\"Pluto\")\n",
    "\n",
    "print(planets)\n"
   ]
  },
  {
   "cell_type": "code",
   "execution_count": 50,
   "id": "c93d3349-8b49-4a7a-870b-5b98ecda615f",
   "metadata": {},
   "outputs": [
    {
     "name": "stdout",
     "output_type": "stream",
     "text": [
      "['Saturn', 'Mars', 'Earth', 'Jupiter', 'Pluto']\n"
     ]
    }
   ],
   "source": [
    "# Let's add Saturn first on the list, that is index 0\n",
    "\n",
    "planets.insert(0, \"Saturn\")\n",
    "\n",
    "print(planets)"
   ]
  },
  {
   "cell_type": "code",
   "execution_count": 51,
   "id": "b9cb9091-4dfc-4400-8381-c8febd4a7c7f",
   "metadata": {},
   "outputs": [
    {
     "name": "stdout",
     "output_type": "stream",
     "text": [
      "Processing the list planets:\n",
      "OK: Saturn\n",
      "OK: Mars\n",
      "OK: Earth\n",
      "OK: Jupiter\n",
      "Please check your list, Pluto is not a planet.\n"
     ]
    }
   ],
   "source": [
    "# Finally, we can use the for loop also to go through lists like we used it for ranges and strings (all characters).\n",
    "\n",
    "# \"element\" variable gets the value in the \"planets\" list we have created, when we progress through the list.\n",
    "\n",
    "# The \"element\" variable can be then used during the loop. If we have \"Pluto\" on the list, we will lament about this. Otherwise we just print the string value of \"planet\"\n",
    "\n",
    "print(\"Processing the list planets:\")\n",
    "\n",
    "for element in planets:\n",
    "    if element == \"Pluto\":\n",
    "        print(\"Please check your list, Pluto is not a planet.\")\n",
    "    else:\n",
    "        print(\"OK: \" + element)\n",
    "\n"
   ]
  },
  {
   "cell_type": "markdown",
   "id": "f31a55fc-2c86-4466-adfd-bd2a79a3377e",
   "metadata": {},
   "source": [
    "### Well done! We are done with some basics of python programming. These areas of basic programming are useful for us when we move to data processing."
   ]
  },
  {
   "cell_type": "code",
   "execution_count": null,
   "id": "82468266-ad76-4d1a-b544-cafe1597748d",
   "metadata": {},
   "outputs": [],
   "source": []
  }
 ],
 "metadata": {
  "kernelspec": {
   "display_name": "Python 3",
   "language": "python",
   "name": "python3"
  },
  "language_info": {
   "codemirror_mode": {
    "name": "ipython",
    "version": 3
   },
   "file_extension": ".py",
   "mimetype": "text/x-python",
   "name": "python",
   "nbconvert_exporter": "python",
   "pygments_lexer": "ipython3",
   "version": "3.9.12"
  },
  "vscode": {
   "interpreter": {
    "hash": "5ae58900cfbb8c43ab3495913814b7cf26024f51651a94ce8bf64d6111688e8d"
   }
  }
 },
 "nbformat": 4,
 "nbformat_minor": 5
}
