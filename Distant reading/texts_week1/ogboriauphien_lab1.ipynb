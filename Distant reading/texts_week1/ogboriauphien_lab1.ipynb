{
 "cells": [
  {
   "attachments": {},
   "cell_type": "markdown",
   "metadata": {},
   "source": [
    "## Name: KELVIN Ogboriauphien"
   ]
  },
  {
   "attachments": {},
   "cell_type": "markdown",
   "metadata": {},
   "source": [
    "#T1) Assign your own name to a string variable (you can choose the name of the variable). "
   ]
  },
  {
   "cell_type": "code",
   "execution_count": 198,
   "metadata": {},
   "outputs": [
    {
     "name": "stdout",
     "output_type": "stream",
     "text": [
      "Kelvin Ogboriauphien\n"
     ]
    }
   ],
   "source": [
    "my_name = \"Kelvin Ogboriauphien\"\n",
    "print(my_name)"
   ]
  },
  {
   "attachments": {},
   "cell_type": "markdown",
   "metadata": {},
   "source": [
    "#T2) Print the length of the variable using len() function. "
   ]
  },
  {
   "cell_type": "code",
   "execution_count": 199,
   "metadata": {},
   "outputs": [
    {
     "name": "stdout",
     "output_type": "stream",
     "text": [
      "The variable 'length' consists of 20 characters\n"
     ]
    }
   ],
   "source": [
    "# assigning the length of my name to a variable and using the len() function\n",
    "length = len(my_name)\n",
    "# using the str() to get the total characters from my name\n",
    "print(\"The variable 'length' consists of \" + str(length) + \" characters\")"
   ]
  },
  {
   "attachments": {},
   "cell_type": "markdown",
   "metadata": {},
   "source": [
    "T3) Assign number values 4 and 8 to variables a and b. Multiply a by b (thus, a * b) and print \n",
    "the product after the sentence: “A multiplied by b equals: “. "
   ]
  },
  {
   "cell_type": "code",
   "execution_count": 200,
   "metadata": {},
   "outputs": [
    {
     "name": "stdout",
     "output_type": "stream",
     "text": [
      "A multiplied by B equals:32\n"
     ]
    }
   ],
   "source": [
    "a = 4\n",
    "b = 8\n",
    "multiply = a * b\n",
    "# we will use the str() to convert the interger value to string, if not it would display an error when concatination\n",
    "print(\"A multiplied by B equals:\" + str(multiply))\n"
   ]
  },
  {
   "attachments": {},
   "cell_type": "markdown",
   "metadata": {},
   "source": [
    "T4) Explain in writing, what is the difference in Python between: \n",
    " \n",
    "result = 4 + 4 \n",
    " \n",
    "and \n",
    " \n",
    "result = “3” + “3” \n",
    "\n",
    "result = 4 + 4 will give you 8 because they are both interger value. Mathematical equations work with interger values. \n",
    "while result2 = \"3\" + \"3\" will give you 33, this is because result2 is a string, strings are best useful for combining and joining unit,sentence or numbers together therefore the result2 3 and 3 are not adding up like the example above because they are being wrapped in a string.\n"
   ]
  },
  {
   "cell_type": "code",
   "execution_count": 201,
   "metadata": {},
   "outputs": [
    {
     "name": "stdout",
     "output_type": "stream",
     "text": [
      "8\n",
      "33\n"
     ]
    }
   ],
   "source": [
    "# result = 4 + 4 will give you 8 because they are both interger value. Mathematical equations work with interger values. \n",
    "result = 4 + 4\n",
    "print(result)\n",
    "\n",
    "# while result2 = \"3\" + \"3\" will give you 33, this is because result2 is a string, strings are best useful for combining and joining unit,sentence or numbers together\n",
    "# therefore the result2 3 and 3 are not adding up like the example above because they are being wrapped in a string.\n",
    "result2 = \"3\" + \"3\"\n",
    "print (result2)"
   ]
  },
  {
   "attachments": {},
   "cell_type": "markdown",
   "metadata": {},
   "source": [
    "T5) Pick some city name in the world (if you can’t decide, use Uppsala), assign this to a string \n",
    "variable called “city”. Convert all the letters in the variable into upper case (with method \n",
    ".upper())). Assign the result into a new string variable called “city_upper”. Print both \n",
    "variables. "
   ]
  },
  {
   "cell_type": "code",
   "execution_count": 202,
   "metadata": {},
   "outputs": [
    {
     "name": "stdout",
     "output_type": "stream",
     "text": [
      "STOCKHOLM\n"
     ]
    }
   ],
   "source": [
    "City = \"Stockholm\"\n",
    "# using the .upper() function to change the charaters to uppercase\n",
    "city_upper = City.upper()\n",
    "print(city_upper)"
   ]
  },
  {
   "attachments": {},
   "cell_type": "markdown",
   "metadata": {},
   "source": [
    "T6) Create a for-loop that loops through the variable “city_upper” and prints one character \n",
    "of the variable at a time. "
   ]
  },
  {
   "cell_type": "code",
   "execution_count": 203,
   "metadata": {},
   "outputs": [
    {
     "name": "stdout",
     "output_type": "stream",
     "text": [
      "S\n",
      "T\n",
      "O\n",
      "C\n",
      "K\n",
      "H\n",
      "O\n",
      "L\n",
      "M\n"
     ]
    }
   ],
   "source": [
    "for one in city_upper:\n",
    "    print(one)"
   ]
  },
  {
   "attachments": {},
   "cell_type": "markdown",
   "metadata": {},
   "source": [
    "T7) (OPTIONAL) Find on the internet information about some string method (google: “string \n",
    "methods python”) that we have not yet used. Use it and explain how it could be useful in \n",
    "data processing (string methods are for example: .upper() and .lower()). "
   ]
  },
  {
   "cell_type": "code",
   "execution_count": 204,
   "metadata": {},
   "outputs": [
    {
     "name": "stdout",
     "output_type": "stream",
     "text": [
      "2\n",
      "24\n"
     ]
    }
   ],
   "source": [
    "# 1. count: the number of times a specified value occurs in a string. This can be useful in data processing to know how many words\n",
    "# are repeated in a text.\n",
    "txt = \"I love bananas, bananas are my favorite fruit\"\n",
    "\n",
    "a = txt.count(\"bananas\")\n",
    "\n",
    "print(a)\n",
    "# 2. find(): locates where a certain word is found in a string. this can be used in data processing to know where a specific vocabulary\n",
    "# or word is used in a text.\n",
    "b = txt.find(\"are\")\n",
    "\n",
    "print(b)"
   ]
  },
  {
   "attachments": {},
   "cell_type": "markdown",
   "metadata": {},
   "source": [
    "T8) Create a function called “sum”. This function takes two integers as parameters and \n",
    "returns their sum. Test your function. "
   ]
  },
  {
   "cell_type": "code",
   "execution_count": 205,
   "metadata": {},
   "outputs": [
    {
     "name": "stdout",
     "output_type": "stream",
     "text": [
      "206\n"
     ]
    }
   ],
   "source": [
    "def sum(a,b):\n",
    "# the a,b in the parameter of the sum fuction is assigned an interger value\n",
    "    a = 200\n",
    "    b = 6\n",
    "    # adding the returned interger value \n",
    "    return(a+b)\n",
    "\n",
    "print(sum(a,b))"
   ]
  },
  {
   "attachments": {},
   "cell_type": "markdown",
   "metadata": {},
   "source": [
    "T9) Create a list variable that contains five geographic place names"
   ]
  },
  {
   "cell_type": "code",
   "execution_count": 206,
   "metadata": {},
   "outputs": [],
   "source": [
    "country = [\"morocco\", \"ecuador\", \"norway\", \"sweden\", \"mali\"]"
   ]
  },
  {
   "attachments": {},
   "cell_type": "markdown",
   "metadata": {},
   "source": [
    "T10) Print the last two items in the list (use index: [])."
   ]
  },
  {
   "cell_type": "code",
   "execution_count": 207,
   "metadata": {},
   "outputs": [
    {
     "name": "stdout",
     "output_type": "stream",
     "text": [
      "['sweden', 'mali']\n"
     ]
    }
   ],
   "source": [
    "# assigning the last 2 to a variable\n",
    "last_two = country[3:]\n",
    "print(last_two)"
   ]
  },
  {
   "attachments": {},
   "cell_type": "markdown",
   "metadata": {},
   "source": [
    "T11) Remove the last item in the list. Add “Nepal” as the first item in the list. Print the list. \n"
   ]
  },
  {
   "cell_type": "code",
   "execution_count": 208,
   "metadata": {},
   "outputs": [
    {
     "name": "stdout",
     "output_type": "stream",
     "text": [
      "['morocco', 'ecuador', 'norway', 'sweden']\n"
     ]
    }
   ],
   "source": [
    "# removing the last item on the list of country\n",
    "country.remove(\"mali\")\n",
    "print(country)\n"
   ]
  },
  {
   "cell_type": "code",
   "execution_count": 209,
   "metadata": {},
   "outputs": [
    {
     "name": "stdout",
     "output_type": "stream",
     "text": [
      "['morocco', 'ecuador', 'norway', 'sweden', 'nepal']\n"
     ]
    }
   ],
   "source": [
    "# now we will add new country to the list \n",
    "country.append(\"nepal\")\n",
    "print(country)"
   ]
  },
  {
   "attachments": {},
   "cell_type": "markdown",
   "metadata": {},
   "source": [
    "T12) Print the “length” of the list, thus, how many items it contains (using len()). Print also \n",
    "the length of the first string variable in your list. "
   ]
  },
  {
   "cell_type": "code",
   "execution_count": 210,
   "metadata": {},
   "outputs": [
    {
     "name": "stdout",
     "output_type": "stream",
     "text": [
      "The total number of countries in the list are: 5\n",
      "The total characters in the first country in the list is: 7\n"
     ]
    }
   ],
   "source": [
    "# assigning and printing the length of countries in the list\n",
    "length = len(country)\n",
    "print(\"The total number of countries in the list are: \" +str(length))\n",
    "\n",
    "#filtering the first country in the list and assigning it to a variable \n",
    "first_country = country[0]\n",
    "\n",
    "# assigning and printing the length of the first country in the list\n",
    "len_first = len(first_country)\n",
    "print(\"The total characters in the first country in the list is: \" + str(len_first))"
   ]
  },
  {
   "attachments": {},
   "cell_type": "markdown",
   "metadata": {},
   "source": [
    "T13) Create a for loop that iterates through all the items in the list and prints each item in \n",
    "lower case. "
   ]
  },
  {
   "cell_type": "code",
   "execution_count": 211,
   "metadata": {},
   "outputs": [
    {
     "name": "stdout",
     "output_type": "stream",
     "text": [
      "['MOROCCO', 'ECUADOR', 'NORWAY', 'SWEDEN', 'NEPAL']\n",
      "morocco\n",
      "ecuador\n",
      "norway\n",
      "sweden\n",
      "nepal\n"
     ]
    }
   ],
   "source": [
    "# changing all countries characters to uppercase letters because the original text is already in small letters\n",
    "# changing the list country to a string first and assigning it to a variable\n",
    "new_countries = str(country)\n",
    "# converting the countries to uppercase since it was already in lowercase\n",
    "rer = new_countries.upper()\n",
    "print(rer)\n",
    "\n",
    "# for loop through the list of countries\n",
    "\n",
    "for t in country:\n",
    "    print(t)\n"
   ]
  },
  {
   "attachments": {},
   "cell_type": "markdown",
   "metadata": {},
   "source": [
    "T14) Read the txt-file “underwood2017_genealogy_dhq.txt” (found in the same folder as \n",
    "this assignment file) into a string variable. Print the length of this string variable, and the \n",
    "first 500 characters of the variable (use index [])."
   ]
  },
  {
   "cell_type": "code",
   "execution_count": 212,
   "metadata": {},
   "outputs": [
    {
     "name": "stdout",
     "output_type": "stream",
     "text": [
      "Underwood, University of Illinois, Urbana-Champaign\n",
      "\n",
      "Abstract\n",
      "\n",
      "It has recently become common to describe all empirical approaches to literature as subfields of digital humanities. This essay argues that distant reading has a largely distinct genealogy stretching back many decades before the advent of the internet – a genealogy that is not for the most part centrally concerned with computers. It would be better to understand this field as a conversation between literary studies and social science, inititated by scholars like Raymond Williams and Janice Radway\n",
      "\n",
      "The underwood text contains 564 characters\n"
     ]
    }
   ],
   "source": [
    "# opening the txt file\n",
    "with open(\"./underwood2017_genealogy_dhq.txt\", mode=\"r\", encoding=\"utf-8\") as file:\n",
    "    First_chapter = file.read()\n",
    "# assigning it into a variable\n",
    "underwood = First_chapter[36:600]\n",
    "print(underwood)\n",
    "print(\"\")\n",
    "# the length of the string\n",
    "length_of_underwood = len(underwood)\n",
    "print(\"The underwood text contains \" + str(length_of_underwood) + \" characters\")"
   ]
  },
  {
   "attachments": {},
   "cell_type": "markdown",
   "metadata": {},
   "source": [
    "T15) Remove all whitespaces and line breaks (“\\n”) from the string variable. \n",
    " "
   ]
  },
  {
   "cell_type": "code",
   "execution_count": 213,
   "metadata": {},
   "outputs": [
    {
     "name": "stdout",
     "output_type": "stream",
     "text": [
      "['Underwood, University of Illinois, Urbana-Champaign', 'Abstract', 'It has recently become common to describe all empirical approaches to literature as subfields of digital humanities. This essay argues that distant reading has a largely distinct genealogy stretching back many decades before the advent of the internet – a genealogy that is not for the most part centrally concerned with computers. It would be better to understand this field as a conversation between literary studies and social science, inititated by scholars like Raymond Williams and Janice Radway']\n"
     ]
    }
   ],
   "source": [
    "# removing all whitespaces in the text by using the .replace() function\n",
    "# lets assign underwood to a variable and use the split function to remove all whitespaces and line breaks\n",
    "text_paragraphs = underwood.split(\"\\n\\n\")\n",
    "\n",
    "print(text_paragraphs[0:100])\n",
    "\n"
   ]
  },
  {
   "cell_type": "code",
   "execution_count": 214,
   "metadata": {},
   "outputs": [],
   "source": [
    "# now lets do this for the entire text file\n",
    "entire_txt_file = First_chapter.split(\"\\n\\n\")\n",
    "\n",
    "# print(entire_txt_file)"
   ]
  },
  {
   "attachments": {},
   "cell_type": "markdown",
   "metadata": {},
   "source": [
    "T16) Write the string variable into a new file."
   ]
  },
  {
   "cell_type": "code",
   "execution_count": 215,
   "metadata": {},
   "outputs": [],
   "source": [
    "# writing the text to a new file using for loop\n",
    "with open(\"./new_underwood.txt\", mode=\"w\", encoding=\"utf-8\") as file:\n",
    "    for text in entire_txt_file:\n",
    "        file.write(text)\n",
    "        file.write(\"\\n\")"
   ]
  },
  {
   "attachments": {},
   "cell_type": "markdown",
   "metadata": {},
   "source": [
    "T17) (OPTIONAL) Read the Ps. In Material_1b: Explain briefly why we use utf-8 encoding \n",
    "when opening files. "
   ]
  },
  {
   "attachments": {},
   "cell_type": "markdown",
   "metadata": {},
   "source": [
    "Answer: We use utf-8 encoding because that is the way in which we humans can read the text. without using the utf-8 encoding the computer might print the result of our findings in a different and unfamiliar way. Maybe a computerised symbols that does not make sense to a human comprehension."
   ]
  },
  {
   "attachments": {},
   "cell_type": "markdown",
   "metadata": {},
   "source": [
    "T18) Read the txt-file “underwood2017_genealogy_dhq.txt” into a string variable. Use spacy \n",
    "nlp() to process the text into a doc object. "
   ]
  },
  {
   "cell_type": "code",
   "execution_count": 216,
   "metadata": {},
   "outputs": [],
   "source": [
    "# importing spacy and the english language model\n",
    "import spacy\n",
    "\n",
    "nlp = spacy.load(\"en_core_web_sm\")"
   ]
  },
  {
   "cell_type": "code",
   "execution_count": 217,
   "metadata": {},
   "outputs": [],
   "source": [
    "# processing the text file after spacy is imported\n",
    "with open(\"./underwood2017_genealogy_dhq.txt\", mode=\"r\", encoding=\"utf-8\") as file:\n",
    "    text = file.read()\n",
    "\n",
    "text = text.replace(\"\\n\", \" \")"
   ]
  },
  {
   "attachments": {},
   "cell_type": "markdown",
   "metadata": {},
   "source": [
    "Create two lists called “nonstop” and “stop” (e.g. nonstop = []) "
   ]
  },
  {
   "attachments": {},
   "cell_type": "markdown",
   "metadata": {},
   "source": [
    "T20) Use a for loop to iterate through the doc object (created in T18), and gather all stop \n",
    "words to the list “stop”, and all non-stop words to the list “nonstop”. Print the first 30 items \n",
    "of each list."
   ]
  },
  {
   "cell_type": "code",
   "execution_count": 218,
   "metadata": {},
   "outputs": [
    {
     "data": {
      "text/plain": [
       "spacy.tokens.doc.Doc"
      ]
     },
     "execution_count": 218,
     "metadata": {},
     "output_type": "execute_result"
    }
   ],
   "source": [
    "# first we will take the text to spacy by calling the nlp() function\n",
    "doc = nlp(text)\n",
    "\n",
    "type(doc)"
   ]
  },
  {
   "cell_type": "code",
   "execution_count": 219,
   "metadata": {},
   "outputs": [
    {
     "name": "stdout",
     "output_type": "stream",
     "text": [
      "Some of non-stop words on our text are: [Genealogy, Distant, Reading,  , Ted, Underwood, ,, University, Illinois, ,, Urbana, -, Champaign,  , Abstract,  , recently, common, describe, empirical, approaches, literature, subfields, digital, humanities, ., essay, argues, distant, reading]\n",
      "\n",
      "\n",
      "Some of stop words on our list are: [A, of, of, It, has, become, to, all, to, as, of, This, that, has, a, back, many, before, the, of, the, a, that, is, not, for, the, most, part, with]\n"
     ]
    }
   ],
   "source": [
    "nonstop = []\n",
    "stop = []\n",
    "\n",
    "# we use the for loop to loop through the text to find the stopwords and put them on the stop list and nonstop in the nonstop list using the .append()\n",
    "\n",
    "for token in doc:        \n",
    "    if token.is_stop:                     \n",
    "        stop.append(token)        \n",
    "    else:\n",
    "        nonstop.append(token)       \n",
    "\n",
    "print(\"Some of non-stop words on our text are: \" + str(nonstop[0:30]))\n",
    "print(\"\")\n",
    "print(\"\")\n",
    "print(\"Some of stop words on our list are: \" + str(stop[0:30]))"
   ]
  },
  {
   "attachments": {},
   "cell_type": "markdown",
   "metadata": {},
   "source": [
    "T21) (OPTIONAL) Print the complete list(s). Think and write here briefly about possible \n",
    "avenues how we could continue our analysis or data exploration from this (ie. terms of \n",
    "visualisation, organising the data, bringing in metadata, including some other text data)."
   ]
  },
  {
   "cell_type": "code",
   "execution_count": 220,
   "metadata": {},
   "outputs": [],
   "source": [
    "for token in doc:        \n",
    "    if token.is_stop:                     \n",
    "        stop.append(token)        \n",
    "    else:\n",
    "        nonstop.append(token)       \n",
    "\n"
   ]
  },
  {
   "attachments": {},
   "cell_type": "markdown",
   "metadata": {},
   "source": [
    "We can use Matplotlib in terms of visualisation by using the stopwords and nonstopwords. Matplotlib is a popular library in Python for creating static, interactive, and animated visualizations. It is widely used for creating line plots, scatter plots, bar plots, histograms, and other types of visualizations."
   ]
  },
  {
   "cell_type": "code",
   "execution_count": 221,
   "metadata": {},
   "outputs": [
    {
     "data": {
      "image/png": "[encoded data removed]",
      "text/plain": [
       "<Figure size 432x288 with 1 Axes>"
      ]
     },
     "metadata": {
      "needs_background": "light"
     },
     "output_type": "display_data"
    }
   ],
   "source": [
    "# first we need to import matplotlib\n",
    "import matplotlib.pyplot as plt\n",
    "\n",
    "# Create a bar chart to visualize the distribution of stop words and nonstop words\n",
    "plt.bar([\"Stop Words\", \"Nonstop Words\"], [len(stop), len(nonstop)])\n",
    "plt.show()\n",
    "\n"
   ]
  },
  {
   "attachments": {},
   "cell_type": "markdown",
   "metadata": {},
   "source": [
    "We can also add metadata to the text using the dictionary method"
   ]
  },
  {
   "cell_type": "code",
   "execution_count": 222,
   "metadata": {},
   "outputs": [
    {
     "name": "stdout",
     "output_type": "stream",
     "text": [
      "Text: A Genealogy of Distant Reading  Ted Underwood, University of Illinois, Urbana-Champaign  Abstract  I\n",
      "\n",
      "Metadata: {'author': 'Ted Underwood', 'date': '2022-05-01', 'source': 'University of Illinois, Urbana-Champaign', 'topic': 'Digital Humanities'}\n"
     ]
    }
   ],
   "source": [
    "# Metadata for the text\n",
    "metadata = {\n",
    "    \"author\": \"Ted Underwood\", \n",
    "    \"date\": \"2022-05-01\", \n",
    "    \"source\": \"University of Illinois, Urbana-Champaign\",\n",
    "    \"topic\":\"Digital Humanities\"\n",
    "}\n",
    "\n",
    "# Adding the text and metadata to a dictionary\n",
    "text_metadata = {\"text\": text[0:100], \"metadata\": metadata}\n",
    "\n",
    "# Printing the text and metadata\n",
    "print(\"Text:\", text_metadata[\"text\"])\n",
    "print(\"\")\n",
    "print(\"Metadata:\", text_metadata[\"metadata\"])"
   ]
  },
  {
   "attachments": {},
   "cell_type": "markdown",
   "metadata": {},
   "source": [
    "You can split a text into individual sentences and store them in a list. For example, you can use the sent_tokenize() method from the nltk library to tokenize the text into a list of sentences and then iterate over the list to perform various operations on the sentences."
   ]
  },
  {
   "cell_type": "code",
   "execution_count": 225,
   "metadata": {},
   "outputs": [
    {
     "name": "stdout",
     "output_type": "stream",
     "text": [
      "['A Genealogy of Distant Reading  Ted Underwood, University of Illinois, Urbana-Champaign  Abstract  It has recently become common to describe all empirical approaches to literature as subfields of digital humanities. This essay argues that distant reading has a largely distinct genealogy stretching back many decades before the advent of the internet – a genealogy that is not for the most part centrally concerned with computers. It would be better to understand this field as a conversation between']\n"
     ]
    }
   ],
   "source": [
    "paragraphs = text[0:500].split(\"\\n\")\n",
    "print(paragraphs)\n"
   ]
  }
 ],
 "metadata": {
  "kernelspec": {
   "display_name": "Python 3",
   "language": "python",
   "name": "python3"
  },
  "language_info": {
   "codemirror_mode": {
    "name": "ipython",
    "version": 3
   },
   "file_extension": ".py",
   "mimetype": "text/x-python",
   "name": "python",
   "nbconvert_exporter": "python",
   "pygments_lexer": "ipython3",
   "version": "3.9.12"
  },
  "orig_nbformat": 4,
  "vscode": {
   "interpreter": {
    "hash": "5ae58900cfbb8c43ab3495913814b7cf26024f51651a94ce8bf64d6111688e8d"
   }
  }
 },
 "nbformat": 4,
 "nbformat_minor": 2
}
