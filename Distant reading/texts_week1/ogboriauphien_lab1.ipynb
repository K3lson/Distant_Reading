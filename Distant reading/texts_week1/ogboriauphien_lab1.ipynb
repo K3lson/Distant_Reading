{
 "cells": [
  {
   "attachments": {},
   "cell_type": "markdown",
   "metadata": {},
   "source": [
    "## Name: KELVIN Ogboriauphien"
   ]
  },
  {
   "attachments": {},
   "cell_type": "markdown",
   "metadata": {},
   "source": [
    "#T1) Assign your own name to a string variable (you can choose the name of the variable). "
   ]
  },
  {
   "cell_type": "code",
   "execution_count": 45,
   "metadata": {},
   "outputs": [
    {
     "name": "stdout",
     "output_type": "stream",
     "text": [
      "Kelvin Ogboriauphien\n"
     ]
    }
   ],
   "source": [
    "my_name = \"Kelvin Ogboriauphien\"\n",
    "print(my_name)"
   ]
  },
  {
   "attachments": {},
   "cell_type": "markdown",
   "metadata": {},
   "source": [
    "#T2) Print the length of the variable using len() function. "
   ]
  },
  {
   "cell_type": "code",
   "execution_count": 46,
   "metadata": {},
   "outputs": [
    {
     "name": "stdout",
     "output_type": "stream",
     "text": [
      "The variable 'length' consists of 20 characters\n"
     ]
    }
   ],
   "source": [
    "# assigning the length of my name to a variable and using the len() function\n",
    "length = len(my_name)\n",
    "# using the str() to get the total characters from my name\n",
    "print(\"The variable 'length' consists of \" + str(length) + \" characters\")"
   ]
  },
  {
   "attachments": {},
   "cell_type": "markdown",
   "metadata": {},
   "source": [
    "T3) Assign number values 4 and 8 to variables a and b. Multiply a by b (thus, a * b) and print \n",
    "the product after the sentence: “A multiplied by b equals: “. "
   ]
  },
  {
   "cell_type": "code",
   "execution_count": 47,
   "metadata": {},
   "outputs": [
    {
     "name": "stdout",
     "output_type": "stream",
     "text": [
      "A multiplied by B equals:32\n"
     ]
    }
   ],
   "source": [
    "a = 4\n",
    "b = 8\n",
    "multiply = a * b\n",
    "# we will use the str() to convert the interger value to string, if not it would display an error when concatination\n",
    "print(\"A multiplied by B equals:\" + str(multiply))\n"
   ]
  },
  {
   "attachments": {},
   "cell_type": "markdown",
   "metadata": {},
   "source": [
    "T4) Explain in writing, what is the difference in Python between: \n",
    " \n",
    "result = 4 + 4 \n",
    " \n",
    "and \n",
    " \n",
    "result = “3” + “3” \n",
    "\n",
    "result = 4 + 4 will give you 8 because they are both interger value. Mathematical equations work with interger values. \n",
    "while result2 = \"3\" + \"3\" will give you 33, this is because result2 is a string, strings are best useful for combining and joining unit,sentence or numbers together therefore the result2 3 and 3 are not adding up like the example above because they are being wrapped in a string.\n"
   ]
  },
  {
   "cell_type": "code",
   "execution_count": 48,
   "metadata": {},
   "outputs": [
    {
     "name": "stdout",
     "output_type": "stream",
     "text": [
      "8\n",
      "33\n"
     ]
    }
   ],
   "source": [
    "# result = 4 + 4 will give you 8 because they are both interger value. Mathematical equations work with interger values. \n",
    "result = 4 + 4\n",
    "print(result)\n",
    "\n",
    "# while result2 = \"3\" + \"3\" will give you 33, this is because result2 is a string, strings are best useful for combining and joining unit,sentence or numbers together\n",
    "# therefore the result2 3 and 3 are not adding up like the example above because they are being wrapped in a string.\n",
    "result2 = \"3\" + \"3\"\n",
    "print (result2)"
   ]
  },
  {
   "attachments": {},
   "cell_type": "markdown",
   "metadata": {},
   "source": [
    "T5) Pick some city name in the world (if you can’t decide, use Uppsala), assign this to a string \n",
    "variable called “city”. Convert all the letters in the variable into upper case (with method \n",
    ".upper())). Assign the result into a new string variable called “city_upper”. Print both \n",
    "variables. "
   ]
  },
  {
   "cell_type": "code",
   "execution_count": 49,
   "metadata": {},
   "outputs": [
    {
     "name": "stdout",
     "output_type": "stream",
     "text": [
      "STOCKHOLM\n"
     ]
    }
   ],
   "source": [
    "City = \"Stockholm\"\n",
    "# using the .upper() function to change the charaters to uppercase\n",
    "city_upper = City.upper()\n",
    "print(city_upper)"
   ]
  },
  {
   "attachments": {},
   "cell_type": "markdown",
   "metadata": {},
   "source": [
    "T6) Create a for-loop that loops through the variable “city_upper” and prints one character \n",
    "of the variable at a time. "
   ]
  },
  {
   "cell_type": "code",
   "execution_count": 50,
   "metadata": {},
   "outputs": [
    {
     "name": "stdout",
     "output_type": "stream",
     "text": [
      "S\n",
      "T\n",
      "O\n",
      "C\n",
      "K\n",
      "H\n",
      "O\n",
      "L\n",
      "M\n"
     ]
    }
   ],
   "source": [
    "for one in city_upper:\n",
    "    print(one)"
   ]
  },
  {
   "attachments": {},
   "cell_type": "markdown",
   "metadata": {},
   "source": [
    "T7) (OPTIONAL) Find on the internet information about some string method (google: “string \n",
    "methods python”) that we have not yet used. Use it and explain how it could be useful in \n",
    "data processing (string methods are for example: .upper() and .lower()). "
   ]
  },
  {
   "cell_type": "code",
   "execution_count": 51,
   "metadata": {},
   "outputs": [
    {
     "name": "stdout",
     "output_type": "stream",
     "text": [
      "2\n",
      "24\n"
     ]
    }
   ],
   "source": [
    "# 1. count: the number of times a specified value occurs in a string. This can be useful in data processing to know how many words\n",
    "# are repeated in a text.\n",
    "txt = \"I love bananas, bananas are my favorite fruit\"\n",
    "\n",
    "a = txt.count(\"bananas\")\n",
    "\n",
    "print(a)\n",
    "# 2. find(): locates where a certain word is found in a string. this can be used in data processing to know where a specific vocabulary\n",
    "# or word is used in a text.\n",
    "b = txt.find(\"are\")\n",
    "\n",
    "print(b)"
   ]
  },
  {
   "attachments": {},
   "cell_type": "markdown",
   "metadata": {},
   "source": [
    "T8) Create a function called “sum”. This function takes two integers as parameters and \n",
    "returns their sum. Test your function. "
   ]
  },
  {
   "cell_type": "code",
   "execution_count": 52,
   "metadata": {},
   "outputs": [
    {
     "name": "stdout",
     "output_type": "stream",
     "text": [
      "206\n"
     ]
    }
   ],
   "source": [
    "def sum(a,b):\n",
    "# the a,b in the parameter of the sum fuction is assigned an interger value\n",
    "    a = 200\n",
    "    b = 6\n",
    "    # adding the returned interger value \n",
    "    return(a+b)\n",
    "\n",
    "print(sum(a,b))"
   ]
  },
  {
   "attachments": {},
   "cell_type": "markdown",
   "metadata": {},
   "source": [
    "T9) Create a list variable that contains five geographic place names"
   ]
  },
  {
   "cell_type": "code",
   "execution_count": 53,
   "metadata": {},
   "outputs": [],
   "source": [
    "country = [\"morocco\", \"ecuador\", \"norway\", \"sweden\", \"mali\"]"
   ]
  },
  {
   "attachments": {},
   "cell_type": "markdown",
   "metadata": {},
   "source": [
    "T10) Print the last two items in the list (use index: [])."
   ]
  },
  {
   "cell_type": "code",
   "execution_count": 54,
   "metadata": {},
   "outputs": [
    {
     "name": "stdout",
     "output_type": "stream",
     "text": [
      "['sweden', 'mali']\n"
     ]
    }
   ],
   "source": [
    "# assigning the last 2 to a variable\n",
    "last_two = country[3:]\n",
    "print(last_two)"
   ]
  },
  {
   "attachments": {},
   "cell_type": "markdown",
   "metadata": {},
   "source": [
    "T11) Remove the last item in the list. Add “Nepal” as the first item in the list. Print the list. \n"
   ]
  },
  {
   "cell_type": "code",
   "execution_count": 55,
   "metadata": {},
   "outputs": [
    {
     "name": "stdout",
     "output_type": "stream",
     "text": [
      "['morocco', 'ecuador', 'norway', 'sweden']\n"
     ]
    }
   ],
   "source": [
    "# removing the last item on the list of country\n",
    "country.remove(\"mali\")\n",
    "print(country)\n"
   ]
  },
  {
   "cell_type": "code",
   "execution_count": 56,
   "metadata": {},
   "outputs": [
    {
     "name": "stdout",
     "output_type": "stream",
     "text": [
      "['morocco', 'ecuador', 'norway', 'sweden', 'nepal']\n"
     ]
    }
   ],
   "source": [
    "# now we will add new country to the list \n",
    "country.append(\"nepal\")\n",
    "print(country)"
   ]
  },
  {
   "attachments": {},
   "cell_type": "markdown",
   "metadata": {},
   "source": [
    "T12) Print the “length” of the list, thus, how many items it contains (using len()). Print also \n",
    "the length of the first string variable in your list. "
   ]
  },
  {
   "cell_type": "code",
   "execution_count": 59,
   "metadata": {},
   "outputs": [
    {
     "name": "stdout",
     "output_type": "stream",
     "text": [
      "The total number of countries in the list are: 5\n",
      "The total characters in the first country in the list is: 7\n"
     ]
    }
   ],
   "source": [
    "# assigning and printing the length of countries in the list\n",
    "length = len(country)\n",
    "print(\"The total number of countries in the list are: \" +str(length))\n",
    "\n",
    "#filtering the first country in the list and assigning it to a variable \n",
    "first_country = country[0]\n",
    "\n",
    "# assigning and printing the length of the first country in the list\n",
    "len_first = len(first_country)\n",
    "print(\"The total characters in the first country in the list is: \" + str(len_first))"
   ]
  },
  {
   "attachments": {},
   "cell_type": "markdown",
   "metadata": {},
   "source": [
    "T13) Create a for loop that iterates through all the items in the list and prints each item in \n",
    "lower case. "
   ]
  },
  {
   "cell_type": "code",
   "execution_count": 74,
   "metadata": {},
   "outputs": [
    {
     "name": "stdout",
     "output_type": "stream",
     "text": [
      "['MOROCCO', 'ECUADOR', 'NORWAY', 'SWEDEN', 'NEPAL']\n",
      "morocco\n",
      "ecuador\n",
      "norway\n",
      "sweden\n",
      "nepal\n"
     ]
    }
   ],
   "source": [
    "# changing all countries characters to uppercase letters because the original text is already in small letters\n",
    "# changing the list country to a string first and assigning it to a variable\n",
    "new_countries = str(country)\n",
    "# converting the countries to uppercase since it was already in lowercase\n",
    "rer = new_countries.upper()\n",
    "print(rer)\n",
    "\n",
    "# for loop through the list of countries\n",
    "\n",
    "for t in country:\n",
    "    print(t)\n"
   ]
  },
  {
   "attachments": {},
   "cell_type": "markdown",
   "metadata": {},
   "source": [
    "T14) Read the txt-file “underwood2017_genealogy_dhq.txt” (found in the same folder as \n",
    "this assignment file) into a string variable. Print the length of this string variable, and the \n",
    "first 500 characters of the variable (use index [])."
   ]
  },
  {
   "cell_type": "code",
   "execution_count": 118,
   "metadata": {},
   "outputs": [
    {
     "name": "stdout",
     "output_type": "stream",
     "text": [
      "Underwood, University of Illinois, Urbana-Champaign\n",
      "\n",
      "Abstract\n",
      "\n",
      "It has recently become common to describe all empirical approaches to literature as subfields of digital humanities. This essay argues that distant reading has a largely distinct genealogy stretching back many decades before the advent of the internet – a genealogy that is not for the most part centrally concerned with computers. It would be better to understand this field as a conversation between literary studies and social science, inititated by scholars like Raymond Williams and Janice Radway\n",
      "\n",
      "The underwood text contains 564 characters\n"
     ]
    }
   ],
   "source": [
    "# opening the txt file\n",
    "with open(\"./underwood2017_genealogy_dhq.txt\", mode=\"r\", encoding=\"utf-8\") as file:\n",
    "    First_chapter = file.read()\n",
    "# assigning it into a variable\n",
    "underwood = First_chapter[36:600]\n",
    "print(underwood)\n",
    "print(\"\")\n",
    "# the length of the string\n",
    "length_of_underwood = len(underwood)\n",
    "print(\"The underwood text contains \" + str(length_of_underwood) + \" characters\")"
   ]
  },
  {
   "attachments": {},
   "cell_type": "markdown",
   "metadata": {},
   "source": [
    "T15) Remove all whitespaces and line breaks (“\\n”) from the string variable. \n",
    " "
   ]
  },
  {
   "cell_type": "code",
   "execution_count": 119,
   "metadata": {},
   "outputs": [
    {
     "name": "stdout",
     "output_type": "stream",
     "text": [
      "['Underwood, University of Illinois, Urbana-Champaign', 'Abstract', 'It has recently become common to describe all empirical approaches to literature as subfields of digital humanities. This essay argues that distant reading has a largely distinct genealogy stretching back many decades before the advent of the internet – a genealogy that is not for the most part centrally concerned with computers. It would be better to understand this field as a conversation between literary studies and social science, inititated by scholars like Raymond Williams and Janice Radway']\n"
     ]
    }
   ],
   "source": [
    "# removing all whitespaces in the text by using the .replace() function\n",
    "# lets assign underwood to a variable and use the split function to remove all whitespaces and line breaks\n",
    "text_paragraphs = underwood.split(\"\\n\\n\")\n",
    "\n",
    "print(text_paragraphs[0:100])\n",
    "\n"
   ]
  },
  {
   "attachments": {},
   "cell_type": "markdown",
   "metadata": {},
   "source": [
    "T16) Write the string variable into a new file."
   ]
  },
  {
   "cell_type": "code",
   "execution_count": 93,
   "metadata": {},
   "outputs": [
    {
     "name": "stdout",
     "output_type": "stream",
     "text": [
      "[]\n"
     ]
    }
   ],
   "source": [
    "# now lets do this for the entire cha\n",
    "\n",
    "print(cleaned_underwood)"
   ]
  }
 ],
 "metadata": {
  "kernelspec": {
   "display_name": "Python 3",
   "language": "python",
   "name": "python3"
  },
  "language_info": {
   "codemirror_mode": {
    "name": "ipython",
    "version": 3
   },
   "file_extension": ".py",
   "mimetype": "text/x-python",
   "name": "python",
   "nbconvert_exporter": "python",
   "pygments_lexer": "ipython3",
   "version": "3.9.12"
  },
  "orig_nbformat": 4,
  "vscode": {
   "interpreter": {
    "hash": "5ae58900cfbb8c43ab3495913814b7cf26024f51651a94ce8bf64d6111688e8d"
   }
  }
 },
 "nbformat": 4,
 "nbformat_minor": 2
}
