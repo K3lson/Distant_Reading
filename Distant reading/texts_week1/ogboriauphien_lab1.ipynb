{
 "cells": [
  {
   "attachments": {},
   "cell_type": "markdown",
   "metadata": {},
   "source": [
    "# Name: KELVIN Ogboriauphien"
   ]
  },
  {
   "attachments": {},
   "cell_type": "markdown",
   "metadata": {},
   "source": [
    "## T1) Assign your own name to a string variable (you can choose the name of the variable). "
   ]
  },
  {
   "cell_type": "code",
   "execution_count": 43,
   "metadata": {},
   "outputs": [
    {
     "name": "stdout",
     "output_type": "stream",
     "text": [
      "Kelvin Ogboriauphien\n"
     ]
    }
   ],
   "source": [
    "my_name = \"Kelvin Ogboriauphien\"\n",
    "print(my_name)"
   ]
  },
  {
   "attachments": {},
   "cell_type": "markdown",
   "metadata": {},
   "source": [
    "## T2) Print the length of the variable using len() function. "
   ]
  },
  {
   "cell_type": "code",
   "execution_count": 44,
   "metadata": {},
   "outputs": [
    {
     "name": "stdout",
     "output_type": "stream",
     "text": [
      "The variable 'length' consists of 20 characters\n"
     ]
    }
   ],
   "source": [
    "# assigning the length of my name to a variable and using the len() function\n",
    "length = len(my_name)\n",
    "# using the str() to get the total characters from my name\n",
    "print(\"The variable 'length' consists of \" + str(length) + \" characters\")"
   ]
  },
  {
   "attachments": {},
   "cell_type": "markdown",
   "metadata": {},
   "source": [
    "## T3) Assign number values 4 and 8 to variables a and b. Multiply a by b (thus, a * b) and print \n",
    "the product after the sentence: “A multiplied by b equals: “. "
   ]
  },
  {
   "cell_type": "code",
   "execution_count": 45,
   "metadata": {},
   "outputs": [
    {
     "name": "stdout",
     "output_type": "stream",
     "text": [
      "A multiplied by B equals:32\n"
     ]
    }
   ],
   "source": [
    "a = 4\n",
    "b = 8\n",
    "multiply = a * b\n",
    "# we will use the str() to convert the interger value to string, if not it would display an error when concatination\n",
    "print(\"A multiplied by B equals:\" + str(multiply))\n"
   ]
  },
  {
   "attachments": {},
   "cell_type": "markdown",
   "metadata": {},
   "source": [
    "## T4) Explain in writing, what is the difference in Python between: \n",
    " \n",
    "result = 4 + 4 \n",
    " \n",
    "and \n",
    " \n",
    "result = “3” + “3” \n",
    "\n",
    "\n"
   ]
  },
  {
   "attachments": {},
   "cell_type": "markdown",
   "metadata": {},
   "source": [
    "result = 4 + 4 will give you 8 because it is a mathematical operation that is being executed. it is the addition of 4 plus 4 which will give you 8 \n",
    "\n",
    "\n",
    "\n",
    "while result2 = \"3\" + \"3\" will give you 33, this is because result2 is a string, strings are best useful for combining/ concatenating and joining unit,sentences or numbers together therefore the result2 3 and 3 are not adding up like the example above because they are being wrapped in a string."
   ]
  },
  {
   "cell_type": "code",
   "execution_count": 46,
   "metadata": {},
   "outputs": [
    {
     "name": "stdout",
     "output_type": "stream",
     "text": [
      "8\n",
      "33\n"
     ]
    }
   ],
   "source": [
    "# result = 4 + 4 will give you 8 because they are both interger value. Mathematical equations work with interger values. \n",
    "result = 4 + 4\n",
    "print(result)\n",
    "\n",
    "# while result2 = \"3\" + \"3\" will give you 33, this is because result2 is a string, strings are best useful for combining and joining unit,sentence or numbers together\n",
    "# therefore the result2 3 and 3 are not adding up like the example above because they are being wrapped in a string.\n",
    "result2 = \"3\" + \"3\"\n",
    "print (result2)"
   ]
  },
  {
   "attachments": {},
   "cell_type": "markdown",
   "metadata": {},
   "source": [
    "## T5) Pick some city name in the world (if you can’t decide, use Uppsala), assign this to a string variable called “city”. Convert all the letters in the variable into upper case (with method .upper())). Assign the result into a new string variable called “city_upper”. Print both variables. "
   ]
  },
  {
   "cell_type": "code",
   "execution_count": 47,
   "metadata": {},
   "outputs": [
    {
     "name": "stdout",
     "output_type": "stream",
     "text": [
      "STOCKHOLM\n"
     ]
    }
   ],
   "source": [
    "City = \"StocKHolM\"\n",
    "# using the .upper() function to change the charaters to uppercase\n",
    "city_upper = City.upper()\n",
    "print(city_upper)"
   ]
  },
  {
   "attachments": {},
   "cell_type": "markdown",
   "metadata": {},
   "source": [
    "## T6) Create a for-loop that loops through the variable “city_upper” and prints one character of the variable at a time. "
   ]
  },
  {
   "cell_type": "code",
   "execution_count": 48,
   "metadata": {},
   "outputs": [
    {
     "name": "stdout",
     "output_type": "stream",
     "text": [
      "S\n",
      "T\n",
      "O\n",
      "C\n",
      "K\n",
      "H\n",
      "O\n",
      "L\n",
      "M\n"
     ]
    }
   ],
   "source": [
    "for one in city_upper:\n",
    "    print(one)"
   ]
  },
  {
   "attachments": {},
   "cell_type": "markdown",
   "metadata": {},
   "source": [
    "## T7) (OPTIONAL) Find on the internet information about some string method (google: “string methods python”) that we have not yet used. Use it and explain how it could be useful in data processing (string methods are for example: .upper() and .lower()). "
   ]
  },
  {
   "attachments": {},
   "cell_type": "markdown",
   "metadata": {},
   "source": [
    "1. count: the number of times a specified value occurs in a string. This can be useful in data processing to know how many words are repeated in a text."
   ]
  },
  {
   "cell_type": "code",
   "execution_count": 49,
   "metadata": {},
   "outputs": [
    {
     "name": "stdout",
     "output_type": "stream",
     "text": [
      "2\n"
     ]
    }
   ],
   "source": [
    "\n",
    "txt = \"I love bananas, bananas are my favorite fruit\"\n",
    "\n",
    "a = txt.count(\"bananas\")\n",
    "\n",
    "print(a)\n"
   ]
  },
  {
   "attachments": {},
   "cell_type": "markdown",
   "metadata": {},
   "source": [
    "2. find(): locates where a certain word is found in a string. this can be used in data processing to know where a specific vocabulary or word is used in a text.\n"
   ]
  },
  {
   "cell_type": "code",
   "execution_count": 50,
   "metadata": {},
   "outputs": [
    {
     "name": "stdout",
     "output_type": "stream",
     "text": [
      "24\n"
     ]
    }
   ],
   "source": [
    "b = txt.find(\"are\")\n",
    "\n",
    "print(b)"
   ]
  },
  {
   "attachments": {},
   "cell_type": "markdown",
   "metadata": {},
   "source": [
    "## T8) Create a function called “sum”. This function takes two integers as parameters and returns their sum. Test your function. "
   ]
  },
  {
   "cell_type": "code",
   "execution_count": 51,
   "metadata": {},
   "outputs": [
    {
     "name": "stdout",
     "output_type": "stream",
     "text": [
      "206\n"
     ]
    }
   ],
   "source": [
    "def sum(a,b):\n",
    "# the a,b in the parameter of the sum fuction is assigned an interger value\n",
    "    a = 200\n",
    "    b = 6\n",
    "    # adding the returned interger value \n",
    "    return(a+b)\n",
    "\n",
    "print(sum(a,b))"
   ]
  },
  {
   "cell_type": "code",
   "execution_count": 52,
   "metadata": {},
   "outputs": [
    {
     "name": "stdout",
     "output_type": "stream",
     "text": [
      "20\n",
      "200\n"
     ]
    }
   ],
   "source": [
    "# we can also use the add() function to solve this\n",
    "\n",
    "def add(A,B):\n",
    "    return A + B\n",
    "\n",
    "# test the function\n",
    "print(add(16,4))\n",
    "print(add(160,40))"
   ]
  },
  {
   "attachments": {},
   "cell_type": "markdown",
   "metadata": {},
   "source": [
    "## T9) Create a list variable that contains five geographic place names"
   ]
  },
  {
   "cell_type": "code",
   "execution_count": 53,
   "metadata": {},
   "outputs": [],
   "source": [
    "country = [\"MorOCco\", \"ecuAdoR\", \"noRwAy\", \"swEdeN\", \"mALi\"]"
   ]
  },
  {
   "attachments": {},
   "cell_type": "markdown",
   "metadata": {},
   "source": [
    "## T10) Print the last two items in the list (use index: [])."
   ]
  },
  {
   "cell_type": "code",
   "execution_count": 54,
   "metadata": {},
   "outputs": [
    {
     "name": "stdout",
     "output_type": "stream",
     "text": [
      "['swEdeN', 'mALi']\n"
     ]
    }
   ],
   "source": [
    "# assigning the last 2 to a variable\n",
    "last_two = country[3:]\n",
    "print(last_two)"
   ]
  },
  {
   "attachments": {},
   "cell_type": "markdown",
   "metadata": {},
   "source": [
    "## T11) Remove the last item in the list. Add “Nepal” as the first item in the list. Print the list. "
   ]
  },
  {
   "cell_type": "code",
   "execution_count": 55,
   "metadata": {},
   "outputs": [
    {
     "name": "stdout",
     "output_type": "stream",
     "text": [
      "['MorOCco', 'ecuAdoR', 'noRwAy', 'swEdeN']\n"
     ]
    }
   ],
   "source": [
    "# removing the last item on the list of country\n",
    "country.remove(\"mALi\")\n",
    "print(country)\n"
   ]
  },
  {
   "cell_type": "code",
   "execution_count": 56,
   "metadata": {},
   "outputs": [
    {
     "name": "stdout",
     "output_type": "stream",
     "text": [
      "['MorOCco', 'ecuAdoR', 'noRwAy', 'swEdeN', 'Nepal']\n"
     ]
    }
   ],
   "source": [
    "# now we will add new country to the list \n",
    "country.append(\"Nepal\")\n",
    "print(country)"
   ]
  },
  {
   "attachments": {},
   "cell_type": "markdown",
   "metadata": {},
   "source": [
    "## T12) Print the “length” of the list, thus, how many items it contains (using len()). Print also the length of the first string variable in your list. "
   ]
  },
  {
   "cell_type": "code",
   "execution_count": 57,
   "metadata": {},
   "outputs": [
    {
     "name": "stdout",
     "output_type": "stream",
     "text": [
      "The total number of countries in the list are: 5\n",
      "The total characters in the first country in the list is: 7\n"
     ]
    }
   ],
   "source": [
    "# assigning and printing the length of countries in the list\n",
    "length = len(country)\n",
    "print(\"The total number of countries in the list are: \" +str(length))\n",
    "\n",
    "#filtering the first country in the list and assigning it to a variable \n",
    "first_country = country[0]\n",
    "\n",
    "# assigning and printing the length of the first country in the list\n",
    "len_first = len(first_country)\n",
    "print(\"The total characters in the first country in the list is: \" + str(len_first))"
   ]
  },
  {
   "attachments": {},
   "cell_type": "markdown",
   "metadata": {},
   "source": [
    "## T13) Create a for loop that iterates through all the items in the list and prints each item in lower case. "
   ]
  },
  {
   "cell_type": "code",
   "execution_count": 58,
   "metadata": {},
   "outputs": [
    {
     "name": "stdout",
     "output_type": "stream",
     "text": [
      "morocco\n",
      "ecuador\n",
      "norway\n",
      "sweden\n",
      "nepal\n"
     ]
    }
   ],
   "source": [
    "# we need to create a for loop that uses the range() function to iterate over the index of the items in the list. if we do not use the range and len fuction it iterarate each letter in a line and goes on forever\n",
    "# by using range(len(country)) function generates a sequence of numbers that corresponds to the indexes of the items in the list\n",
    "\n",
    "\n",
    "for i in range(len(country)):\n",
    "    print(country[i].lower())\n",
    "\n"
   ]
  },
  {
   "attachments": {},
   "cell_type": "markdown",
   "metadata": {},
   "source": [
    "## T14) Read the txt-file “underwood2017_genealogy_dhq.txt” (found in the same folder as this assignment file) into a string variable. Print the length of this string variable, and the first 500 characters of the variable (use index [])."
   ]
  },
  {
   "cell_type": "code",
   "execution_count": 60,
   "metadata": {},
   "outputs": [
    {
     "name": "stdout",
     "output_type": "stream",
     "text": [
      "A Genealogy of Distant Reading\n",
      "\n",
      "Ted Underwood, University of Illinois, Urbana-Champaign\n",
      "\n",
      "Abstract\n",
      "\n",
      "It has recently become common to describe all empirical approaches to literature as subfields of digital humanities. This essay argues that distant reading has a largely distinct genealogy stretching back many decades before the advent of the internet – a genealogy that is not for the most part centrally concerned with computers. It would be better to understand this field as a conversation between\n",
      "\n",
      "The underwood text contains 500 characters\n"
     ]
    }
   ],
   "source": [
    "# opening the txt file\n",
    "with open(\"./underwood2017_genealogy_dhq.txt\", mode=\"r\", encoding=\"utf-8\") as file:\n",
    "    First_chapter = file.read()\n",
    "# assigning it into a variable called underwood\n",
    "underwood = First_chapter[0:500]\n",
    "print(underwood)\n",
    "print(\"\")\n",
    "# the length of the string\n",
    "length_of_underwood = len(underwood)\n",
    "print(\"The underwood text contains \" + str(length_of_underwood) + \" characters\")"
   ]
  },
  {
   "attachments": {},
   "cell_type": "markdown",
   "metadata": {},
   "source": [
    "## T15) Remove all whitespaces and line breaks (“\\n”) from the string variable. "
   ]
  },
  {
   "cell_type": "code",
   "execution_count": 61,
   "metadata": {},
   "outputs": [
    {
     "name": "stdout",
     "output_type": "stream",
     "text": [
      "['A Genealogy of Distant Reading', 'Ted Underwood, University of Illinois, Urbana-Champaign', 'Abstract', 'It has recently become common to describe all empirical approaches to literature as subfields of digital humanities. This essay argues that distant reading has a largely distinct genealogy stretching back many decades before the advent of the internet – a genealogy that is not for the most part centrally concerned with computers. It would be better to understand this field as a conversation between']\n"
     ]
    }
   ],
   "source": [
    "# lets assign underwood to a variable and use the split function to remove all whitespaces and line breaks\n",
    "text_paragraphs = underwood.split(\"\\n\\n\")\n",
    "\n",
    "print(text_paragraphs[0:100])\n",
    "\n"
   ]
  },
  {
   "cell_type": "code",
   "execution_count": 62,
   "metadata": {},
   "outputs": [],
   "source": [
    "# now lets do this for the entire text file\n",
    "entire_txt_file = First_chapter.split(\"\\n\\n\")\n"
   ]
  },
  {
   "attachments": {},
   "cell_type": "markdown",
   "metadata": {},
   "source": [
    "## T16) Write the string variable into a new file."
   ]
  },
  {
   "cell_type": "code",
   "execution_count": 63,
   "metadata": {},
   "outputs": [],
   "source": [
    "# writing the text to a new file using for loop\n",
    "with open(\"./new_underwood.txt\", mode=\"w\", encoding=\"utf-8\") as file:\n",
    "    for text in entire_txt_file:\n",
    "        file.write(text)\n",
    "        file.write(\"\\n\")"
   ]
  },
  {
   "attachments": {},
   "cell_type": "markdown",
   "metadata": {},
   "source": [
    "## T17) (OPTIONAL) Read the Ps. In Material_1b: Explain briefly why we use utf-8 encoding when opening files. "
   ]
  },
  {
   "attachments": {},
   "cell_type": "markdown",
   "metadata": {},
   "source": [
    "Answer: Using UTF-8 to open files ensures that the characters in the file will be correctly interpreted by Python and other programs, regardless of the language or script used in the file. This is particularly useful for text files that may contain characters from multiple languages, or for files that will be shared between different systems or programs."
   ]
  },
  {
   "attachments": {},
   "cell_type": "markdown",
   "metadata": {},
   "source": [
    "## T18) Read the txt-file “underwood2017_genealogy_dhq.txt” into a string variable. Use spacy nlp() to process the text into a doc object. "
   ]
  },
  {
   "cell_type": "code",
   "execution_count": 64,
   "metadata": {},
   "outputs": [],
   "source": [
    "# importing spacy and the english language model\n",
    "import spacy\n",
    "\n",
    "nlp = spacy.load(\"en_core_web_sm\")"
   ]
  },
  {
   "cell_type": "code",
   "execution_count": 65,
   "metadata": {},
   "outputs": [],
   "source": [
    "# processing the text file after spacy is imported\n",
    "with open(\"./underwood2017_genealogy_dhq.txt\", mode=\"r\", encoding=\"utf-8\") as file:\n",
    "    text = file.read()\n",
    "\n",
    "text = text.replace(\"\\n\", \" \")"
   ]
  },
  {
   "attachments": {},
   "cell_type": "markdown",
   "metadata": {},
   "source": [
    "## T19) Create two lists called “nonstop” and “stop” (e.g. nonstop = []) \n",
    "\n",
    "## T20) Use a for loop to iterate through the doc object (created in T18), and gather all stop words to the list “stop”, and all non-stop words to the list “nonstop”. Print the first 30 items of each list."
   ]
  },
  {
   "cell_type": "code",
   "execution_count": 66,
   "metadata": {},
   "outputs": [
    {
     "data": {
      "text/plain": [
       "spacy.tokens.doc.Doc"
      ]
     },
     "execution_count": 66,
     "metadata": {},
     "output_type": "execute_result"
    }
   ],
   "source": [
    "# first we will take the text to spacy by calling the nlp() function\n",
    "doc = nlp(text)\n",
    "\n",
    "type(doc)"
   ]
  },
  {
   "cell_type": "code",
   "execution_count": 67,
   "metadata": {},
   "outputs": [
    {
     "name": "stdout",
     "output_type": "stream",
     "text": [
      "Some of non-stop words on our text are: [Genealogy, Distant, Reading,  , Ted, Underwood, ,, University, Illinois, ,, Urbana, -, Champaign,  , Abstract,  , recently, common, describe, empirical, approaches, literature, subfields, digital, humanities, ., essay, argues, distant, reading]\n",
      "\n",
      "\n",
      "Some of stop words on our list are: [A, of, of, It, has, become, to, all, to, as, of, This, that, has, a, back, many, before, the, of, the, a, that, is, not, for, the, most, part, with]\n"
     ]
    }
   ],
   "source": [
    "nonstop = []\n",
    "stop = []\n",
    "\n",
    "# we use the for loop to loop through the text to find the stopwords and put them on the stop list and nonstop in the nonstop list using the .append()\n",
    "\n",
    "for token in doc:        \n",
    "    if token.is_stop:                     \n",
    "        stop.append(token)        \n",
    "    else:\n",
    "        nonstop.append(token)       \n",
    "\n",
    "# printing everything would be too long so lets print just 30 words for both\n",
    "print(\"Some of non-stop words on our text are: \" + str(nonstop[0:30]))\n",
    "print(\"\")\n",
    "print(\"\")\n",
    "print(\"Some of stop words on our list are: \" + str(stop[0:30]))"
   ]
  },
  {
   "attachments": {},
   "cell_type": "markdown",
   "metadata": {},
   "source": [
    "## T21) (OPTIONAL) Print the complete list(s). Think and write here briefly about possible avenues how we could continue our analysis or data exploration from this (ie. terms of visualisation, organising the data, bringing in metadata, including some other text data)."
   ]
  },
  {
   "cell_type": "code",
   "execution_count": 68,
   "metadata": {},
   "outputs": [],
   "source": [
    "for token in doc:        \n",
    "    if token.is_stop:                     \n",
    "        stop.append(token)        \n",
    "    else:\n",
    "        nonstop.append(token)       \n",
    "\n"
   ]
  },
  {
   "attachments": {},
   "cell_type": "markdown",
   "metadata": {},
   "source": [
    "We can use Matplotlib in terms of visualisation by using the stopwords and nonstopwords. Matplotlib is a popular library in Python for creating static, interactive, and animated visualizations. It is widely used for creating line plots, scatter plots, bar plots, histograms, and other types of visualizations."
   ]
  },
  {
   "cell_type": "code",
   "execution_count": 69,
   "metadata": {},
   "outputs": [
    {
     "data": {
      "image/png": "[encoded data removed]",
      "text/plain": [
       "<Figure size 432x288 with 1 Axes>"
      ]
     },
     "metadata": {
      "needs_background": "light"
     },
     "output_type": "display_data"
    }
   ],
   "source": [
    "# first we need to import matplotlib\n",
    "import matplotlib.pyplot as plt\n",
    "\n",
    "# Create a bar chart to visualize the distribution of stop words and nonstop words\n",
    "plt.bar([\"Stop Words\", \"Nonstop Words\"], [len(stop), len(nonstop)])\n",
    "plt.show()\n",
    "\n"
   ]
  },
  {
   "attachments": {},
   "cell_type": "markdown",
   "metadata": {},
   "source": [
    "We can also add metadata to the text using the dictionary method"
   ]
  },
  {
   "cell_type": "code",
   "execution_count": 75,
   "metadata": {},
   "outputs": [
    {
     "name": "stdout",
     "output_type": "stream",
     "text": [
      "Text: A Genealogy of Distant Reading  Ted Underwood, University of Illinois, Urbana-Champaign  Abstract  I\n",
      "\n",
      "Metadata: {'author': 'Ted Underwood', 'date': '2022-05-01', 'source': 'University of Illinois, Urbana-Champaign', 'topic': 'Digital Humanities'}\n"
     ]
    }
   ],
   "source": [
    "# Metadata for the text using object\n",
    "metadata = {\n",
    "    \"author\": \"Ted Underwood\", \n",
    "    \"date\": \"2022-05-01\", \n",
    "    \"source\": \"University of Illinois, Urbana-Champaign\",\n",
    "    \"topic\":\"Digital Humanities\"\n",
    "}\n",
    "\n",
    "# Adding the text and metadata to a dictionary\n",
    "text_metadata = {\"text\": text[0:100], \"metadata\": metadata}\n",
    "\n",
    "# Printing the text and metadata\n",
    "print(\"Text:\", text_metadata[\"text\"])\n",
    "print(\"\")\n",
    "print(\"Metadata:\", text_metadata[\"metadata\"])"
   ]
  },
  {
   "attachments": {},
   "cell_type": "markdown",
   "metadata": {},
   "source": [
    "You can split a text into individual paragraphs and store them in a list. For example, you can use the split(\"\\n\") method to split the text into a list of paragraphs and then iterate over the list to perform various operations on the paragraphs."
   ]
  },
  {
   "cell_type": "code",
   "execution_count": 77,
   "metadata": {},
   "outputs": [
    {
     "name": "stdout",
     "output_type": "stream",
     "text": [
      "['A Genealogy of Distant Reading  Ted Underwood, University of Illinois, Urbana-Champaign  Abstract  It has recently become common to describe all empirical approaches to literature as subfields of digital humanities. This essay argues that distant reading has a largely distinct genealogy stretching back many decades before the advent of the internet – a genealogy that is not for the most part centrally concerned with computers. It would be better to understand this field as a conversation between']\n"
     ]
    }
   ],
   "source": [
    "paragraphs = text[0:500].split(\"\\n\")\n",
    "print(paragraphs)\n"
   ]
  },
  {
   "attachments": {},
   "cell_type": "markdown",
   "metadata": {},
   "source": [
    "## T22) (OPTIONAL) Read part 4 (Optional: POS-tagging with spacy) in Material_1c. Expand the previous exercise 3 so that you create one more list: a list includes the lemmas of the nouns. \n",
    " "
   ]
  },
  {
   "cell_type": "code",
   "execution_count": 78,
   "metadata": {},
   "outputs": [
    {
     "name": "stdout",
     "output_type": "stream",
     "text": [
      "['approach', 'literature', 'subfield', 'humanity', 'essay', 'reading', 'genealogy', 'decade', 'advent', 'internet', 'genealogy', 'computer', 'field', 'conversation', 'study', 'science', 'scholar', 'method', 'dimension', 'reading', 'order', 'research', 'agenda', 'diffuse', 'exploration', 'tool', 'clarity', 'topic', 'miscommunication', 'reader']\n"
     ]
    }
   ],
   "source": [
    "# first let us lemmatise the text\n",
    "\n",
    "# the text is already processed with spaCy and saved in the doc variable\n",
    "# Lemmatize the text\n",
    "lemmatized_text = [token.lemma_ for token in doc]\n",
    "\n",
    "# Print the lemmatized text\n",
    "# print(\"Lemmatized text:\", lemmatized_text)\n",
    "\n",
    "\n",
    "# Lemmatize only the nouns\n",
    "lemmatized_nouns = []\n",
    "\n",
    "\n",
    "for token in nonstop:\n",
    "    if token.pos_ == \"NOUN\":\n",
    "        lemmatized_nouns.append(token.lemma_)\n",
    "\n",
    "# lets print just 30 of the lemmatized nouns\n",
    "print(lemmatized_nouns[0:30])\n"
   ]
  },
  {
   "attachments": {},
   "cell_type": "markdown",
   "metadata": {},
   "source": [
    "## T23) (OPTIONAL) Sort the list by using the function sort(), and write the sorted list to a new file called “lemma-nouns.txt”. "
   ]
  },
  {
   "cell_type": "code",
   "execution_count": 79,
   "metadata": {},
   "outputs": [
    {
     "name": "stdout",
     "output_type": "stream",
     "text": [
      "Sorted lemmatized nouns: ['.', '.', '.', '.', '.', '.', '.', '.', '.', '.', '.', '.', '.', '.', '.', '.', '.', '.', '.', '.', '1950', '1950', '1970', '1970', '1990', '1990', 'a.', 'a.', 'absence', 'absence', 'abstraction', 'abstraction', 'academic', 'academic', 'account', 'account', 'account', 'account', 'account', 'account', 'account', 'account', 'acknowledgment', 'acknowledgment', 'activity', 'activity', 'admiration', 'admiration', 'advance', 'advance', 'advance', 'advance', 'advance', 'advance', 'advantage', 'advantage', 'advent', 'advent', 'advent', 'advent', 'advertisement', 'advertisement', 'agency', 'agency', 'agenda', 'agenda', 'agenda', 'agenda', 'agitation', 'agitation', 'aim', 'aim', 'air', 'air', 'algorithm', 'algorithm', 'algorithm', 'algorithm', 'alternative', 'alternative', 'ambition', 'ambition', 'amount', 'amount', 'analysis', 'analysis', 'analysis', 'analysis', 'analysis', 'analysis', 'analysis', 'analysis', 'analysis', 'analysis', 'analysis', 'analysis', 'analysis', 'analysis', 'analysis', 'analysis', 'analytic', 'analytic', 'anarchy', 'anarchy', 'anarchy', 'anarchy', 'anecdote', 'anecdote', 'answer', 'answer', 'anthropology', 'anthropology', 'anthropology', 'anthropology', 'anthropology', 'anthropology', 'appendix', 'appendix', 'appreciation', 'appreciation', 'approach', 'approach', 'approach', 'approach', 'approach', 'approach', 'approach', 'approach', 'approach', 'approach', 'approach', 'approach', 'approach', 'approach', 'approach', 'approach', 'approach', 'approach', 'approach', 'approach', 'approach', 'approach', 'approach', 'approach', 'approach', 'approach', 'approach', 'approach', 'approach', 'approach', 'approach', 'approach', 'archipelago', 'archipelago', 'archive', 'archive', 'archive', 'archive', 'area', 'area', 'area', 'area', 'argument', 'argument', 'argument', 'argument', 'argument', 'argument', 'argument', 'argument', 'argument', 'argument', 'argument', 'argument', 'argument', 'argument', 'argument', 'argument', 'argument', 'argument', 'argument', 'argument', 'argument', 'argument', 'article', 'article', 'article', 'article', 'article', 'article', 'article', 'article', 'article', 'article', 'article', 'article', 'article', 'article', 'article', 'article', 'aspect', 'aspect', 'aspect', 'aspect', 'aspect', 'aspect', 'aspect', 'aspect', 'aspect', 'aspect', 'aspect', 'aspect', 'aspect', 'aspect', 'aspect', 'aspect', 'aspiration', 'aspiration', 'assimilation', 'assimilation', 'association', 'association', 'assumption', 'assumption', 'astronomer', 'astronomer', 'attempt', 'attempt', 'attempt', 'attempt', 'attempt', 'attempt', 'attention', 'attention', 'attribution', 'attribution', 'audience', 'audience', 'author', 'author', 'author', 'author', 'author', 'author', 'author', 'author', 'authority', 'authority', 'authorship', 'authorship', 'background', 'background', 'backstorie', 'backstorie', 'backstorie', 'backstorie', 'ball', 'ball', 'barrier', 'barrier', 'beaker', 'beaker', 'being', 'being', 'bias', 'bias', 'bias', 'bias', 'bias', 'bias', 'bias', 'bias', 'bibliography', 'bibliography', 'bind', 'bind', 'bit', 'bit', 'bode', 'bode', 'boldness', 'boldness', 'book', 'book', 'book', 'book', 'book', 'book', 'book', 'book', 'book', 'book', 'book', 'book', 'book', 'book', 'book', 'book', 'book', 'book', 'book', 'book', 'book', 'book', 'book', 'book', 'book', 'book', 'book', 'book', 'book', 'book', 'bookstore', 'bookstore', 'boundary', 'boundary', 'boundary', 'boundary', 'boundary', 'boundary', 'boundary', 'boundary', 'boundary', 'boundary', 'boundary', 'boundary', 'branch', 'branch', 'branch', 'branch', 'branch', 'branch', 'breadth', 'breadth', 'breadth', 'breadth', 'brunet', 'brunet', 'building', 'building', 'buzzword', 'buzzword', 'buzzword', 'buzzword', 'calendar', 'calendar', 'canon', 'canon', 'canon', 'canon', 'canon', 'canon', 'canon', 'canon', 'canon', 'canon', 'capacity', 'capacity', 'career', 'career', 'case', 'case', 'case', 'case', 'case', 'case', 'case', 'case', 'casual', 'casual', 'category', 'category', 'category', 'category', 'category', 'category', 'center', 'center', 'century', 'century', 'century', 'century', 'century', 'century', 'century', 'century', 'century', 'century', 'century', 'century', 'century', 'century', 'century', 'century', 'century', 'century', 'century', 'century', 'century', 'century', 'century', 'century', 'century', 'century', 'century', 'century', 'century', 'century', 'century', 'century', 'century', 'century', 'century', 'century', 'century', 'century', 'century', 'century', 'challenge', 'challenge', 'challenge', 'challenge', 'challenge', 'challenge', 'challenge', 'challenge', 'chance', 'chance', 'chance', 'chance', 'change', 'change', 'chapter', 'chapter', 'chapter', 'chapter', 'character', 'character', 'character', 'character', 'chemist', 'chemist', 'choice', 'choice', 'choice', 'choice', 'choice', 'choice', 'circulation', 'circulation', 'circulation', 'circulation', 'claim', 'claim', 'clarity', 'clarity', 'clue', 'clue', 'clue', 'clue', 'cluster', 'cluster', 'code', 'code', 'coexistence', 'coexistence', 'coinage', 'coinage', 'colleague', 'colleague', 'collection', 'collection', 'collection', 'collection', 'combination', 'combination', 'comment', 'comment', 'commitment', 'commitment', 'commitment', 'commitment', 'commitment', 'commitment', 'community', 'community', 'community', 'community', 'community', 'community', 'community', 'community', 'community', 'community', 'compatibility', 'compatibility', 'competition', 'competition', 'completeness', 'completeness', 'comprehensiveness', 'comprehensiveness', 'compromise', 'compromise', 'compromise', 'compromise', 'compromise', 'compromise', 'computation', 'computation', 'computation', 'computation', 'computation', 'computation', 'computation', 'computation', 'computer', 'computer', 'computer', 'computer', 'computer', 'computer', 'computer', 'computer', 'computer', 'computer', 'computer', 'computer', 'computer', 'computer', 'computer', 'computer', 'computer', 'computer', 'computer', 'computer', 'computer', 'computer', 'computer', 'computer', 'computer', 'computer', 'computer', 'computer', 'concentration', 'concentration', 'concept', 'concept', 'concern', 'concern', 'concern', 'concern', 'concern', 'concern', 'conclusion', 'conclusion', 'conclusion', 'conclusion', 'conclusion', 'conclusion', 'conclusion', 'conclusion', 'conclusion', 'conclusion', 'conclusion', 'conclusion', 'conclusion', 'conclusion', 'conclusion', 'conclusion', 'conclusion', 'conclusion', 'conclusion', 'conclusion', 'concordance', 'concordance', 'concordance', 'concordance', 'concordance', 'concordance', 'concreteness', 'concreteness', 'confession', 'confession', 'confirmation', 'confirmation', 'confirmation', 'confirmation', 'confirmation', 'confirmation', 'confirmation', 'confirmation', 'confirmation', 'confirmation', 'confirmation', 'confirmation', 'conflation', 'conflation', 'conflation', 'conflation', 'conflict', 'conflict', 'connection', 'connection', 'connection', 'connection', 'consensus', 'consensus', 'consensus', 'consensus', 'consensus', 'consensus', 'consequence', 'consequence', 'consequence', 'consequence', 'construction', 'construction', 'content', 'content', 'context', 'context', 'context', 'context', 'contrary', 'contrary', 'contrary', 'contrary', 'contribution', 'contribution', 'contribution', 'contribution', 'contribution', 'contribution', 'contribution', 'contribution', 'contribution', 'contribution', 'contribution', 'contribution', 'control', 'control', 'conversation', 'conversation', 'conversation', 'conversation', 'conversation', 'conversation', 'conversation', 'conversation', 'conversation', 'conversation', 'conversation', 'conversation', 'converse', 'converse', 'corpus', 'corpus', 'course', 'course', 'course', 'course', 'course', 'course', 'course', 'course', 'critic', 'critic', 'critic', 'critic', 'critic', 'critic', 'critic', 'critic', 'critic', 'critic', 'critic', 'critic', 'critic', 'critic', 'critic', 'critic', 'critic', 'critic', 'critic', 'critic', 'criticism', 'criticism', 'criticism', 'criticism', 'criticism', 'criticism', 'criticism', 'criticism', 'critique', 'critique', 'crystal', 'crystal', 'cuisine', 'cuisine', 'culmination', 'culmination', 'culture', 'culture', 'culture', 'culture', 'culture', 'culture', 'curricula', 'curricula', 'curriculum', 'curriculum', 'database', 'database', 'dataset', 'dataset', 'datum', 'datum', 'datum', 'datum', 'datum', 'datum', 'datum', 'datum', 'day', 'day', 'death', 'death', 'debate', 'debate', 'debate', 'debate', 'debate', 'debate', 'debate', 'debate', 'debate', 'debate', 'debate', 'debate', 'debate', 'debate', 'decade', 'decade', 'decade', 'decade', 'decision', 'decision', 'decision', 'decision', 'decision', 'decision', 'declaration', 'declaration', 'definition', 'definition', 'definition', 'definition', 'definition', 'definition', 'definition', 'definition', 'definition', 'definition', 'definition', 'definition', 'degree', 'degree', 'denominator', 'denominator', 'department', 'department', 'department', 'department', 'depth', 'depth', 'description', 'description', 'design', 'design', 'detail', 'detail', 'detail', 'detail', 'detail', 'detail', 'detective', 'detective', 'development', 'development', 'development', 'development', 'development', 'development', 'development', 'development', 'development', 'development', 'device', 'device', 'dh', 'dh', 'dh', 'dh', 'dh', 'dh', 'diagram', 'diagram', 'diagram', 'diagram', 'dialogue', 'dialogue', 'difference', 'difference', 'difference', 'difference', 'difference', 'difference', 'difference', 'difference', 'difference', 'difference', 'difference', 'difference', 'diffuse', 'diffuse', 'digital', 'digital', 'dimension', 'dimension', 'diplomacy', 'diplomacy', 'direction', 'direction', 'direction', 'direction', 'direction', 'direction', 'disadvantage', 'disadvantage', 'disagreement', 'disagreement', 'discipline', 'discipline', 'discipline', 'discipline', 'discipline', 'discipline', 'discipline', 'discipline', 'discipline', 'discipline', 'discipline', 'discipline', 'discipline', 'discipline', 'discipline', 'discipline', 'discipline', 'discipline', 'discourse', 'discourse', 'discovery', 'discovery', 'discussion', 'discussion', 'discussion', 'discussion', 'discussion', 'discussion', 'diversity', 'diversity', 'doctorate', 'doctorate', 'domain', 'domain', 'doubt', 'doubt', 'dozen', 'dozen', 'dozen', 'dozen', 'dozen', 'dozen', 'drain', 'drain', 'durée', 'durée', 'economy', 'economy', 'ecumenical', 'ecumenical', 'ed', 'ed', 'edition', 'edition', 'editor', 'editor', 'effect', 'effect', 'effect', 'effect', 'effect', 'effect', 'effect', 'effect', 'effort', 'effort', 'element', 'element', 'elision', 'elision', 'elision', 'elision', 'emergence', 'emergence', 'emergence', 'emergence', 'emotion', 'emotion', 'emphasis', 'emphasis', 'emphasis', 'emphasis', 'emphasis', 'emphasis', 'emphasis', 'emphasis', 'end', 'end', 'end', 'end', 'energy', 'energy', 'engagement', 'engagement', 'engine', 'engine', 'equivalence', 'equivalence', 'essay', 'essay', 'essay', 'essay', 'essay', 'essay', 'essay', 'essay', 'essay', 'essay', 'essay', 'essay', 'essay', 'essay', 'et', 'et', 'evidence', 'evidence', 'evidence', 'evidence', 'evidence', 'evidence', 'evidence', 'evidence', 'evidence', 'evidence', 'evidence', 'evidence', 'evidence', 'evidence', 'evidence', 'evidence', 'evidence', 'evidence', 'evidence', 'evidence', 'evidence', 'evidence', 'evidence', 'evidence', 'evidence', 'evidence', 'examination', 'examination', 'example', 'example', 'example', 'example', 'example', 'example', 'example', 'example', 'example', 'example', 'exception', 'exception', 'exemplarity', 'exemplarity', 'expanse', 'expanse', 'expanse', 'expanse', 'expansion', 'expansion', 'expansion', 'expansion', 'expense', 'expense', 'experience', 'experience', 'experience', 'experience', 'experiment', 'experiment', 'experiment', 'experiment', 'experiment', 'experiment', 'experiment', 'experiment', 'experiment', 'experiment', 'experiment', 'experiment', 'experiment', 'experiment', 'experiment', 'experiment', 'experiment', 'experiment', 'experiment', 'experiment', 'experiment', 'experiment', 'experiment', 'experiment', 'experiment', 'experiment', 'explicitness', 'explicitness', 'exploration', 'exploration', 'exploration', 'exploration', 'exploration', 'exploration', 'exploration', 'exploration', 'exposure', 'exposure', 'expression', 'expression', 'expression', 'expression', 'extent', 'extent', 'eye', 'eye', 'fact', 'fact', 'fall', 'fall', 'family', 'family', 'fan', 'fan', 'fascination', 'fascination', 'fashion', 'fashion', 'feature', 'feature', 'feature', 'feature', 'feature', 'feature', 'fervor', 'fervor', 'fiction', 'fiction', 'fiction', 'fiction', 'field', 'field', 'field', 'field', 'field', 'field', 'field', 'field', 'field', 'field', 'field', 'field', 'field', 'field', 'field', 'field', 'figure', 'figure', 'filing', 'filing', 'fish', 'fish', 'fish', 'fish', 'fish', 'fish', 'flexibility', 'flexibility', 'flexibility', 'flexibility', 'foil', 'foil', 'foil', 'foil', 'food', 'food', 'force', 'force', 'foreground', 'foreground', 'form', 'form', 'form', 'form', 'form', 'form', 'form', 'form', 'form', 'form', 'form', 'form', 'form', 'form', 'formation', 'formation', 'foundation', 'foundation', 'frame', 'frame', 'frame', 'frame', 'frame', 'frame', 'framework', 'framework', 'framework', 'framework', 'framing', 'framing', 'française', 'française', 'freedman', 'freedman', 'freedom', 'freedom', 'freedom', 'freedom', 'function', 'function', 'fuse', 'fuse', 'fusion', 'fusion', 'fusion', 'fusion', 'fusion', 'fusion', 'gender', 'gender', 'gender', 'gender', 'gender', 'gender', 'gender', 'gender', 'genealogy', 'genealogy', 'genealogy', 'genealogy', 'genealogy', 'genealogy', 'genealogy', 'genealogy', 'genealogy', 'genealogy', 'genealogy', 'genealogy', 'genealogy', 'genealogy', 'generality', 'generality', 'generalization', 'generalization', 'generation', 'generation', 'genre', 'genre', 'genre', 'genre', 'genre', 'genre', 'genre', 'genre', 'geography', 'geography', 'geologist', 'geologist', 'goal', 'goal', 'goal', 'goal', 'goal', 'goal', 'goal', 'goal', 'graduate', 'graduate', 'graduate', 'graduate', 'grand', 'grand', 'hand', 'hand', 'hand', 'hand', 'hand', 'hand', 'hero', 'hero', 'heroine', 'heroine', 'hesitation', 'hesitation', 'historian', 'historian', 'historian', 'historian', 'historian', 'historian', 'historian', 'historian', 'history', 'history', 'history', 'history', 'history', 'history', 'history', 'history', 'history', 'history', 'history', 'history', 'history', 'history', 'history', 'history', 'history', 'history', 'history', 'history', 'history', 'history', 'history', 'history', 'history', 'history', 'history', 'history', 'history', 'history', 'history', 'history', 'history', 'history', 'history', 'history', 'history', 'history', 'history', 'history', 'history', 'history', 'history', 'history', 'history', 'history', 'history', 'history', 'history', 'history', 'history', 'history', 'history', 'history', 'history', 'history', 'history', 'history', 'history', 'history', 'history', 'history', 'history', 'history', 'history', 'history', 'history', 'history', 'history', 'history', 'history', 'history', 'history', 'history', 'history', 'history', 'history', 'history', 'history', 'history', 'history', 'history', 'history', 'history', 'history', 'history', 'history', 'history', 'home', 'home', 'http://journalofdigitalhumanities.org/1-2/the-emergence-of-literary-diction-by-ted-underwood-and-jordan-sellers/.', 'http://journalofdigitalhumanities.org/1-2/the-emergence-of-literary-diction-by-ted-underwood-and-jordan-sellers/.', 'https://newleftreview.org/ii/1/franco-moretti-conjectures-on-world-literature', 'https://newleftreview.org/ii/1/franco-moretti-conjectures-on-world-literature', 'humanist', 'humanist', 'humanist', 'humanist', 'humanist', 'humanist', 'humanist', 'humanist', 'humanist', 'humanist', 'humanist', 'humanist', 'humanist', 'humanist', 'humanist', 'humanist', 'humanity', 'humanity', 'humanity', 'humanity', 'humanity', 'humanity', 'humanity', 'humanity', 'humanity', 'humanity', 'humanity', 'humanity', 'humanity', 'humanity', 'humanity', 'humanity', 'humanity', 'humanity', 'humanity', 'humanity', 'humanity', 'humanity', 'humanity', 'humanity', 'humanity', 'humanity', 'humanity', 'humanity', 'humanity', 'humanity', 'humanity', 'humanity', 'humanity', 'humanity', 'humanity', 'humanity', 'humanity', 'humanity', 'hypothesis', 'hypothesis', 'hypothesis', 'hypothesis', 'hypothesis', 'hypothesis', 'hypothesis', 'hypothesis', 'hypothesis', 'hypothesis', 'hypothesis', 'hypothesis', 'hypothesis', 'hypothesis', 'hypothesis', 'hypothesis', 'hypothesis', 'hypothesis', 'hypothesis', 'hypothesis', 'hypothesis', 'hypothesis', 'idea', 'idea', 'idea', 'idea', 'idea', 'idea', 'idea', 'idea', 'identity', 'identity', 'ideology', 'ideology', 'ignorance', 'ignorance', 'ignorance', 'ignorance', 'imbalance', 'imbalance', 'impact', 'impact', 'impact', 'impact', 'impact', 'impact', 'implication', 'implication', 'importance', 'importance', 'impression', 'impression', 'impulse', 'impulse', 'impulse', 'impulse', 'incentive', 'incentive', 'independence', 'independence', 'inertia', 'inertia', 'inference', 'inference', 'inference', 'inference', 'influence', 'influence', 'influence', 'influence', 'influence', 'influence', 'influence', 'influence', 'influence', 'influence', 'information', 'information', 'infrastructure', 'infrastructure', 'ingredient', 'ingredient', 'inquiry', 'inquiry', 'inquiry', 'inquiry', 'inquiry', 'inquiry', 'inquiry', 'inquiry', 'inquiry', 'inquiry', 'inquiry', 'inquiry', 'inquiry', 'inquiry', 'inquiry', 'inquiry', 'insistence', 'insistence', 'instance', 'instance', 'instance', 'instance', 'instance', 'instance', 'instance', 'instance', 'instance', 'instance', 'instance', 'instance', 'instance', 'instance', 'instance', 'instance', 'instance', 'instance', 'instance', 'instance', 'instance', 'instance', 'instance', 'instance', 'instance', 'instance', 'instance', 'instance', 'instance', 'instance', 'instrumentalism', 'instrumentalism', 'interdisciplinary', 'interdisciplinary', 'interest', 'interest', 'internet', 'internet', 'internet', 'internet', 'interpretation', 'interpretation', 'interpretation', 'interpretation', 'interpretation', 'interpretation', 'intersection', 'intersection', 'intersection', 'intersection', 'intervention', 'intervention', 'intervention', 'intervention', 'interview', 'interview', 'interview', 'interview', 'invention', 'invention', 'irony', 'irony', 'issue', 'issue', 'job', 'job', 'journal', 'journal', 'journal', 'journal', 'key', 'key', 'kind', 'kind', 'kind', 'kind', 'kind', 'kind', 'kind', 'kind', 'kind', 'kind', 'kind', 'kind', 'knowledge', 'knowledge', 'knowledge', 'knowledge', 'knowledge', 'knowledge', 'knowledge', 'knowledge', 'landscape', 'landscape', 'language', 'language', 'language', 'language', 'language', 'language', 'learning', 'learning', 'learning', 'learning', 'learning', 'learning', 'legacy', 'legacy', 'library', 'library', 'library', 'library', 'library', 'library', 'life', 'life', 'life', 'life', 'lifespan', 'lifespan', 'limit', 'limit', 'line', 'line', 'line', 'line', 'linguistic', 'linguistic', 'linguistic', 'linguistic', 'linguistic', 'linguistic', 'literature', 'literature', 'literature', 'literature', 'literature', 'literature', 'literature', 'literature', 'literature', 'literature', 'literature', 'literature', 'literature', 'literature', 'literature', 'literature', 'literature', 'literature', 'literature', 'literature', 'literature', 'literature', 'literature', 'literature', 'literature', 'literature', 'literature', 'literature', 'literature', 'literature', 'literature', 'literature', 'literature', 'literature', 'literature', 'literature', 'littérature', 'littérature', 'lobby', 'lobby', 'location', 'location', 'longue', 'longue', 'longue', 'longue', 'machine', 'machine', 'machine', 'machine', 'machine', 'machine', 'machine', 'machine', 'magic', 'magic', 'manipulate', 'manipulate', 'manipulate', 'manipulate', 'map', 'map', 'matter', 'matter', 'maximum', 'maximum', 'mean', 'mean', 'meaning', 'meaning', 'meaning', 'meaning', 'medium', 'medium', 'medium', 'medium', 'mendenhall', 'mendenhall', 'mendenhall', 'mendenhall', 'method', 'method', 'method', 'method', 'method', 'method', 'method', 'method', 'method', 'method', 'method', 'method', 'method', 'method', 'method', 'method', 'method', 'method', 'method', 'method', 'method', 'method', 'method', 'method', 'method', 'method', 'method', 'method', 'method', 'method', 'method', 'method', 'method', 'method', 'method', 'method', 'method', 'method', 'method', 'method', 'method', 'method', 'method', 'method', 'method', 'method', 'method', 'method', 'method', 'method', 'method', 'method', 'method', 'method', 'method', 'method', 'method', 'method', 'method', 'method', 'method', 'method', 'method', 'method', 'method', 'method', 'method', 'method', 'methodology', 'methodology', 'mid-1990', 'mid-1990', 'middle', 'middle', 'middle', 'middle', 'middle', 'middle', 'mind', 'mind', 'mining', 'mining', 'minus', 'minus', 'minus', 'minus', 'miscommunication', 'miscommunication', 'miscommunication', 'miscommunication', 'mission', 'mission', 'mistake', 'mistake', 'mistake', 'mistake', 'mode', 'mode', 'mode', 'mode', 'mode', 'mode', 'model', 'model', 'moment', 'moment', 'moment', 'moment', 'moment', 'moment', 'moment', 'moment', 'moment', 'moment', 'moment', 'moment', 'money', 'money', 'monument', 'monument', 'mood', 'mood', 'more', 'more', 'more', 'more', 'moretti', 'moretti', 'mother', 'mother', 'narrative', 'narrative', 'narrative', 'narrative', 'narrative', 'narrative', 'newspaper', 'newspaper', 'nonfiction', 'nonfiction', 'norm', 'norm', 'norm', 'norm', 'note', 'note', 'note', 'note', 'novel', 'novel', 'novel', 'novel', 'novel', 'novel', 'novel', 'novel', 'novel', 'novel', 'novel', 'novel', 'novel', 'novel', 'novel', 'novel', 'novel', 'novel', 'novel', 'novel', 'novel', 'novel', 'novel', 'novel', 'number', 'number', 'number', 'number', 'number', 'number', 'number', 'number', 'number', 'number', 'number', 'number', 'number', 'number', 'number', 'number', 'object', 'object', 'object', 'object', 'object', 'object', 'obligation', 'obligation', 'observer', 'observer', 'observer', 'observer', 'obsession', 'obsession', 'occurrence', 'occurrence', 'opinion', 'opinion', 'opinion', 'opinion', 'opportunity', 'opportunity', 'opportunity', 'opportunity', 'opportunity', 'opportunity', 'opposition', 'opposition', 'opposition', 'opposition', 'opposition', 'opposition', 'option', 'option', 'order', 'order', 'order', 'order', 'order', 'order', 'order', 'order', 'order', 'order', 'order', 'order', 'order', 'order', 'order', 'order', 'order', 'order', 'origin', 'origin', 'origin', 'origin', 'origin', 'origin', 'outset', 'outset', 'outset', 'outset', 'overlap', 'overlap', 'overlap', 'overlap', 'overlapping', 'overlapping', 'p.', 'p.', 'p.', 'p.', 'page', 'page', 'page', 'page', 'pain', 'pain', 'panache', 'panache', 'paper', 'paper', 'paragraph', 'paragraph', 'part', 'part', 'parting', 'parting', 'party', 'party', 'passage', 'passage', 'passage', 'passage', 'past', 'past', 'past', 'past', 'past', 'past', 'past', 'past', 'past', 'past', 'past', 'past', 'past', 'past', 'past', 'past', 'past', 'past', 'past', 'past', 'past', 'past', 'path', 'path', 'pathos', 'pathos', 'pathos', 'pathos', 'pattern', 'pattern', 'pattern', 'pattern', 'pattern', 'pattern', 'pause', 'pause', 'pause', 'pause', 'pencil', 'pencil', 'penny', 'penny', 'people', 'people', 'people', 'people', 'people', 'people', 'perceptron', 'perceptron', 'performance', 'performance', 'perspective', 'perspective', 'perspective', 'perspective', 'phenomenon', 'phenomenon', 'phonology', 'phonology', 'phrase', 'phrase', 'phrase', 'phrase', 'phrase', 'phrase', 'phrase', 'phrase', 'phrase', 'phrase', 'phrase', 'phrase', 'phrase', 'phrase', 'phrase', 'phrase', 'pizza', 'pizza', 'pizza', 'pizza', 'place', 'place', 'place', 'place', 'plan', 'plan', 'plot', 'plot', 'plot', 'plot', 'plusse', 'plusse', 'plusse', 'plusse', 'poetry', 'poetry', 'point', 'point', 'point', 'point', 'point', 'point', 'point', 'point', 'point', 'point', 'point', 'point', 'polarity', 'polarity', 'polarity', 'polarity', 'pose', 'pose', 'position', 'position', 'position', 'position', 'position', 'position', 'possibility', 'possibility', 'possibility', 'possibility', 'practice', 'practice', 'practice', 'practice', 'practice', 'practice', 'practice', 'practice', 'practice', 'practice', 'practice', 'practice', 'practice', 'practice', 'practice', 'practice', 'practice', 'practice', 'premise', 'premise', 'premise', 'premise', 'premise', 'premise', 'premise', 'premise', 'premise', 'premise', 'preparation', 'preparation', 'presence', 'presence', 'press', 'press', 'pressure', 'pressure', 'presupposition', 'presupposition', 'principle', 'principle', 'print', 'print', 'prism', 'prism', 'problem', 'problem', 'problem', 'problem', 'problem', 'problem', 'problem', 'problem', 'procedure', 'procedure', 'procedure', 'procedure', 'process', 'process', 'process', 'process', 'process', 'process', 'process', 'process', 'process', 'process', 'processing', 'processing', 'production', 'production', 'production', 'production', 'productivism', 'productivism', 'programming', 'programming', 'progress', 'progress', 'project', 'project', 'project', 'project', 'project', 'project', 'project', 'project', 'project', 'project', 'project', 'project', 'project', 'project', 'project', 'project', 'project', 'project', 'project', 'project', 'project', 'project', 'project', 'project', 'project', 'project', 'project', 'project', 'project', 'project', 'project', 'project', 'project', 'project', 'project', 'project', 'project', 'project', 'project', 'project', 'project', 'project', 'prophecy', 'prophecy', 'psychologist', 'psychologist', 'psychologist', 'psychologist', 'publication', 'publication', 'publication', 'publication', 'pump', 'pump', 'purpose', 'purpose', 'purpose', 'purpose', 'question', 'question', 'question', 'question', 'question', 'question', 'question', 'question', 'question', 'question', 'question', 'question', 'question', 'question', 'question', 'question', 'question', 'question', 'question', 'question', 'question', 'question', 'question', 'question', 'question', 'question', 'question', 'question', 'question', 'question', 'question', 'question', 'question', 'question', 'question', 'question', 'question', 'question', 'question', 'question', 'question', 'question', 'question', 'question', 'question', 'question', 'question', 'question', 'question', 'question', 'question', 'question', 'question', 'question', 'question', 'question', 'questionnaire', 'questionnaire', 'questionnaire', 'questionnaire', 'questionnaire', 'questionnaire', 'questionnaire', 'questionnaire', 'quotation', 'quotation', 'race', 'race', 'race', 'race', 'range', 'range', 'range', 'range', 'range', 'range', 'rationale', 'rationale', 'rationale', 'rationale', 'reader', 'reader', 'reader', 'reader', 'reader', 'reader', 'reader', 'reader', 'reader', 'reader', 'reader', 'reader', 'reader', 'reader', 'reader', 'reader', 'reader', 'reader', 'reader', 'reader', 'reader', 'reader', 'reader', 'reader', 'reader', 'reader', 'reader', 'reader', 'reader', 'reader', 'reader', 'reader', 'reader', 'reader', 'reader', 'reader', 'reader', 'reader', 'reader', 'reader', 'reader', 'reader', 'reader', 'reader', 'reader', 'reader', 'reader', 'reader', 'reader', 'reader', 'reader', 'reader', 'reader', 'reader', 'reader', 'reader', 'reader', 'reader', 'reader', 'reader', 'reader', 'reader', 'reader', 'reader', 'reader', 'reader', 'reader', 'reader', 'reading', 'reading', 'reading', 'reading', 'reading', 'reading', 'reading', 'reading', 'reading', 'reading', 'reading', 'reading', 'reading', 'reading', 'reading', 'reading', 'reading', 'reading', 'reading', 'reading', 'reading', 'reading', 'reading', 'reading', 'reading', 'reading', 'reading', 'reading', 'reading', 'reading', 'reading', 'reading', 'reading', 'reading', 'reading', 'reading', 'reading', 'reading', 'reading', 'reading', 'reading', 'reading', 'reading', 'reading', 'reading', 'reading', 'reading', 'reading', 'reading', 'reading', 'reading', 'reading', 'reading', 'reading', 'reading', 'reading', 'reading', 'reading', 'reading', 'reading', 'reading', 'reading', 'reading', 'reading', 'reading', 'reading', 'reading', 'reading', 'reading', 'reading', 'reading', 'reading', 'reading', 'reading', 'reading', 'reading', 'reading', 'reading', 'reading', 'reading', 'reading', 'reading', 'reading', 'reading', 'reading', 'reading', 'reading', 'reading', 'reading', 'reading', 'reading', 'reading', 'reading', 'reading', 'reading', 'reading', 'reading', 'reading', 'reading', 'reading', 'reading', 'reading', 'reading', 'reading', 'reading', 'reading', 'reading', 'reading', 'reading', 'reading', 'reading', 'reading', 'reading', 'reading', 'reading', 'reading', 'reading', 'reading', 'reading', 'reading', 'reading', 'reading', 'reading', 'reading', 'reading', 'reading', 'reading', 'reading', 'reality', 'reality', 'reason', 'reason', 'reason', 'reason', 'reason', 'reason', 'reason', 'reason', 'reason', 'reason', 'reasoning', 'reasoning', 'recall', 'recall', 'reception', 'reception', 'reception', 'reception', 'reception', 'reception', 'reception', 'reception', 'recognition', 'recognition', 'reconciliation', 'reconciliation', 'recovery', 'recovery', 'reflection', 'reflection', 'reflection', 'reflection', 'relevance', 'relevance', 'reliance', 'reliance', 'remark', 'remark', 'representation', 'representation', 'representativeness', 'representativeness', 'representativeness', 'representativeness', 'research', 'research', 'research', 'research', 'research', 'research', 'research', 'research', 'research', 'research', 'research', 'research', 'research', 'research', 'research', 'research', 'research', 'research', 'research', 'research', 'research', 'research', 'research', 'research', 'research', 'research', 'research', 'research', 'research', 'research', 'research', 'research', 'research', 'research', 'research', 'research', 'research', 'research', 'research', 'research', 'research', 'research', 'research', 'research', 'researcher', 'researcher', 'researcher', 'researcher', 'researcher', 'researcher', 'resemblance', 'resemblance', 'resistance', 'resistance', 'respondent', 'respondent', 'response', 'response', 'response', 'response', 'response', 'response', 'responsibility', 'responsibility', 'result', 'result', 'result', 'result', 'result', 'result', 'result', 'result', 'rethinking', 'rethinking', 'retrieval', 'retrieval', 'review', 'review', 'reviewer', 'reviewer', 'revision', 'revision', 'rigor', 'rigor', 'role', 'role', 'role', 'role', 'role', 'role', 'role', 'role', 'role', 'role', 'role', 'role', 'role', 'role', 'romance', 'romance', 'romance', 'romance', 'romance', 'romance', 'romance', 'romance', 'romance', 'romance', 'romance', 'romance', 'romance', 'romance', 'romance', 'romance', 'romance', 'romance', 'romance', 'romance', 'romance', 'romance', 'romance', 'romance', 'roof', 'roof', 'room', 'room', 'root', 'root', 'rubric', 'rubric', 'rubric', 'rubric', 'sample', 'sample', 'sample', 'sample', 'sample', 'sample', 'sample', 'sample', 'sample', 'sample', 'sample', 'sample', 'sample', 'sample', 'sample', 'sample', 'sample', 'sample', 'sample', 'sample', 'sample', 'sample', 'sample', 'sample', 'sample', 'sample', 'sample', 'sample', 'sample', 'sample', 'sample', 'sample', 'sample', 'sample', 'sample', 'sample', 'sample', 'sample', 'sample', 'sample', 'sample', 'sample', 'sample', 'sample', 'sample', 'sample', 'sample', 'sample', 'sample', 'sample', 'sample', 'sample', 'scale', 'scale', 'scale', 'scale', 'scale', 'scale', 'scale', 'scale', 'scale', 'scale', 'scale', 'scale', 'scale', 'scale', 'scale', 'scale', 'scale', 'scale', 'scale', 'scale', 'scale', 'scale', 'scale', 'scale', 'scale', 'scale', 'scale', 'scale', 'scale', 'scale', 'scatterplot', 'scatterplot', 'scene', 'scene', 'scene', 'scene', 'scheme', 'scheme', 'scholar', 'scholar', 'scholar', 'scholar', 'scholar', 'scholar', 'scholar', 'scholar', 'scholar', 'scholar', 'scholar', 'scholar', 'scholar', 'scholar', 'scholar', 'scholar', 'scholar', 'scholar', 'scholar', 'scholar', 'scholar', 'scholar', 'scholar', 'scholar', 'scholar', 'scholar', 'scholar', 'scholar', 'scholar', 'scholar', 'scholar', 'scholar', 'scholar', 'scholar', 'scholar', 'scholar', 'scholar', 'scholar', 'scholar', 'scholar', 'scholar', 'scholar', 'scholar', 'scholar', 'scholar', 'scholar', 'scholar', 'scholar', 'scholar', 'scholar', 'scholar', 'scholar', 'scholar', 'scholar', 'scholar', 'scholar', 'scholar', 'scholar', 'scholar', 'scholar', 'scholar', 'scholar', 'scholarship', 'scholarship', 'scholarship', 'scholarship', 'scholarship', 'scholarship', 'scholarship', 'scholarship', 'scholarship', 'scholarship', 'science', 'science', 'science', 'science', 'science', 'science', 'science', 'science', 'science', 'science', 'science', 'science', 'science', 'science', 'science', 'science', 'science', 'science', 'science', 'science', 'science', 'science', 'science', 'science', 'science', 'science', 'science', 'science', 'science', 'science', 'science', 'science', 'science', 'science', 'science', 'science', 'science', 'science', 'science', 'science', 'scientist', 'scientist', 'scientist', 'scientist', 'scope', 'scope', 'selection', 'selection', 'selection', 'selection', 'self', 'self', 'seller', 'seller', 'semiotic', 'semiotic', 'sense', 'sense', 'sense', 'sense', 'sense', 'sense', 'sense', 'sense', 'separation', 'separation', 'sequence', 'sequence', 'sequitur', 'sequitur', 'serial', 'serial', 'set', 'set', 'shape', 'shape', 'shift', 'shift', 'shift', 'shift', 'shorthand', 'shorthand', 'sign', 'sign', 'significance', 'significance', 'significance', 'significance', 'similarity', 'similarity', 'simmon', 'simmon', 'simplicity', 'simplicity', 'skeptic', 'skeptic', 'slaughterhouse', 'slaughterhouse', 'social', 'social', 'society', 'society', 'sociologist', 'sociologist', 'sociology', 'sociology', 'sociology', 'sociology', 'sociology', 'sociology', 'sociology', 'sociology', 'sociology', 'sociology', 'sociology', 'sociology', 'sociology', 'sociology', 'sociology', 'sociology', 'solution', 'solution', 'sort', 'sort', 'space', 'space', 'space', 'space', 'spot', 'spot', 'spot', 'spot', 'stage', 'stage', 'stage', 'stage', 'stance', 'stance', 'standard', 'standard', 'statistic', 'statistic', 'story', 'story', 'story', 'story', 'story', 'story', 'story', 'story', 'story', 'story', 'story', 'story', 'story', 'story', 'story', 'story', 'story', 'story', 'story', 'story', 'story', 'story', 'story', 'story', 'strategy', 'strategy', 'strength', 'strength', 'structure', 'structure', 'structure', 'structure', 'structure', 'structure', 'structure', 'structure', 'structure', 'structure', 'structure', 'structure', 'student', 'student', 'student', 'student', 'student', 'student', 'study', 'study', 'study', 'study', 'study', 'study', 'study', 'study', 'study', 'study', 'study', 'study', 'study', 'study', 'study', 'study', 'study', 'study', 'study', 'study', 'study', 'study', 'study', 'study', 'study', 'study', 'study', 'study', 'study', 'study', 'study', 'study', 'study', 'study', 'stylistic', 'stylistic', 'subfield', 'subfield', 'subfield', 'subfield', 'subfield', 'subfield', 'subfield', 'subfield', 'subject', 'subject', 'subject', 'subject', 'subject', 'subject', 'subset', 'subset', 'subset', 'subset', 'surface', 'surface', 'symposium', 'symposium', 'symposium', 'symposium', 'table', 'table', 'taboo', 'taboo', 'target', 'target', 'task', 'task', 'teaching', 'teaching', 'technique', 'technique', 'technique', 'technique', 'technology', 'technology', 'technology', 'technology', 'technology', 'technology', 'technology', 'technology', 'technology', 'technology', 'technology', 'technology', 'technology', 'technology', 'technology', 'technology', 'technology', 'technology', 'template', 'template', 'tendency', 'tendency', 'tension', 'tension', 'tension', 'tension', 'term', 'term', 'term', 'term', 'term', 'term', 'test', 'test', 'testing', 'testing', 'text', 'text', 'text', 'text', 'text', 'text', 'text', 'text', 'text', 'text', 'text', 'text', 'text', 'text', 'text', 'text', 'text', 'text', 'text', 'text', 'theory', 'theory', 'theory', 'theory', 'theory', 'theory', 'theory', 'theory', 'theory', 'theory', 'thesis', 'thesis', 'thesis', 'thesis', 'thicket', 'thicket', 'thing', 'thing', 'thing', 'thing', 'thing', 'thing', 'thing', 'thing', 'thing', 'thing', 'thing', 'thing', 'thing', 'thing', 'thing', 'thing', 'thing', 'thing', 'thing', 'thing', 'thing', 'thing', 'thing', 'thing', 'thing', 'thing', 'thing', 'thing', 'thing', 'thing', 'thinking', 'thinking', 'thread', 'thread', 'thread', 'thread', 'thread', 'thread', 'tie', 'tie', 'time', 'time', 'time', 'time', 'time', 'time', 'time', 'time', 'time', 'time', 'time', 'time', 'timeline', 'timeline', 'today', 'today', 'today', 'today', 'today', 'today', 'tool', 'tool', 'tool', 'tool', 'tool', 'tool', 'tool', 'tool', 'tool', 'tool', 'topic', 'topic', 'topic', 'topic', 'trace', 'trace', 'tradition', 'tradition', 'tradition', 'tradition', 'tradition', 'tradition', 'tradition', 'tradition', 'tradition', 'tradition', 'tradition', 'tradition', 'tradition', 'tradition', 'tradition', 'tradition', 'tradition', 'tradition', 'tradition', 'tradition', 'tradition', 'tradition', 'tradition', 'tradition', 'tradition', 'tradition', 'tradition', 'tradition', 'tradition', 'tradition', 'tradition', 'tradition', 'tradition', 'tradition', 'tradition', 'tradition', 'tradition', 'tradition', 'tradition', 'tradition', 'training', 'training', 'tree', 'tree', 'trend', 'trend', 'trend', 'trend', 'trend', 'trend', 'trend', 'trend', 'trend', 'trend', 'turn', 'turn', 'turn', 'turn', 'ullman', 'ullman', 'ullman', 'ullman', 'unconscious', 'unconscious', 'underplay', 'underplay', 'understanding', 'understanding', 'university', 'university', 'unread', 'unread', 'use', 'use', 'vacuum', 'vacuum', 'validity', 'validity', 'value', 'value', 'value', 'value', 'verb', 'verb', 'version', 'version', 'version', 'version', 'version', 'version', 'version', 'version', 'version', 'version', 'version', 'version', 'view', 'view', 'view', 'view', 'view', 'view', 'view', 'view', 'voice', 'voice', 'vol', 'vol', 'volume', 'volume', 'war', 'war', 'war', 'war', 'warmth', 'warmth', 'warning', 'warning', 'warning', 'warning', 'waste', 'waste', 'way', 'way', 'way', 'way', 'way', 'way', 'way', 'way', 'way', 'way', 'way', 'way', 'way', 'way', 'way', 'way', 'way', 'way', 'way', 'way', 'way', 'way', 'way', 'way', 'way', 'way', 'way', 'way', 'way', 'way', 'web', 'web', 'web', 'web', 'web', 'web', 'wife', 'wife', 'wink', 'wink', 'witness', 'witness', 'woman', 'woman', 'word', 'word', 'word', 'word', 'word', 'word', 'work', 'work', 'work', 'work', 'work', 'work', 'work', 'work', 'work', 'work', 'work', 'work', 'work', 'work', 'work', 'work', 'work', 'work', 'work', 'work', 'work', 'work', 'work', 'work', 'work', 'work', 'work', 'work', 'workshop', 'workshop', 'writer', 'writer', 'writer', 'writer', 'writer', 'writer', 'writing', 'writing', 'writing', 'writing', 'year', 'year', 'year', 'year', 'year', 'year', 'year', 'year', 'year', 'year', 'year', 'year', 'year', 'year', 'year', 'year', 'year', 'year', 'zone', 'zone', 'zone', 'zone', 'zone', 'zone', 'zone', 'zone']\n"
     ]
    }
   ],
   "source": [
    "# sort the list using sort()\n",
    "lemmatized_nouns.sort()\n",
    "print(\"Sorted lemmatized nouns:\", lemmatized_nouns)\n"
   ]
  },
  {
   "cell_type": "code",
   "execution_count": 74,
   "metadata": {},
   "outputs": [],
   "source": [
    "# Open a new text file for writing\n",
    "with open(\"lemma-nouns.txt\",  mode=\"w\", encoding=\"utf-8\") as f:\n",
    "    # Write the sorted lemmatized nouns to the file\n",
    "    for noun in lemmatized_nouns:\n",
    "        f.write(noun + '\\n')\n"
   ]
  },
  {
   "attachments": {},
   "cell_type": "markdown",
   "metadata": {},
   "source": [
    "## T24) (OPTIONAL) What can we say about our txt-file based on the list that you produced?  "
   ]
  },
  {
   "attachments": {},
   "cell_type": "markdown",
   "metadata": {},
   "source": [
    "1. It is an efficient way of analysing a text (lemmatization) as it helped in reducing the text into a basic form to get the root base of the words used.\n",
    "2. I would say the lemmanisation process is inaccurate as it recognises some words which are not nouns as nouns. for example, it recognises the word \"diffuse\" as a noun which in fact it is a verb or an adjective.\n",
    "3. i would say further analysis needs to be done to get the accurate figure of speeches used.\n",
    "\n",
    "Overall, I would say that from the lemmatization made, i understood a (little) grasp of the text and words used in it. in the beginning(before using the sort()); according to the nouns output, words like:  truth, acknowledge, possession, fortune, want, life; gives a optimistic and sentimental feeling of hope. However, towards the ending of the analysis, words like: difficult, mean, uncertain, temper, disconnect, nervous, life; leaves a bad taste to the text(Perharps this might be totally off of what the text is talking about). it is almost like the text/ story went from climax to anti-climax. Perharps reading the actual/original text will uncover the full meaning on why it is used that way and create a better understanding."
   ]
  }
 ],
 "metadata": {
  "kernelspec": {
   "display_name": "Python 3",
   "language": "python",
   "name": "python3"
  },
  "language_info": {
   "codemirror_mode": {
    "name": "ipython",
    "version": 3
   },
   "file_extension": ".py",
   "mimetype": "text/x-python",
   "name": "python",
   "nbconvert_exporter": "python",
   "pygments_lexer": "ipython3",
   "version": "3.9.12"
  },
  "orig_nbformat": 4,
  "vscode": {
   "interpreter": {
    "hash": "5ae58900cfbb8c43ab3495913814b7cf26024f51651a94ce8bf64d6111688e8d"
   }
  }
 },
 "nbformat": 4,
 "nbformat_minor": 2
}
