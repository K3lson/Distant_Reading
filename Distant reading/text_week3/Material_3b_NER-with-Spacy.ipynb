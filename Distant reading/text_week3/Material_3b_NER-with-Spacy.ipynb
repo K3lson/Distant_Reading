{
 "cells": [
  {
   "cell_type": "markdown",
   "id": "53c5a517-3fea-4872-a2ce-76ad989bccd2",
   "metadata": {},
   "source": [
    "## Distant reading study week 3 (VT-23)\n",
    "\n",
    "### Learning material 3b: named entity recognition (NER) with spacy.\n",
    "\n",
    "Matti La Mela\n",
    "\n",
    "In the first part we learn the basics of named entity recognition with spacy. In the second part, we use NER to analyse geopolitical place names in parliamentary debates in the UK house of commons."
   ]
  },
  {
   "cell_type": "markdown",
   "id": "7a8527b8-1b0e-436f-8b48-19629d3103ff",
   "metadata": {},
   "source": [
    "### 1. Spacy NER introduction"
   ]
  },
  {
   "cell_type": "code",
   "execution_count": 1,
   "id": "5672b666-d7f5-4dff-8439-ec38c013ca80",
   "metadata": {},
   "outputs": [
    {
     "name": "stdout",
     "output_type": "stream",
     "text": [
      "The length is: 725046\n",
      "\n",
      "\n",
      "﻿The Project Gutenberg eBook, Pride and Prejudice, by Jane Austen, Edited\n",
      "by R. W. (Robert William) Chapman\n",
      "\n",
      "\n",
      "This eBook is for the use of anyone anywhere at no cost and with\n",
      "almost no restrictions whatsoever.  You may copy it, give it away or\n",
      "re-use it under the terms of the Project Gutenberg License included\n",
      "with this eBook or online at www.gutenberg.org\n",
      "\n",
      "\n",
      "\n",
      "\n",
      "\n",
      "Title: Pride and Prejudice\n",
      "\n",
      "\n",
      "Author: Jane Austen\n",
      "\n",
      "Editor: R. W. (Robert William) Chapman\n",
      "\n",
      "Release Date: May 9, 2013 \n"
     ]
    }
   ],
   "source": [
    "# We'll take an example book from Gutenberg to work with spacy NER. From this URL we find Jane Austen's Pride and Prejudice.\n",
    "\n",
    "import requests\n",
    "\n",
    "request = requests.get(\"https://www.gutenberg.org/cache/epub/42671/pg42671.txt\")\n",
    "request.encoding = \"utf-8\"\n",
    "novel = request.text\n",
    "\n",
    "# If you are working offline, you can open the txt directly with:\n",
    "# with open(\"./texts_week3/pg42671.txt\", mode=\"r\", encoding=\"utf-8\") as file:\n",
    "#     novel = file.read()\n",
    "\n",
    "print(\"The length is: \" + str(len(novel)))\n",
    "\n",
    "print(\"\\n\")\n",
    "\n",
    "print(novel[0:500])\n",
    "\n",
    "# Ok, spacy could handle this, the length is under 1000000\n"
   ]
  },
  {
   "cell_type": "code",
   "execution_count": 2,
   "id": "2b8ea8ce-7d0c-450f-bbc4-e4b98f454b64",
   "metadata": {},
   "outputs": [
    {
     "name": "stdout",
     "output_type": "stream",
     "text": [
      "It is a truth universally acknowledged, that a single man in possession of a good fortune, must be in want of a wife. However little known the feelings or views of such a man may be on his first entering a neighbourhood, this truth is so well fixed in the minds of the surrounding families, that he is considered as the rightful property of some one or other of their daughters. \"My dear Mr. Bennet,\" said his lady to him one day, \"have you heard that Netherfield Park is let at last?\" Mr. Bennet replied that he had not. \"But it is,\" returned she; \"for Mrs. Long has just been here, and she told me all about it.\" Mr. Bennet made no answer. \"Do not you want to know who has taken it?\" cried his wife impatiently. \"_You_ want to tell me, and I have no objection to hearing it.\" This was invitation enough. \"Why, my dear, you must know, Mrs. Long says that Netherfield is taken by a young man of large fortune from the north of England; that he came down on Monday in a chaise and four to see the place, and was so much delighted with it that he agreed with Mr. Morris immediately; that he is to take possession before Michaelmas, and some of his servants are to be in the house by the end of next week.\" \"What is his name?\" \"Bingley.\" \"Is he married or single?\" \"Oh! single, my dear, to be sure! A single man of large fortune; four or five thousand a year. What a fine thing for our girls!\" \"How so? how can it affect them?\" \"My dear Mr. Bennet,\" replied his wife, \"how can you be so tiresome! You must know that I am thinking of his marrying one of them.\" \"Is that his design in settling here?\" \"Design! nonsense, how can you talk so! But it is very likely that he _may_ fall in love with one of them, and therefore you must visit him as soon as he comes.\" \"I see no occasion for that. You and the girls may go, or you may send them by themselves, which perhaps will be still better, for as you are as handsome as any of them, Mr. Bingley might like you the best of the party.\" \"My dear, you flatter\n"
     ]
    }
   ],
   "source": [
    "# We do a simple cleaning with split(), and then join the list of tokens that split creates into a string again (whitespace between all the tokens).\n",
    "# Perhaps the quotation marks could be removed too, but we leave that for now.\n",
    "\n",
    "split = novel.split()\n",
    "novel_cleaned = \" \".join(split)\n",
    "\n",
    "start = novel_cleaned.index(\"It is a truth\")\n",
    "\n",
    "text = novel_cleaned[start:]\n",
    "\n",
    "print(text[0:2000])"
   ]
  },
  {
   "cell_type": "code",
   "execution_count": 3,
   "id": "c842b66b-5b35-4ef7-9619-dba39670a253",
   "metadata": {},
   "outputs": [],
   "source": [
    "# We import SpaCy and load also the English language model.\n",
    "\n",
    "import spacy\n",
    "\n",
    "nlp = spacy.load(\"en_core_web_sm\")\n",
    "\n"
   ]
  },
  {
   "cell_type": "code",
   "execution_count": 4,
   "id": "39d030b4-a50d-4283-872b-da04dda7709a",
   "metadata": {},
   "outputs": [],
   "source": [
    "# Let's process our text with spacy nlp into a doc object. SpaCy could process the whole text,\n",
    "# but we only take first 50000 characters by using index [0:50000], as processing the whole would simply take too much time.\n",
    "\n",
    "doc_novel = nlp(text[0:50000])\n"
   ]
  },
  {
   "cell_type": "code",
   "execution_count": 5,
   "id": "4bb2ed77-0631-4771-bb13-e08820320268",
   "metadata": {},
   "outputs": [
    {
     "name": "stdout",
     "output_type": "stream",
     "text": [
      "(first, some one, Bennet, one day, Netherfield Park, Bennet, Long, Bennet, Long, Netherfield, England, Monday, four, Morris, Michaelmas, the end of next week, Bingley, four or, Bennet, one, one, Bingley, five, Bingley, one, William, Lady Lucas, Bingley, Lizzy, Lizzy, Jane, half, Lydia, Lizzy, Bennet, these twenty years, four thousand a year, twenty, twenty, Bennet, three and twenty years, CHAPTER II, Bennet, Bingley, the evening, second, Bingley, Lizzy, Bingley, Elizabeth, Long, Long, two, Bennet, Bennet, Kitty, Kitty, Kitty, Lizzy, Long, the day before, Bingley, Bennet, the end of a, Long, Bennet, Mary, Mary, Mary, Bingley, Bingley, this morning, Bennet, first, Bennet, this morning, Kitty, Bennet, every day, Lydia, Bingley, Lydia, Bennet, Bennet, five, Bingley, second, Lady Lucas, William, Bingley, Netherfield, Bennet, a few days, Bingley, Bennet, about ten minutes, Bennet, Bingley, the following day, &c. Mrs., Bennet, Hertfordshire, one, Netherfield, Lady Lucas, London, Bingley, twelve, seven, the day, twelve, only six, London, five, only five, Bingley, two, Bingley, Hurst, Darcy, five minutes, ten thousand a year, Bingley, about half the evening, Derbyshire, Bingley, one, Netherfield, Darcy, Hurst, Miss Bingley, one, Bennet, Elizabeth Bennet, two, Darcy, Bingley, a few minutes, Darcy, Bingley, this evening, Darcy, Bennet, Elizabeth, Bingley, Darcy, Elizabeth, Bennet, Netherfield, Bingley, Jane, Elizabeth, Jane, Mary, Bingley, Catherine, Lydia, Longbourn, Bennet, Bennet, evening, Jane, Bingley, second, First, Miss Lucas, Jane, two, Miss King, Maria Lucas, Jane, Lizzy, half, first, Bennet, Hurst, Bennet, Darcy, Lizzy, CHAPTER IV, Jane, Elizabeth, Bingley, Elizabeth, second, about five, Dear Lizzy, first, Bingley, Elizabeth, one, first, twenty thousand pounds, England, Bingley, nearly an hundred thousand pounds, Bingley, his days, Netherfield, Bingley, Hurst, Bingley, age two years, Netherfield House, half an hour, Darcy, character.--Bingley, Darcy, Darcy, Bingley, Darcy, Bingley, Darcy, Bingley, Darcy, Meryton, Bingley, Bennet, Bennet, Hurst, Bennet, Longbourn, Bennets, William Lucas, Meryton, about a mile, Meryton, Lucas Lodge, St. James's, Lady Lucas, Bennet.--They, about twenty-seven, Elizabeth, the morning, Charlotte, Bennet, Lucas, Bingley, first, second, Jane, Robinson, Robinson, Robinson, Meryton, Bennet, two, Eliza, Charlotte, Darcy, he?--Poor Eliza!--to, Lizzy, Long, last night, half an hour, Jane.--\"I, Darcy, Netherfield, Miss Bingley, Jane, Long, Long, Long, Miss Lucas, Eliza, Lizzy, Ma'am, Miss Lucas, Elizabeth, Pride, Mary, Darcy, Lucas, every day, Bennet, CHAPTER VI, Netherfield, Bennet, Hurst, Miss Bingley, two, Jane, Elizabeth, Jane, Jane, first, Jane, Miss Lucas, Charlotte, nine, ten, Bingley, Remember, Eliza, Jane, Bingley, Jane, many hours, Jane, every half hour, Elizabeth, Jane, four, Meryton, one morning, four, four, four, four, Vingt, Commerce, Charlotte, Jane, Charlotte, Bingley, Elizabeth, Darcy, first, more than one, William Lucas's, Darcy, Charlotte, Forster, Darcy, Lucas, Elizabeth, Darcy, Meryton, Miss Lucas, Eliza, Lucas, Darcy, two, Mary, one, Mary, Elizabeth, half, Mary, Scotch, Irish, Lucases, two, three, Darcy, William Lucas, William, Darcy!--There, first, William, Bingley, Darcy, Meryton, St. James's, Darcy, London, Lady Lucas, Elizabeth, Miss Eliza, Darcy, Darcy, William, Darcy, Elizabeth, William, Miss Eliza, one half hour, Darcy, Elizabeth, Miss Eliza, Elizabeth, Miss Bingley, Bingley, Darcy, Elizabeth Bennet, Elizabeth Bennet, Bingley, Pemberley, CHAPTER VII, Bennet, two thousand a year, Meryton, four thousand pounds, Philips, London, Longbourn, only one mile, Meryton, three or four, two, Catherine, Lydia, Meryton, their morning hours, the evening, Meryton, Philips, Philips, Bingley, one morning, Bennet, two, Catherine, Lydia, Captain Carter, the day, the next morning, London, Bennet, two, Bennet, five or, Forster, the other night, William, Lydia, Forster, Carter, Watson, first, Clarke, Bennet, Bennet, Netherfield, Bennet, Well, Jane, Jane, Bingley, Jane, Friend, Louisa, a whole day's, tête-à-tête, two, Lydia, Bennet, Jane, all night, Elizabeth, Bingley, Meryton, Hursts, Bennet, Elizabeth, Jane, a bad day, Jane, Jane, Bennet, the next morning, Netherfield, Elizabeth, Lizzy, this morning, yesterday, Jones, Yours, Bennet, Elizabeth, Bingley, Elizabeth, Jane, Lizzy)\n"
     ]
    }
   ],
   "source": [
    "# As part of the nlp pipeline, spacy recognizes and classifies named entities in the processed text.\n",
    "\n",
    "# There are several ways to access the NE information. Spacy creates a tuple (which is similar to a list, but cannot be modified) about all the named entities\n",
    "# in doc_book.ents. We can print it:\n",
    "\n",
    "print (doc_novel.ents)\n",
    "\n",
    "# You can try printing what type .ents is: it is a \"tuple\"\n",
    "\n",
    "# print(type(doc_novel.ents))"
   ]
  },
  {
   "cell_type": "code",
   "execution_count": 6,
   "id": "84b195b3-d692-4d12-bc61-dd55a5b949eb",
   "metadata": {},
   "outputs": [
    {
     "name": "stdout",
     "output_type": "stream",
     "text": [
      "The named entity is 'first' and the class is: ORDINAL\n",
      "The named entity is 'some one' and the class is: CARDINAL\n",
      "The named entity is 'Bennet' and the class is: PERSON\n",
      "The named entity is 'one day' and the class is: DATE\n",
      "The named entity is 'Netherfield Park' and the class is: FAC\n",
      "The named entity is 'Bennet' and the class is: PERSON\n",
      "The named entity is 'Long' and the class is: PERSON\n",
      "The named entity is 'Bennet' and the class is: PERSON\n",
      "The named entity is 'Long' and the class is: PERSON\n",
      "The named entity is 'Netherfield' and the class is: GPE\n"
     ]
    }
   ],
   "source": [
    "# We can access the .ents with index, eg. print (doc_book.ents[0]), or iterate it with a for-loop.\n",
    "# Let's print the first ten named entities and see what spacy has recognised:\n",
    "\n",
    "for entity in doc_novel.ents[0:10]:\n",
    "    print(\"The named entity is '\" + entity.text + \"' and the class is: \" + entity.label_)"
   ]
  },
  {
   "cell_type": "code",
   "execution_count": 7,
   "id": "2e0e8989-d560-4b7e-8e6a-64e9b5d01192",
   "metadata": {},
   "outputs": [
    {
     "name": "stdout",
     "output_type": "stream",
     "text": [
      "Buildings, airports, highways, bridges, etc.\n"
     ]
    }
   ],
   "source": [
    "# If we don't understand or remember what the classes are, we can ask spacy.\n",
    "# We have also the classes explained in Lecture3 slides (or in spacy documentation online).\n",
    "\n",
    "print(spacy.explain(\"FAC\"))"
   ]
  },
  {
   "cell_type": "code",
   "execution_count": 8,
   "id": "577cde86-a4b1-487b-bf4c-6f89ecc8dcec",
   "metadata": {},
   "outputs": [
    {
     "name": "stdout",
     "output_type": "stream",
     "text": [
      "The entities tagged with label PERSON are: People, including fictional\n",
      "\n",
      "['Bennet', 'Bennet', 'Long', 'Bennet', 'Long', 'Morris', 'Michaelmas', 'Bennet', 'Bingley', 'Bingley', 'William', 'Lady Lucas', 'Bingley', 'Lizzy', 'Lizzy', 'Jane', 'Lizzy', 'Bennet', 'Bennet', 'Bennet', 'Bingley', 'Bingley', 'Lizzy', 'Bingley', 'Elizabeth', 'Long', 'Long', 'Bennet', 'Bennet', 'Lizzy', 'Long', 'Bingley', 'Bennet', 'Long', 'Bennet', 'Mary', 'Mary', 'Mary', 'Bingley', 'Bingley', 'Bennet', 'Bennet', 'Bennet', 'Bingley', 'Bennet', 'Bennet', 'Bingley', 'Lady Lucas', 'William', 'Bingley', 'Bennet', 'Bingley', 'Bennet', 'Bennet', 'Bingley', 'Bennet', 'Lady Lucas', 'Bingley', 'Bingley', 'Bingley', 'Hurst', 'Darcy', 'Bingley', 'Bingley', 'Darcy', 'Hurst', 'Miss Bingley', 'Bennet', 'Elizabeth Bennet', 'Darcy', 'Bingley', 'Darcy', 'Darcy', 'Bennet', 'Elizabeth', 'Bingley', 'Darcy', 'Elizabeth', 'Bennet', 'Netherfield', 'Bingley', 'Jane', 'Elizabeth', 'Jane', 'Mary', 'Bingley', 'Catherine', 'Longbourn', 'Bennet', 'Bennet', 'Jane', 'Bingley', 'Miss Lucas', 'Jane', 'Miss King', 'Maria Lucas', 'Jane', 'Lizzy', 'Bennet', 'Hurst', 'Bennet', 'Darcy', 'Lizzy', 'Jane', 'Elizabeth', 'Bingley', 'Elizabeth', 'Bingley', 'Elizabeth', 'Bingley', 'Bingley', 'Hurst', 'Bingley', 'Darcy', 'Darcy', 'Darcy', 'Darcy', 'Darcy', 'Meryton', 'Bennet', 'Bennet', 'Hurst', 'Bennet', 'Longbourn', 'Bennets', 'William Lucas', 'Lucas Lodge', 'Lady Lucas', 'Bennet.--They', 'Elizabeth', 'Bennet', 'Lucas', 'Bingley', 'Jane', 'Robinson', 'Robinson', 'Robinson', 'Meryton', 'Bennet', 'Darcy', 'he?--Poor Eliza!--to', 'Lizzy', 'Long', 'Jane.--\"I', 'Darcy', 'Netherfield', 'Miss Bingley', 'Jane', 'Long', 'Long', 'Long', 'Miss Lucas', 'Lizzy', \"Ma'am\", 'Miss Lucas', 'Elizabeth', 'Mary', 'Darcy', 'Lucas', 'Bennet', 'CHAPTER VI', 'Bennet', 'Hurst', 'Miss Bingley', 'Jane', 'Elizabeth', 'Jane', 'Jane', 'Jane', 'Miss Lucas', 'Jane', 'Jane', 'Jane', 'Elizabeth', 'Jane', 'Vingt', 'Charlotte', 'Jane', 'Bingley', 'Elizabeth', 'Darcy', \"William Lucas's\", 'Darcy', 'Forster', 'Darcy', 'Lucas', 'Elizabeth', 'Darcy', 'Miss Lucas', 'Lucas', 'Darcy', 'Mary', 'Mary', 'Elizabeth', 'Mary', 'Darcy', 'William Lucas', 'William', 'Darcy!--There', 'William', 'Darcy', 'Darcy', 'Lady Lucas', 'Elizabeth', 'Miss Eliza', 'Darcy', 'Darcy', 'William', 'Darcy', 'Elizabeth', 'William', 'Miss Eliza', 'Darcy', 'Elizabeth', 'Miss Eliza', 'Elizabeth', 'Miss Bingley', 'Bingley', 'Darcy', 'Elizabeth Bennet', 'Elizabeth Bennet', 'Bingley', 'Bennet', 'Philips', 'Longbourn', 'Catherine', 'Lydia', 'Meryton', 'Meryton', 'Philips', 'Philips', 'Bingley', 'Bennet', 'Catherine', 'Lydia', 'Captain Carter', 'Bennet', 'Bennet', 'Forster', 'William', 'Lydia', 'Forster', 'Carter', 'Watson', 'Bennet', 'Bennet', 'Bennet', 'Jane', 'Bingley', 'Jane', 'Friend', 'Louisa', 'Lydia', 'Bennet', 'Jane', 'Elizabeth', 'Bingley', 'Bennet', 'Elizabeth', 'Jane', 'Jane', 'Jane', 'Bennet', 'Elizabeth', 'Lizzy', 'Jones', 'Bennet', 'Elizabeth', 'Bingley', 'Elizabeth', 'Jane', 'Lizzy']\n"
     ]
    }
   ],
   "source": [
    "# Here we create a list with all the person names. The attribute .label has the NE class (GPE, PERSON etc.).\n",
    "# The attribute .text stores the actual entity as a string variable.\n",
    "\n",
    "# We iterate through all the recognised named entities, see if the entity is a \"PERSON\", and if yes, store it into our list \"list_persons\"\n",
    "\n",
    "list_persons = []\n",
    "\n",
    "for entity in doc_novel.ents:\n",
    "    if entity.label_ == \"PERSON\":          # We use the class \"PERSON\" here.\n",
    "        list_persons.append(entity.text)\n",
    "\n",
    "print(\"The entities tagged with label PERSON are: \" + spacy.explain(\"PERSON\"))\n",
    "\n",
    "print(\"\")\n",
    "\n",
    "print(list_persons)"
   ]
  },
  {
   "cell_type": "code",
   "execution_count": 9,
   "id": "754a8eaa-41a2-4f5a-9f8c-cec3b05486c1",
   "metadata": {},
   "outputs": [
    {
     "name": "stdout",
     "output_type": "stream",
     "text": [
      "All frequencies counted: Counter({'Bennet': 45, 'Bingley': 37, 'Darcy': 28, 'Jane': 25, 'Elizabeth': 23, 'Lizzy': 11, 'Long': 10, 'Mary': 8, 'William': 7, 'Hurst': 6, 'Lady Lucas': 5, 'Miss Lucas': 5, 'Miss Bingley': 4, 'Meryton': 4, 'Lucas': 4, 'Lydia': 4, 'Elizabeth Bennet': 3, 'Catherine': 3, 'Longbourn': 3, 'Robinson': 3, 'Forster': 3, 'Miss Eliza': 3, 'Philips': 3, 'Netherfield': 2, 'William Lucas': 2, 'Morris': 1, 'Michaelmas': 1, 'Miss King': 1, 'Maria Lucas': 1, 'Bennets': 1, 'Lucas Lodge': 1, 'Bennet.--They': 1, 'he?--Poor Eliza!--to': 1, 'Jane.--\"I': 1, \"Ma'am\": 1, 'CHAPTER VI': 1, 'Vingt': 1, 'Charlotte': 1, \"William Lucas's\": 1, 'Darcy!--There': 1, 'Captain Carter': 1, 'Carter': 1, 'Watson': 1, 'Friend': 1, 'Louisa': 1, 'Jones': 1})\n",
      "\n"
     ]
    }
   ],
   "source": [
    "# We could take our list to pandas for counting, but we use again Counter for counting (See Material_3a). It is handy for simple counting.\n",
    "\n",
    "from collections import Counter\n",
    "\n",
    "# Here we count the frequencies of the strings in the list:\n",
    "\n",
    "print (\"All frequencies counted: \" + str(Counter(list_persons)))\n",
    "print (\"\")\n",
    "\n",
    "# Here we print only the 10 most common strings in the list:\n",
    "\n",
    "#print (\"Top 10 person named entites and their frequencies: \" + str(Counter(list_persons).most_common(10)))\n"
   ]
  },
  {
   "cell_type": "code",
   "execution_count": null,
   "id": "f48a4e5a-ab27-4135-a83c-17b3b5079d90",
   "metadata": {},
   "outputs": [],
   "source": [
    "# Finally, spacy has a built-in visualizer for named entities, which can be helpful when exploring the research material. The visualizer is called displacy.\n",
    "\n",
    "# We process 1000 first tokens to give an example\n",
    "\n",
    "from spacy import displacy\n",
    "\n",
    "displacy.render(doc_novel[0:1000], style=\"ent\")"
   ]
  },
  {
   "cell_type": "markdown",
   "id": "afc1f5b1-4e3a-4664-9d9c-84af9cdacfe6",
   "metadata": {},
   "source": [
    "--"
   ]
  },
  {
   "cell_type": "markdown",
   "id": "c229d2a2-e3d8-4972-ae33-d260afb89f8a",
   "metadata": {},
   "source": [
    "### 2. NER with House of Commons debates (and by using spacy with large files)\n",
    "\n",
    "Here we conduct a small NER analysis by using parliamentary debates from the UK House of Commons. The debates have been extracted from the Harvard Dataverse ParlSpeech dataset: Rauh, Christian; De Wilde, Pieter; Schwalbach, Jan, 2017, \"The ParlSpeech data set: Annotated full-text vectors of 3.9 million plenary speeches in the key legislative chambers of seven European states\", https://doi.org/10.7910/DVN/E4RSP9, Harvard Dataverse, V1.\n",
    "\n",
    "The data includes metadata about the speeches, eg. the speaker name, party, date, speech number. The file (and files for home assignments) include only the speeches, and the speaker names have been left out. Moreover, all speeches from one year are included in one single file (e.g. commons_speeches_1990.txt for year 1990).\n",
    "\n",
    "The speeches are separated with \\n\\n. The files are large, between 40 and 80 MB, so way too big for spacy to handle directly."
   ]
  },
  {
   "cell_type": "code",
   "execution_count": 12,
   "id": "0f2e1b2c-c781-427f-ba1f-b496eaff55b3",
   "metadata": {},
   "outputs": [
    {
     "name": "stdout",
     "output_type": "stream",
     "text": [
      "69625114\n"
     ]
    }
   ],
   "source": [
    "# We will open the file \"commons_speeches_1990.txt\", which contains the debates at the House of Commons from 1990\n",
    "\n",
    "with open(\"./commons_speeches_1990.txt\", mode=\"r\", encoding=\"utf-8\") as file:\n",
    "    speech_all = file.read()\n",
    "\n",
    "print(len(speech_all))\n",
    "\n"
   ]
  },
  {
   "cell_type": "code",
   "execution_count": 13,
   "id": "6420cc5f-61d3-4350-9e99-0b0d9b77376c",
   "metadata": {},
   "outputs": [
    {
     "name": "stdout",
     "output_type": "stream",
     "text": [
      "Number of speeches:  62911\n",
      "The first speech is: 'I shall be very brief, Mr. Speaker. You will remember that in 1970 the late Mr. Marcus Lipton referred to the growing ineffectiveness of this Sessional Order. Twenty years later, traffic has hardly diminished in and around Parliament square. Parked coaches especially cause traffic jams at every entrance to the square. Could you, Mr. Speaker, please use your good offices to see that these tower blocks on wheels are banned from parking within one mile of this place?'\n"
     ]
    }
   ],
   "source": [
    "# The file is too large for spacy (as default it copes with max 1000000 character text files).\n",
    "\n",
    "# Let's split this into a list between the paragraphs (in the file, there is \\n\\n after each speech.)\n",
    "# Another option would be to process this in chunks of 500000 chars with a for-loop, for instance.\n",
    "# Or, one could create smaller files already when extracting the data (eg. speeches per day).\n",
    "\n",
    "speeches = speech_all.split(\"\\n\\n\")\n",
    "\n",
    "print(\"Number of speeches: \", len(speeches))\n",
    "\n",
    "print(\"The first speech is: '\" + speeches[0] + \"'\")\n",
    "\n",
    "# ok, spacy can handle this length!\n",
    "\n"
   ]
  },
  {
   "cell_type": "code",
   "execution_count": 14,
   "id": "255b439f-0cfb-45a7-9e0d-be5c8076c52f",
   "metadata": {},
   "outputs": [],
   "source": [
    "# We want to find all GPE named entities (geopolitical places) mentioned in the debates.\n",
    "\n",
    "# In the for-loop, we process every speech with spacy and extract the named entity information.\n",
    "\n",
    "# Every element in the list is processed through spacy NLP pipeline, which is a rather slow process.\n",
    "# We will iterate only 200 first speeches to save some time (again, when our pipeline is tested and ready, we could process all speeches).\n",
    "\n",
    "list_GPE = []\n",
    "\n",
    "for speech in speeches[0:200]: # This is our first for loop, where we iterate through our list of \"speeches\". The speeches are assigned to \"speech\" one by one.\n",
    "    doc = nlp(speech, disable = [\"lemmatizer\", \"tagger\"])  # we disable some parts of the pipeline that we do not need in this exercise\n",
    "\n",
    "    for entity in doc.ents: # We iterate here all the named entities SpaCy has recognized\n",
    "        if entity.label_ == \"GPE\": # If the named entity is \"GPE\",\n",
    "            list_GPE.append(entity.text) # we append it to our list_GPE\n",
    "    \n",
    "    "
   ]
  },
  {
   "cell_type": "code",
   "execution_count": 15,
   "id": "c007e06b-f93e-4eca-8d23-f7b49744a294",
   "metadata": {},
   "outputs": [
    {
     "name": "stdout",
     "output_type": "stream",
     "text": [
      "The 10 most common GPE places in the first 200 speeches in 1990: [('Britain', 105), ('Kuwait', 59), ('Iraq', 40), ('Scotland', 27), ('Richmond', 27), ('the United States', 26), ('Germany', 21), ('Barnes', 17), ('the Gracious Speech', 16), ('the United Kingdom', 15)]\n"
     ]
    }
   ],
   "source": [
    "# We can use Counter to see what are the most common places:\n",
    "\n",
    "from collections import Counter\n",
    "\n",
    "print(\"The 10 most common GPE places in the first 200 speeches in 1990: \" + str(Counter(list_GPE).most_common(10)))"
   ]
  },
  {
   "cell_type": "code",
   "execution_count": 16,
   "id": "f955acfe-f01c-4153-80b3-511dec574155",
   "metadata": {},
   "outputs": [
    {
     "name": "stdout",
     "output_type": "stream",
     "text": [
      "My Government will work with the utmost determination, together with our Allies and the whole international community, for the unconditional implementation of the resolutions of the United Nations Security Council which require the withdrawal of Iraq from Kuwait, and the restoration of the independence and legitimate government of Kuwait.\n"
     ]
    }
   ],
   "source": [
    "# Let's see in what kind of sentences the word Kuwait appears (The Gulf War took place between August 1990 and January 1991)\n",
    "\n",
    "# We want to go through the entities at the token level so we are able to save the sentence where the entity appears.\n",
    "# We can do it through another for-loop where we save the sentence (spacy feature) where the token appears, .sent.text, into a list.\n",
    "\n",
    "# Again, we process only 200 speeches.\n",
    "\n",
    "Kuwait_sentences = []\n",
    "\n",
    "for speech in speeches[0:200]: # we read the speeches from list \"speeches\" to the variable \"speech\"\n",
    "    doc = nlp(speech, disable = [\"lemmatizer\", \"tagger\"])  # we process the \"speech\" at every iteration with spacy\n",
    "\n",
    "    for token in doc: # we iterate through the tokens in the speech, now a spacy object\n",
    "        if token.text == \"Kuwait\": # if the token.text (the string) is \"Kuwait\",\n",
    "            Kuwait_sentences.append(token.sent.text) # we store the sentence where it appears to our list \"Kuwait_sentences\"\n",
    "\n",
    "# Let's print an example sentence\n",
    "            \n",
    "print(Kuwait_sentences[0])"
   ]
  },
  {
   "cell_type": "code",
   "execution_count": 17,
   "id": "8750da6c-9537-4660-a123-867d553e6324",
   "metadata": {},
   "outputs": [],
   "source": [
    "# OPTIONAL\n",
    "\n",
    "# Perhaps it's nice to visualize these sentences as a word cloud so we grasp what the sentences are about.\n",
    "# However, let's first remove all stopwords and alphanumerical from the sentences.\n",
    "\n",
    "string = \" \".join(Kuwait_sentences)\n",
    "doc = nlp(string)\n",
    "\n",
    "list_words = []\n",
    "\n",
    "for token in doc:\n",
    "    if (token.is_stop == False) and (token.is_alpha):\n",
    "        list_words.append(token.lemma_)\n",
    "        \n",
    "# print(list_words[0:30])"
   ]
  },
  {
   "cell_type": "code",
   "execution_count": 20,
   "id": "f0cd87f1-8b78-4982-83f5-200f0ecde4d7",
   "metadata": {},
   "outputs": [
    {
     "data": {
      "image/png": "[encoded data removed]",
      "text/plain": [
       "<Figure size 432x288 with 1 Axes>"
      ]
     },
     "metadata": {
      "needs_background": "light"
     },
     "output_type": "display_data"
    }
   ],
   "source": [
    "# OPTIONAL\n",
    "\n",
    "# Ok, time to read the list to pandas Series and visualize it. The image is saved to our folder, where we can have a more detailed look at it.\n",
    "\n",
    "import pandas as pd\n",
    "\n",
    "count = pd.Series(list_words).value_counts()\n",
    "\n",
    "from wordcloud import WordCloud\n",
    "import matplotlib.pyplot as plt\n",
    "\n",
    "wc = WordCloud(background_color=\"black\",width=500,height=500, max_words=50).generate_from_frequencies(count)\n",
    "plt.imshow(wc)\n",
    "plt.axis(\"off\")\n",
    "plt.savefig(\"./wordcloud_kuwait.png\", dpi = 200)\n",
    "plt.show()\n",
    "\n",
    "# We have some first results about what geopolitical locations were important topics in the UK parliament in the 1990s. Moreover, we took a closer look\n",
    "# at the case of Kuwait. From this, we could expand our analysis to other countries or more speeches from the same (or other years). There could be also other\n",
    "# political metadata added to the analysis, which was removed from the files so that we can discuss only on the general discourse."
   ]
  },
  {
   "cell_type": "code",
   "execution_count": null,
   "id": "8d25588a-b44d-49f5-8337-df46f49594fa",
   "metadata": {},
   "outputs": [],
   "source": []
  }
 ],
 "metadata": {
  "kernelspec": {
   "display_name": "base",
   "language": "python",
   "name": "python3"
  },
  "language_info": {
   "codemirror_mode": {
    "name": "ipython",
    "version": 3
   },
   "file_extension": ".py",
   "mimetype": "text/x-python",
   "name": "python",
   "nbconvert_exporter": "python",
   "pygments_lexer": "ipython3",
   "version": "3.9.12"
  },
  "vscode": {
   "interpreter": {
    "hash": "5ae58900cfbb8c43ab3495913814b7cf26024f51651a94ce8bf64d6111688e8d"
   }
  }
 },
 "nbformat": 4,
 "nbformat_minor": 5
}
